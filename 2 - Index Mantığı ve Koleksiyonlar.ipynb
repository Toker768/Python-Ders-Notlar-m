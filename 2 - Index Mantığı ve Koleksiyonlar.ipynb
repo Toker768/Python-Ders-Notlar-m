{
 "cells": [
  {
   "cell_type": "code",
   "execution_count": 1,
   "id": "b7b4bd77",
   "metadata": {},
   "outputs": [],
   "source": [
    "myString = \"Merhaba Dünya\""
   ]
  },
  {
   "cell_type": "raw",
   "id": "1f965f1d",
   "metadata": {},
   "source": [
    "Benim yukardaki değişkenimin her bir karekteri bir ındex'e atanıyor.Indexlerde \n",
    "1 den değil 0 dan başlar bunu zaten biliyoruz.\n",
    "Python bu değişkeni şöyle kaydediyor.\n",
    "M e r h a b a   D ü  n  y a \n",
    "0 1 2 3 4 5 6 7 8 9 10 11 12      şeklinde aklında tutuyor. \n",
    "\n",
    "Peki ben bu index'i nasıl çağırıcam"
   ]
  },
  {
   "cell_type": "code",
   "execution_count": 2,
   "id": "7870b694",
   "metadata": {},
   "outputs": [
    {
     "data": {
      "text/plain": [
       "'a'"
      ]
     },
     "execution_count": 2,
     "metadata": {},
     "output_type": "execute_result"
    }
   ],
   "source": [
    "myString[6]      #6.ındex dekini bana gösterdi burda."
   ]
  },
  {
   "cell_type": "code",
   "execution_count": 4,
   "id": "1f28e738",
   "metadata": {},
   "outputs": [
    {
     "data": {
      "text/plain": [
       "'r'"
      ]
     },
     "execution_count": 4,
     "metadata": {},
     "output_type": "execute_result"
    }
   ],
   "source": [
    "myString[2]     #aynı şekilde 2.ındextekini gösterdi buda."
   ]
  },
  {
   "cell_type": "code",
   "execution_count": 5,
   "id": "ee39843a",
   "metadata": {},
   "outputs": [
    {
     "data": {
      "text/plain": [
       "' '"
      ]
     },
     "execution_count": 5,
     "metadata": {},
     "output_type": "execute_result"
    }
   ],
   "source": [
    "myString[7]      # 7.ındexsim benim bosluktan ibaretti."
   ]
  },
  {
   "cell_type": "code",
   "execution_count": 7,
   "id": "ec0a3c19",
   "metadata": {},
   "outputs": [
    {
     "ename": "IndexError",
     "evalue": "string index out of range",
     "output_type": "error",
     "traceback": [
      "\u001b[1;31m---------------------------------------------------------------------------\u001b[0m",
      "\u001b[1;31mIndexError\u001b[0m                                Traceback (most recent call last)",
      "Cell \u001b[1;32mIn[7], line 2\u001b[0m\n\u001b[0;32m      1\u001b[0m \u001b[38;5;66;03m# mesela ben ındex'i biraz abartırsam ne olur.\u001b[39;00m\n\u001b[1;32m----> 2\u001b[0m myString[\u001b[38;5;241m14\u001b[39m]\n",
      "\u001b[1;31mIndexError\u001b[0m: string index out of range"
     ]
    }
   ],
   "source": [
    "# mesela ben ındex'i biraz abartırsam ne olur.\n",
    "myString[14]\n",
    "# ben 12 indexli bir string ifadeye 14. indexi istersem olucağı bu zaten mantıken de böyle bir şey\n",
    "# olamsı beklenemez böyle bir şey olamaz."
   ]
  },
  {
   "cell_type": "raw",
   "id": "3f50f957",
   "metadata": {},
   "source": [
    "Şimdi biraz düşünmenizi istiyorum.Sizce ben nasıl otamatik bir şekilde herzaman son ındexteki karakteri bulabilirim."
   ]
  },
  {
   "cell_type": "code",
   "execution_count": 6,
   "id": "cfc452d9",
   "metadata": {},
   "outputs": [
    {
     "data": {
      "text/plain": [
       "12"
      ]
     },
     "execution_count": 6,
     "metadata": {},
     "output_type": "execute_result"
    }
   ],
   "source": [
    "len(myString) - 1              # burdaki çıkan sayı benim her zaman son ındexsimi ifade eder."
   ]
  },
  {
   "cell_type": "code",
   "execution_count": 8,
   "id": "42f1b9e0",
   "metadata": {},
   "outputs": [
    {
     "data": {
      "text/plain": [
       "'a'"
      ]
     },
     "execution_count": 8,
     "metadata": {},
     "output_type": "execute_result"
    }
   ],
   "source": [
    "myString[len(myString) - 1]    #len(myString) benim uzunluğumu verir -1 yaptım son ındexın sayı\n",
    "                               #kordinatına geçtim sonra elde etmiş olduğum bu sayıyın ındex yazdırır\n",
    "                               #gibi yaazdırabilirim."
   ]
  },
  {
   "cell_type": "code",
   "execution_count": 11,
   "id": "6d3ac390",
   "metadata": {},
   "outputs": [],
   "source": [
    "myName = \"Soloman Vendy\""
   ]
  },
  {
   "cell_type": "code",
   "execution_count": 14,
   "id": "eb4a14d7",
   "metadata": {},
   "outputs": [
    {
     "data": {
      "text/plain": [
       "12"
      ]
     },
     "execution_count": 14,
     "metadata": {},
     "output_type": "execute_result"
    }
   ],
   "source": [
    "len(myName) - 1                 # bu son ındex numarasını verdi çünkü uzunluk sayarken 1 den başlanır\n",
    "                         # fakat index ise 0 dan başlanır? "
   ]
  },
  {
   "cell_type": "markdown",
   "id": "7c1353c6",
   "metadata": {},
   "source": [
    "Peki bir index neden 0 dan başlar ? \n",
    "\n",
    "\n",
    "Python'da indexlerin 0'dan başlamasının temel nedeni, dilin tasarım tercihlerine ve programlama alışkanlıklarına dayanır. Bu özellik, birçok modern programlama dilinde yaygındır ve birçok avantajı vardır. İşte bu tercihlerin ve avantajların bazıları:\n",
    "\n",
    "Doğrusal İfadeler: Indexlerin 0'dan başlaması, matematiksel ifadelerle daha iyi uyumludur. Örneğin, bir dizi içindeki elemanlara erişim, matematikteki indeksleme ile daha uyumlu hale gelir.\n",
    "\n",
    "Bellek Yönetimi: Dizi veya liste elemanlarına erişim için kullanılan indexlerin 0'dan başlaması, bellek yönetimi açısından basitleştirici bir rol oynayabilir. Bu sayede, bellek üzerinde daha tutarlı ve öngörülebilir bir yapı oluşturmak mümkün olur.\n",
    "\n",
    "Sıfır Tabanlı Dil Tasarımı: Python'ın geliştirilmesinde yer alan Guido van Rossum gibi isimler, sıfır tabanlı (0-based) indexlemenin daha doğal ve tutarlı olduğunu düşündüler. Bu, dilin kullanımını ve anlaşılabilirliğini artırır.\n",
    "\n",
    "Dil Tasarımı Konsensüsü: Birçok popüler programlama dilinde indexlerin 0'dan başlaması geleneksel bir konsensüs halini almıştır. Bu, bir programcının farklı diller arasında geçiş yaparken daha az kafa karışıklığı yaşamasına yardımcı olabilir.\n",
    "\n",
    "Ancak, indexlerin 0'dan başlaması, tüm programlama dilleri için evrensel bir kural değildir. Örneğin, bazı dillerde indexler 1'den başlar. Bu, tercih ve tasarım seçimine bağlıdır ve farklı dillerin farklı tasarım tercihleri vardır. Python'un 0-based indexleme tercihi, dilin tasarım felsefesine uygunluğu ve kullanıcılar arasında yaygın kabul görmesi nedeniyle sıklıkla tercih edilir"
   ]
  },
  {
   "cell_type": "code",
   "execution_count": 16,
   "id": "fe9f4d13",
   "metadata": {},
   "outputs": [
    {
     "data": {
      "text/plain": [
       "'y'"
      ]
     },
     "execution_count": 16,
     "metadata": {},
     "output_type": "execute_result"
    }
   ],
   "source": [
    "myName[len(myName) - 1]         # burda python demişki yavv kardeşim bu çok fazla kullanılıyor.Ben\n",
    "                                # size şöyle bir güzellik yapsam nasıl olur demiş.Bu arada az sonra \n",
    "                                # göstericeğim olay python'a özel bir durumdur.Başka dillerde bunu \n",
    "                                # bulamassın."
   ]
  },
  {
   "cell_type": "code",
   "execution_count": 17,
   "id": "d3a0144b",
   "metadata": {},
   "outputs": [
    {
     "data": {
      "text/plain": [
       "'y'"
      ]
     },
     "execution_count": 17,
     "metadata": {},
     "output_type": "execute_result"
    }
   ],
   "source": [
    "myName[-1]              # -1 demek en sona git demek biraz düşününce çok mantıklı oldugunu anlıyorsun."
   ]
  },
  {
   "cell_type": "code",
   "execution_count": 18,
   "id": "9737d641",
   "metadata": {},
   "outputs": [
    {
     "data": {
      "text/plain": [
       "'d'"
      ]
     },
     "execution_count": 18,
     "metadata": {},
     "output_type": "execute_result"
    }
   ],
   "source": [
    "myName[-2]"
   ]
  },
  {
   "cell_type": "code",
   "execution_count": 19,
   "id": "eaa66089",
   "metadata": {},
   "outputs": [],
   "source": [
    "barcode = \"ABCDE12345678\"\n",
    "# içersinde en az bir tane harf bulunan ifadeler string olur bunu unutma."
   ]
  },
  {
   "cell_type": "code",
   "execution_count": 20,
   "id": "aa52784a",
   "metadata": {},
   "outputs": [
    {
     "data": {
      "text/plain": [
       "'A'"
      ]
     },
     "execution_count": 20,
     "metadata": {},
     "output_type": "execute_result"
    }
   ],
   "source": [
    "barcode[0]"
   ]
  },
  {
   "cell_type": "code",
   "execution_count": 21,
   "id": "679d079a",
   "metadata": {},
   "outputs": [
    {
     "data": {
      "text/plain": [
       "'B'"
      ]
     },
     "execution_count": 21,
     "metadata": {},
     "output_type": "execute_result"
    }
   ],
   "source": [
    "barcode[1]"
   ]
  },
  {
   "cell_type": "raw",
   "id": "b6d6a933",
   "metadata": {},
   "source": [
    "ben integer ifadeleri toplayabilirim.Aynı şekilde python'a özel olarak string ifadeleri de toplayabilirim."
   ]
  },
  {
   "cell_type": "code",
   "execution_count": 22,
   "id": "8f5d869f",
   "metadata": {},
   "outputs": [
    {
     "data": {
      "text/plain": [
       "'ab'"
      ]
     },
     "execution_count": 22,
     "metadata": {},
     "output_type": "execute_result"
    }
   ],
   "source": [
    "\"a\" + \"b\"        # bu şekilde benim karşıma çıkar."
   ]
  },
  {
   "cell_type": "code",
   "execution_count": 28,
   "id": "9d24490e",
   "metadata": {},
   "outputs": [],
   "source": [
    "name = \"Ali\""
   ]
  },
  {
   "cell_type": "code",
   "execution_count": 29,
   "id": "9ccbd43c",
   "metadata": {},
   "outputs": [],
   "source": [
    "surname = \"Toker\""
   ]
  },
  {
   "cell_type": "code",
   "execution_count": 30,
   "id": "a059ee7a",
   "metadata": {},
   "outputs": [],
   "source": [
    "fullname = name +\" \" + surname"
   ]
  },
  {
   "cell_type": "code",
   "execution_count": 32,
   "id": "e38e13c8",
   "metadata": {},
   "outputs": [
    {
     "data": {
      "text/plain": [
       "'Ali Toker'"
      ]
     },
     "execution_count": 32,
     "metadata": {},
     "output_type": "execute_result"
    }
   ],
   "source": [
    "fullname                         # bakın çok önemli python benim string ifadelerimi toplayabilmeme\n",
    "                                 # izin veriyor.Her programlama dili buna izin vermez.\n",
    "                                # Bunu kabul etmez.\n",
    "             # Aynı şekilde string ifadelerimi çarpmama da izin vermez ama python izin veriyor.\n",
    "        # çarpma ve toplamaya izin veriyo fakat sence çıkarmaya ve bölmeye izin verir mi?\n",
    "                        # vermezzzz"
   ]
  },
  {
   "cell_type": "code",
   "execution_count": 33,
   "id": "683cb4a1",
   "metadata": {},
   "outputs": [
    {
     "name": "stdout",
     "output_type": "stream",
     "text": [
      "Ali TokerAli TokerAli TokerAli TokerAli Toker\n"
     ]
    }
   ],
   "source": [
    "print(fullname * 5)"
   ]
  },
  {
   "cell_type": "code",
   "execution_count": 34,
   "id": "7b73466a",
   "metadata": {},
   "outputs": [
    {
     "data": {
      "text/plain": [
       "'ABCDE12345678'"
      ]
     },
     "execution_count": 34,
     "metadata": {},
     "output_type": "execute_result"
    }
   ],
   "source": [
    "barcode"
   ]
  },
  {
   "cell_type": "code",
   "execution_count": 21,
   "id": "f087a72c",
   "metadata": {},
   "outputs": [
    {
     "data": {
      "text/plain": [
       "'ABC'"
      ]
     },
     "execution_count": 21,
     "metadata": {},
     "output_type": "execute_result"
    }
   ],
   "source": [
    "# şimdi benim bu borcode un ilk üç hanesini alma işi amele yöntemiyle şöyle oluyor;\n",
    "barcode[0] + barcode[1] + barcode[2]\n",
    "# bu elverişli değil beni çok yorar.işte bunun kısa yöntemini bulmuşlar ve buna \"slicing\" demişler."
   ]
  },
  {
   "cell_type": "raw",
   "id": "a87f32ee",
   "metadata": {},
   "source": [
    "Şimdi bu slicing olayında öğrenmen gereken bazı terimler var.\n",
    "starting index,starting index,stepping size   diye 3 terimi bilmemiz gerek.\n",
    "\n",
    "\n",
    "\"slice=dilimlemek\" demektir ben bu barcodu alıp dilimleyebilirim. Yani şöyle;"
   ]
  },
  {
   "cell_type": "code",
   "execution_count": 35,
   "id": "4fca68df",
   "metadata": {},
   "outputs": [
    {
     "data": {
      "text/plain": [
       "'ABCDE12345678'"
      ]
     },
     "execution_count": 35,
     "metadata": {},
     "output_type": "execute_result"
    }
   ],
   "source": [
    "barcode"
   ]
  },
  {
   "cell_type": "code",
   "execution_count": 37,
   "id": "d83566f2",
   "metadata": {},
   "outputs": [
    {
     "data": {
      "text/plain": [
       "'AB'"
      ]
     },
     "execution_count": 37,
     "metadata": {},
     "output_type": "execute_result"
    }
   ],
   "source": [
    "barcode[0:2:1]       # başlangıç yani starting index,bitis yani stopping index,adım sayısı yani\n",
    "                       # stepping size işte bu.\n",
    "\n",
    "# 0'dan başladı 2.indeksi yazdırmadı dikkat edin ve 1'er 1'er gitti.\n",
    "# bu veri analizinde çok fazla kullanılır."
   ]
  },
  {
   "cell_type": "raw",
   "id": "51ad20e8",
   "metadata": {},
   "source": [
    "gelin biraz kurcalayalım şunu;"
   ]
  },
  {
   "cell_type": "code",
   "execution_count": 38,
   "id": "26723e3d",
   "metadata": {},
   "outputs": [
    {
     "data": {
      "text/plain": [
       "'E12345678'"
      ]
     },
     "execution_count": 38,
     "metadata": {},
     "output_type": "execute_result"
    }
   ],
   "source": [
    "barcode[4::]         # 4.indexten başladı ve dümdüz gitti."
   ]
  },
  {
   "cell_type": "code",
   "execution_count": 39,
   "id": "e09501f3",
   "metadata": {},
   "outputs": [
    {
     "data": {
      "text/plain": [
       "'ABCD'"
      ]
     },
     "execution_count": 39,
     "metadata": {},
     "output_type": "execute_result"
    }
   ],
   "source": [
    "barcode[:4:]          # 4.indexte durdu dikkat edin 4.indexi yazdırmadı.Burda durdu burası önemli bir \n",
    "                         # detay.bu 4.indexte dur demek yazdırmadan dur demek anlamına geliyor."
   ]
  },
  {
   "cell_type": "code",
   "execution_count": 41,
   "id": "fd3ba642",
   "metadata": {},
   "outputs": [
    {
     "data": {
      "text/plain": [
       "'ABCDE12345678'"
      ]
     },
     "execution_count": 41,
     "metadata": {},
     "output_type": "execute_result"
    }
   ],
   "source": [
    "barcode"
   ]
  },
  {
   "cell_type": "code",
   "execution_count": 42,
   "id": "09b9f1f9",
   "metadata": {},
   "outputs": [
    {
     "data": {
      "text/plain": [
       "'ACE2468'"
      ]
     },
     "execution_count": 42,
     "metadata": {},
     "output_type": "execute_result"
    }
   ],
   "source": [
    "barcode[::2]           # şimdi ben burda 2'şer 2'şer atlayarak götür dedim aslında. "
   ]
  },
  {
   "cell_type": "code",
   "execution_count": 43,
   "id": "9e048e2d",
   "metadata": {},
   "outputs": [
    {
     "data": {
      "text/plain": [
       "'DE'"
      ]
     },
     "execution_count": 43,
     "metadata": {},
     "output_type": "execute_result"
    }
   ],
   "source": [
    "barcode[3:5:1]"
   ]
  },
  {
   "cell_type": "code",
   "execution_count": 44,
   "id": "e581b2af",
   "metadata": {},
   "outputs": [
    {
     "data": {
      "text/plain": [
       "'DE'"
      ]
     },
     "execution_count": 44,
     "metadata": {},
     "output_type": "execute_result"
    }
   ],
   "source": [
    "barcode[3:5:]             # boş bıraktığım yeri varsayılan ayarlar olarak alıyor."
   ]
  },
  {
   "cell_type": "code",
   "execution_count": 45,
   "id": "14f78b6e",
   "metadata": {},
   "outputs": [
    {
     "data": {
      "text/plain": [
       "'DE'"
      ]
     },
     "execution_count": 45,
     "metadata": {},
     "output_type": "execute_result"
    }
   ],
   "source": [
    "barcode[3:5]                # bu şekildede ben yapabiliyorum."
   ]
  },
  {
   "cell_type": "code",
   "execution_count": 30,
   "id": "e7aff857",
   "metadata": {},
   "outputs": [
    {
     "data": {
      "text/plain": [
       "'ABCDE12345678'"
      ]
     },
     "execution_count": 30,
     "metadata": {},
     "output_type": "execute_result"
    }
   ],
   "source": [
    "barcode"
   ]
  },
  {
   "cell_type": "code",
   "execution_count": 31,
   "id": "f4aecff9",
   "metadata": {},
   "outputs": [
    {
     "data": {
      "text/plain": [
       "'87654321EDCBA'"
      ]
     },
     "execution_count": 31,
     "metadata": {},
     "output_type": "execute_result"
    }
   ],
   "source": [
    "barcode[::-1]            # ben eğer stepping size a -1 yazarsam tersten yazdırmış olurum.\n",
    "                       # bu pythonun uydurmuş olduğu bir şeydir. "
   ]
  },
  {
   "cell_type": "code",
   "execution_count": 47,
   "id": "f1c474a2",
   "metadata": {},
   "outputs": [
    {
     "data": {
      "text/plain": [
       "'8642ECA'"
      ]
     },
     "execution_count": 47,
     "metadata": {},
     "output_type": "execute_result"
    }
   ],
   "source": [
    "barcode[::-2]"
   ]
  },
  {
   "cell_type": "code",
   "execution_count": 32,
   "id": "aa7e5d50",
   "metadata": {},
   "outputs": [],
   "source": [
    "name = \"Ali Toker\""
   ]
  },
  {
   "cell_type": "code",
   "execution_count": 48,
   "id": "3702fb88",
   "metadata": {},
   "outputs": [
    {
     "name": "stdout",
     "output_type": "stream",
     "text": [
      "Help on built-in function index:\n",
      "\n",
      "index(...) method of builtins.str instance\n",
      "    S.index(sub[, start[, end]]) -> int\n",
      "    \n",
      "    Return the lowest index in S where substring sub is found,\n",
      "    such that sub is contained within S[start:end].  Optional\n",
      "    arguments start and end are interpreted as in slice notation.\n",
      "    \n",
      "    Raises ValueError when the substring is not found.\n",
      "\n"
     ]
    }
   ],
   "source": [
    "help(name.index)"
   ]
  },
  {
   "cell_type": "code",
   "execution_count": 40,
   "id": "1d99be89",
   "metadata": {},
   "outputs": [
    {
     "data": {
      "text/plain": [
       "4"
      ]
     },
     "execution_count": 40,
     "metadata": {},
     "output_type": "execute_result"
    }
   ],
   "source": [
    "name.index(\"T\")             # \"T\" harfinin geçtiği ilk yerin index numarasını veriyor."
   ]
  },
  {
   "cell_type": "code",
   "execution_count": 41,
   "id": "8c8da925",
   "metadata": {},
   "outputs": [
    {
     "data": {
      "text/plain": [
       "['Ali', 'Toker']"
      ]
     },
     "execution_count": 41,
     "metadata": {},
     "output_type": "execute_result"
    }
   ],
   "source": [
    "# mesala benim boşluğa göre bölüp bunu liste şekline sokan bir methodumda var.\n",
    "name.split()"
   ]
  },
  {
   "cell_type": "code",
   "execution_count": null,
   "id": "ca5800ce",
   "metadata": {},
   "outputs": [],
   "source": []
  }
 ],
 "metadata": {
  "kernelspec": {
   "display_name": "Python 3 (ipykernel)",
   "language": "python",
   "name": "python3"
  },
  "language_info": {
   "codemirror_mode": {
    "name": "ipython",
    "version": 3
   },
   "file_extension": ".py",
   "mimetype": "text/x-python",
   "name": "python",
   "nbconvert_exporter": "python",
   "pygments_lexer": "ipython3",
   "version": "3.11.3"
  }
 },
 "nbformat": 4,
 "nbformat_minor": 5
}
