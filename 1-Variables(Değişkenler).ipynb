{
 "cells": [
  {
   "cell_type": "code",
   "execution_count": 1,
   "id": "31e3e169",
   "metadata": {},
   "outputs": [
    {
     "data": {
      "text/plain": [
       "7"
      ]
     },
     "execution_count": 1,
     "metadata": {},
     "output_type": "execute_result"
    }
   ],
   "source": [
    "3 + 4\n",
    "# veri biliminde oldukça kullanılan bir notebook olduğunu söylemek isterim.\n",
    "# pythonu da öğrenmek için oldukça kullanılan bir defter."
   ]
  },
  {
   "cell_type": "code",
   "execution_count": 3,
   "id": "d6b7553e",
   "metadata": {},
   "outputs": [
    {
     "data": {
      "text/plain": [
       "20"
      ]
     },
     "execution_count": 3,
     "metadata": {},
     "output_type": "execute_result"
    }
   ],
   "source": [
    "4 * 5 "
   ]
  },
  {
   "cell_type": "code",
   "execution_count": 4,
   "id": "80863340",
   "metadata": {},
   "outputs": [
    {
     "data": {
      "text/plain": [
       "128.57142857142858"
      ]
     },
     "execution_count": 4,
     "metadata": {},
     "output_type": "execute_result"
    }
   ],
   "source": [
    "900 / 7"
   ]
  },
  {
   "cell_type": "code",
   "execution_count": 5,
   "id": "fbbe8acd",
   "metadata": {},
   "outputs": [
    {
     "data": {
      "text/plain": [
       "-90"
      ]
     },
     "execution_count": 5,
     "metadata": {},
     "output_type": "execute_result"
    }
   ],
   "source": [
    "10 - 100"
   ]
  },
  {
   "cell_type": "markdown",
   "id": "fcce1c05",
   "metadata": {},
   "source": [
    "Ben diyelimki kullanıcıdan bir yaş değerini alıcam.Almış olduğum bu yaş değerini ben bir değişkende tutmam gerekecek bunun gibi ve birçok yönde bana değişkenler işime yarıyor."
   ]
  },
  {
   "cell_type": "code",
   "execution_count": 7,
   "id": "b00bf94e",
   "metadata": {},
   "outputs": [],
   "source": [
    "age = 19"
   ]
  },
  {
   "cell_type": "markdown",
   "id": "6e137aca",
   "metadata": {},
   "source": [
    "Ben burda 'age' değişkenini 19'a atadım."
   ]
  },
  {
   "cell_type": "code",
   "execution_count": 10,
   "id": "a3cc30f8",
   "metadata": {},
   "outputs": [
    {
     "data": {
      "text/plain": [
       "19"
      ]
     },
     "execution_count": 10,
     "metadata": {},
     "output_type": "execute_result"
    }
   ],
   "source": [
    "age"
   ]
  },
  {
   "cell_type": "code",
   "execution_count": 13,
   "id": "e2071062",
   "metadata": {},
   "outputs": [
    {
     "data": {
      "text/plain": [
       "38"
      ]
     },
     "execution_count": 13,
     "metadata": {},
     "output_type": "execute_result"
    }
   ],
   "source": [
    "age * 2"
   ]
  },
  {
   "cell_type": "markdown",
   "id": "dff21514",
   "metadata": {},
   "source": [
    "Yani artık python 'age' değerini 19 olarak algılıyor.Bunu ram'de kaydediyor. \n",
    "İşte olay şu oluyor bu değişkenler farklı veri tiplerinde karşıma çıkabiliyor.\n",
    "Sıradaki dersimizde bunları göreceğiz inşallah."
   ]
  },
  {
   "cell_type": "code",
   "execution_count": 14,
   "id": "fba3645a",
   "metadata": {},
   "outputs": [],
   "source": [
    "# Bu kare işareti benim yorum yapacağım anlamına gelir."
   ]
  },
  {
   "cell_type": "code",
   "execution_count": 15,
   "id": "918c1272",
   "metadata": {},
   "outputs": [
    {
     "data": {
      "text/plain": [
       "type"
      ]
     },
     "execution_count": 15,
     "metadata": {},
     "output_type": "execute_result"
    }
   ],
   "source": [
    "type        #Bakın benim burda yazmış olduğum 'type' yeşil oldu bunun anlamı \n",
    "            #daha önce bu python da tanımlanmış anlamına gelir."
   ]
  },
  {
   "cell_type": "markdown",
   "id": "5326d760",
   "metadata": {},
   "source": [
    "'type' benim içine yazmış olduğum bir değerin bir değişkenin türünü gösterir."
   ]
  },
  {
   "cell_type": "code",
   "execution_count": 10,
   "id": "d6b88e9b",
   "metadata": {},
   "outputs": [
    {
     "data": {
      "text/plain": [
       "int"
      ]
     },
     "execution_count": 10,
     "metadata": {},
     "output_type": "execute_result"
    }
   ],
   "source": [
    "type(age)     #bana diyoki senin bu 'age' değişkenin 'int' türünde."
   ]
  },
  {
   "cell_type": "code",
   "execution_count": 16,
   "id": "88ece135",
   "metadata": {},
   "outputs": [
    {
     "data": {
      "text/plain": [
       "int"
      ]
     },
     "execution_count": 16,
     "metadata": {},
     "output_type": "execute_result"
    }
   ],
   "source": [
    "type(10)"
   ]
  },
  {
   "cell_type": "code",
   "execution_count": 17,
   "id": "6a2a85fd",
   "metadata": {},
   "outputs": [
    {
     "data": {
      "text/plain": [
       "float"
      ]
     },
     "execution_count": 17,
     "metadata": {},
     "output_type": "execute_result"
    }
   ],
   "source": [
    "type(10.3)"
   ]
  },
  {
   "cell_type": "code",
   "execution_count": 13,
   "id": "150fff3c",
   "metadata": {},
   "outputs": [
    {
     "data": {
      "text/plain": [
       "int"
      ]
     },
     "execution_count": 13,
     "metadata": {},
     "output_type": "execute_result"
    }
   ],
   "source": [
    "type(10 * 3)         #bana burda sonucu vermedi sonucunun hangi türde ise onu\n",
    "                     #verdi."
   ]
  },
  {
   "cell_type": "code",
   "execution_count": 18,
   "id": "24ef7cdb",
   "metadata": {},
   "outputs": [
    {
     "data": {
      "text/plain": [
       "float"
      ]
     },
     "execution_count": 18,
     "metadata": {},
     "output_type": "execute_result"
    }
   ],
   "source": [
    "type(10 / 2)"
   ]
  },
  {
   "cell_type": "code",
   "execution_count": 19,
   "id": "a9cfbe7d",
   "metadata": {},
   "outputs": [
    {
     "data": {
      "text/plain": [
       "5.0"
      ]
     },
     "execution_count": 19,
     "metadata": {},
     "output_type": "execute_result"
    }
   ],
   "source": [
    "10 / 2 "
   ]
  },
  {
   "cell_type": "code",
   "execution_count": 21,
   "id": "b0a8dbbb",
   "metadata": {},
   "outputs": [
    {
     "data": {
      "text/plain": [
       "5"
      ]
     },
     "execution_count": 21,
     "metadata": {},
     "output_type": "execute_result"
    }
   ],
   "source": [
    "10 // 2    # ben böyle yaparsam bölme işleminin sonucunu float yerine int'a dödürebilirim."
   ]
  },
  {
   "cell_type": "code",
   "execution_count": 20,
   "id": "22d78f5d",
   "metadata": {},
   "outputs": [
    {
     "data": {
      "text/plain": [
       "float"
      ]
     },
     "execution_count": 20,
     "metadata": {},
     "output_type": "execute_result"
    }
   ],
   "source": [
    "type(age / 2)"
   ]
  },
  {
   "cell_type": "code",
   "execution_count": 17,
   "id": "cb6fef84",
   "metadata": {},
   "outputs": [],
   "source": [
    "# int --> integer(tam sayı)\n",
    "# float --> floating point(kesirli sayılar)"
   ]
  },
  {
   "cell_type": "code",
   "execution_count": 23,
   "id": "169b2761",
   "metadata": {},
   "outputs": [],
   "source": [
    "pi = 3.14"
   ]
  },
  {
   "cell_type": "code",
   "execution_count": 24,
   "id": "2d7e87a4",
   "metadata": {},
   "outputs": [
    {
     "data": {
      "text/plain": [
       "6.28"
      ]
     },
     "execution_count": 24,
     "metadata": {},
     "output_type": "execute_result"
    }
   ],
   "source": [
    "pi * 2 "
   ]
  },
  {
   "cell_type": "markdown",
   "id": "2f22158e",
   "metadata": {},
   "source": [
    "Şu soru kafada canlanıyo neden bir insan kesirli sayı ile tam sayıyı farklı veri tipine ayırma isteğinde bulunur.\n",
    "Bu sorunun cevabı şöyle hafızayı daha iyi kullanmak amaç edinmiş.Benim float değerimi tutarken int'a göre daha fazla yer kaplıyacaktır.Demişlerki bizde bu değişkenlerin türüne göre sınıflara ayıralım."
   ]
  },
  {
   "cell_type": "code",
   "execution_count": 25,
   "id": "93810f49",
   "metadata": {},
   "outputs": [],
   "source": [
    "myFloat = 1.34343434"
   ]
  },
  {
   "cell_type": "code",
   "execution_count": 27,
   "id": "ad102c0a",
   "metadata": {},
   "outputs": [
    {
     "data": {
      "text/plain": [
       "float"
      ]
     },
     "execution_count": 27,
     "metadata": {},
     "output_type": "execute_result"
    }
   ],
   "source": [
    "type(myFloat)"
   ]
  },
  {
   "cell_type": "markdown",
   "id": "41bf6093",
   "metadata": {},
   "source": [
    "Peki ben neden 'myFloat' yazarken F'yi büyük harfle yazdım.\n",
    "Bunun cevabı çok basit daha okunabilir olsun diye.\n",
    "Ben 'my_float' şeklinde de yazabilirim.Genelde bu 2 şekilde yazılabilir.Bunlar pythonunu raconudur.Bu alemdekiler böyle yazar.Bize de racona uymak düşer."
   ]
  },
  {
   "cell_type": "markdown",
   "id": "695bdd81",
   "metadata": {},
   "source": [
    "'myFloat' yazma şeklimede camelCase(deve gösterimi) deniyor.\n",
    "'my_float' da snakeCase(yılan gösterimi) denir."
   ]
  },
  {
   "cell_type": "code",
   "execution_count": 28,
   "id": "8d0edcb6",
   "metadata": {},
   "outputs": [
    {
     "data": {
      "text/plain": [
       "10.0"
      ]
     },
     "execution_count": 28,
     "metadata": {},
     "output_type": "execute_result"
    }
   ],
   "source": [
    "40 / 4 "
   ]
  },
  {
   "cell_type": "markdown",
   "id": "d21b5c2f",
   "metadata": {},
   "source": [
    "Burda 2 tane tam tayı var neden sonucunu bana float verdi?\n",
    "Bunun sebebi pyhton böyle istemiş çünki diyoki 2 tane tam sayının bölümünde kesirli sayı çıkma ihtimali çok daha yüksek olur diye bir mantık kurmuş kafasından.Bu pythona özgü bir olaydır.Javada böyle değildir."
   ]
  },
  {
   "cell_type": "code",
   "execution_count": 32,
   "id": "d98e73f7",
   "metadata": {},
   "outputs": [
    {
     "data": {
      "text/plain": [
       "float"
      ]
     },
     "execution_count": 32,
     "metadata": {},
     "output_type": "execute_result"
    }
   ],
   "source": [
    "type(40 / 4)"
   ]
  },
  {
   "cell_type": "code",
   "execution_count": 33,
   "id": "645990bf",
   "metadata": {},
   "outputs": [
    {
     "data": {
      "text/plain": [
       "int"
      ]
     },
     "execution_count": 33,
     "metadata": {},
     "output_type": "execute_result"
    }
   ],
   "source": [
    "type(4)"
   ]
  },
  {
   "cell_type": "code",
   "execution_count": 34,
   "id": "c573ca78",
   "metadata": {},
   "outputs": [
    {
     "data": {
      "text/plain": [
       "float"
      ]
     },
     "execution_count": 34,
     "metadata": {},
     "output_type": "execute_result"
    }
   ],
   "source": [
    "type(4.0)"
   ]
  },
  {
   "cell_type": "code",
   "execution_count": 36,
   "id": "d78c7beb",
   "metadata": {},
   "outputs": [
    {
     "data": {
      "text/plain": [
       "6"
      ]
     },
     "execution_count": 36,
     "metadata": {},
     "output_type": "execute_result"
    }
   ],
   "source": [
    "#sadece bölmede böyle benim karşıma geliyor.Yani anlıycağınız burda güzel\n",
    "#düşünülmüş bir detay söz konusu.\n",
    "4 + 2"
   ]
  },
  {
   "cell_type": "code",
   "execution_count": 37,
   "id": "42de295a",
   "metadata": {},
   "outputs": [
    {
     "data": {
      "text/plain": [
       "3"
      ]
     },
     "execution_count": 37,
     "metadata": {},
     "output_type": "execute_result"
    }
   ],
   "source": [
    "8 - 5"
   ]
  },
  {
   "cell_type": "code",
   "execution_count": 38,
   "id": "1ae8067c",
   "metadata": {},
   "outputs": [
    {
     "data": {
      "text/plain": [
       "24"
      ]
     },
     "execution_count": 38,
     "metadata": {},
     "output_type": "execute_result"
    }
   ],
   "source": [
    "8 * 3"
   ]
  },
  {
   "cell_type": "markdown",
   "id": "549a18d3",
   "metadata": {},
   "source": [
    "mesala ben flaotdan bir integer çıkartırsam bana ne vermesini beklerdin?\n",
    "ptyhon kendini garanti altına almayı seven akıllı bir dil."
   ]
  },
  {
   "cell_type": "code",
   "execution_count": 40,
   "id": "eaf9fce8",
   "metadata": {},
   "outputs": [
    {
     "data": {
      "text/plain": [
       "2.0"
      ]
     },
     "execution_count": 40,
     "metadata": {},
     "output_type": "execute_result"
    }
   ],
   "source": [
    "4.0 - 2      #flaottan integer çıkardığın vakit float çıkma ihtimali oldukça\n",
    "             #yüksektir.hatta %99.99 ihtimalle float çıkacaktır."
   ]
  },
  {
   "cell_type": "code",
   "execution_count": 41,
   "id": "1f8fd7cd",
   "metadata": {},
   "outputs": [
    {
     "data": {
      "text/plain": [
       "2.0999999999999996"
      ]
     },
     "execution_count": 41,
     "metadata": {},
     "output_type": "execute_result"
    }
   ],
   "source": [
    "4.1 - 2"
   ]
  },
  {
   "cell_type": "code",
   "execution_count": 43,
   "id": "97fd7aaf",
   "metadata": {},
   "outputs": [
    {
     "data": {
      "text/plain": [
       "float"
      ]
     },
     "execution_count": 43,
     "metadata": {},
     "output_type": "execute_result"
    }
   ],
   "source": [
    "type(4.2 * 3)"
   ]
  },
  {
   "cell_type": "code",
   "execution_count": 45,
   "id": "e584570f",
   "metadata": {},
   "outputs": [
    {
     "data": {
      "text/plain": [
       "-1.4000000000000004"
      ]
     },
     "execution_count": 45,
     "metadata": {},
     "output_type": "execute_result"
    }
   ],
   "source": [
    "4.3 * 2 - 10    #python burda işlem önceliğinede oldukça riayet eder diyebilirim\n",
    "# matametiktedki işlem önceliğini koruyor tabi korumak zorunda yoksa işin içinden çıkılamaz bir hal\n",
    "# alır."
   ]
  },
  {
   "cell_type": "code",
   "execution_count": 46,
   "id": "6089ec73",
   "metadata": {},
   "outputs": [
    {
     "data": {
      "text/plain": [
       "64"
      ]
     },
     "execution_count": 46,
     "metadata": {},
     "output_type": "execute_result"
    }
   ],
   "source": [
    "2 * 2 * 2 * 2 * 2 * 2"
   ]
  },
  {
   "cell_type": "code",
   "execution_count": 47,
   "id": "9f33759f",
   "metadata": {},
   "outputs": [
    {
     "data": {
      "text/plain": [
       "64"
      ]
     },
     "execution_count": 47,
     "metadata": {},
     "output_type": "execute_result"
    }
   ],
   "source": [
    "2 ** 6      # '**' işareti ptyhonda üssü anlamına gelir."
   ]
  },
  {
   "cell_type": "code",
   "execution_count": 57,
   "id": "e6339a55",
   "metadata": {},
   "outputs": [
    {
     "data": {
      "text/plain": [
       "512"
      ]
     },
     "execution_count": 57,
     "metadata": {},
     "output_type": "execute_result"
    }
   ],
   "source": [
    "2 ** 9"
   ]
  },
  {
   "cell_type": "code",
   "execution_count": 58,
   "id": "bfe1b17c",
   "metadata": {},
   "outputs": [
    {
     "data": {
      "text/plain": [
       "1"
      ]
     },
     "execution_count": 58,
     "metadata": {},
     "output_type": "execute_result"
    }
   ],
   "source": [
    "10 % 3    # buda bana kalanını verir(remainder).\n",
    "           # Yani ben modunu almak da diyebilirim."
   ]
  },
  {
   "cell_type": "code",
   "execution_count": 59,
   "id": "e09492f2",
   "metadata": {},
   "outputs": [
    {
     "data": {
      "text/plain": [
       "7"
      ]
     },
     "execution_count": 59,
     "metadata": {},
     "output_type": "execute_result"
    }
   ],
   "source": [
    "37 % 10 "
   ]
  },
  {
   "cell_type": "code",
   "execution_count": 60,
   "id": "81a9c8cb",
   "metadata": {},
   "outputs": [
    {
     "data": {
      "text/plain": [
       "2"
      ]
     },
     "execution_count": 60,
     "metadata": {},
     "output_type": "execute_result"
    }
   ],
   "source": [
    "10 % 4 "
   ]
  },
  {
   "cell_type": "markdown",
   "id": "be938d44",
   "metadata": {},
   "source": [
    " Bu arada ben bu dosyayı kapattıktan sonra tekrar açcağım vakit kernel kısmından 'restart & run all' yaparsam bütün kısımları tekrar çalıştırmış olur bu şekilde bende değişken falan varsa bunları tekrar çalıştırmak zorunda kalmam."
   ]
  },
  {
   "cell_type": "markdown",
   "id": "0a02ad41",
   "metadata": {},
   "source": [
    "# String"
   ]
  },
  {
   "cell_type": "markdown",
   "id": "ebd8b85d",
   "metadata": {},
   "source": [
    "Eğer ben bir yazı yazmak istersem bunu çift tırnak yada tek tırnak içine alarak yazarım.Yani string bir ifade için bu ikisinden bir şarttır.Ama Atıl Hocanın tavsiyesi çift tırnak kullanmak diyebilirim."
   ]
  },
  {
   "cell_type": "code",
   "execution_count": 64,
   "id": "2207746d",
   "metadata": {},
   "outputs": [
    {
     "data": {
      "text/plain": [
       "'Hello World '"
      ]
     },
     "execution_count": 64,
     "metadata": {},
     "output_type": "execute_result"
    }
   ],
   "source": [
    "\"Hello World \"     # bu jupyter notebook için geçerli.Atıyorum visual studio için yazdıracaksam print\n",
    "                   # kullanıcam.Yani her  yerde 'print' kullanıcam diyebilirim."
   ]
  },
  {
   "cell_type": "code",
   "execution_count": 38,
   "id": "6a07cb6c",
   "metadata": {},
   "outputs": [],
   "source": [
    "# 'print' ifadesi benim yazdırmamı sağlayan bir fonksiyon."
   ]
  },
  {
   "cell_type": "code",
   "execution_count": 68,
   "id": "912d1f12",
   "metadata": {},
   "outputs": [
    {
     "name": "stdout",
     "output_type": "stream",
     "text": [
      "Hello Python\n",
      "selamlar saygılar\n"
     ]
    }
   ],
   "source": [
    "print(\"Hello Python\")\n",
    "print(\"selamlar saygılar\")"
   ]
  },
  {
   "cell_type": "code",
   "execution_count": 66,
   "id": "83a11319",
   "metadata": {},
   "outputs": [],
   "source": [
    "name = \"Ali Toker\""
   ]
  },
  {
   "cell_type": "code",
   "execution_count": 41,
   "id": "84e5e27f",
   "metadata": {},
   "outputs": [
    {
     "data": {
      "text/plain": [
       "str"
      ]
     },
     "execution_count": 41,
     "metadata": {},
     "output_type": "execute_result"
    }
   ],
   "source": [
    "type(name)"
   ]
  },
  {
   "cell_type": "code",
   "execution_count": 78,
   "id": "ed565b70",
   "metadata": {},
   "outputs": [],
   "source": [
    "country = \"İstanbul34\""
   ]
  },
  {
   "cell_type": "code",
   "execution_count": 79,
   "id": "b5ebd362",
   "metadata": {},
   "outputs": [
    {
     "data": {
      "text/plain": [
       "str"
      ]
     },
     "execution_count": 79,
     "metadata": {},
     "output_type": "execute_result"
    }
   ],
   "source": [
    "type(country)                # içersinde sayı olmasına rağmen string gösterdi neden acaba ?"
   ]
  },
  {
   "cell_type": "code",
   "execution_count": 80,
   "id": "cb3f3cad",
   "metadata": {},
   "outputs": [
    {
     "data": {
      "text/plain": [
       "'Ali Toker'"
      ]
     },
     "execution_count": 80,
     "metadata": {},
     "output_type": "execute_result"
    }
   ],
   "source": [
    "\"Ali Toker\"              # burda direkt yazdırma yapıyorum."
   ]
  },
  {
   "cell_type": "code",
   "execution_count": 81,
   "id": "b1a8c22a",
   "metadata": {},
   "outputs": [
    {
     "data": {
      "text/plain": [
       "'Ali Toker'"
      ]
     },
     "execution_count": 81,
     "metadata": {},
     "output_type": "execute_result"
    }
   ],
   "source": [
    "'Ali Toker'\n",
    "# ben bir şey yazdıracağım vakit jubiter notebook'a özel çift tırnak kullanıyorum.ama bence en iyisi \n",
    "# print'e alışmak."
   ]
  },
  {
   "cell_type": "markdown",
   "id": "6ad55e02",
   "metadata": {},
   "source": [
    "gördüğünüz gibi 2 farklı şekildede yazdırabiliyorum ben.Ama sen çift tırnak kullanmaya alış dostum.\n"
   ]
  },
  {
   "cell_type": "markdown",
   "id": "d51d10f4",
   "metadata": {},
   "source": [
    "Pythonda her bir farklı değişkenin kendine ait özellikleri vardır.Stringin ayrı vardır.int ayrı vardır."
   ]
  },
  {
   "cell_type": "code",
   "execution_count": 84,
   "id": "c33cde0d",
   "metadata": {},
   "outputs": [
    {
     "data": {
      "text/plain": [
       "'Ali Toker'"
      ]
     },
     "execution_count": 84,
     "metadata": {},
     "output_type": "execute_result"
    }
   ],
   "source": [
    "name"
   ]
  },
  {
   "cell_type": "code",
   "execution_count": 86,
   "id": "6a582c52",
   "metadata": {},
   "outputs": [
    {
     "data": {
      "text/plain": [
       "'Ali toker'"
      ]
     },
     "execution_count": 86,
     "metadata": {},
     "output_type": "execute_result"
    }
   ],
   "source": [
    "name.capitalize()    #capitalize ilk harfini büyük yazmak manasına gelir.Sonuna parentez eklemek\n",
    "                     #capitalize methodunu çalıştır manasına gelir.zaten \"capitalize\" ingilizcede\n",
    "                     #büyük harfle yazmak demek."
   ]
  },
  {
   "cell_type": "code",
   "execution_count": 88,
   "id": "af5c94d4",
   "metadata": {},
   "outputs": [
    {
     "data": {
      "text/plain": [
       "<function str.capitalize()>"
      ]
     },
     "execution_count": 88,
     "metadata": {},
     "output_type": "execute_result"
    }
   ],
   "source": [
    "# ben eğer hiç parantez eklemeseydim böyle bir fonksiyon var diyicekti\n",
    "name.capitalize"
   ]
  },
  {
   "cell_type": "code",
   "execution_count": 91,
   "id": "7ad55c0d",
   "metadata": {},
   "outputs": [],
   "source": [
    "x = 34567"
   ]
  },
  {
   "cell_type": "code",
   "execution_count": 92,
   "id": "244cc1f9",
   "metadata": {},
   "outputs": [
    {
     "data": {
      "text/plain": [
       "7"
      ]
     },
     "execution_count": 92,
     "metadata": {},
     "output_type": "execute_result"
    }
   ],
   "source": [
    "x.bit_count()         #işte bu yüzden değişkenler sınıflara ayrılır.benim değişkenimin sınıfına göre\n",
    "                      #yapmış olduğum veya yapacak olduğum methodlar(fonksiyonlar) değişir.Ben bir \n",
    "                      # int ifadeye capatilize() yapamam."
   ]
  },
  {
   "cell_type": "code",
   "execution_count": 93,
   "id": "a1d9c562",
   "metadata": {},
   "outputs": [
    {
     "data": {
      "text/plain": [
       "'Ali Toker'"
      ]
     },
     "execution_count": 93,
     "metadata": {},
     "output_type": "execute_result"
    }
   ],
   "source": [
    "name"
   ]
  },
  {
   "cell_type": "markdown",
   "id": "55020777",
   "metadata": {},
   "source": [
    "Şimdi benim string ifadeler için bütün fonksiyonları öğrenebilmem açısından adamlar bir şey geliştirmiş.bu da şu:"
   ]
  },
  {
   "cell_type": "code",
   "execution_count": 55,
   "id": "8ff69055",
   "metadata": {
    "scrolled": true
   },
   "outputs": [
    {
     "name": "stdout",
     "output_type": "stream",
     "text": [
      "Help on built-in function capitalize:\n",
      "\n",
      "capitalize() method of builtins.str instance\n",
      "    Return a capitalized version of the string.\n",
      "    \n",
      "    More specifically, make the first character have upper case and the rest lower\n",
      "    case.\n",
      "\n"
     ]
    }
   ],
   "source": [
    "help(name.capitalize)            #dikkat edin ben \"()\" koymuyorum."
   ]
  },
  {
   "cell_type": "code",
   "execution_count": 56,
   "id": "d087a6b7",
   "metadata": {},
   "outputs": [
    {
     "name": "stdout",
     "output_type": "stream",
     "text": [
      "Help on built-in function count:\n",
      "\n",
      "count(...) method of builtins.str instance\n",
      "    S.count(sub[, start[, end]]) -> int\n",
      "    \n",
      "    Return the number of non-overlapping occurrences of substring sub in\n",
      "    string S[start:end].  Optional arguments start and end are\n",
      "    interpreted as in slice notation.\n",
      "\n"
     ]
    }
   ],
   "source": [
    "help(name.count)"
   ]
  },
  {
   "cell_type": "code",
   "execution_count": 94,
   "id": "f6a48110",
   "metadata": {},
   "outputs": [
    {
     "data": {
      "text/plain": [
       "1"
      ]
     },
     "execution_count": 94,
     "metadata": {},
     "output_type": "execute_result"
    }
   ],
   "source": [
    "name.count(\"A\")             #count=saymak benim string ifademin içinde bir şeyler sayıyo\n",
    "                           # peki ne sayıyo desem benim göstermiş olduğum karekterin string ifademde\n",
    "                            #kaç tane olduğunu sayıyor."
   ]
  },
  {
   "cell_type": "code",
   "execution_count": 95,
   "id": "42b74664",
   "metadata": {},
   "outputs": [
    {
     "data": {
      "text/plain": [
       "'Ali Toker'"
      ]
     },
     "execution_count": 95,
     "metadata": {},
     "output_type": "execute_result"
    }
   ],
   "source": [
    "name"
   ]
  },
  {
   "cell_type": "code",
   "execution_count": 96,
   "id": "23cbac57",
   "metadata": {},
   "outputs": [
    {
     "data": {
      "text/plain": [
       "0"
      ]
     },
     "execution_count": 96,
     "metadata": {},
     "output_type": "execute_result"
    }
   ],
   "source": [
    "name.count(\"a\")"
   ]
  },
  {
   "cell_type": "code",
   "execution_count": 97,
   "id": "a82c9026",
   "metadata": {},
   "outputs": [
    {
     "data": {
      "text/plain": [
       "'ALI TOKER'"
      ]
     },
     "execution_count": 97,
     "metadata": {},
     "output_type": "execute_result"
    }
   ],
   "source": [
    "name.upper()             #upper=üst demek yani benim string ifademin bütün karakterlerini buyuk harf\n",
    "                         #yap diyor."
   ]
  },
  {
   "cell_type": "code",
   "execution_count": 98,
   "id": "a6cede91",
   "metadata": {},
   "outputs": [
    {
     "data": {
      "text/plain": [
       "'Ali Toker'"
      ]
     },
     "execution_count": 98,
     "metadata": {},
     "output_type": "execute_result"
    }
   ],
   "source": [
    "name                   #burdaki fonksiyonlar benim değişkenimi ebediyen değiştirmez sadece o şekilde \n",
    "                       #çalıştırır.o anda o şekilde çalısır.bazı fonksiyonlar ebediyen değiştirir.tabi\n",
    "                        # bunları ilerde göreceğiz."
   ]
  },
  {
   "cell_type": "markdown",
   "id": "95325edf",
   "metadata": {},
   "source": [
    "benim bu ebediyen değiştirmeyen fonksiyonlarımı kalıcı hale getirmek için başka bir değişkene eşitleyebilirim"
   ]
  },
  {
   "cell_type": "code",
   "execution_count": 65,
   "id": "484df3c8",
   "metadata": {},
   "outputs": [],
   "source": [
    "nameUpper = name.upper()"
   ]
  },
  {
   "cell_type": "code",
   "execution_count": 66,
   "id": "2d94b58a",
   "metadata": {},
   "outputs": [
    {
     "data": {
      "text/plain": [
       "'ALI TOKER'"
      ]
     },
     "execution_count": 66,
     "metadata": {},
     "output_type": "execute_result"
    }
   ],
   "source": [
    "nameUpper                     # mantıken böyle yapmamda hiçbir kusur yoktur."
   ]
  },
  {
   "cell_type": "code",
   "execution_count": 99,
   "id": "e5909247",
   "metadata": {},
   "outputs": [
    {
     "data": {
      "text/plain": [
       "'Ali Toker'"
      ]
     },
     "execution_count": 99,
     "metadata": {},
     "output_type": "execute_result"
    }
   ],
   "source": [
    "name"
   ]
  },
  {
   "cell_type": "code",
   "execution_count": 103,
   "id": "a9713caa",
   "metadata": {},
   "outputs": [
    {
     "data": {
      "text/plain": [
       "9"
      ]
     },
     "execution_count": 103,
     "metadata": {},
     "output_type": "execute_result"
    }
   ],
   "source": [
    "len(name)         #burdaki değişkenim ne kadar alan kapladığını yani uzunluğunu verdi bana."
   ]
  },
  {
   "cell_type": "code",
   "execution_count": 72,
   "id": "d1486d68",
   "metadata": {},
   "outputs": [
    {
     "name": "stdout",
     "output_type": "stream",
     "text": [
      "Ali Toker\n"
     ]
    }
   ],
   "source": [
    "print(\"Ali Toker\") #gördüğünüz gibi bunu tek satırda yazdırdı ben bunu 2 satırda nasıl yazdırıcam ?"
   ]
  },
  {
   "cell_type": "code",
   "execution_count": 102,
   "id": "4ea9826e",
   "metadata": {},
   "outputs": [
    {
     "ename": "TypeError",
     "evalue": "object of type 'int' has no len()",
     "output_type": "error",
     "traceback": [
      "\u001b[1;31m---------------------------------------------------------------------------\u001b[0m",
      "\u001b[1;31mTypeError\u001b[0m                                 Traceback (most recent call last)",
      "Cell \u001b[1;32mIn[102], line 1\u001b[0m\n\u001b[1;32m----> 1\u001b[0m \u001b[38;5;28mlen\u001b[39m(\u001b[38;5;241m1234567\u001b[39m)\n",
      "\u001b[1;31mTypeError\u001b[0m: object of type 'int' has no len()"
     ]
    }
   ],
   "source": [
    "len(1234567)"
   ]
  },
  {
   "cell_type": "code",
   "execution_count": 104,
   "id": "23eeb64f",
   "metadata": {},
   "outputs": [
    {
     "name": "stdout",
     "output_type": "stream",
     "text": [
      "Ali\n",
      "Toker\n"
     ]
    }
   ],
   "source": [
    "print(\"Ali\\nToker\")             #  \\n --> benim bir sonraki satıra atlamamı sağladı.\n",
    "                                # Bunlara \"escape characters\" denir kaçış karakterleri.\n",
    "                            "
   ]
  },
  {
   "cell_type": "raw",
   "id": "604a1076",
   "metadata": {},
   "source": [
    "\\t --> tab demek  yani belli bir mesafe boşluk bırakıyor anlamına geliyor. "
   ]
  },
  {
   "cell_type": "code",
   "execution_count": 105,
   "id": "82264521",
   "metadata": {},
   "outputs": [],
   "source": [
    "# ben şimdi biraz string ifadelerin özeliklerine bakmaya devam etmek istiyorum.\n",
    "\n",
    "myString = \"AfyonKaraHisardırlArımızDanmıŞcasInA\""
   ]
  },
  {
   "cell_type": "code",
   "execution_count": 106,
   "id": "22cc0218",
   "metadata": {},
   "outputs": [
    {
     "data": {
      "text/plain": [
       "'AfyonKaraHisardırlArımızDanmıŞcasInA'"
      ]
     },
     "execution_count": 106,
     "metadata": {},
     "output_type": "execute_result"
    }
   ],
   "source": [
    "myString"
   ]
  },
  {
   "cell_type": "code",
   "execution_count": 30,
   "id": "f205bed0",
   "metadata": {},
   "outputs": [
    {
     "name": "stdout",
     "output_type": "stream",
     "text": [
      "Help on built-in function casefold:\n",
      "\n",
      "casefold() method of builtins.str instance\n",
      "    Return a version of the string suitable for caseless comparisons.\n",
      "\n"
     ]
    }
   ],
   "source": [
    "help(myString.casefold)"
   ]
  },
  {
   "cell_type": "code",
   "execution_count": 107,
   "id": "ea92d1c9",
   "metadata": {},
   "outputs": [
    {
     "data": {
      "text/plain": [
       "'afyonkarahisardırlarımızdanmışcasina'"
      ]
     },
     "execution_count": 107,
     "metadata": {},
     "output_type": "execute_result"
    }
   ],
   "source": [
    "myString.casefold()"
   ]
  },
  {
   "cell_type": "code",
   "execution_count": 108,
   "id": "56a8fddf",
   "metadata": {},
   "outputs": [
    {
     "data": {
      "text/plain": [
       "'AfyonKaraHisardırlArımızDanmıŞcasInA'"
      ]
     },
     "execution_count": 108,
     "metadata": {},
     "output_type": "execute_result"
    }
   ],
   "source": [
    "myString"
   ]
  },
  {
   "cell_type": "raw",
   "id": "c3feef96",
   "metadata": {},
   "source": [
    "\"Bu örnekte, lower() fonksiyonu sadece büyük harfleri küçültürken, casefold() fonksiyonu dil bağımsız olarak daha geniş bir küçültme işlemi gerçekleştirir. Özellikle, bazı dil özellikleri nedeniyle farklı karakterlerin küçültülmesi farklı sonuçlar verebilir.\"\n",
    "\n",
    "Böyle bir kod örneği görerek daha iyi anlayabiliriz.\n",
    "\n",
    "str1 = \"Straße\"  # \"Straße\" Almanca'da bir cadde anlamına gelir\n",
    "str2 = \"strasse\"\n",
    "\n",
    "# Küçük harfe çevirme işlemi (lower() kullanımı)\n",
    "lower_str1 = str1.lower()\n",
    "lower_str2 = str2.lower()\n",
    "\n",
    "print(\"Lowercased with lower():\")\n",
    "print(lower_str1)  # Output: straße\n",
    "print(lower_str2)  # Output: strasse\n",
    "print()\n",
    "\n",
    "# Küçük harfe çevirme işlemi (casefold() kullanımı)\n",
    "casefold_str1 = str1.casefold()\n",
    "casefold_str2 = str2.casefold()\n",
    "\n",
    "print(\"Casefolded with casefold():\")\n",
    "print(casefold_str1)  # Output: straße\n",
    "print(casefold_str2)  # Output: straße"
   ]
  },
  {
   "cell_type": "code",
   "execution_count": 31,
   "id": "dd28c7a5",
   "metadata": {},
   "outputs": [
    {
     "data": {
      "text/plain": [
       "'afyonkarahisardırlarımızdanmışcasina'"
      ]
     },
     "execution_count": 31,
     "metadata": {},
     "output_type": "execute_result"
    }
   ],
   "source": [
    "myString.lower()            # hepsini küçük harf yapar."
   ]
  },
  {
   "cell_type": "code",
   "execution_count": 39,
   "id": "46f71601",
   "metadata": {},
   "outputs": [
    {
     "data": {
      "text/plain": [
       "True"
      ]
     },
     "execution_count": 39,
     "metadata": {},
     "output_type": "execute_result"
    }
   ],
   "source": [
    "myString.endswith(\"A\")      #sonu böyle mi bitiyor sorusunu sorar bana sen bunu\n",
    "                            # istersen uzatabilirsin."
   ]
  },
  {
   "cell_type": "code",
   "execution_count": 109,
   "id": "002e0f27",
   "metadata": {},
   "outputs": [
    {
     "data": {
      "text/plain": [
       "'AfyonKaraHisardırlArımızDanmıŞcasInA'"
      ]
     },
     "execution_count": 109,
     "metadata": {},
     "output_type": "execute_result"
    }
   ],
   "source": [
    "myString"
   ]
  },
  {
   "cell_type": "code",
   "execution_count": 110,
   "id": "7b8722db",
   "metadata": {},
   "outputs": [
    {
     "data": {
      "text/plain": [
       "True"
      ]
     },
     "execution_count": 110,
     "metadata": {},
     "output_type": "execute_result"
    }
   ],
   "source": [
    "myString.endswith(\"casInA\")"
   ]
  },
  {
   "cell_type": "code",
   "execution_count": 42,
   "id": "ee0c7b8c",
   "metadata": {},
   "outputs": [
    {
     "data": {
      "text/plain": [
       "False"
      ]
     },
     "execution_count": 42,
     "metadata": {},
     "output_type": "execute_result"
    }
   ],
   "source": [
    "myString.endswith(\"Afyon\",0,4)"
   ]
  },
  {
   "cell_type": "code",
   "execution_count": 44,
   "id": "2395b7f8",
   "metadata": {},
   "outputs": [
    {
     "data": {
      "text/plain": [
       "True"
      ]
     },
     "execution_count": 44,
     "metadata": {},
     "output_type": "execute_result"
    }
   ],
   "source": [
    "myString.endswith(\"Afyon\",0,5)     # .endswith'in olayı şu sonunda o harf veya kelime varmı diye \n",
    "                                   # kontrol ediyor.eğer biraz daha geliştirmek istersen kordinatları\n",
    "                                   # verip ona da bakabiliyorsun.\n",
    "        \n",
    "# benim bir string ifademin içinde bir yazının alup olmadığını kontrol ediyorum ben ?"
   ]
  },
  {
   "cell_type": "code",
   "execution_count": 111,
   "id": "d272b00b",
   "metadata": {},
   "outputs": [
    {
     "data": {
      "text/plain": [
       "'AfyonKaraHisardırlArımızDanmıŞcasInA'"
      ]
     },
     "execution_count": 111,
     "metadata": {},
     "output_type": "execute_result"
    }
   ],
   "source": [
    "myString.expandtabs()"
   ]
  },
  {
   "cell_type": "code",
   "execution_count": 112,
   "id": "937b715d",
   "metadata": {},
   "outputs": [
    {
     "name": "stdout",
     "output_type": "stream",
     "text": [
      "Help on built-in function expandtabs:\n",
      "\n",
      "expandtabs(tabsize=8) method of builtins.str instance\n",
      "    Return a copy where all tab characters are expanded using spaces.\n",
      "    \n",
      "    If tabsize is not given, a tab size of 8 characters is assumed.\n",
      "\n"
     ]
    }
   ],
   "source": [
    "help(myString.expandtabs)"
   ]
  },
  {
   "cell_type": "code",
   "execution_count": 4,
   "id": "933d8d36",
   "metadata": {},
   "outputs": [],
   "source": [
    "myAssumed = \"9899.,VArsaYdıklaRIMIz34?\""
   ]
  },
  {
   "cell_type": "code",
   "execution_count": 5,
   "id": "9205c4ed",
   "metadata": {},
   "outputs": [
    {
     "data": {
      "text/plain": [
       "'9899.,VArsaYdıklaRIMIz34?'"
      ]
     },
     "execution_count": 5,
     "metadata": {},
     "output_type": "execute_result"
    }
   ],
   "source": [
    "myAssumed"
   ]
  },
  {
   "cell_type": "code",
   "execution_count": 6,
   "id": "1fce1699",
   "metadata": {},
   "outputs": [
    {
     "data": {
      "text/plain": [
       "str"
      ]
     },
     "execution_count": 6,
     "metadata": {},
     "output_type": "execute_result"
    }
   ],
   "source": [
    "type(myAssumed)\n",
    "# içinde bir tane harf bile olsa artık o string olarak karşımıza çıkar başka seçeneği yoktur.\n",
    "# bunun sebebi metinsel verilerle daha kolay iş yapmak içindir. "
   ]
  },
  {
   "cell_type": "code",
   "execution_count": 8,
   "id": "27aff065",
   "metadata": {},
   "outputs": [
    {
     "data": {
      "text/plain": [
       "'9899.,varsaydıklarimiz34?'"
      ]
     },
     "execution_count": 8,
     "metadata": {},
     "output_type": "execute_result"
    }
   ],
   "source": [
    "myAssumed.capitalize()\n",
    "# bunu zaten biliyoruz baş harfini büyük yapar geriye kalan ne varsa hepsi küçük olur sadece baş harfi\n",
    "# büyük olacak demektir."
   ]
  },
  {
   "cell_type": "code",
   "execution_count": 10,
   "id": "81bcf9b0",
   "metadata": {},
   "outputs": [
    {
     "data": {
      "text/plain": [
       "'9899.,VArsaYdıklaRIMIz34?'"
      ]
     },
     "execution_count": 10,
     "metadata": {},
     "output_type": "execute_result"
    }
   ],
   "source": [
    "myAssumed"
   ]
  },
  {
   "cell_type": "code",
   "execution_count": 11,
   "id": "c5157baf",
   "metadata": {},
   "outputs": [
    {
     "data": {
      "text/plain": [
       "'9899.,varsaydıklarimiz34?'"
      ]
     },
     "execution_count": 11,
     "metadata": {},
     "output_type": "execute_result"
    }
   ],
   "source": [
    "myAssumed.casefold()"
   ]
  },
  {
   "cell_type": "code",
   "execution_count": 12,
   "id": "a95f9ce7",
   "metadata": {},
   "outputs": [
    {
     "data": {
      "text/plain": [
       "'9899.,VArsaYdıklaRIMIz34?'"
      ]
     },
     "execution_count": 12,
     "metadata": {},
     "output_type": "execute_result"
    }
   ],
   "source": [
    "myAssumed"
   ]
  },
  {
   "cell_type": "code",
   "execution_count": 14,
   "id": "b8483496",
   "metadata": {},
   "outputs": [
    {
     "data": {
      "text/plain": [
       "25"
      ]
     },
     "execution_count": 14,
     "metadata": {},
     "output_type": "execute_result"
    }
   ],
   "source": [
    "len(myAssumed)"
   ]
  },
  {
   "cell_type": "code",
   "execution_count": 15,
   "id": "a27a758f",
   "metadata": {},
   "outputs": [
    {
     "data": {
      "text/plain": [
       "'9899.,VArsaYdıklaRIMIz34? '"
      ]
     },
     "execution_count": 15,
     "metadata": {},
     "output_type": "execute_result"
    }
   ],
   "source": [
    "myAssumed.center(26)"
   ]
  },
  {
   "cell_type": "code",
   "execution_count": 18,
   "id": "140fc0b8",
   "metadata": {},
   "outputs": [
    {
     "data": {
      "text/plain": [
       "26"
      ]
     },
     "execution_count": 18,
     "metadata": {},
     "output_type": "execute_result"
    }
   ],
   "source": [
    "len(myAssumed.center(26))"
   ]
  },
  {
   "cell_type": "code",
   "execution_count": 19,
   "id": "453e1c39",
   "metadata": {},
   "outputs": [
    {
     "data": {
      "text/plain": [
       "25"
      ]
     },
     "execution_count": 19,
     "metadata": {},
     "output_type": "execute_result"
    }
   ],
   "source": [
    "len(myAssumed)"
   ]
  },
  {
   "cell_type": "code",
   "execution_count": 30,
   "id": "3f8fbe65",
   "metadata": {},
   "outputs": [
    {
     "data": {
      "text/plain": [
       "'aa9899.,VArsaYdıklaRIMIz34?aaa'"
      ]
     },
     "execution_count": 30,
     "metadata": {},
     "output_type": "execute_result"
    }
   ],
   "source": [
    "myAssumed.center(30,\"a\")\n",
    "# şu anlama geliyor benim atıyorum 23 boyutlu bir stringim var bunu ben 30'a çıkartıyorum.eğer\n",
    "# eğer istersemde uçlarına istediğim stringi koyabiliyorum.int ve float kullanamıyorum ben burda."
   ]
  },
  {
   "cell_type": "code",
   "execution_count": 33,
   "id": "2441ee1d",
   "metadata": {},
   "outputs": [
    {
     "ename": "TypeError",
     "evalue": "The fill character must be a unicode character, not int",
     "output_type": "error",
     "traceback": [
      "\u001b[1;31m---------------------------------------------------------------------------\u001b[0m",
      "\u001b[1;31mTypeError\u001b[0m                                 Traceback (most recent call last)",
      "Cell \u001b[1;32mIn[33], line 1\u001b[0m\n\u001b[1;32m----> 1\u001b[0m myAssumed\u001b[38;5;241m.\u001b[39mcenter(\u001b[38;5;241m40\u001b[39m,\u001b[38;5;241m4\u001b[39m)\n",
      "\u001b[1;31mTypeError\u001b[0m: The fill character must be a unicode character, not int"
     ]
    }
   ],
   "source": [
    "myAssumed.center(40,4)"
   ]
  },
  {
   "cell_type": "code",
   "execution_count": 34,
   "id": "a42b037e",
   "metadata": {},
   "outputs": [
    {
     "data": {
      "text/plain": [
       "'9899.,VArsaYdıklaRIMIz34?'"
      ]
     },
     "execution_count": 34,
     "metadata": {},
     "output_type": "execute_result"
    }
   ],
   "source": [
    "myAssumed"
   ]
  },
  {
   "cell_type": "raw",
   "id": "bc293e14",
   "metadata": {},
   "source": [
    "Böyle birçok string ile ilgili fonksiyonlar mevcut bunları kullana kullana yaparız."
   ]
  },
  {
   "cell_type": "code",
   "execution_count": null,
   "id": "be07129e",
   "metadata": {},
   "outputs": [],
   "source": []
  },
  {
   "cell_type": "code",
   "execution_count": null,
   "id": "d488a811",
   "metadata": {},
   "outputs": [],
   "source": []
  },
  {
   "cell_type": "code",
   "execution_count": null,
   "id": "f9cd72e2",
   "metadata": {},
   "outputs": [],
   "source": []
  }
 ],
 "metadata": {
  "kernelspec": {
   "display_name": "Python 3 (ipykernel)",
   "language": "python",
   "name": "python3"
  },
  "language_info": {
   "codemirror_mode": {
    "name": "ipython",
    "version": 3
   },
   "file_extension": ".py",
   "mimetype": "text/x-python",
   "name": "python",
   "nbconvert_exporter": "python",
   "pygments_lexer": "ipython3",
   "version": "3.11.3"
  }
 },
 "nbformat": 4,
 "nbformat_minor": 5
}
