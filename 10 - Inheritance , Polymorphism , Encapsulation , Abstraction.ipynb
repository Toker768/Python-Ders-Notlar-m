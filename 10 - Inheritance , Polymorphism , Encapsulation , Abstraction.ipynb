{
 "cells": [
  {
   "cell_type": "raw",
   "id": "1ab94cc0",
   "metadata": {},
   "source": [
    "Obje odaklı programlama temelde 4 ana bölümden oluşur.Bunlar;\n",
    "\n",
    "Inheritance --> miras\n",
    "Polymorphism -->\n",
    "Encapsulation --> kapsulleme\n",
    "Abstraction --> soyutlama"
   ]
  },
  {
   "cell_type": "markdown",
   "id": "8593be86",
   "metadata": {},
   "source": [
    "# Inherintance"
   ]
  },
  {
   "cell_type": "raw",
   "id": "1de1d86a",
   "metadata": {},
   "source": [
    "Kalıtım almak demek.Bir sınıfın özelliklerini ve davranışlarını başka bir sınıfa aktarma ve genişletme yeteneğini sağlar. Bu, kodun tekrar kullanılabilirliğini artırır ve kod organizasyonunu iyileştirir.\n",
    "\n",
    "Diyelimmki 2 sınıf var ve birbirine çok benziyolar.Sadece bir kaç değişiklik var ve kodlarınız içinde \n",
    "bunu sürekli kullanıyosunuz işte bunun kısa yolunu bulmuşlar.ve ortaya Inherintance çıkmış."
   ]
  },
  {
   "cell_type": "code",
   "execution_count": 57,
   "id": "4c4e9a04",
   "metadata": {},
   "outputs": [],
   "source": [
    "# Üst sınıf (base class): Burası daha genel ve spesifikleştirilmemiş hala o yüzden daha az özellik \n",
    "class Arac:              # var alt sınıfa göre diyebilirim\n",
    "    \n",
    "    def __init__(self, marka, model):\n",
    "        self.marka = marka\n",
    "        self.model = model\n",
    "\n",
    "    def bilgileri_goster(self):\n",
    "        print(f\"Marka: {self.marka}, Model: {self.model}\")\n",
    "\n",
    "# Alt sınıf (derived class)\n",
    "class Araba(Arac):                                           # Inheritance bu şekilde yapılır.\n",
    "    \n",
    "    \n",
    "    def __init__(self, marka, model, yakit_turu):    # burası üst sınıf olan \"Arac\" dan alt \n",
    "        # Üst sınıfın __init__ metodunu çağırmak     # sınıflara nasıl kalıtım yapılacağını anlatıyor\n",
    "        super().__init__(marka, model)\n",
    "        \n",
    "        \n",
    "        self.yakit_turu = yakit_turu                 # yakıt türü \"Araba\" classından geldi.\n",
    "\n",
    "    def calistir(self):\n",
    "        print(f\"{self.marka} {self.model} arabası çalıştırıldı.\")"
   ]
  },
  {
   "cell_type": "code",
   "execution_count": 2,
   "id": "618e9048",
   "metadata": {},
   "outputs": [],
   "source": [
    "class Musician():                            # Musician diye bir sınıf oluşturmuş.\n",
    "    \n",
    "    def __init__(self,name):                # burası initializer method kısmıdır.bu sınıftan oluşturu-\n",
    "                                           # lacak bütün objelerde bunlar vardır.\n",
    "        self.name = name\n",
    "        print(\"musician class\")\n",
    "        \n",
    "    def test1(self):\n",
    "        print(\"test1\")\n",
    "        \n",
    "    def test2(self):\n",
    "        print(\"test2\")\n",
    "\n",
    "# Diyelimki burda binlerce satır kod var."
   ]
  },
  {
   "cell_type": "code",
   "execution_count": 3,
   "id": "ad9705f6",
   "metadata": {},
   "outputs": [
    {
     "name": "stdout",
     "output_type": "stream",
     "text": [
      "musician class\n"
     ]
    }
   ],
   "source": [
    "Ali = Musician(\"Ali\")"
   ]
  },
  {
   "cell_type": "code",
   "execution_count": 4,
   "id": "7dbc3dee",
   "metadata": {},
   "outputs": [
    {
     "data": {
      "text/plain": [
       "'Ali'"
      ]
     },
     "execution_count": 4,
     "metadata": {},
     "output_type": "execute_result"
    }
   ],
   "source": [
    "Ali.name"
   ]
  },
  {
   "cell_type": "code",
   "execution_count": 5,
   "id": "9b134a42",
   "metadata": {},
   "outputs": [
    {
     "name": "stdout",
     "output_type": "stream",
     "text": [
      "test2\n"
     ]
    }
   ],
   "source": [
    "Ali.test2()"
   ]
  },
  {
   "cell_type": "code",
   "execution_count": 6,
   "id": "97157c4a",
   "metadata": {},
   "outputs": [
    {
     "name": "stdout",
     "output_type": "stream",
     "text": [
      "test1\n"
     ]
    }
   ],
   "source": [
    "Ali.test1()"
   ]
  },
  {
   "cell_type": "raw",
   "id": "693aa960",
   "metadata": {},
   "source": [
    " ve ben şimdi Musician sınıfına benzer bir sınıf yazcam işte bu aslında bir amelelikden başka abir şey değil.\n",
    " Tam bu noktada ınherintance diye bir şey kullanıcam ben.\n",
    " \n",
    " Şöyle bir olay da var diyelimki bir değişiklik yapıcam eğer ınherintance\n",
    " kullanmamış isem yine amelelik yapmak zorunda kalıcam.\n",
    " \n",
    " Şimdi oluşturacağım MusianPlus sınıfı Musician sınıfından kalıtım alacak."
   ]
  },
  {
   "cell_type": "code",
   "execution_count": 7,
   "id": "21317ba0",
   "metadata": {},
   "outputs": [],
   "source": [
    "class MusicianPlus(Musician):             # bakın artık benim MusicianPlus sınıfım Musician sınıfından\n",
    "                                          # bütün methodları aldı ayrıyeten artı olarak bir method da \n",
    "    def __init__(self,name,müziktürü):              # ben buraya ekleyebilirim.Yani şöyle olabiliyor;\n",
    "        Musician.__init__(self,name) # tam bu satırın bir gösterim şekli daha var onu daha fazla kul-\n",
    "                                     # lanırız.ve benim daha fazla hoşuma gittiğini söyleyebilirim.\n",
    "        print(\"musucian Plus\")                 #  MusicianPlus >= Musician\n",
    "        self.müziktürü = müziktürü\n",
    "        \n",
    "    def test3(self):                   # bu method yalnızca MusicianPlus da var başka yerde yok.\n",
    "        print(\"Test3 yalnızca MusicianPlus sınıfında var.\")\n",
    "\n",
    "        \n",
    "# diyelimki benim Musician'dan aldığım bir methodu ben değiştirmek istiyorum o da mümkün işte bu olaya\n",
    "# override deniyor.\n",
    "    def test1(self):\n",
    "        print(\"Bu 'test1' MusicianPlus sınıfına özel olarak düzenlenmiştir.\")\n",
    "    \n",
    "    \n",
    "    # Bide bunun şöyle farklı bir kullanım tarzı var."
   ]
  },
  {
   "cell_type": "code",
   "execution_count": 8,
   "id": "0de3b991",
   "metadata": {},
   "outputs": [],
   "source": [
    "class MusicianPlus(Musician):\n",
    "    def __init__(self, name):\n",
    "        super().__init__(name)                   # farklı olan yer burası \"super()\" kullandığım yerde\n",
    "                                                 # ben self kullanmıyorum.\n",
    "        print(\"MusicianPlus sınıfı oluşturuldu.\")\n",
    "\n",
    "    def test3(self):\n",
    "        print(\"Test3 yalnızca MusicianPlus sınıfında var.\")\n",
    "\n",
    "    def test1(self):\n",
    "        print(\"Bu 'test1' MusicianPlus sınıfına özel olarak düzenlenmiştir.\")"
   ]
  },
  {
   "cell_type": "code",
   "execution_count": 9,
   "id": "a8c5c3c3",
   "metadata": {},
   "outputs": [
    {
     "name": "stdout",
     "output_type": "stream",
     "text": [
      "musician class\n",
      "MusicianPlus sınıfı oluşturuldu.\n"
     ]
    }
   ],
   "source": [
    "ozan = MusicianPlus(\"Ozan\")"
   ]
  },
  {
   "cell_type": "code",
   "execution_count": 10,
   "id": "7cedf0e9",
   "metadata": {},
   "outputs": [
    {
     "data": {
      "text/plain": [
       "'Ozan'"
      ]
     },
     "execution_count": 10,
     "metadata": {},
     "output_type": "execute_result"
    }
   ],
   "source": [
    "ozan.name"
   ]
  },
  {
   "cell_type": "code",
   "execution_count": 11,
   "id": "4cfa398f",
   "metadata": {},
   "outputs": [
    {
     "name": "stdout",
     "output_type": "stream",
     "text": [
      "Bu 'test1' MusicianPlus sınıfına özel olarak düzenlenmiştir.\n"
     ]
    }
   ],
   "source": [
    "ozan.test1()"
   ]
  },
  {
   "cell_type": "code",
   "execution_count": 12,
   "id": "2f4c211f",
   "metadata": {},
   "outputs": [
    {
     "name": "stdout",
     "output_type": "stream",
     "text": [
      "test2\n"
     ]
    }
   ],
   "source": [
    "ozan.test2()"
   ]
  },
  {
   "cell_type": "code",
   "execution_count": 13,
   "id": "7baea8cf",
   "metadata": {},
   "outputs": [
    {
     "name": "stdout",
     "output_type": "stream",
     "text": [
      "Test3 yalnızca MusicianPlus sınıfında var.\n"
     ]
    }
   ],
   "source": [
    "ozan.test3()"
   ]
  },
  {
   "cell_type": "raw",
   "id": "7c22dbd7",
   "metadata": {},
   "source": [
    "Bu özelllik büyük projelerde çok fazla kullanıcaz oldukça kullanışlı çünkü."
   ]
  },
  {
   "cell_type": "markdown",
   "id": "c537a1dd",
   "metadata": {},
   "source": [
    "# Polymorphism"
   ]
  },
  {
   "cell_type": "markdown",
   "id": "7c2ef74d",
   "metadata": {},
   "source": [
    "Python'da polimorfizm, aynı isme sahip ancak farklı sınıflara ait metotların veya fonksiyonların çağrılabilmesini ifade eder. Polimorfizm, programlama dilinde aynı isme sahip ancak farklı işlevselliğe sahip olan şeylerle çalışmayı kolaylaştırır. İşte Python'da polimorfizmi anlatan bir örnek:"
   ]
  },
  {
   "cell_type": "code",
   "execution_count": 23,
   "id": "8d5f2adb",
   "metadata": {},
   "outputs": [],
   "source": [
    "class Kedi():             # burda \"Kedi\" adında bir class oluşturdum.\n",
    "    def speak(self):      # bu class'a ait bir tane method oluşturdum.\n",
    "        return \"Miyav!\"\n",
    "\n",
    "class Kopek():\n",
    "    def speak(self):       # farklı classlar ama aynı isimde methodlar var şuan\n",
    "        return \"Hav hav!\""
   ]
  },
  {
   "cell_type": "code",
   "execution_count": 24,
   "id": "9a1871e1",
   "metadata": {},
   "outputs": [],
   "source": [
    "# Bir fonksiyon tanımlayalım ve bu fonksiyonun herhangi bir sınıf nesnesini alarak speak\n",
    "# metodunu çağırmasını sağlayalım.\n",
    "\n",
    "def hayvan_sesi(dörtayaklı):\n",
    "    return dörtayaklı.speak()\n"
   ]
  },
  {
   "cell_type": "code",
   "execution_count": 25,
   "id": "a73ecabb",
   "metadata": {},
   "outputs": [
    {
     "name": "stdout",
     "output_type": "stream",
     "text": [
      "Miyav!\n",
      "Hav hav!\n"
     ]
    }
   ],
   "source": [
    "# Şimdi Kedi ve Kopek sınıflarından nesneler oluşturarak hayvan_sesi fonksiyonunu çağıralım.\n",
    "\n",
    "vankedisi = Kedi()                # burda ben \"Kedi\" classına ait bir tane obje oluşturdum.\n",
    "sivaskangalı = Kopek()            # burda ben \"Köpek\" classına ait bir tane obje oluşturdum\n",
    "\n",
    "print(hayvan_sesi(vankedisi))  # Çıktı: Miyav!\n",
    "print(hayvan_sesi(sivaskangalı))  # Çıktı: Hav hav!\n",
    "\n",
    "# Bu örnekte, hayvan_sesi fonksiyonu hem Kedi sınıfının bir nesnesini hem de Kopek sınıfının\n",
    "# bir nesnesini alabiliyor. Her iki durumda da aynı ismi (speak) kullanarak metodu çağırıyoruz,\n",
    "# ancak her sınıfın kendi uygulaması çalışıyor. Bu, Python'daki polimorfizmin temel bir örneğidir.\n",
    "# Bir fonksiyonun, aynı ismi taşıyan fakat farklı sınıflara ait metotları çalıştırabilmesidir."
   ]
  },
  {
   "cell_type": "markdown",
   "id": "b9f5acda",
   "metadata": {},
   "source": [
    "Bu terim, programlama dillerinde bir nesnenin farklı tiplerde davranabilme yeteneğini ifade eder. Nesne yönelimli programlamada (OOP), bir nesne belirli bir arayüzü taklit edebilir ve bu nesnenin kullanımı, kullanıcı için gerçekleştirildiği nesne tipinden bağımsızdır. Bu, aynı arayüzü taklit eden farklı sınıfların kullanılabilmesine olanak tanır.\n",
    "\n",
    "Polymorphism kavramı, programlamada esneklik ve genişletilebilirlik sağlamak amacıyla kullanılır. İsim, bu özelliğin bir nesnenin birçok formda (şekilde) davranabilme yeteneğinden gelir."
   ]
  },
  {
   "cell_type": "markdown",
   "id": "e61bb52d",
   "metadata": {},
   "source": [
    "# Encapsulation"
   ]
  },
  {
   "cell_type": "raw",
   "id": "1dbeb171",
   "metadata": {},
   "source": [
    "Hapsetmek demektir.Ben atıyorum grup halinde çalıştığım bir projede bir sınıfın içindeki değişkenleri başka bir devaloper  kimse tarafından değiştirilmesini istemiyorum.İşte bu saklama işine encapsulation denir.\n",
    "\n",
    "Bunu örnekte daha iyi anlıycan merak etme."
   ]
  },
  {
   "cell_type": "code",
   "execution_count": 37,
   "id": "7775fba0",
   "metadata": {},
   "outputs": [],
   "source": [
    "class Phone():\n",
    "    \n",
    "    def __init__(self,name,price):         # benim bu oluşturmuş olduğum sınıfı birden fazla kişinin \n",
    "        self.name = name                   # kullandığını düşün ve sürekli bir şeyler değişiyor.\n",
    "        self.__price = price               # yani anlıycan fiyatın hiçbir şekilde değişmesini istemi\n",
    "                                           # yorum.\n",
    "    def info(self):\n",
    "        print(f\"{self.name} price is : {self.__price} dolars\")\n",
    "        \n",
    "# ben o zaman class'ın içinden hariç değiştirmek istemediğim yeri 2 tane alt çizgi ile desteklemem\n",
    "# gerek.\n",
    "\n",
    "# diyelimki class'ın içinde bunu senin değiştirmen gerekti o zaman ne yapcan; \n",
    "\n",
    "    def changePrice(self,price):\n",
    "        self.__price = price"
   ]
  },
  {
   "cell_type": "code",
   "execution_count": 38,
   "id": "f6ad79f9",
   "metadata": {},
   "outputs": [],
   "source": [
    "iphone = Phone(\"iphone X\",500)"
   ]
  },
  {
   "cell_type": "code",
   "execution_count": 39,
   "id": "d05e9ffc",
   "metadata": {},
   "outputs": [
    {
     "name": "stdout",
     "output_type": "stream",
     "text": [
      "iphone X price is : 500 dolars\n"
     ]
    }
   ],
   "source": [
    "iphone.info()"
   ]
  },
  {
   "cell_type": "code",
   "execution_count": 40,
   "id": "fda7d916",
   "metadata": {},
   "outputs": [],
   "source": [
    "samsung = Phone(\"Samsung Galaxy\",550)"
   ]
  },
  {
   "cell_type": "code",
   "execution_count": 41,
   "id": "83c54960",
   "metadata": {},
   "outputs": [
    {
     "name": "stdout",
     "output_type": "stream",
     "text": [
      "Samsung Galaxy price is : 550 dolars\n"
     ]
    }
   ],
   "source": [
    "samsung.info()"
   ]
  },
  {
   "cell_type": "code",
   "execution_count": 42,
   "id": "1f247748",
   "metadata": {},
   "outputs": [
    {
     "data": {
      "text/plain": [
       "'Samsung Galaxy'"
      ]
     },
     "execution_count": 42,
     "metadata": {},
     "output_type": "execute_result"
    }
   ],
   "source": [
    "# ben artık class'ın dışından price özelliğimi değiştiremem.\n",
    "samsung.name\n",
    "#bakın özellikleri arasında artık çıkmıyo bile ben onu hapsettim ancak ve ancak kendim değiştirebiliri"
   ]
  },
  {
   "cell_type": "code",
   "execution_count": 43,
   "id": "8618f2ef",
   "metadata": {},
   "outputs": [
    {
     "name": "stdout",
     "output_type": "stream",
     "text": [
      "Samsung Galaxy price is : 550 dolars\n"
     ]
    }
   ],
   "source": [
    "samsung.info()"
   ]
  },
  {
   "cell_type": "code",
   "execution_count": 34,
   "id": "b04a4bd5",
   "metadata": {},
   "outputs": [],
   "source": [
    "samsung.changePrice(\"550\")"
   ]
  },
  {
   "cell_type": "code",
   "execution_count": 35,
   "id": "279f45ec",
   "metadata": {},
   "outputs": [
    {
     "name": "stdout",
     "output_type": "stream",
     "text": [
      "Samsung Galaxy price is : 550 dolars\n"
     ]
    }
   ],
   "source": [
    "samsung.info()"
   ]
  },
  {
   "cell_type": "code",
   "execution_count": 36,
   "id": "5b7af942",
   "metadata": {},
   "outputs": [],
   "source": [
    "samsung.changePrice(\"555\")"
   ]
  },
  {
   "cell_type": "code",
   "execution_count": 29,
   "id": "f082836b",
   "metadata": {},
   "outputs": [
    {
     "name": "stdout",
     "output_type": "stream",
     "text": [
      "Samsung Galaxy price is : 555 dolars\n"
     ]
    }
   ],
   "source": [
    "samsung.info()"
   ]
  },
  {
   "cell_type": "markdown",
   "id": "e12f4d93",
   "metadata": {},
   "source": [
    "bide chat cpt'nin anlatım tarzına bakalım;\n",
    "\n",
    "Encapsulation (Kapsülleme), nesne yönelimli programlamada kullanılan bir kavramdır. Bu kavram, bir sınıfın içindeki verileri (attributeleri) ve bu verilere erişimi kontrol altına alarak sınıfın daha bağımsız ve güvenli olmasını sağlar. Encapsulation, verilerin sınıf içinde gizlenmesini ve sadece belirli yöntemler aracılığıyla erişilebilmesini amaçlar.\n",
    "\n",
    "Python'da Encapsulation'ı anlamak için önce basit bir örnek üzerinden gidelim:"
   ]
  },
  {
   "cell_type": "code",
   "execution_count": 45,
   "id": "e58295e7",
   "metadata": {},
   "outputs": [],
   "source": [
    "class Araba:\n",
    "    def __init__(self, marka, model):\n",
    "        self.__marka = marka  # __ ile başlayan bir isim, private bir değişkeni temsil eder\n",
    "        self.__model = model\n",
    "\n",
    "    def get_marka(self):\n",
    "        return self.__marka\n",
    "\n",
    "    def set_marka(self, yeni_marka):\n",
    "        self.__marka = yeni_marka\n",
    "\n",
    "    def get_model(self):\n",
    "        return self.__model\n",
    "\n",
    "    def set_model(self, yeni_model):\n",
    "        self.__model = yeni_model"
   ]
  },
  {
   "cell_type": "markdown",
   "id": "6879e43b",
   "metadata": {},
   "source": [
    "Bu örnekte, Araba adında bir sınıf oluşturduk ve bu sınıf içinde iki özel (private) değişken (__marka ve __model) bulunmaktadır. Bu değişkenlere doğrudan erişim izni verilmez, bunun yerine erişim için get ve set adlı yöntemler kullanılır.\n",
    "\n",
    "get_marka ve get_model metotları, ilgili özel değişkenin değerini döndürür.\n",
    "set_marka ve set_model metotları, ilgili özel değişkenin değerini değiştirir.\n",
    "Bu sayede, Araba sınıfını kullanan diğer kodların bu özel değişkenlere doğrudan erişimine izin verilmez. Sadece belirlenmiş yöntemler aracılığıyla bu değişkenlere ulaşılabilir.\n",
    "\n",
    "Örnek kullanım:"
   ]
  },
  {
   "cell_type": "code",
   "execution_count": 46,
   "id": "df9b73c6",
   "metadata": {},
   "outputs": [
    {
     "name": "stdout",
     "output_type": "stream",
     "text": [
      "Toyota\n",
      "Honda\n"
     ]
    }
   ],
   "source": [
    "araba = Araba(\"Toyota\", \"Corolla\")\n",
    "print(araba.get_marka())  # Çıktı: Toyota\n",
    "\n",
    "araba.set_marka(\"Honda\")                    # bizzatihi benim izin verdiğim şekilde ben bunu\n",
    "                                            # değiştirebiliyorum fakat dışardan biri bunu değiştiremez\n",
    "print(araba.get_marka())  # Çıktı: Honda\n"
   ]
  },
  {
   "cell_type": "markdown",
   "id": "e428c391",
   "metadata": {},
   "source": [
    "Encapsulation'ın sağladığı avantajlar şunlardır:\n",
    "\n",
    "Güvenlik: Özel değişkenlere doğrudan erişim izni verilmediği için, bu değişkenlere yanlışlıkla müdahale edilmesi veya hatalı kullanım engellenir.\n",
    "\n",
    "Modülerlik: Bir sınıfın iç yapısını değiştirmek istediğinizde, sadece ilgili get ve set metodlarını güncelleyerek dışarıdan erişimi kontrol altına alabilirsiniz. Bu, sınıfın iç yapısının dış kodlara olan bağımlılığını azaltır.\n",
    "\n",
    "Kod Organizasyonu: Encapsulation, kodun daha düzenli ve organize olmasını sağlar. Özel değişkenlere erişimi sınırlamak, sınıfın iç mantığını daha iyi kontrol etmenize yardımcı olur."
   ]
  },
  {
   "cell_type": "markdown",
   "id": "0e6f42ac",
   "metadata": {},
   "source": [
    "# Abstraction"
   ]
  },
  {
   "cell_type": "raw",
   "id": "d8145e62",
   "metadata": {},
   "source": [
    "Soyutlama anlamına gelir.\n",
    "Soyut bir sınıf oluşturuyoruz fakat bu sınıfın kendisini direkt kullanmıyoruz.yapısından faydalanıyoruz.\n",
    "\n",
    "Şimdi bunu yapabilmemiz için bir kütüphaneyi ihtiyacımız var."
   ]
  },
  {
   "cell_type": "code",
   "execution_count": 58,
   "id": "2fa5a757",
   "metadata": {},
   "outputs": [],
   "source": [
    "from abc import ABC, abstractmethod"
   ]
  },
  {
   "cell_type": "code",
   "execution_count": 59,
   "id": "36aed010",
   "metadata": {},
   "outputs": [],
   "source": [
    "class Car(ABC):\n",
    "    \n",
    "    @abstractmethod\n",
    "    def maxSpeed(self):\n",
    "        pass\n",
    "\n",
    "# bu artık soyutlanmıs bir sınıf olarak karşıma çıkıyor."
   ]
  },
  {
   "cell_type": "code",
   "execution_count": 60,
   "id": "acbe1f48",
   "metadata": {},
   "outputs": [],
   "source": [
    "# ben bu soyutlanmış sınıfa kalıtım yoluyla bağlanabilirim.\n",
    "class Tesla(Car):\n",
    "    \n",
    "    def maxSpeed(self):\n",
    "        print(\"200km\")"
   ]
  },
  {
   "cell_type": "code",
   "execution_count": 61,
   "id": "22cba51c",
   "metadata": {},
   "outputs": [],
   "source": [
    "teslaY = Tesla()"
   ]
  },
  {
   "cell_type": "code",
   "execution_count": 62,
   "id": "d3641405",
   "metadata": {},
   "outputs": [
    {
     "name": "stdout",
     "output_type": "stream",
     "text": [
      "200km\n"
     ]
    }
   ],
   "source": [
    "teslaY.maxSpeed()"
   ]
  },
  {
   "cell_type": "code",
   "execution_count": 63,
   "id": "1c12e53b",
   "metadata": {},
   "outputs": [],
   "source": [
    "class Mercedes(Car):\n",
    "    \n",
    "    def maxSpeed(self):\n",
    "        print(\"250km\")"
   ]
  },
  {
   "cell_type": "code",
   "execution_count": 64,
   "id": "8c188ce3",
   "metadata": {},
   "outputs": [],
   "source": [
    "mercedesCLA = Mercedes()"
   ]
  },
  {
   "cell_type": "code",
   "execution_count": 65,
   "id": "ccb78e2c",
   "metadata": {},
   "outputs": [
    {
     "name": "stdout",
     "output_type": "stream",
     "text": [
      "250km\n"
     ]
    }
   ],
   "source": [
    "mercedesCLA.maxSpeed()"
   ]
  },
  {
   "cell_type": "code",
   "execution_count": 66,
   "id": "f350b771",
   "metadata": {},
   "outputs": [],
   "source": [
    "# olay şu ben soyutlamış olduğum sınıfta belli başlı fonksiyonlar belirlerim.Sonra kalıtım yolula\n",
    "# ben bağlanmış olduğum sınıfları önceden soyutlamış olduğum sınıftan yardım alarak oluştururum."
   ]
  },
  {
   "cell_type": "markdown",
   "id": "5297cf47",
   "metadata": {},
   "source": [
    "# Special Method"
   ]
  },
  {
   "cell_type": "code",
   "execution_count": 67,
   "id": "f7cf2dfe",
   "metadata": {},
   "outputs": [],
   "source": [
    "class Fruit():\n",
    "    \n",
    "    def __init__(self,name,calories):\n",
    "        self.name = name\n",
    "        self.calories = calories"
   ]
  },
  {
   "cell_type": "code",
   "execution_count": 68,
   "id": "7e1d28f3",
   "metadata": {},
   "outputs": [],
   "source": [
    "myFruit = Fruit(\"Banana\",255)"
   ]
  },
  {
   "cell_type": "code",
   "execution_count": 69,
   "id": "0496f220",
   "metadata": {},
   "outputs": [
    {
     "data": {
      "text/plain": [
       "255"
      ]
     },
     "execution_count": 69,
     "metadata": {},
     "output_type": "execute_result"
    }
   ],
   "source": [
    "myFruit.calories"
   ]
  },
  {
   "cell_type": "code",
   "execution_count": 70,
   "id": "a6da9a2b",
   "metadata": {},
   "outputs": [
    {
     "data": {
      "text/plain": [
       "'Banana'"
      ]
     },
     "execution_count": 70,
     "metadata": {},
     "output_type": "execute_result"
    }
   ],
   "source": [
    "myFruit.name\n",
    "# gördüğünüz gibi normal bir class oluşturdum."
   ]
  },
  {
   "cell_type": "code",
   "execution_count": 71,
   "id": "64947978",
   "metadata": {},
   "outputs": [
    {
     "name": "stdout",
     "output_type": "stream",
     "text": [
      "<__main__.Fruit object at 0x000001FE8AEC02D0>\n"
     ]
    }
   ],
   "source": [
    "print(myFruit)\n",
    "# ben ayrı method oluşturmadan print(myFruit) yazdırdığım zaman istediğim şeyi yazdırmak istiyorum.\n",
    "# bunu özel bir methodla yapabilirim ancak"
   ]
  },
  {
   "cell_type": "code",
   "execution_count": 72,
   "id": "7ca63650",
   "metadata": {},
   "outputs": [],
   "source": [
    "class Fruit2():\n",
    "    \n",
    "    def __init__(self,name,calories):\n",
    "        self.name = name\n",
    "        self.calories = calories\n",
    "        \n",
    "    def __str__(self):\n",
    "        return f\"My {self.name} is calories {self.calories}\"\n",
    "    \n",
    "    def __len__(self):\n",
    "        return self.calories"
   ]
  },
  {
   "cell_type": "code",
   "execution_count": 73,
   "id": "2f91e0db",
   "metadata": {},
   "outputs": [],
   "source": [
    "myFruit2 = Fruit2(\"Apple\",344)"
   ]
  },
  {
   "cell_type": "code",
   "execution_count": 74,
   "id": "28d4b108",
   "metadata": {},
   "outputs": [
    {
     "name": "stdout",
     "output_type": "stream",
     "text": [
      "My Apple is calories 344\n"
     ]
    }
   ],
   "source": [
    "print(myFruit2)\n",
    "# ben artık direk objemi yazdırmak istediğim vakit bunu yapabiliyorum.\n",
    "# ben bunu çoğaltabilirim."
   ]
  },
  {
   "cell_type": "code",
   "execution_count": 75,
   "id": "6f1a15a5",
   "metadata": {},
   "outputs": [],
   "source": [
    "# len(myFruit2) yazdığımda bana kalori döndürmesini istiyosam yukarıya şunları yazıcam."
   ]
  },
  {
   "cell_type": "code",
   "execution_count": 128,
   "id": "c3fb0dd6",
   "metadata": {},
   "outputs": [
    {
     "data": {
      "text/plain": [
       "344"
      ]
     },
     "execution_count": 128,
     "metadata": {},
     "output_type": "execute_result"
    }
   ],
   "source": [
    "len(myFruit2)"
   ]
  },
  {
   "cell_type": "raw",
   "id": "6fcc886d",
   "metadata": {},
   "source": [
    "Ben bunların daha fazlasını \"python special method\" yazarak ulaşabilirim"
   ]
  }
 ],
 "metadata": {
  "kernelspec": {
   "display_name": "Python 3 (ipykernel)",
   "language": "python",
   "name": "python3"
  },
  "language_info": {
   "codemirror_mode": {
    "name": "ipython",
    "version": 3
   },
   "file_extension": ".py",
   "mimetype": "text/x-python",
   "name": "python",
   "nbconvert_exporter": "python",
   "pygments_lexer": "ipython3",
   "version": "3.11.3"
  }
 },
 "nbformat": 4,
 "nbformat_minor": 5
}
