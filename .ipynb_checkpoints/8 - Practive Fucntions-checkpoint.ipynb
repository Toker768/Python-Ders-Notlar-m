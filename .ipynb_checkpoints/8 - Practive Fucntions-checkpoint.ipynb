{
 "cells": [
  {
   "cell_type": "code",
   "execution_count": 3,
   "id": "5d636a9f",
   "metadata": {},
   "outputs": [],
   "source": [
    "# şimdi öncelikle biz kendi elimizle bir fonksiyon yazalım bakalım.\n",
    "\n",
    "def divideNumber(num):\n",
    "    return num / 2 "
   ]
  },
  {
   "cell_type": "code",
   "execution_count": 4,
   "id": "41a64e70",
   "metadata": {},
   "outputs": [
    {
     "data": {
      "text/plain": [
       "10.0"
      ]
     },
     "execution_count": 4,
     "metadata": {},
     "output_type": "execute_result"
    }
   ],
   "source": [
    "divideNumber(20)\n",
    "# bölme işleminin sonucunda float çıkar.bunun sebebini zaten biz biliyoruz."
   ]
  },
  {
   "cell_type": "code",
   "execution_count": 5,
   "id": "46f2e6d5",
   "metadata": {},
   "outputs": [],
   "source": [
    "myList = [2,4,6,8,10,12,14,16]         # ben bu listenin her bir elemanını 2 ye bölüp farklı \n",
    "                                       # bir listede kaydetmek istiyorum."
   ]
  },
  {
   "cell_type": "code",
   "execution_count": 6,
   "id": "f7ea608f",
   "metadata": {},
   "outputs": [],
   "source": [
    "newList = []\n",
    "for num in myList:\n",
    "    newList.append(divideNumber(num))"
   ]
  },
  {
   "cell_type": "code",
   "execution_count": 7,
   "id": "0a56fd70",
   "metadata": {},
   "outputs": [
    {
     "data": {
      "text/plain": [
       "[1.0, 2.0, 3.0, 4.0, 5.0, 6.0, 7.0, 8.0]"
      ]
     },
     "execution_count": 7,
     "metadata": {},
     "output_type": "execute_result"
    }
   ],
   "source": [
    "newList"
   ]
  },
  {
   "cell_type": "markdown",
   "id": "d59326ad",
   "metadata": {},
   "source": [
    "# map"
   ]
  },
  {
   "cell_type": "raw",
   "id": "619a3a35",
   "metadata": {},
   "source": [
    "map fonksiyonu, Python'da bir iterable (örneğin, liste) üzerinde belirli bir fonksiyonu her bir elemana uygulayan ve sonuçları yeni bir iterable olarak döndüren bir fonksiyondur.\n",
    "\n",
    "Şöyle düşünüyorum isminin kesinlikle bir anlamı var buyrun chat'e soralım bakalım ne diycek ? \n",
    "\n",
    "\"Matematikte \"map\" terimi, bir küme elemanını başka bir küme elemanına eşleştirme veya bir fonksiyonu bir küme elemanına uygulama anlamına gelir.\" demekki burdan gelir.oldukça basit elimde bir iterable var bide fonksiyon var ben bu fonksiyonu iterablenin her bir elemanına uyguluycam işte map burda süper bir olayı var.\n",
    "\n",
    "Naıl kullanıcağız sorusuna gelince aslında şöyle olucak:"
   ]
  },
  {
   "cell_type": "code",
   "execution_count": 11,
   "id": "5a4ff55d",
   "metadata": {},
   "outputs": [
    {
     "data": {
      "text/plain": [
       "<map at 0x1c44d271b70>"
      ]
     },
     "execution_count": 11,
     "metadata": {},
     "output_type": "execute_result"
    }
   ],
   "source": [
    "map(divideNumber,myList)\n",
    "# kullanıcağın fonksiyonu ilk yere sonra virgül koyup fonksiyonu kullanmak istediğin koleksiyona yani\n",
    "# çoklu veri tutan yapıyı(set,tuple,list) yazıyosun.\n",
    "\n",
    "# bu görmüş olduğunuz yapıda map'in çalıştığını ifade ediyor."
   ]
  },
  {
   "cell_type": "code",
   "execution_count": 12,
   "id": "88728ce5",
   "metadata": {},
   "outputs": [
    {
     "data": {
      "text/plain": [
       "[1.0, 2.0, 3.0, 4.0, 5.0, 6.0, 7.0, 8.0]"
      ]
     },
     "execution_count": 12,
     "metadata": {},
     "output_type": "execute_result"
    }
   ],
   "source": [
    "list(map(divideNumber,myList))"
   ]
  },
  {
   "cell_type": "code",
   "execution_count": 13,
   "id": "81bebad2",
   "metadata": {},
   "outputs": [
    {
     "data": {
      "text/plain": [
       "{1.0, 2.0, 3.0, 4.0, 5.0, 6.0, 7.0, 8.0}"
      ]
     },
     "execution_count": 13,
     "metadata": {},
     "output_type": "execute_result"
    }
   ],
   "source": [
    "set(map(divideNumber,myList))                    # istediğin koleksiyon şeklinde ifade edebilirsin."
   ]
  },
  {
   "cell_type": "code",
   "execution_count": 14,
   "id": "995f0384",
   "metadata": {},
   "outputs": [
    {
     "data": {
      "text/plain": [
       "(1.0, 2.0, 3.0, 4.0, 5.0, 6.0, 7.0, 8.0)"
      ]
     },
     "execution_count": 14,
     "metadata": {},
     "output_type": "execute_result"
    }
   ],
   "source": [
    "tuple(map(divideNumber,myList))"
   ]
  },
  {
   "cell_type": "markdown",
   "id": "5ebf47e7",
   "metadata": {},
   "source": [
    "SORU:peki map'i kullanırken neden ilk başta fonksiyon sonra listeyi yazıyorum bunun bir açıklaması var mı ?\n",
    "\n",
    "Bu sıralama, fonksiyon programlaması paradigmasından kaynaklanan bir anlam taşır. Fonksiyon programlamasında, map fonksiyonu gibi birçok fonksiyon, bir fonksiyonu alıp veri üzerinde uygulama temel bir prensiptir. Bu, daha genel bir paradigmanın bir parçasıdır ve sıklıkla \"fonksiyonları birinci sınıf nesneler\" olarak kabul eden dillerde görülür.\n"
   ]
  },
  {
   "cell_type": "code",
   "execution_count": 3,
   "id": "8de57307",
   "metadata": {},
   "outputs": [],
   "source": [
    "def controlString(string):\n",
    "    return \"Ali\" in string"
   ]
  },
  {
   "cell_type": "code",
   "execution_count": 4,
   "id": "e414eb1c",
   "metadata": {},
   "outputs": [
    {
     "data": {
      "text/plain": [
       "True"
      ]
     },
     "execution_count": 4,
     "metadata": {},
     "output_type": "execute_result"
    }
   ],
   "source": [
    "controlString(\"Ali Toker\")"
   ]
  },
  {
   "cell_type": "code",
   "execution_count": 5,
   "id": "cda5cb13",
   "metadata": {},
   "outputs": [
    {
     "data": {
      "text/plain": [
       "False"
      ]
     },
     "execution_count": 5,
     "metadata": {},
     "output_type": "execute_result"
    }
   ],
   "source": [
    "controlString(\"Toker\")"
   ]
  },
  {
   "cell_type": "code",
   "execution_count": 6,
   "id": "ec7eca11",
   "metadata": {},
   "outputs": [],
   "source": [
    "nameList = [\"Ali\",\"Ali Toker\",\"Toker Ali\",\"Ahmet\"]"
   ]
  },
  {
   "cell_type": "code",
   "execution_count": 7,
   "id": "aaca1db3",
   "metadata": {},
   "outputs": [
    {
     "data": {
      "text/plain": [
       "[True, True, True, False]"
      ]
     },
     "execution_count": 7,
     "metadata": {},
     "output_type": "execute_result"
    }
   ],
   "source": [
    "list(map(controlString,nameList))\n",
    "\n",
    "# olay budur efendiler."
   ]
  },
  {
   "cell_type": "markdown",
   "id": "9f10e784",
   "metadata": {},
   "source": [
    "# filter"
   ]
  },
  {
   "cell_type": "code",
   "execution_count": 10,
   "id": "fb85fc22",
   "metadata": {},
   "outputs": [
    {
     "data": {
      "text/plain": [
       "['Ali', 'Ali Toker', 'Toker Ali']"
      ]
     },
     "execution_count": 10,
     "metadata": {},
     "output_type": "execute_result"
    }
   ],
   "source": [
    "# filterda bu map deki olayı alıyo ve filtreliyor.\n",
    "\n",
    "\n",
    " # filter(function, iterable)\n",
    " # function: Her bir elemana uygulanacak koşulu belirleyen bir fonksiyon.\n",
    "  # Bu fonksiyonun çıktısı True veya False olmalıdır.eğer olmassa filter çalışmaz.\n",
    "# iterable: Koşulun uygulanacağı veri yapısı (liste, demet, dize vb.).\n",
    "\n",
    "\n",
    "list(filter(controlString,nameList))\n",
    "\n",
    "# benim fonksiyonum ve listemin içindeki true ları yazdırdı diyebilirim.yani filtreliyor."
   ]
  },
  {
   "cell_type": "markdown",
   "id": "793976e5",
   "metadata": {},
   "source": [
    "# lambda"
   ]
  },
  {
   "cell_type": "markdown",
   "id": "b7965dea",
   "metadata": {},
   "source": [
    "lambda, adı olmayan (anonim) küçük fonksiyonlar oluşturmak için kullanılan bir Python ifadesidir. lambda fonksiyonları genellikle tek satırlık basit işlemleri ifade etmek için kullanılır. Lambda fonksiyonları, def anahtar kelimesi ile tanımlanan standart fonksiyonlara göre daha kısa bir sözdizimle ifade edilir.\n",
    "\n",
    "Lambda ifadesinin genel yapısı şu şekildedir:\n",
    "    \n",
    "\"lambda arguments: expression\"\n",
    "\n",
    "arguments: Lambda fonksiyonunun parametreleri.\n",
    "expression: Lambda fonksiyonunun dönüş değeri ifadesi."
   ]
  },
  {
   "cell_type": "code",
   "execution_count": 27,
   "id": "86fd3eec",
   "metadata": {},
   "outputs": [
    {
     "name": "stdout",
     "output_type": "stream",
     "text": [
      "8\n"
     ]
    }
   ],
   "source": [
    "# İki sayıyı toplayan lambda fonksiyonu\n",
    "add = lambda x,y : x + y\n",
    "\n",
    "result = add(3, 5)\n",
    "print(result)  # Çıktı: 8"
   ]
  },
  {
   "cell_type": "code",
   "execution_count": 11,
   "id": "3cb1665c",
   "metadata": {},
   "outputs": [
    {
     "name": "stdout",
     "output_type": "stream",
     "text": [
      "[1, 4, 9, 16, 25]\n"
     ]
    }
   ],
   "source": [
    "# Lambda fonksiyonları genellikle map, filter, sorted gibi yerleşik fonksiyonlarla\n",
    "# birlikte kullanılır. Örneğin, map fonksiyonuyla:\n",
    "\n",
    "numbers = [1, 2, 3, 4, 5]\n",
    "squared_numbers = map(lambda x: x**2, numbers)\n",
    "\n",
    "result = list(squared_numbers)\n",
    "print(result)  # Çıktı: [1, 4, 9, 16, 25]"
   ]
  },
  {
   "cell_type": "markdown",
   "id": "b651e922",
   "metadata": {},
   "source": [
    "zaten ben lambda yı heryerde kullanamam kullanacağım yerler kısıtlıdır.eğer kısa bir fonksiyon ifade ediyo isen orda kullanabilirsin anca."
   ]
  },
  {
   "cell_type": "markdown",
   "id": "f20f7720",
   "metadata": {},
   "source": [
    "# scope(kapsam)"
   ]
  },
  {
   "cell_type": "code",
   "execution_count": 12,
   "id": "cf903725",
   "metadata": {},
   "outputs": [],
   "source": [
    "# şimdi apayrı bir konu var.olay da şu\n",
    "\n",
    "x = 20 \n",
    "\n",
    "def multiply(number):\n",
    "    x = 5\n",
    "    return number * x"
   ]
  },
  {
   "cell_type": "code",
   "execution_count": 13,
   "id": "1d3902f3",
   "metadata": {},
   "outputs": [
    {
     "data": {
      "text/plain": [
       "50"
      ]
     },
     "execution_count": 13,
     "metadata": {},
     "output_type": "execute_result"
    }
   ],
   "source": [
    "multiply(10)"
   ]
  },
  {
   "cell_type": "code",
   "execution_count": 14,
   "id": "c881cd63",
   "metadata": {},
   "outputs": [
    {
     "name": "stdout",
     "output_type": "stream",
     "text": [
      "20\n"
     ]
    }
   ],
   "source": [
    "print(x)"
   ]
  },
  {
   "cell_type": "raw",
   "id": "8a4747ca",
   "metadata": {},
   "source": [
    "Burda bir gariplik var benim x değerim dışarda 20 ama fonksiyonun içersinde 5 \n",
    "işte burda scope yani kapsam terimi ortaya çıkıyor.\n",
    "\n",
    "x = 20 \n",
    "\n",
    "def multiply(number):\n",
    "    x = 5\n",
    "    return number * x\n",
    "    \n",
    "burda fonsiyonun içinde bulunan x fonksiyonun içinde kalır yani fonksiyon x'i kapsar.\n"
   ]
  },
  {
   "cell_type": "code",
   "execution_count": 16,
   "id": "fb018477",
   "metadata": {},
   "outputs": [],
   "source": [
    "y = 20 \n",
    "\n",
    "def multiply2(number):\n",
    "    y = 5\n",
    "    return number * y\n",
    "\n",
    "y = 15\n",
    "\n",
    "# aslında burası bir öncelik meselesi işlem önceliğine benzetebilirsin burayı onun gibi"
   ]
  },
  {
   "cell_type": "code",
   "execution_count": 17,
   "id": "e5afbe3e",
   "metadata": {},
   "outputs": [
    {
     "data": {
      "text/plain": [
       "15"
      ]
     },
     "execution_count": 17,
     "metadata": {},
     "output_type": "execute_result"
    }
   ],
   "source": [
    "y"
   ]
  },
  {
   "cell_type": "code",
   "execution_count": 18,
   "id": "31f4aeaa",
   "metadata": {},
   "outputs": [
    {
     "data": {
      "text/plain": [
       "50"
      ]
     },
     "execution_count": 18,
     "metadata": {},
     "output_type": "execute_result"
    }
   ],
   "source": [
    "multiply2(10)\n",
    "# bakın hala benim fonksiyonumun içersindeki değer y=5 olarak kaldı."
   ]
  },
  {
   "cell_type": "code",
   "execution_count": 36,
   "id": "1d9aaf3d",
   "metadata": {},
   "outputs": [],
   "source": [
    "z = 20 \n",
    "\n",
    "def multiply3(number):\n",
    "    return number * z\n",
    "\n",
    "# burdada benim z değerimi dışardan aldı heeh benim sorumd şu neye göre bu değişkenlerin sıralamasını\n",
    "# seçiyor.\n",
    "# işte seçme sırası   LEGB YE GÖRE"
   ]
  },
  {
   "cell_type": "markdown",
   "id": "a20d172c",
   "metadata": {},
   "source": [
    "# LEGB   L->Local, E->Enclosing, G->Global, B->Built-in"
   ]
  },
  {
   "cell_type": "code",
   "execution_count": 21,
   "id": "f86ef8fc",
   "metadata": {},
   "outputs": [],
   "source": [
    "myString = \"Ali\"\n",
    "#Global\n",
    "\n",
    "def myFuction():\n",
    "    #Enclosing\n",
    "    myString = \"Ali2\"\n",
    "    \n",
    "    def myFuction2():\n",
    "        #Local\n",
    "        myString = \"Ali3\"\n",
    "        print(myString)\n",
    "        \n",
    "    print(myString)\n",
    "    myFuction2()"
   ]
  },
  {
   "cell_type": "code",
   "execution_count": 22,
   "id": "41f23b47",
   "metadata": {},
   "outputs": [
    {
     "data": {
      "text/plain": [
       "'Ali'"
      ]
     },
     "execution_count": 22,
     "metadata": {},
     "output_type": "execute_result"
    }
   ],
   "source": [
    "myString"
   ]
  },
  {
   "cell_type": "code",
   "execution_count": 23,
   "id": "33da1dd3",
   "metadata": {},
   "outputs": [
    {
     "name": "stdout",
     "output_type": "stream",
     "text": [
      "Ali2\n",
      "Ali3\n"
     ]
    }
   ],
   "source": [
    "myFuction()"
   ]
  },
  {
   "cell_type": "code",
   "execution_count": 24,
   "id": "bdaf94e8",
   "metadata": {},
   "outputs": [
    {
     "ename": "NameError",
     "evalue": "name 'myFuction2' is not defined",
     "output_type": "error",
     "traceback": [
      "\u001b[1;31m---------------------------------------------------------------------------\u001b[0m",
      "\u001b[1;31mNameError\u001b[0m                                 Traceback (most recent call last)",
      "Cell \u001b[1;32mIn[24], line 1\u001b[0m\n\u001b[1;32m----> 1\u001b[0m myFuction2\n",
      "\u001b[1;31mNameError\u001b[0m: name 'myFuction2' is not defined"
     ]
    }
   ],
   "source": [
    "myFuction2\n",
    "# zaten bu fonksiyonu benim direkt olarak çalıştırmam imkansız çünkü bunun çalışabilmesi için \n",
    "# myFuction fonksiyonumun çalışması lazım bu şart."
   ]
  },
  {
   "cell_type": "raw",
   "id": "2fc72b6a",
   "metadata": {},
   "source": [
    "Değişken ismim benim sırası ile kendini tutar.mesela bir örnek daha verelim:"
   ]
  },
  {
   "cell_type": "code",
   "execution_count": 25,
   "id": "a3d12064",
   "metadata": {},
   "outputs": [],
   "source": [
    "def test1():\n",
    "    myX = 10\n",
    "    print(myX*2)\n",
    "\n",
    "def test2():\n",
    "    print(myX*3)"
   ]
  },
  {
   "cell_type": "code",
   "execution_count": 26,
   "id": "2e77380f",
   "metadata": {},
   "outputs": [
    {
     "name": "stdout",
     "output_type": "stream",
     "text": [
      "20\n"
     ]
    }
   ],
   "source": [
    "test1()         # test1'in çalışması gerekicektir zaten."
   ]
  },
  {
   "cell_type": "code",
   "execution_count": 52,
   "id": "8681a498",
   "metadata": {},
   "outputs": [
    {
     "ename": "NameError",
     "evalue": "name 'myX' is not defined",
     "output_type": "error",
     "traceback": [
      "\u001b[1;31m---------------------------------------------------------------------------\u001b[0m",
      "\u001b[1;31mNameError\u001b[0m                                 Traceback (most recent call last)",
      "Cell \u001b[1;32mIn[52], line 1\u001b[0m\n\u001b[1;32m----> 1\u001b[0m test2()\n",
      "Cell \u001b[1;32mIn[50], line 6\u001b[0m, in \u001b[0;36mtest2\u001b[1;34m()\u001b[0m\n\u001b[0;32m      5\u001b[0m \u001b[38;5;28;01mdef\u001b[39;00m \u001b[38;5;21mtest2\u001b[39m():\n\u001b[1;32m----> 6\u001b[0m     \u001b[38;5;28mprint\u001b[39m(myX\u001b[38;5;241m*\u001b[39m\u001b[38;5;241m3\u001b[39m)\n",
      "\u001b[1;31mNameError\u001b[0m: name 'myX' is not defined"
     ]
    }
   ],
   "source": [
    "test2()\n",
    "# ben zaten bunun çalışmasını bekleyemem.çünkü benim 'myX' değişkenim test1'e ait bir değişken\n",
    "# ya içerde tanımlı olması gerekiyor yada global de tanımlı olması gerekiyor.test1\"de olan tanımlama\n",
    "# beni zerre ilgilendirmez."
   ]
  },
  {
   "cell_type": "code",
   "execution_count": 27,
   "id": "16263626",
   "metadata": {},
   "outputs": [],
   "source": [
    "myX = 10\n",
    "def test1():\n",
    "    print(myX*2)\n",
    "\n",
    "def test2():\n",
    "    print(myX*3)"
   ]
  },
  {
   "cell_type": "code",
   "execution_count": 28,
   "id": "b8abd42f",
   "metadata": {},
   "outputs": [
    {
     "name": "stdout",
     "output_type": "stream",
     "text": [
      "20\n"
     ]
    }
   ],
   "source": [
    "test1()"
   ]
  },
  {
   "cell_type": "code",
   "execution_count": 29,
   "id": "672e6a44",
   "metadata": {},
   "outputs": [
    {
     "name": "stdout",
     "output_type": "stream",
     "text": [
      "30\n"
     ]
    }
   ],
   "source": [
    "test2()\n",
    "\n",
    "# işte bu zaman benim test1 de test2 de çalışmasında bir problem olmuyacaktır.Kapsam konusu bu yüzden \n",
    "# bizim için çok önemli."
   ]
  },
  {
   "cell_type": "code",
   "execution_count": 30,
   "id": "b8ddabdf",
   "metadata": {},
   "outputs": [],
   "source": [
    "y = 10\n",
    "\n",
    "def newFuntion(y):\n",
    "    print(y)\n",
    "    y = 5\n",
    "    print(y)\n",
    "    return y"
   ]
  },
  {
   "cell_type": "code",
   "execution_count": 31,
   "id": "17d18e6c",
   "metadata": {},
   "outputs": [
    {
     "name": "stdout",
     "output_type": "stream",
     "text": [
      "10\n",
      "5\n"
     ]
    },
    {
     "data": {
      "text/plain": [
       "5"
      ]
     },
     "execution_count": 31,
     "metadata": {},
     "output_type": "execute_result"
    }
   ],
   "source": [
    "# yukardaki verdiğim kodlar hakkında biraz düşünmek lazım.\n",
    "\n",
    "newFuntion(10)"
   ]
  },
  {
   "cell_type": "code",
   "execution_count": 32,
   "id": "cc485bed",
   "metadata": {},
   "outputs": [
    {
     "name": "stdout",
     "output_type": "stream",
     "text": [
      "12\n",
      "5\n"
     ]
    },
    {
     "data": {
      "text/plain": [
       "5"
      ]
     },
     "execution_count": 32,
     "metadata": {},
     "output_type": "execute_result"
    }
   ],
   "source": [
    "newFuntion(12)\n",
    "\n",
    "# benim fonksiyonumun içindeki y ile dışardaki y çok farklı."
   ]
  },
  {
   "cell_type": "code",
   "execution_count": 59,
   "id": "62470bf3",
   "metadata": {},
   "outputs": [
    {
     "data": {
      "text/plain": [
       "10"
      ]
     },
     "execution_count": 59,
     "metadata": {},
     "output_type": "execute_result"
    }
   ],
   "source": [
    "y"
   ]
  },
  {
   "cell_type": "code",
   "execution_count": 63,
   "id": "ee943716",
   "metadata": {},
   "outputs": [
    {
     "name": "stdout",
     "output_type": "stream",
     "text": [
      "2\n",
      "5\n"
     ]
    },
    {
     "data": {
      "text/plain": [
       "5"
      ]
     },
     "execution_count": 63,
     "metadata": {},
     "output_type": "execute_result"
    }
   ],
   "source": [
    "newFuntion(2)"
   ]
  },
  {
   "cell_type": "code",
   "execution_count": 64,
   "id": "440159d0",
   "metadata": {},
   "outputs": [],
   "source": [
    "# peki ben bir fonksiyon yazıcam ve yazmış olduğum olduğum bu fonksiyon globaldeki y değerini\n",
    "# değiştirecek."
   ]
  },
  {
   "cell_type": "code",
   "execution_count": 38,
   "id": "6f7521ad",
   "metadata": {},
   "outputs": [],
   "source": [
    "y = 10\n",
    "\n",
    "def changeY():\n",
    "    global y       # bu satırda şunu demeye çalışıyo globaldeki 'y' değerini çektim ben kodun tamamen\n",
    "    print(y)       # bittiğinde olan y değeri yani.\n",
    "y = 12\n",
    "\n",
    "# bu arada ben ne enclosing local değerleri alamıyorum bu global olayı sadece globale özel bir \n",
    "# durum."
   ]
  },
  {
   "cell_type": "code",
   "execution_count": 39,
   "id": "b6c3ea70",
   "metadata": {},
   "outputs": [
    {
     "data": {
      "text/plain": [
       "12"
      ]
     },
     "execution_count": 39,
     "metadata": {},
     "output_type": "execute_result"
    }
   ],
   "source": [
    "y"
   ]
  },
  {
   "cell_type": "code",
   "execution_count": 40,
   "id": "9316a71a",
   "metadata": {},
   "outputs": [
    {
     "name": "stdout",
     "output_type": "stream",
     "text": [
      "12\n"
     ]
    }
   ],
   "source": [
    "changeY()"
   ]
  },
  {
   "cell_type": "code",
   "execution_count": 41,
   "id": "48daa8de",
   "metadata": {},
   "outputs": [
    {
     "data": {
      "text/plain": [
       "12"
      ]
     },
     "execution_count": 41,
     "metadata": {},
     "output_type": "execute_result"
    }
   ],
   "source": [
    "y"
   ]
  },
  {
   "cell_type": "code",
   "execution_count": null,
   "id": "fd8f5f79",
   "metadata": {},
   "outputs": [],
   "source": []
  }
 ],
 "metadata": {
  "kernelspec": {
   "display_name": "Python 3 (ipykernel)",
   "language": "python",
   "name": "python3"
  },
  "language_info": {
   "codemirror_mode": {
    "name": "ipython",
    "version": 3
   },
   "file_extension": ".py",
   "mimetype": "text/x-python",
   "name": "python",
   "nbconvert_exporter": "python",
   "pygments_lexer": "ipython3",
   "version": "3.11.3"
  }
 },
 "nbformat": 4,
 "nbformat_minor": 5
}
