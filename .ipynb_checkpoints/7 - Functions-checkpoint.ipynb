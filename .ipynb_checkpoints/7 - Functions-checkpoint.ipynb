{
 "cells": [
  {
   "cell_type": "raw",
   "id": "9c700c4c",
   "metadata": {},
   "source": [
    "Biz method ve fonsksiyon kelimelerini önceden duymuştuk.Aralarında nerdeyse pek fark yok.Sınıfların içersindeki fonksiyonlara method denir.\n",
    "Ama sınıf olmadan bir fonksiyon olabilir.sınıf olmadan bir method olmaz.aralarındaki fark budur."
   ]
  },
  {
   "cell_type": "code",
   "execution_count": 2,
   "id": "2a1ef9bb",
   "metadata": {},
   "outputs": [],
   "source": [
    "# ben bir fonsksiyon kullandığımda onun genelikle temelli bir değişiklik yapmam.\n",
    "\n",
    "myName = \"Ali Toker\""
   ]
  },
  {
   "cell_type": "code",
   "execution_count": 3,
   "id": "e7969ff6",
   "metadata": {},
   "outputs": [
    {
     "data": {
      "text/plain": [
       "'ALI TOKER'"
      ]
     },
     "execution_count": 3,
     "metadata": {},
     "output_type": "execute_result"
    }
   ],
   "source": [
    "myName.upper()         # sadece o an değiştirdi yani temeeli değiştirmedi."
   ]
  },
  {
   "cell_type": "markdown",
   "id": "b24ef861",
   "metadata": {},
   "source": [
    "myName = \"Ali Toker\"\n",
    "myName.upper()  \n",
    "burda benim \"myName\" değişkenim temelli değişmedi sadece fonksiyonu kullandığım vakit bir değişiklik oldu fonksiyonların tamamı değişkenleri temelli değiştirmez desem bu doğru olur mu ? \n",
    "\n",
    "\n",
    "Evet, doğru bir ifade. Çoğu Python string metodunun (fonksiyonunun) temel bir özelliği, bu metodun orijinal string üzerinde değişiklik yapmamasıdır. Yani, bir string metodu çağrıldığında, bu metodun sonucu yeni bir string oluşturur ve orijinal string değişmez.\n",
    "\n",
    "Bu, \"myName.upper()\" örneğinde olduğu gibi. \"upper\" metodu, stringin tüm karakterlerini büyük harfe dönüştürerek yeni bir string oluşturur, ancak orijinal stringi değiştirmez. Bu nedenle, \"myName\" değişkeni aynı kalır:\n",
    "\n",
    "Bu davranış, stringlerin Python'daki \"immutable\" (değişmez) veri tiplerinden biri olduğu gerçeğiyle ilgilidir. Diğer birçok string metodu da aynı şekilde çalışır; orijinal stringi değiştirmez, sadece yeni bir string döndürür.Bu stringler için geçerlidir yani bir listeyi değiştiren fonksiyon görebilirsin fakat string değiştiren fonksiyon göremessin."
   ]
  },
  {
   "cell_type": "code",
   "execution_count": 5,
   "id": "65c61b06",
   "metadata": {},
   "outputs": [
    {
     "data": {
      "text/plain": [
       "'Ali Toker'"
      ]
     },
     "execution_count": 5,
     "metadata": {},
     "output_type": "execute_result"
    }
   ],
   "source": [
    "myName"
   ]
  },
  {
   "cell_type": "code",
   "execution_count": 6,
   "id": "0e3fc893",
   "metadata": {},
   "outputs": [],
   "source": [
    "# ben temelli değişiklik yapmam gerekirse bir değişkene eşitleyebilirim.\n",
    "\n",
    "myNameUpper = myName.upper()"
   ]
  },
  {
   "cell_type": "code",
   "execution_count": 7,
   "id": "7f97e35a",
   "metadata": {},
   "outputs": [
    {
     "data": {
      "text/plain": [
       "'ALI TOKER'"
      ]
     },
     "execution_count": 7,
     "metadata": {},
     "output_type": "execute_result"
    }
   ],
   "source": [
    "myNameUpper"
   ]
  },
  {
   "cell_type": "raw",
   "id": "952d299c",
   "metadata": {},
   "source": [
    "gelelim şimdi kendi fonksiyonumuzu yazmaya."
   ]
  },
  {
   "cell_type": "code",
   "execution_count": 10,
   "id": "120bf5b5",
   "metadata": {},
   "outputs": [],
   "source": [
    "def writename():\n",
    "    name = input(\"Enter your name:\")\n",
    "    print(f\"{name}\")"
   ]
  },
  {
   "cell_type": "code",
   "execution_count": 11,
   "id": "58d30366",
   "metadata": {},
   "outputs": [
    {
     "data": {
      "text/plain": [
       "<function __main__.writename()>"
      ]
     },
     "execution_count": 11,
     "metadata": {},
     "output_type": "execute_result"
    }
   ],
   "source": [
    "writename              # burda writename adında bir fonksiyon var diyor.ben bunu kaydettim diyor.,"
   ]
  },
  {
   "cell_type": "code",
   "execution_count": 12,
   "id": "50b03924",
   "metadata": {},
   "outputs": [
    {
     "name": "stdout",
     "output_type": "stream",
     "text": [
      "Enter your name:Numan Şamil Elitok\n",
      "Numan Şamil Elitok\n"
     ]
    }
   ],
   "source": [
    "writename()"
   ]
  },
  {
   "cell_type": "raw",
   "id": "928889bc",
   "metadata": {},
   "source": [
    "Bir kere fonksiyonlar çok kullanışlı olabilir atıyorum ben bir projede 20 defa aynı şeyi yazcaksam\n",
    "20 defa copy pas yapmam çok saçma ben burda bir fonsksiyon oluştururm istediğim yerde kullanırım istemediğim yerde kullanmam bir değişiklik yapmak istersem yaparım.bu özellik oldukça mantıklıdır."
   ]
  },
  {
   "cell_type": "code",
   "execution_count": 17,
   "id": "e6258a00",
   "metadata": {},
   "outputs": [],
   "source": [
    "# benim fonksiyonlarım inputlu da olabilir.\n",
    "\n",
    "def helloNAME(name):\n",
    "    print(f\"hello {name}\")\n",
    "    "
   ]
  },
  {
   "cell_type": "code",
   "execution_count": 16,
   "id": "c627cbf8",
   "metadata": {},
   "outputs": [
    {
     "ename": "TypeError",
     "evalue": "helloNAME() missing 1 required positional argument: 'name'",
     "output_type": "error",
     "traceback": [
      "\u001b[1;31m---------------------------------------------------------------------------\u001b[0m",
      "\u001b[1;31mTypeError\u001b[0m                                 Traceback (most recent call last)",
      "Cell \u001b[1;32mIn[16], line 1\u001b[0m\n\u001b[1;32m----> 1\u001b[0m helloNAME()\n",
      "\u001b[1;31mTypeError\u001b[0m: helloNAME() missing 1 required positional argument: 'name'"
     ]
    }
   ],
   "source": [
    "helloNAME()\n",
    "# bakın bir argumanın eksik olduğunu söylüyor ben eğer argumanlı(inputlu)\n",
    "# bir fonksiyon yazdı isem o zaman \n",
    "# argumanın değerinide doldurmam gerek."
   ]
  },
  {
   "cell_type": "code",
   "execution_count": 18,
   "id": "eddb7d96",
   "metadata": {},
   "outputs": [
    {
     "name": "stdout",
     "output_type": "stream",
     "text": [
      "hello Ali\n"
     ]
    }
   ],
   "source": [
    "helloNAME(\"Ali\")"
   ]
  },
  {
   "cell_type": "code",
   "execution_count": 19,
   "id": "fca1145b",
   "metadata": {},
   "outputs": [
    {
     "name": "stdout",
     "output_type": "stream",
     "text": [
      "hello Abdurrrahman\n"
     ]
    }
   ],
   "source": [
    "helloNAME(\"Abdurrrahman\")"
   ]
  },
  {
   "cell_type": "code",
   "execution_count": 20,
   "id": "cb4a959c",
   "metadata": {},
   "outputs": [
    {
     "name": "stdout",
     "output_type": "stream",
     "text": [
      "hello Selçuk\n"
     ]
    }
   ],
   "source": [
    "helloNAME(\"Selçuk\")"
   ]
  },
  {
   "cell_type": "code",
   "execution_count": 27,
   "id": "f40bb9fb",
   "metadata": {},
   "outputs": [
    {
     "name": "stdout",
     "output_type": "stream",
     "text": [
      "Hello, World!\n",
      "None\n"
     ]
    }
   ],
   "source": [
    "# şimdi sana bir soru sorcam print ve return arasındaki fark nedir abi bunu bana detaylı\n",
    "# bir şekilde anlat ?\n",
    "\n",
    "# print ifadesi, ekrana çıktı vermek için kullanılır. Ancak, bir fonksiyonun sonucu olarak\n",
    "# kullanılmaz. Sadece ekrana bir şey yazdırır, başka bir değişkenin değeri olarak kullanılamaz.\n",
    "\n",
    "def print_example():\n",
    "    print(\"Hello, World!\")\n",
    "\n",
    "result = print_example()\n",
    "print(result)\n",
    "\n",
    "# return ifadesi, bir fonksiyonun çalışması sırasında bir değeri dışarıya döndürmek için \n",
    "# kullanılır. Bu değer, bir değişkene atanabilir veya bir başka ifade içinde kullanılabilir."
   ]
  },
  {
   "cell_type": "code",
   "execution_count": 30,
   "id": "af40c5d2",
   "metadata": {},
   "outputs": [],
   "source": [
    "def sumExmaple(num1,num2):\n",
    "    print(num1 + num2)\n",
    "\n",
    "# zaten burdaki toplama işlemini yapan adam pythondur bu toplamı bize gösteren printtir.yani print\n",
    "# bize çıktı çıkartıyor."
   ]
  },
  {
   "cell_type": "code",
   "execution_count": 31,
   "id": "c7682d88",
   "metadata": {},
   "outputs": [
    {
     "name": "stdout",
     "output_type": "stream",
     "text": [
      "68\n"
     ]
    }
   ],
   "source": [
    "sumExmaple(23,45)"
   ]
  },
  {
   "cell_type": "code",
   "execution_count": 35,
   "id": "61b2a833",
   "metadata": {},
   "outputs": [],
   "source": [
    "def sumExmaple1(num1,num2):\n",
    "    num3 = num1 + num2\n",
    "    print(num3)"
   ]
  },
  {
   "cell_type": "code",
   "execution_count": 38,
   "id": "05a484aa",
   "metadata": {},
   "outputs": [
    {
     "name": "stdout",
     "output_type": "stream",
     "text": [
      "22\n"
     ]
    }
   ],
   "source": [
    "sumExmaple1(12,10)"
   ]
  },
  {
   "cell_type": "code",
   "execution_count": 39,
   "id": "b04c833c",
   "metadata": {},
   "outputs": [],
   "source": [
    "def sumExmaple2(num1,num2):           # buraya istediğin kadar parametre yazabilirsin farketmez.\n",
    "    num3 = num1 + num2\n",
    "    return num3"
   ]
  },
  {
   "cell_type": "code",
   "execution_count": 40,
   "id": "3f45eeca",
   "metadata": {},
   "outputs": [
    {
     "data": {
      "text/plain": [
       "124"
      ]
     },
     "execution_count": 40,
     "metadata": {},
     "output_type": "execute_result"
    }
   ],
   "source": [
    "sumExmaple2(34,90)"
   ]
  },
  {
   "cell_type": "code",
   "execution_count": 18,
   "id": "b44e8292",
   "metadata": {},
   "outputs": [
    {
     "ename": "TypeError",
     "evalue": "helloNAME() missing 1 required positional argument: 'name'",
     "output_type": "error",
     "traceback": [
      "\u001b[1;31m---------------------------------------------------------------------------\u001b[0m",
      "\u001b[1;31mTypeError\u001b[0m                                 Traceback (most recent call last)",
      "Cell \u001b[1;32mIn[18], line 4\u001b[0m\n\u001b[0;32m      1\u001b[0m \u001b[38;5;66;03m# mesala ben yazmış olduğum kodda inputlu yaptığım taktirde onu yazmak zorundaydım fakat onu ben\u001b[39;00m\n\u001b[0;32m      2\u001b[0m \u001b[38;5;66;03m# zorunlu yapmayadabilirim.Default bir değer vererek de tasarlayabilirim.\u001b[39;00m\n\u001b[1;32m----> 4\u001b[0m helloNAME()\n",
      "\u001b[1;31mTypeError\u001b[0m: helloNAME() missing 1 required positional argument: 'name'"
     ]
    }
   ],
   "source": [
    "# mesala ben yazmış olduğum kodda inputlu yaptığım taktirde onu yazmak zorundaydım fakat onu ben\n",
    "# zorunlu yapmayadabilirim.Default bir değer vererek de tasarlayabilirim.\n",
    "\n",
    "helloNAME()"
   ]
  },
  {
   "cell_type": "code",
   "execution_count": 41,
   "id": "581fa1f5",
   "metadata": {},
   "outputs": [],
   "source": [
    "def helloSurname(soyad=\"Toker\"):          # ben burda default değeerimi belirledim.\n",
    "    print(f\"hello {soyad}\")\n",
    "    "
   ]
  },
  {
   "cell_type": "code",
   "execution_count": 42,
   "id": "0aba1730",
   "metadata": {},
   "outputs": [
    {
     "name": "stdout",
     "output_type": "stream",
     "text": [
      "hello vendy\n"
     ]
    }
   ],
   "source": [
    "helloSurname(\"vendy\")"
   ]
  },
  {
   "cell_type": "code",
   "execution_count": 43,
   "id": "b5ea1326",
   "metadata": {},
   "outputs": [
    {
     "name": "stdout",
     "output_type": "stream",
     "text": [
      "hello Toker\n"
     ]
    }
   ],
   "source": [
    "helloSurname()\n",
    "# boş bıraktığım anda default olarak belirlediğim değeri alır."
   ]
  },
  {
   "cell_type": "raw",
   "id": "a5c5cb58",
   "metadata": {},
   "source": [
    "Şimdide ben fonksiyonlarda döndürmek(return) denen şeyin ne olduğunu anlamak istiyorum."
   ]
  },
  {
   "cell_type": "code",
   "execution_count": 45,
   "id": "40eb8d5f",
   "metadata": {},
   "outputs": [],
   "source": [
    "def summation(num1,num2,num3):\n",
    "    print(num1 + num2 + num3)\n",
    "# bu sayıları aldı topladı ve yazdırdı.sadece yazdırdı."
   ]
  },
  {
   "cell_type": "code",
   "execution_count": 48,
   "id": "198ab0c4",
   "metadata": {},
   "outputs": [
    {
     "name": "stdout",
     "output_type": "stream",
     "text": [
      "20\n"
     ]
    }
   ],
   "source": [
    "summation(10,2,8)"
   ]
  },
  {
   "cell_type": "code",
   "execution_count": 49,
   "id": "18c3bffe",
   "metadata": {},
   "outputs": [
    {
     "name": "stdout",
     "output_type": "stream",
     "text": [
      "20\n"
     ]
    }
   ],
   "source": [
    "x = summation(10,2,8)"
   ]
  },
  {
   "cell_type": "code",
   "execution_count": 25,
   "id": "18e9e8d7",
   "metadata": {},
   "outputs": [],
   "source": [
    "x"
   ]
  },
  {
   "cell_type": "code",
   "execution_count": 26,
   "id": "e73c1966",
   "metadata": {},
   "outputs": [
    {
     "name": "stdout",
     "output_type": "stream",
     "text": [
      "None\n"
     ]
    }
   ],
   "source": [
    "print(x)"
   ]
  },
  {
   "cell_type": "code",
   "execution_count": 27,
   "id": "5bb62cb9",
   "metadata": {},
   "outputs": [
    {
     "data": {
      "text/plain": [
       "NoneType"
      ]
     },
     "execution_count": 27,
     "metadata": {},
     "output_type": "execute_result"
    }
   ],
   "source": [
    "type(x)"
   ]
  },
  {
   "cell_type": "code",
   "execution_count": 51,
   "id": "9205b22b",
   "metadata": {},
   "outputs": [],
   "source": [
    "def return_summation(num1,num2,num3):\n",
    "    return num1 + num2 + num3\n",
    "# return döndürmek demektir ve aynı zamanda parantez kullanmassın."
   ]
  },
  {
   "cell_type": "code",
   "execution_count": 52,
   "id": "6fe37a55",
   "metadata": {},
   "outputs": [
    {
     "data": {
      "text/plain": [
       "20"
      ]
     },
     "execution_count": 52,
     "metadata": {},
     "output_type": "execute_result"
    }
   ],
   "source": [
    "return_summation(10,2,8)"
   ]
  },
  {
   "cell_type": "code",
   "execution_count": 53,
   "id": "c6a02ea6",
   "metadata": {},
   "outputs": [],
   "source": [
    "y = return_summation(10,2,8)"
   ]
  },
  {
   "cell_type": "code",
   "execution_count": 54,
   "id": "f033de1d",
   "metadata": {},
   "outputs": [
    {
     "data": {
      "text/plain": [
       "20"
      ]
     },
     "execution_count": 54,
     "metadata": {},
     "output_type": "execute_result"
    }
   ],
   "source": [
    "y"
   ]
  },
  {
   "cell_type": "code",
   "execution_count": 55,
   "id": "123966ea",
   "metadata": {},
   "outputs": [
    {
     "data": {
      "text/plain": [
       "int"
      ]
     },
     "execution_count": 55,
     "metadata": {},
     "output_type": "execute_result"
    }
   ],
   "source": [
    "type(y)"
   ]
  },
  {
   "cell_type": "code",
   "execution_count": 57,
   "id": "d7ef6afa",
   "metadata": {},
   "outputs": [
    {
     "name": "stdout",
     "output_type": "stream",
     "text": [
      "Hello, World!\n",
      "Hello, World!\n",
      "None\n"
     ]
    }
   ],
   "source": [
    "def print_example():\n",
    "    print(\"Hello, World!\")\n",
    "\n",
    "# Fonksiyonu çağıralım\n",
    "print_example()  # Hello, World!\n",
    "\n",
    "# Ancak, fonksiyonun sonucunu bir değişkene atayamayız\n",
    "result = print_example()  # None\n",
    "print(result)  # None\n",
    "\n",
    "# print_example fonksiyonu, \"Hello, World!\" yazısını ekrana yazdırır, ancak fonksiyonun geriye\n",
    "# döndürdüğü bir değer yoktur (veya None döner). Bu nedenle, print_example() ifadesi doğrudan \n",
    "# ekrana yazdırır, ancak result değişkenine bir değer atanmaz."
   ]
  },
  {
   "cell_type": "code",
   "execution_count": 58,
   "id": "95b7b884",
   "metadata": {},
   "outputs": [
    {
     "name": "stdout",
     "output_type": "stream",
     "text": [
      "Hello, World!\n"
     ]
    }
   ],
   "source": [
    "def return_example():\n",
    "    return \"Hello, World!\"\n",
    "\n",
    "# Fonksiyonu çağıralım\n",
    "result = return_example()\n",
    "print(result)  # Hello, World!\n",
    "\n",
    "# Fonksiyonun sonucunu bir değişkene atayabiliriz\n",
    "\n",
    "# return_example fonksiyonu, \"Hello, World!\" stringini geriye döndürür. Bu nedenle, fonksiyonu \n",
    "# çağırdığımızda bu değeri result değişkenine atayabiliriz ve bu değişkeni başka yerlerde \n",
    "# kullanabiliriz.\n",
    "\n",
    "# Sonuç olarak, print fonksiyonu sadece ekrana çıktı verir, return ifadesi\n",
    "# ise bir fonksiyonun sonucunu döndürür ve bu sonucu değişkenlere atayabiliriz."
   ]
  },
  {
   "cell_type": "code",
   "execution_count": null,
   "id": "14e44d24",
   "metadata": {},
   "outputs": [],
   "source": []
  },
  {
   "cell_type": "raw",
   "id": "512e78f2",
   "metadata": {},
   "source": [
    " bir fonksiyonda return çalıştıktan sonra o fonksiyonun işi biter daha çalışmaz.\n",
    " yani sen ne yazzcaksan return dan önce yazmalısın.\n",
    " \n",
    " Bide ilerde çok fazla karşımıza çıkmayacak ama yine bilmemiz gereken 2 sey var:\n",
    " args(arguments) , kwargs(key word arguments)\n",
    " \n",
    " Ben istedğim kadar arguman yani input alacaksam o zaman args'ı kullanabilirm"
   ]
  },
  {
   "cell_type": "code",
   "execution_count": 59,
   "id": "ec444bfe",
   "metadata": {},
   "outputs": [],
   "source": [
    "def argswithsum(*args):      # istediğim kadar ben buraya parametre yazabiliyorum farketmez. \n",
    "    return sum(args)"
   ]
  },
  {
   "cell_type": "code",
   "execution_count": 60,
   "id": "acfd6b7a",
   "metadata": {},
   "outputs": [
    {
     "data": {
      "text/plain": [
       "210"
      ]
     },
     "execution_count": 60,
     "metadata": {},
     "output_type": "execute_result"
    }
   ],
   "source": [
    "argswithsum(10,20,30,40,50,60)"
   ]
  },
  {
   "cell_type": "code",
   "execution_count": 61,
   "id": "23b270c1",
   "metadata": {},
   "outputs": [
    {
     "data": {
      "text/plain": [
       "45"
      ]
     },
     "execution_count": 61,
     "metadata": {},
     "output_type": "execute_result"
    }
   ],
   "source": [
    "argswithsum(1,2,3,4,5,6,7,8,9)"
   ]
  },
  {
   "cell_type": "code",
   "execution_count": 62,
   "id": "7eca2bae",
   "metadata": {},
   "outputs": [
    {
     "data": {
      "text/plain": [
       "6"
      ]
     },
     "execution_count": 62,
     "metadata": {},
     "output_type": "execute_result"
    }
   ],
   "source": [
    "argswithsum(1,2,3)"
   ]
  },
  {
   "cell_type": "code",
   "execution_count": 64,
   "id": "d7cc55ae",
   "metadata": {},
   "outputs": [],
   "source": [
    "def argswithsum2(*args):       #bu tarz durumlarda yada sayısı belli olmayan input durumlarında\n",
    "    print(args)                #ben bunu kullanıyorum."
   ]
  },
  {
   "cell_type": "code",
   "execution_count": 65,
   "id": "20b478d2",
   "metadata": {},
   "outputs": [
    {
     "name": "stdout",
     "output_type": "stream",
     "text": [
      "(1, 2, 3, 4, 5, 6, 7, 8)\n"
     ]
    }
   ],
   "source": [
    "argswithsum2(1,2,3,4,5,6,7,8,)"
   ]
  },
  {
   "cell_type": "raw",
   "id": "b18b62d9",
   "metadata": {},
   "source": [
    "Gelelim şimdi kwargs'a aslında bu bizim için bir dictionary oluşturuyor diyebilirim.\n",
    "bunun ilerde nerde kullanıcağımıza dair daha iyi anlıycağız.\n",
    "\n",
    "aslında mantığı şu şekilde işliyo ben eğer sözlük içeren bir fonksiyon yapmak istersem işte o zaman \n",
    "**kwargs kullanıcam."
   ]
  },
  {
   "cell_type": "code",
   "execution_count": 63,
   "id": "2096f817",
   "metadata": {},
   "outputs": [],
   "source": [
    "def kwargsExpample(**kwargs):\n",
    "    print(kwargs)"
   ]
  },
  {
   "cell_type": "code",
   "execution_count": 52,
   "id": "b456bc11",
   "metadata": {},
   "outputs": [
    {
     "name": "stdout",
     "output_type": "stream",
     "text": [
      "{'apple': 100, 'melon': 150, 'banana': 200}\n"
     ]
    }
   ],
   "source": [
    "kwargsExpample(apple = 100 , melon = 150 , banana = 200)"
   ]
  }
 ],
 "metadata": {
  "kernelspec": {
   "display_name": "Python 3 (ipykernel)",
   "language": "python",
   "name": "python3"
  },
  "language_info": {
   "codemirror_mode": {
    "name": "ipython",
    "version": 3
   },
   "file_extension": ".py",
   "mimetype": "text/x-python",
   "name": "python",
   "nbconvert_exporter": "python",
   "pygments_lexer": "ipython3",
   "version": "3.11.3"
  }
 },
 "nbformat": 4,
 "nbformat_minor": 5
}
