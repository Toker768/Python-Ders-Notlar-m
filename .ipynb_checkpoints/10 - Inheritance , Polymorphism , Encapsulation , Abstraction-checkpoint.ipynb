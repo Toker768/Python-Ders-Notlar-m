{
 "cells": [
  {
   "cell_type": "raw",
   "id": "1ab94cc0",
   "metadata": {},
   "source": [
    "Obje odaklı programlama temelde 4 ana bölümden oluşur.Bunlar;\n",
    "\n",
    "Inherintance\n",
    "Polymorphism\n",
    "Encapsulation\n",
    "Abstraction"
   ]
  },
  {
   "cell_type": "markdown",
   "id": "8593be86",
   "metadata": {},
   "source": [
    "# Inherintance"
   ]
  },
  {
   "cell_type": "raw",
   "id": "1de1d86a",
   "metadata": {},
   "source": [
    "Kalıtım almak demek.Bir sınıftan başka bir sınıfın özelliklerini alıp onun özelliklerini kullanabilmesi anlamına geliyor.\n",
    "\n",
    "Diyelimmki 2 sınıf var ve birbirine çok benziyolar.Sadece bir kaç değişiklik var ve kodlarınız içinde \n",
    "bunu sürekli kullanıyosunuz işte bunun kısa yolunu bulmuşlar.ve ortaya Inherintance çıkmış."
   ]
  },
  {
   "cell_type": "code",
   "execution_count": 1,
   "id": "618e9048",
   "metadata": {},
   "outputs": [],
   "source": [
    "class Musician():\n",
    "    \n",
    "    def __init__(self,name):\n",
    "        self.name = name\n",
    "        print(\"musician class\")\n",
    "        \n",
    "    def test1(self):\n",
    "        print(\"test1\")\n",
    "        \n",
    "    def test2(self):\n",
    "        print(\"test2\")\n",
    "\n",
    "# Diyelimki burda binlerce satır kod var."
   ]
  },
  {
   "cell_type": "code",
   "execution_count": 2,
   "id": "ad9705f6",
   "metadata": {},
   "outputs": [
    {
     "name": "stdout",
     "output_type": "stream",
     "text": [
      "musician class\n"
     ]
    }
   ],
   "source": [
    "Ali = Musician(\"Ali\")"
   ]
  },
  {
   "cell_type": "code",
   "execution_count": 3,
   "id": "7dbc3dee",
   "metadata": {},
   "outputs": [
    {
     "data": {
      "text/plain": [
       "'Ali'"
      ]
     },
     "execution_count": 3,
     "metadata": {},
     "output_type": "execute_result"
    }
   ],
   "source": [
    "Ali.name"
   ]
  },
  {
   "cell_type": "code",
   "execution_count": 4,
   "id": "9b134a42",
   "metadata": {},
   "outputs": [
    {
     "name": "stdout",
     "output_type": "stream",
     "text": [
      "test2\n"
     ]
    }
   ],
   "source": [
    "Ali.test2()"
   ]
  },
  {
   "cell_type": "code",
   "execution_count": 5,
   "id": "97157c4a",
   "metadata": {},
   "outputs": [
    {
     "name": "stdout",
     "output_type": "stream",
     "text": [
      "test1\n"
     ]
    }
   ],
   "source": [
    "Ali.test1()"
   ]
  },
  {
   "cell_type": "raw",
   "id": "693aa960",
   "metadata": {},
   "source": [
    " ve ben şimdi Musician sınıfına benzer bir sınıf yazcam işte bu aslında bir amelelikden başka abir şey değil.\n",
    " Tam bu noktada ınherintance diye bir şey kullanıcam ben.\n",
    " \n",
    " Şöyle bir olay da var diyelimki bir değişiklik yapıcam eğer ınherintance\n",
    " kullanmamış isem yine amelelik yapmak zorunda kalıcam.\n",
    " \n",
    " Şimdi oluşturacağım MusianPlus sınıfı Musician sınıfından kalıtım alacak."
   ]
  },
  {
   "cell_type": "code",
   "execution_count": 6,
   "id": "21317ba0",
   "metadata": {},
   "outputs": [],
   "source": [
    "class MusicianPlus(Musician):             # bakın artık benim MusicianPlus sınıfım Musician sınıfından\n",
    "                                          # bütün methodları aldı ayrıyeten artı olarak bir method da \n",
    "    def __init__(self,name):              # ben buraya ekleyebilirim.Yani şöyle olabiliyor;\n",
    "        Musician.__init__(self,name)\n",
    "        print(\"musucian Plus\")                 #  MusicianPlus >= Musician\n",
    "        \n",
    "        \n",
    "    def test3(self):                   # bu method yalnızca MusicianPlus da var başka yerde yok.\n",
    "        print(\"Test3 yalnızca MusicianPlus sınıfında var.\")\n",
    "\n",
    "        \n",
    "# diyelimki benim Musician'dan aldığım bir methodu ben değiştirmek istiyorum o da mümkün işte bu olaya\n",
    "# override deniyor.\n",
    "    def test1(self):\n",
    "        print(\"Bu 'test1' MusicianPlus sınıfına özel olarak düzenlenmiştir.\")"
   ]
  },
  {
   "cell_type": "code",
   "execution_count": 7,
   "id": "a8c5c3c3",
   "metadata": {},
   "outputs": [
    {
     "name": "stdout",
     "output_type": "stream",
     "text": [
      "musician class\n",
      "musucian Plus\n"
     ]
    }
   ],
   "source": [
    "ozan = MusicianPlus(\"Ozan\")"
   ]
  },
  {
   "cell_type": "code",
   "execution_count": 8,
   "id": "7cedf0e9",
   "metadata": {},
   "outputs": [
    {
     "data": {
      "text/plain": [
       "'Ozan'"
      ]
     },
     "execution_count": 8,
     "metadata": {},
     "output_type": "execute_result"
    }
   ],
   "source": [
    "ozan.name"
   ]
  },
  {
   "cell_type": "code",
   "execution_count": 9,
   "id": "4cfa398f",
   "metadata": {},
   "outputs": [
    {
     "name": "stdout",
     "output_type": "stream",
     "text": [
      "Bu 'test1' MusicianPlus sınıfına özel olarak düzenlenmiştir.\n"
     ]
    }
   ],
   "source": [
    "ozan.test1()"
   ]
  },
  {
   "cell_type": "code",
   "execution_count": 10,
   "id": "2f4c211f",
   "metadata": {},
   "outputs": [
    {
     "name": "stdout",
     "output_type": "stream",
     "text": [
      "test2\n"
     ]
    }
   ],
   "source": [
    "ozan.test2()"
   ]
  },
  {
   "cell_type": "code",
   "execution_count": 11,
   "id": "7baea8cf",
   "metadata": {},
   "outputs": [
    {
     "name": "stdout",
     "output_type": "stream",
     "text": [
      "Test3 yalnızca MusicianPlus sınıfında var.\n"
     ]
    }
   ],
   "source": [
    "ozan.test3()"
   ]
  },
  {
   "cell_type": "raw",
   "id": "7c22dbd7",
   "metadata": {},
   "source": [
    "Bu özelllik büyük projelerde çok fazla kullanıcaz oldukça kullanışlı çünkü."
   ]
  },
  {
   "cell_type": "code",
   "execution_count": null,
   "id": "3a6b7e61",
   "metadata": {},
   "outputs": [],
   "source": []
  },
  {
   "cell_type": "markdown",
   "id": "c537a1dd",
   "metadata": {},
   "source": [
    "# Polymorphism"
   ]
  },
  {
   "cell_type": "code",
   "execution_count": 12,
   "id": "df4b57d9",
   "metadata": {},
   "outputs": [],
   "source": [
    "class Banana():\n",
    "    \n",
    "    def __init__(self,name):\n",
    "        self.name = name\n",
    "        \n",
    "    def info(self):          \n",
    "        return f\"100 colories {self.name}\"\n",
    "        \n",
    "class Apple():\n",
    "    \n",
    "    def __init__(self,name):\n",
    "        self.name = name\n",
    "        \n",
    "    def info(self):          \n",
    "        return f\"250 colories {self.name}\"\n",
    "\n",
    "# bakın birbirinden ayrı 2 tane sınıf var ve bu 2 sınıfın aynı isimde bir method'u var.Ama birbirini\n",
    "# hiç alakadar etmez.Sonuçta ben kapsam denen şeyi gördüm."
   ]
  },
  {
   "cell_type": "code",
   "execution_count": 13,
   "id": "b5626971",
   "metadata": {},
   "outputs": [],
   "source": [
    "yellowbanana = Banana(\"YellowBanana\")"
   ]
  },
  {
   "cell_type": "code",
   "execution_count": 14,
   "id": "2b6ccaa2",
   "metadata": {},
   "outputs": [],
   "source": [
    "redapple = Apple(\"RedApple\")"
   ]
  },
  {
   "cell_type": "code",
   "execution_count": 15,
   "id": "a9ad78f4",
   "metadata": {},
   "outputs": [
    {
     "data": {
      "text/plain": [
       "'100 colories YellowBanana'"
      ]
     },
     "execution_count": 15,
     "metadata": {},
     "output_type": "execute_result"
    }
   ],
   "source": [
    "yellowbanana.info()"
   ]
  },
  {
   "cell_type": "code",
   "execution_count": 16,
   "id": "e0b76117",
   "metadata": {},
   "outputs": [
    {
     "data": {
      "text/plain": [
       "'250 colories RedApple'"
      ]
     },
     "execution_count": 16,
     "metadata": {},
     "output_type": "execute_result"
    }
   ],
   "source": [
    "redapple.info()"
   ]
  },
  {
   "cell_type": "code",
   "execution_count": 17,
   "id": "c5faf907",
   "metadata": {},
   "outputs": [],
   "source": [
    "fruitList = [yellowbanana,redapple]\n",
    "#birbirinden 2 farklı sınıfın 2 farklı objesi tek listede şuan."
   ]
  },
  {
   "cell_type": "code",
   "execution_count": 18,
   "id": "fec3ea65",
   "metadata": {},
   "outputs": [
    {
     "name": "stdout",
     "output_type": "stream",
     "text": [
      "100 colories YellowBanana\n",
      "250 colories RedApple\n"
     ]
    }
   ],
   "source": [
    "for fruit in fruitList :\n",
    "    print(fruit.info())"
   ]
  },
  {
   "cell_type": "raw",
   "id": "1800cf66",
   "metadata": {},
   "source": [
    "Polymorphism şu birbirinden farklı sınıfların aynı methodlarını aynı anda çalıştırmak aslında oldukça \n",
    "basit bir mantığı var diyebilirim."
   ]
  },
  {
   "cell_type": "markdown",
   "id": "e61bb52d",
   "metadata": {},
   "source": [
    "# Encapsulation"
   ]
  },
  {
   "cell_type": "raw",
   "id": "1dbeb171",
   "metadata": {},
   "source": [
    "Hapsetmek demektir.Ben atıyorum grup halinde çalıştığım bir projede bir sınıfın içindeki değişkenleri başka bir devaloper  kimse tarafından değiştirilmesini istemiyorum.İşte bu saklama işine encapsulation denir.\n",
    "\n",
    "Bunu örnekte daha iyi anlıycan merak etme."
   ]
  },
  {
   "cell_type": "code",
   "execution_count": 19,
   "id": "7775fba0",
   "metadata": {},
   "outputs": [],
   "source": [
    "class Phone():\n",
    "    \n",
    "    def __init__(self,name,price):         # benim bu oluşturmuş olduğum sınıfı birden fazla kişinin \n",
    "        self.name = name                   # kullandığını düşün ve sürekli bir şeyler değişiyor.\n",
    "        self.__price = price               # yani anlıycan fiyatın hiçbir şekilde değişmesini istemi\n",
    "                                           # yorum.\n",
    "    def info(self):\n",
    "        print(f\"{self.name} price is : {self.__price} dolars\")\n",
    "        \n",
    "# ben o zaman class'ın içinden hariç değiştirmek istemediğim yeri 2 tane alt çizgi ile desteklemem\n",
    "# gerek.\n",
    "\n",
    "# diyelimki class'ın içinde bunu senin değiştirmen gerekti o zaman ne yapcan;\n",
    "\n",
    "    def changePrice(self,price):\n",
    "        self.__price = price"
   ]
  },
  {
   "cell_type": "code",
   "execution_count": 20,
   "id": "f6ad79f9",
   "metadata": {},
   "outputs": [],
   "source": [
    "iphone = Phone(\"iphone X\",500)"
   ]
  },
  {
   "cell_type": "code",
   "execution_count": 21,
   "id": "d05e9ffc",
   "metadata": {},
   "outputs": [
    {
     "name": "stdout",
     "output_type": "stream",
     "text": [
      "iphone X price is : 500 dolars\n"
     ]
    }
   ],
   "source": [
    "iphone.info()"
   ]
  },
  {
   "cell_type": "code",
   "execution_count": 22,
   "id": "fda7d916",
   "metadata": {},
   "outputs": [],
   "source": [
    "samsung = Phone(\"Samsung Galaxy\",550)"
   ]
  },
  {
   "cell_type": "code",
   "execution_count": 23,
   "id": "83c54960",
   "metadata": {},
   "outputs": [
    {
     "name": "stdout",
     "output_type": "stream",
     "text": [
      "Samsung Galaxy price is : 550 dolars\n"
     ]
    }
   ],
   "source": [
    "samsung.info()"
   ]
  },
  {
   "cell_type": "code",
   "execution_count": 24,
   "id": "1f247748",
   "metadata": {},
   "outputs": [
    {
     "data": {
      "text/plain": [
       "'Samsung Galaxy'"
      ]
     },
     "execution_count": 24,
     "metadata": {},
     "output_type": "execute_result"
    }
   ],
   "source": [
    "# ben artık class'ın dışından price özelliğimi değiştiremem.\n",
    "samsung.name \n",
    "#bakın özellikleri arasında artık çıkmıyo bile ben onu hapsettim ancak ve ancak kendim değiştirebiliri"
   ]
  },
  {
   "cell_type": "code",
   "execution_count": 25,
   "id": "8618f2ef",
   "metadata": {},
   "outputs": [
    {
     "name": "stdout",
     "output_type": "stream",
     "text": [
      "Samsung Galaxy price is : 550 dolars\n"
     ]
    }
   ],
   "source": [
    "samsung.info()"
   ]
  },
  {
   "cell_type": "code",
   "execution_count": 26,
   "id": "b04a4bd5",
   "metadata": {},
   "outputs": [],
   "source": [
    "samsung.changePrice(\"550\")"
   ]
  },
  {
   "cell_type": "code",
   "execution_count": 27,
   "id": "279f45ec",
   "metadata": {},
   "outputs": [
    {
     "name": "stdout",
     "output_type": "stream",
     "text": [
      "Samsung Galaxy price is : 550 dolars\n"
     ]
    }
   ],
   "source": [
    "samsung.info()"
   ]
  },
  {
   "cell_type": "code",
   "execution_count": 28,
   "id": "5b7af942",
   "metadata": {},
   "outputs": [],
   "source": [
    "samsung.changePrice(\"555\")"
   ]
  },
  {
   "cell_type": "code",
   "execution_count": 29,
   "id": "f082836b",
   "metadata": {},
   "outputs": [
    {
     "name": "stdout",
     "output_type": "stream",
     "text": [
      "Samsung Galaxy price is : 555 dolars\n"
     ]
    }
   ],
   "source": [
    "samsung.info()"
   ]
  },
  {
   "cell_type": "markdown",
   "id": "0e6f42ac",
   "metadata": {},
   "source": [
    "# Abstraction"
   ]
  },
  {
   "cell_type": "raw",
   "id": "d8145e62",
   "metadata": {},
   "source": [
    "Soyutlama anlamına gelir.\n",
    "Soyut bir sınıf oluşturuyoruz fakat bu sınıfın kendisini direkt kullanmıyoruz.yapısından faydalanıyoruz.\n",
    "\n",
    "Şimdi bunu yapabilmemiz için bir kütüphaneyi ihtiyacımız var."
   ]
  },
  {
   "cell_type": "code",
   "execution_count": 30,
   "id": "2fa5a757",
   "metadata": {},
   "outputs": [],
   "source": [
    "from abc import ABC, abstractmethod"
   ]
  },
  {
   "cell_type": "code",
   "execution_count": 31,
   "id": "36aed010",
   "metadata": {},
   "outputs": [],
   "source": [
    "class Car(ABC):\n",
    "    \n",
    "    @abstractmethod\n",
    "    def maxSpeed(self):\n",
    "        pass\n",
    "\n",
    "# bu artık soyutlanmıs bir sınıf olarak karşıma çıkıyor."
   ]
  },
  {
   "cell_type": "code",
   "execution_count": 32,
   "id": "acbe1f48",
   "metadata": {},
   "outputs": [],
   "source": [
    "# ben bu soyutlanmış sınıfa kalıtım yoluyla bağlanabilirim.\n",
    "class Tesla(Car):\n",
    "    \n",
    "    def maxSpeed(self):\n",
    "        print(\"200km\")"
   ]
  },
  {
   "cell_type": "code",
   "execution_count": 33,
   "id": "22cba51c",
   "metadata": {},
   "outputs": [],
   "source": [
    "teslaY = Tesla()"
   ]
  },
  {
   "cell_type": "code",
   "execution_count": 34,
   "id": "d3641405",
   "metadata": {},
   "outputs": [
    {
     "name": "stdout",
     "output_type": "stream",
     "text": [
      "200km\n"
     ]
    }
   ],
   "source": [
    "teslaY.maxSpeed()"
   ]
  },
  {
   "cell_type": "code",
   "execution_count": 35,
   "id": "1c12e53b",
   "metadata": {},
   "outputs": [],
   "source": [
    "class Mercedes(Car):\n",
    "    \n",
    "    def maxSpeed(self):\n",
    "        print(\"250km\")"
   ]
  },
  {
   "cell_type": "code",
   "execution_count": 36,
   "id": "8c188ce3",
   "metadata": {},
   "outputs": [],
   "source": [
    "mercedesCLA = Mercedes()"
   ]
  },
  {
   "cell_type": "code",
   "execution_count": 37,
   "id": "ccb78e2c",
   "metadata": {},
   "outputs": [
    {
     "name": "stdout",
     "output_type": "stream",
     "text": [
      "250km\n"
     ]
    }
   ],
   "source": [
    "mercedesCLA.maxSpeed()"
   ]
  },
  {
   "cell_type": "code",
   "execution_count": 38,
   "id": "f350b771",
   "metadata": {},
   "outputs": [],
   "source": [
    "# olay şu ben soyutlamış olduğum sınıfta belli başlı fonksiyonlar belirlerim.Sonra kalıtım yolula\n",
    "# ben bağlanmış olduğum sınıfları önceden soyutlamış olduğum sınıftan yardım alarak oluştururum."
   ]
  },
  {
   "cell_type": "markdown",
   "id": "5297cf47",
   "metadata": {},
   "source": [
    "# Special Method"
   ]
  },
  {
   "cell_type": "code",
   "execution_count": 39,
   "id": "f7cf2dfe",
   "metadata": {},
   "outputs": [],
   "source": [
    "class Fruit():\n",
    "    \n",
    "    def __init__(self,name,calories):\n",
    "        self.name = name\n",
    "        self.calories = calories"
   ]
  },
  {
   "cell_type": "code",
   "execution_count": 40,
   "id": "7e1d28f3",
   "metadata": {},
   "outputs": [],
   "source": [
    "myFruit = Fruit(\"Banana\",255)"
   ]
  },
  {
   "cell_type": "code",
   "execution_count": 41,
   "id": "0496f220",
   "metadata": {},
   "outputs": [
    {
     "data": {
      "text/plain": [
       "255"
      ]
     },
     "execution_count": 41,
     "metadata": {},
     "output_type": "execute_result"
    }
   ],
   "source": [
    "myFruit.calories"
   ]
  },
  {
   "cell_type": "code",
   "execution_count": 42,
   "id": "a6da9a2b",
   "metadata": {},
   "outputs": [
    {
     "data": {
      "text/plain": [
       "'Banana'"
      ]
     },
     "execution_count": 42,
     "metadata": {},
     "output_type": "execute_result"
    }
   ],
   "source": [
    "myFruit.name\n",
    "# gördüğünüz gibi normal bir class oluşturdum."
   ]
  },
  {
   "cell_type": "code",
   "execution_count": 115,
   "id": "64947978",
   "metadata": {},
   "outputs": [
    {
     "name": "stdout",
     "output_type": "stream",
     "text": [
      "<__main__.Fruit object at 0x000001E83F3A9110>\n"
     ]
    }
   ],
   "source": [
    "print(myFruit)\n",
    "# ben ayrı method oluşturmadan print(myFruit) yazdırdığım zaman istediğim şeyi yazdırmak istiyorum.\n",
    "# bunu özel bir methodla yapabilirim ancak"
   ]
  },
  {
   "cell_type": "code",
   "execution_count": 124,
   "id": "7ca63650",
   "metadata": {},
   "outputs": [],
   "source": [
    "class Fruit2():\n",
    "    \n",
    "    def __init__(self,name,calories):\n",
    "        self.name = name\n",
    "        self.calories = calories\n",
    "        \n",
    "    def __str__(self):\n",
    "        return f\"My {self.name} is calories {self.calories}\"\n",
    "    \n",
    "    def __len__(self):\n",
    "        return self.calories"
   ]
  },
  {
   "cell_type": "code",
   "execution_count": 125,
   "id": "2f91e0db",
   "metadata": {},
   "outputs": [],
   "source": [
    "myFruit2 = Fruit2(\"Apple\",344)"
   ]
  },
  {
   "cell_type": "code",
   "execution_count": 126,
   "id": "28d4b108",
   "metadata": {},
   "outputs": [
    {
     "name": "stdout",
     "output_type": "stream",
     "text": [
      "My Apple is calories 344\n"
     ]
    }
   ],
   "source": [
    "print(myFruit2)\n",
    "# ben artık direk objemi yazdırmak istediğim vakit bunu yapabiliyorum.\n",
    "# ben bunu çoğaltabilirim."
   ]
  },
  {
   "cell_type": "code",
   "execution_count": 127,
   "id": "6f1a15a5",
   "metadata": {},
   "outputs": [],
   "source": [
    "# len(myFruit2) yazdığımda bana kalori döndürmesini istiyosam yukarıya şunları yazıcam."
   ]
  },
  {
   "cell_type": "code",
   "execution_count": 128,
   "id": "c3fb0dd6",
   "metadata": {},
   "outputs": [
    {
     "data": {
      "text/plain": [
       "344"
      ]
     },
     "execution_count": 128,
     "metadata": {},
     "output_type": "execute_result"
    }
   ],
   "source": [
    "len(myFruit2)"
   ]
  },
  {
   "cell_type": "raw",
   "id": "6fcc886d",
   "metadata": {},
   "source": [
    "Ben bunların daha fazlasını \"python special method\" yazarak ulaşabilirim"
   ]
  }
 ],
 "metadata": {
  "kernelspec": {
   "display_name": "Python 3 (ipykernel)",
   "language": "python",
   "name": "python3"
  },
  "language_info": {
   "codemirror_mode": {
    "name": "ipython",
    "version": 3
   },
   "file_extension": ".py",
   "mimetype": "text/x-python",
   "name": "python",
   "nbconvert_exporter": "python",
   "pygments_lexer": "ipython3",
   "version": "3.11.3"
  }
 },
 "nbformat": 4,
 "nbformat_minor": 5
}
