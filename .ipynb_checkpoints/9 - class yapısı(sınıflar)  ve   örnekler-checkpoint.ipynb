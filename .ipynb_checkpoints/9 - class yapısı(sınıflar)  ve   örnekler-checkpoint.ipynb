{
 "cells": [
  {
   "cell_type": "raw",
   "id": "340f00a8",
   "metadata": {},
   "source": [
    "ben atıyorum bir insanın bilgilerini almak için bir site yaptım.Sadece bir insan için;"
   ]
  },
  {
   "cell_type": "code",
   "execution_count": 47,
   "id": "8fcc53e2",
   "metadata": {},
   "outputs": [],
   "source": [
    "name = \"Ali\"\n",
    "surname = \"Toker\"\n",
    "age = 19\n",
    "gmail = \"alitoker3720@gmail.com\"\n",
    "\n",
    "# ben bir kişinin bile en az 5 yada 6 belki daha fazla türden bilgilerini tutucam.Yani benim bunu\n",
    "# bir değişken olayında tutmam imkansız.ve bu kişilerin 1 milyon kişi olduğunu düşün.işim oldukça\n",
    "# uzun olur.\n",
    "\n",
    "\n",
    "# ben bir insanın değerini girdiğim taktirde bana diğer bilgilerini veren hazır bir dokuman vermeli\n",
    "# işte sınıflar bunu yapıyor.\n",
    "\n",
    "# ben şimdi bi tane 'Person' sınıfı yapıyım."
   ]
  },
  {
   "cell_type": "markdown",
   "id": "002dedeb",
   "metadata": {},
   "source": [
    "BEN PYTHONDA CLASS'LARI NEDEN KULLANIRIM ?\n",
    "\n",
    "\n",
    "Nesne Yönelimli Programlama (OOP) Desteği:\n",
    "Python, nesne yönelimli programlamayı destekleyen bir programlama dilidir. OOP, kodunuzu daha düzenli(bu nokta oldukça önemli bir yer daha düzenli olduğu kesin), modüler ve sürdürülebilir hale getiren bir paradigmadır. Sınıflar ve nesneler, bu paradigmayı uygulamanıza yardımcı olan temel yapı taşlarıdır.\n",
    "\n",
    "\n",
    "Veri ve İşlevselliği Birleştirme:\n",
    "Sınıflar, veriyi (attribute) ve bu veri üzerinde çalışacak işlevselliği (metot) bir araya getirir. Bu, ilgili veri ve işlevselliğin bir arada bulunmasını sağlar ve buna \"kapsülleme\" denir.\n",
    "\n",
    "\n",
    "Miras ve Polimorfizm:\n",
    "Sınıfları kullanarak miras (inheritance) ve polimorfizm gibi nesne yönelimli programlama konseptlerini uygulayabilirsiniz. Bu, kodunuzun daha esnek ve genişletilebilir olmasına katkı sağlar.\n",
    "\n",
    "\n",
    "Kodunuzu Genişletilebilir Kılma:\n",
    "Sınıflar, yeni özellikler eklemek veya mevcutları değiştirmek için bir çerçeve (framework) olarak kullanılabilir. Bu sayede kodunuzun gelecekteki değişikliklere daha iyi adapte olmasını sağlarsınız.\n",
    "\n",
    "\n",
    "Soyutlama ve Gerçek Dünya Modelleme:\n",
    "Sınıflar, gerçek dünya nesnelerini modelleme ve soyutlama yapma yeteneği sağlar. Bu, yazılımınızın gerçek dünyadaki olayları, nesneleri ve ilişkileri daha doğru bir şekilde temsil etmesine olanak tanır."
   ]
  },
  {
   "cell_type": "code",
   "execution_count": 2,
   "id": "12581a68",
   "metadata": {},
   "outputs": [],
   "source": [
    "class Person():                      #class'ların baş harfi herzaman büyük yazılır.PEP8 kuralından \n",
    "                        # kaynaklanır aslında bir kural değil bir racondur decek daha doğru olur.\n",
    "    name = \"\"                          #şuanlık ben bi tane değişken yazıyım.\n",
    "    age = 0 \n",
    "    cender = \"\""
   ]
  },
  {
   "cell_type": "code",
   "execution_count": 3,
   "id": "6eaca5cd",
   "metadata": {},
   "outputs": [],
   "source": [
    "myList = list()\n",
    "# burda ben içi boç bir liste oluşturdum."
   ]
  },
  {
   "cell_type": "code",
   "execution_count": 4,
   "id": "81fa2540",
   "metadata": {},
   "outputs": [
    {
     "data": {
      "text/plain": [
       "list"
      ]
     },
     "execution_count": 4,
     "metadata": {},
     "output_type": "execute_result"
    }
   ],
   "source": [
    "type(myList) \n",
    "# bakın benim 'myList' dediğim değişkenim liste sınıfından burda liste python tarafından hazırlanmış\n",
    "# hazır bir sınıf"
   ]
  },
  {
   "cell_type": "code",
   "execution_count": 6,
   "id": "fae7589f",
   "metadata": {},
   "outputs": [],
   "source": [
    "birinciKişi= Person()\n",
    "# burda da \"birinciKişi\" adlı \"Person\" sınıfına bağlı olan bir değişken tanımladım"
   ]
  },
  {
   "cell_type": "code",
   "execution_count": 7,
   "id": "be23ec86",
   "metadata": {},
   "outputs": [
    {
     "data": {
      "text/plain": [
       "__main__.Person"
      ]
     },
     "execution_count": 7,
     "metadata": {},
     "output_type": "execute_result"
    }
   ],
   "source": [
    "type(birinciKişi)\n",
    "# artık Ali de 'Person' sınıfına bağlı bir değişken olarak karşıma çıktı."
   ]
  },
  {
   "cell_type": "code",
   "execution_count": 8,
   "id": "50c18939",
   "metadata": {},
   "outputs": [],
   "source": [
    "birinciKişi.name = \"Ali\"\n",
    "birinciKişi.age = 19\n",
    "birinciKişi.cender = \"Male\""
   ]
  },
  {
   "cell_type": "code",
   "execution_count": 9,
   "id": "fc76430e",
   "metadata": {},
   "outputs": [
    {
     "data": {
      "text/plain": [
       "19"
      ]
     },
     "execution_count": 9,
     "metadata": {},
     "output_type": "execute_result"
    }
   ],
   "source": [
    "birinciKişi.age"
   ]
  },
  {
   "cell_type": "code",
   "execution_count": 10,
   "id": "8e58cac9",
   "metadata": {},
   "outputs": [
    {
     "data": {
      "text/plain": [
       "'Male'"
      ]
     },
     "execution_count": 10,
     "metadata": {},
     "output_type": "execute_result"
    }
   ],
   "source": [
    "birinciKişi.cender"
   ]
  },
  {
   "cell_type": "code",
   "execution_count": 11,
   "id": "ac54c7bd",
   "metadata": {},
   "outputs": [
    {
     "data": {
      "text/plain": [
       "'Ali'"
      ]
     },
     "execution_count": 11,
     "metadata": {},
     "output_type": "execute_result"
    }
   ],
   "source": [
    "birinciKişi.name"
   ]
  },
  {
   "cell_type": "code",
   "execution_count": 17,
   "id": "d4afa3ae",
   "metadata": {},
   "outputs": [],
   "source": [
    "class Person2 ():\n",
    "    name = \"\"\n",
    "    age = 0\n",
    "    cender = \"\"\n",
    "    \n",
    "    def __init__(self):       # ben class'ım içindeki fonksiyonlara method diyorum.\n",
    "                              # burdaki init'de initializer demek ve self'i koymak zorundayım.\n",
    "                              # bu class'da her obje oluşturduğunda methoddaki kodlar çalışmaya başlar\n",
    "                # bu sadece init methodu için geçerli bir ifadedir diğer methodlar çağrıldığı vakit \n",
    "                # gelir ancak.\n",
    "        print(\"Her obje oluşturduğumda ben karşına çıkıcam dostum\")\n",
    "    "
   ]
  },
  {
   "cell_type": "code",
   "execution_count": 18,
   "id": "766cc3d8",
   "metadata": {},
   "outputs": [
    {
     "name": "stdout",
     "output_type": "stream",
     "text": [
      "Her obje oluşturduğumda ben karşına çıkıcam dostum\n"
     ]
    }
   ],
   "source": [
    "ahmet = Person2()"
   ]
  },
  {
   "cell_type": "code",
   "execution_count": 19,
   "id": "c3c1387f",
   "metadata": {},
   "outputs": [
    {
     "name": "stdout",
     "output_type": "stream",
     "text": [
      "Her obje oluşturduğumda ben karşına çıkıcam dostum\n"
     ]
    }
   ],
   "source": [
    "osman = Person2()"
   ]
  },
  {
   "cell_type": "code",
   "execution_count": 20,
   "id": "3ea686f2",
   "metadata": {},
   "outputs": [
    {
     "name": "stdout",
     "output_type": "stream",
     "text": [
      "Her obje oluşturduğumda ben karşına çıkıcam dostum\n"
     ]
    }
   ],
   "source": [
    "leyla = Person2()"
   ]
  },
  {
   "cell_type": "code",
   "execution_count": 22,
   "id": "cb0d5490",
   "metadata": {},
   "outputs": [
    {
     "data": {
      "text/plain": [
       "__main__.Person2"
      ]
     },
     "execution_count": 22,
     "metadata": {},
     "output_type": "execute_result"
    }
   ],
   "source": [
    "type(ahmet)\n",
    "# tabi bunlar başka ne olabilir ki mantıken person sınıfına bağlı olması gerekir."
   ]
  },
  {
   "cell_type": "code",
   "execution_count": 23,
   "id": "65726dcc",
   "metadata": {},
   "outputs": [
    {
     "data": {
      "text/plain": [
       "__main__.Person2"
      ]
     },
     "execution_count": 23,
     "metadata": {},
     "output_type": "execute_result"
    }
   ],
   "source": [
    "type(osman)"
   ]
  },
  {
   "cell_type": "code",
   "execution_count": 24,
   "id": "fafc7ded",
   "metadata": {},
   "outputs": [],
   "source": [
    "class Person3 ():\n",
    "    name = \"\"\n",
    "    age = 0\n",
    "    cender = \"\"\n",
    "    \n",
    "    def __init__(self,nameInput,ageInput,cenderInput):  # burda self herzaman olucak şart yani  \n",
    "        name = nameInput                    # yukardaki değişkenlerimin cevabını verilmesini zorunlu\n",
    "        age = ageInput                      # kıldım.\n",
    "        cender = cenderInput"
   ]
  },
  {
   "cell_type": "code",
   "execution_count": 27,
   "id": "92875d30",
   "metadata": {},
   "outputs": [],
   "source": [
    "aybala = Person3(\"Aybala\",2,\"Female\")\n",
    "# benim zorunlu kıldığım cevapları vermek zorunda "
   ]
  },
  {
   "cell_type": "code",
   "execution_count": 28,
   "id": "c417ba02",
   "metadata": {},
   "outputs": [
    {
     "ename": "TypeError",
     "evalue": "Person3.__init__() missing 3 required positional arguments: 'nameInput', 'ageInput', and 'cenderInput'",
     "output_type": "error",
     "traceback": [
      "\u001b[1;31m---------------------------------------------------------------------------\u001b[0m",
      "\u001b[1;31mTypeError\u001b[0m                                 Traceback (most recent call last)",
      "Cell \u001b[1;32mIn[28], line 1\u001b[0m\n\u001b[1;32m----> 1\u001b[0m nefise \u001b[38;5;241m=\u001b[39m Person3()\n",
      "\u001b[1;31mTypeError\u001b[0m: Person3.__init__() missing 3 required positional arguments: 'nameInput', 'ageInput', and 'cenderInput'"
     ]
    }
   ],
   "source": [
    "nefise = Person3()\n",
    "# zorunlu olarak kıldığım yapıyı doldurmadı o yüzden hata verdi.\n",
    "# bana diyo 'nameInput', 'ageInput',ve 'cenderInput' vermek zorundasın."
   ]
  },
  {
   "cell_type": "code",
   "execution_count": 29,
   "id": "84e572f4",
   "metadata": {},
   "outputs": [
    {
     "data": {
      "text/plain": [
       "''"
      ]
     },
     "execution_count": 29,
     "metadata": {},
     "output_type": "execute_result"
    }
   ],
   "source": [
    "# benim hala şöyle bir sıkıntım var :\n",
    "aybala.name"
   ]
  },
  {
   "cell_type": "code",
   "execution_count": 30,
   "id": "d792b407",
   "metadata": {},
   "outputs": [
    {
     "data": {
      "text/plain": [
       "''"
      ]
     },
     "execution_count": 30,
     "metadata": {},
     "output_type": "execute_result"
    }
   ],
   "source": [
    "aybala.cender"
   ]
  },
  {
   "cell_type": "code",
   "execution_count": 31,
   "id": "f139ce52",
   "metadata": {},
   "outputs": [
    {
     "data": {
      "text/plain": [
       "0"
      ]
     },
     "execution_count": 31,
     "metadata": {},
     "output_type": "execute_result"
    }
   ],
   "source": [
    "aybala.age\n",
    "# ben bunları tanımladığım halde hala bana yansıtmıyor."
   ]
  },
  {
   "cell_type": "raw",
   "id": "dec338cc",
   "metadata": {},
   "source": [
    "şimdi bunu çözme vakti."
   ]
  },
  {
   "cell_type": "code",
   "execution_count": 32,
   "id": "50d11bc2",
   "metadata": {},
   "outputs": [],
   "source": [
    "class Person4 ():\n",
    "    name = \"\"\n",
    "    age = 0\n",
    "    cender = \"\"\n",
    "    \n",
    "    def __init__(self,nameInput,ageInput,cenderInput):  \n",
    "        self.name = nameInput               \n",
    "        self.age = ageInput                \n",
    "        self.cender = cenderInput\n",
    "# burdaki 'self.' kelimesi yukardaki değişkenlerime bir köprü vazifesi oldu.\n",
    "# bu arada ben hala istediğim kıvama gelemedim.'Person5' de bunu biz göriceğiz."
   ]
  },
  {
   "cell_type": "code",
   "execution_count": 33,
   "id": "f1827624",
   "metadata": {},
   "outputs": [],
   "source": [
    "kadir = Person4(\"Kadir\",21,\"Male\")\n",
    "\n",
    "# oluşturmuş olduğum kadir objesini ben 'Person4' sınıfına bağladım."
   ]
  },
  {
   "cell_type": "code",
   "execution_count": 34,
   "id": "d3271338",
   "metadata": {},
   "outputs": [
    {
     "data": {
      "text/plain": [
       "'Kadir'"
      ]
     },
     "execution_count": 34,
     "metadata": {},
     "output_type": "execute_result"
    }
   ],
   "source": [
    "kadir.name"
   ]
  },
  {
   "cell_type": "code",
   "execution_count": 35,
   "id": "7e025810",
   "metadata": {},
   "outputs": [
    {
     "data": {
      "text/plain": [
       "21"
      ]
     },
     "execution_count": 35,
     "metadata": {},
     "output_type": "execute_result"
    }
   ],
   "source": [
    "kadir.age"
   ]
  },
  {
   "cell_type": "code",
   "execution_count": 36,
   "id": "9222b55a",
   "metadata": {},
   "outputs": [
    {
     "data": {
      "text/plain": [
       "'Male'"
      ]
     },
     "execution_count": 36,
     "metadata": {},
     "output_type": "execute_result"
    }
   ],
   "source": [
    "kadir.cender\n",
    "\n",
    "# heeh şimdi oldu buu.\n",
    "# ama hala istediğim kıvama gelmedi buu."
   ]
  },
  {
   "cell_type": "code",
   "execution_count": 37,
   "id": "c2ce8a72",
   "metadata": {},
   "outputs": [],
   "source": [
    "class Person5 ():\n",
    "    #property\n",
    "    name = \"\"                             # bazı programlama dillerinde bunları yazmak zorundayız \n",
    "    age = 0                               # fakat python da bu kural geçerli değil.bunu ben size \n",
    "    cender = \"\"                           # Person6()'yı oluştururken göstericem.\n",
    "    \n",
    "    #initializer method (başlangıç yöntemleri)\n",
    "    def __init__(self,name,age,cender):  \n",
    "        self.name = name               \n",
    "        self.age = age               \n",
    "        self.cender = cender\n",
    "\n",
    "    \n",
    "# burdaki 'self.name classın altında olan name'i ifade ederken name self'in yanında olan name ifade\n",
    "# ediyor.\n",
    "\n",
    "# burda self karışıklılık olmaması için kullanılır.birçok programlama dilinde bu yapı vardır.\n",
    "# ben hangi methodu oluşturursam oluşturuyim.self kullanmak zorundayım.\n",
    "    \n",
    "    #method\n",
    "    def test(self):\n",
    "        print(\"merhaba\")"
   ]
  },
  {
   "cell_type": "code",
   "execution_count": 38,
   "id": "7959e121",
   "metadata": {},
   "outputs": [],
   "source": [
    "eyüpErdem = Person5(\"Eyüp\",21,\"Male\")"
   ]
  },
  {
   "cell_type": "code",
   "execution_count": 39,
   "id": "95a3606e",
   "metadata": {},
   "outputs": [
    {
     "name": "stdout",
     "output_type": "stream",
     "text": [
      "merhaba\n"
     ]
    }
   ],
   "source": [
    "eyüpErdem.test()\n",
    "# 'eyüpErdem' objesi benim Person5 sınıfıma bağlı ve içindeki methodları sonuna kadar kullanma hakkı\n",
    "# var"
   ]
  },
  {
   "cell_type": "code",
   "execution_count": 45,
   "id": "10c4e28a",
   "metadata": {},
   "outputs": [],
   "source": [
    "class Person6 (): \n",
    "    # property\n",
    "    shoesNumber = 0    # sen burda default bir değer verebilirsin.ve bu sınıftan olan herkes  \n",
    "                       # bu vermiş olduğun default değer ile başlar.eğer herkese ortak bir değer\n",
    "                       # vermek istersem ben burayı kullanırım.zaten buranın cevap verilmesi yani\n",
    "            # illa bir değer verilmesi gerekmiyo burası isteğe bağlı.\n",
    "    şehir = \"\"\n",
    "    \n",
    "            \n",
    "    #initializer method\n",
    "    def __init__(self,name,age,cender):     # gördüğünüz gibi ben propery'leri yazmama gerek yok\n",
    "        self.name = name                    # bu şekilde yapsamda python beni anlar.\n",
    "        self.age = age                      # ben initializer method'un altına yazdığım şeyler \n",
    "        self.cender = cender                # zorunlu cevap vermek zorundayız fakat property'nin \n",
    "                                            # altına yazılan özellikleri zorunlu cevap vermek zorunda\n",
    "    #method                                 # değiliz.İsteğe bağlı ayrıyeten cevap verilir.\n",
    "    def test(self):\n",
    "        print(\"merhaba\")\n",
    "        \n",
    "    \n",
    "    def iş(self):\n",
    "        print(\"Ben teksitil ile uğraşıyorum.\")\n",
    "        \n",
    "    def printName(self):              #burdaki self'i kullanmak zorundayız.herhalukarda.bu zorunludur.\n",
    "        print(self.name)              # eğer ben burdaki tanımladığım bir şeyi çağırmak istersem \n",
    "                                      # başına self koyup bunu halletmem gerek. "
   ]
  },
  {
   "cell_type": "markdown",
   "id": "fb936fa6",
   "metadata": {},
   "source": [
    "SORU1) peki ben neden bir obje oluştururken initializer method altında olan özellikleri zorunlu bir şekilde yazmak zorundayım örnek vermem gerekirse şöyle ;\n",
    "                   \"araba1 = Araba(\"Toyota\", \"Corolla\")\" bu kodu senden aldım \n",
    "\n",
    "Eğer bir obje oluştururken bu parametreleri vermezseniz, Python size bir hata verecektir. Çünkü __init__ metodunda tanımlanan bu parametreler, bir obje oluşturulurken sınıfın nasıl başlatılacağını belirleyen önemli bileşenlerdir.zaten initializer methodun(başlatıcı method) temel amacı budur bir sınıfın nesnelerini oluştururken başlatıcı parametreler eklemek.\n",
    "Eğer sen zaten default değeri vermek istersen onu da verebilirsin python sana bu imkanı da sağlamış."
   ]
  },
  {
   "cell_type": "code",
   "execution_count": 48,
   "id": "35c27818",
   "metadata": {},
   "outputs": [],
   "source": [
    "# şimdi bir tane obje oluşturarak bunu gösterelim.\n",
    "halis = Person6(\"Halis\",47,\"Male\")"
   ]
  },
  {
   "cell_type": "code",
   "execution_count": 49,
   "id": "bd770169",
   "metadata": {},
   "outputs": [
    {
     "name": "stdout",
     "output_type": "stream",
     "text": [
      "Ben teksitil ile uğraşıyorum.\n"
     ]
    }
   ],
   "source": [
    "halis.iş()"
   ]
  },
  {
   "cell_type": "code",
   "execution_count": 50,
   "id": "e7cd9d18",
   "metadata": {},
   "outputs": [
    {
     "name": "stdout",
     "output_type": "stream",
     "text": [
      "Halis\n"
     ]
    }
   ],
   "source": [
    "halis.printName()"
   ]
  },
  {
   "cell_type": "code",
   "execution_count": 51,
   "id": "16b6b735",
   "metadata": {},
   "outputs": [],
   "source": [
    "halis.shoesNumber = 42"
   ]
  },
  {
   "cell_type": "code",
   "execution_count": 52,
   "id": "78f49b8e",
   "metadata": {},
   "outputs": [
    {
     "data": {
      "text/plain": [
       "42"
      ]
     },
     "execution_count": 52,
     "metadata": {},
     "output_type": "execute_result"
    }
   ],
   "source": [
    "halis.shoesNumber"
   ]
  },
  {
   "cell_type": "code",
   "execution_count": 53,
   "id": "2c3065bf",
   "metadata": {},
   "outputs": [],
   "source": [
    "halis.şehir = \"İstanbul\""
   ]
  },
  {
   "cell_type": "code",
   "execution_count": 54,
   "id": "61ae5d9b",
   "metadata": {},
   "outputs": [
    {
     "data": {
      "text/plain": [
       "'İstanbul'"
      ]
     },
     "execution_count": 54,
     "metadata": {},
     "output_type": "execute_result"
    }
   ],
   "source": [
    "halis.şehir"
   ]
  },
  {
   "cell_type": "raw",
   "id": "52998684",
   "metadata": {},
   "source": [
    "Şimdi bir örnek daha yaparak bunu pekiştirelim aklımızda"
   ]
  },
  {
   "cell_type": "code",
   "execution_count": 55,
   "id": "c2522a61",
   "metadata": {},
   "outputs": [],
   "source": [
    "class Araba:\n",
    "    def __init__(self, marka=\"Bilgi Yok\", model=\"Bilgi Yok\"):\n",
    "        self.marka = marka\n",
    "        self.model = model"
   ]
  },
  {
   "cell_type": "code",
   "execution_count": 56,
   "id": "3ccce84f",
   "metadata": {},
   "outputs": [],
   "source": [
    "cherry = Araba()            # burası araba classımdan obje oluşturma aşaması aslında.farkettiyseniz\n",
    "                        # marka ve model parametrelerimi default değerini tanımladıktan sonra \n",
    "                  # initializer methodun altındaki değerlerin cevabını vermek zorunda değilim."
   ]
  },
  {
   "cell_type": "code",
   "execution_count": 57,
   "id": "6f37085b",
   "metadata": {},
   "outputs": [
    {
     "data": {
      "text/plain": [
       "'Bilgi Yok'"
      ]
     },
     "execution_count": 57,
     "metadata": {},
     "output_type": "execute_result"
    }
   ],
   "source": [
    "cherry.marka"
   ]
  },
  {
   "cell_type": "code",
   "execution_count": 58,
   "id": "37ad4402",
   "metadata": {},
   "outputs": [
    {
     "data": {
      "text/plain": [
       "'Bilgi Yok'"
      ]
     },
     "execution_count": 58,
     "metadata": {},
     "output_type": "execute_result"
    }
   ],
   "source": [
    "cherry.model"
   ]
  },
  {
   "cell_type": "code",
   "execution_count": 59,
   "id": "4e191b55",
   "metadata": {},
   "outputs": [],
   "source": [
    "class Dog():\n",
    "    \n",
    "    year = 7                         # burası \"propery\" kısmı obje oluştururken illa burayı tanımlamak\n",
    "                             # zorunda değilim.istediğim zaman kullanacağım bir yer olarak karşıma \n",
    "                             # çıkıyor.\n",
    "    \n",
    "    def __init__(self,age,kind):            # bunlar benim zorunlu olarak cevap vermek zorunda olduğum\n",
    "                                            # yerler.aslında zorunlu derken default değeri vermessen \n",
    "                                            # zorunlu olur.eğer ben default değeri verirsem işte o\n",
    "                                            # değerim kullanılır.\n",
    "        self.age = age\n",
    "        self.kind = kind\n",
    "        \n",
    "    def humanAge(self):\n",
    "        return self.age * self.year           # ben eğer propery kısmından bir sabit kullanmak\n",
    "                                              # istersem başına self. koymak zorundayım.\n",
    "        \n",
    "        \n",
    "# yada sınıfın ismini yazıp da yapabilirim --> \"Dog.year\" = \"self.year\""
   ]
  },
  {
   "cell_type": "code",
   "execution_count": 60,
   "id": "bbbf568c",
   "metadata": {},
   "outputs": [],
   "source": [
    "pitbull = Dog(12,\"Pitbull\")"
   ]
  },
  {
   "cell_type": "code",
   "execution_count": 61,
   "id": "883b94b3",
   "metadata": {},
   "outputs": [
    {
     "data": {
      "text/plain": [
       "84"
      ]
     },
     "execution_count": 61,
     "metadata": {},
     "output_type": "execute_result"
    }
   ],
   "source": [
    "pitbull.humanAge()"
   ]
  },
  {
   "cell_type": "code",
   "execution_count": 62,
   "id": "de6361eb",
   "metadata": {},
   "outputs": [],
   "source": [
    "class Dog2():\n",
    "    \n",
    "    year = 7\n",
    "    \n",
    "    def __init__(self,age,kind):            \n",
    "        self.age = age\n",
    "        self.kind = kind\n",
    "        self.dogHumanAge = self.age * self.year    # ben initiliazer method'un altına böyle şeylerde \n",
    "                                                   # yazabilirim.Yani illa bir fonksiyon belirtmeme \n",
    "                                                   # gerek yok.\n",
    "                                     "
   ]
  },
  {
   "cell_type": "code",
   "execution_count": 63,
   "id": "7daf18b3",
   "metadata": {},
   "outputs": [],
   "source": [
    "kangal = Dog2(9,\"Kangal\")"
   ]
  },
  {
   "cell_type": "code",
   "execution_count": 64,
   "id": "ca154195",
   "metadata": {},
   "outputs": [
    {
     "data": {
      "text/plain": [
       "63"
      ]
     },
     "execution_count": 64,
     "metadata": {},
     "output_type": "execute_result"
    }
   ],
   "source": [
    "kangal.dogHumanAge"
   ]
  },
  {
   "cell_type": "code",
   "execution_count": 50,
   "id": "9953ff51",
   "metadata": {},
   "outputs": [
    {
     "name": "stdout",
     "output_type": "stream",
     "text": [
      "Toyota Corolla arabası çalıştırıldı.\n",
      "Araba şu anda 50 km/s hızında ilerliyor.\n",
      "Tesla Model 3 arabası çalıştırıldı.\n",
      "Araba şu anda 120 km/s hızında ilerliyor.\n",
      "Araba şu anda 30 km/s hızında ilerliyor.\n",
      "Araba tamamen durdu.\n",
      "Araba şu anda 40 km/s hızında ilerliyor.\n",
      "Araba tamamen durdu.\n",
      "Toyota Corolla arabası durduruldu.\n",
      "Tesla Model 3 arabası durduruldu.\n"
     ]
    }
   ],
   "source": [
    "# bu örneği chat cpt'den aldım.\n",
    "\n",
    "class Araba():               # burda parentez kullanıp kullanmama sana bağlı olan bir durumdur.zorunlu                                       \n",
    "                             # değildir anlıycan.ama ben kullanma taraftarıyım bana göre doğru olan\n",
    "                             # da budur yani net.\n",
    "        \n",
    "    def __init__(self, marka, model, yakit_turu):\n",
    "        self.marka = marka\n",
    "        self.model = model\n",
    "        self.yakit_turu = yakit_turu\n",
    "        self.hiz = 0  # Başlangıçta hız sıfırdır. # bu hızın parametresi verilmediği halde\n",
    "                                                  # neden burada bunun cevabını aşağıkı blokda verdim???\n",
    "\n",
    "    def calistir(self):\n",
    "        print(f\"{self.marka} {self.model} arabası çalıştırıldı.\")\n",
    "\n",
    "    def hizlan(self, hiz_artisi):\n",
    "        self.hiz += hiz_artisi\n",
    "        print(f\"Araba şu anda {self.hiz} km/s hızında ilerliyor.\")\n",
    "\n",
    "    def fren_yap(self, hiz_azaltma):\n",
    "        if self.hiz - hiz_azaltma >= 0:\n",
    "            self.hiz -= hiz_azaltma\n",
    "            print(f\"Araba şu anda {self.hiz} km/s hızında ilerliyor.\")\n",
    "        else:\n",
    "            print(\"Araba tamamen durdu.\")\n",
    "\n",
    "    def durdur(self):\n",
    "        self.hiz = 0\n",
    "        print(f\"{self.marka} {self.model} arabası durduruldu.\")\n",
    "\n",
    "# Araba sınıfından iki örnek oluşturalım\n",
    "araba1 = Araba(marka=\"Toyota\", model=\"Corolla\", yakit_turu=\"Benzin\")\n",
    "araba2 = Araba(marka=\"Tesla\", model=\"Model 3\", yakit_turu=\"Elektrik\")\n",
    "\n",
    "# Her iki arabayı çalıştıralım ve hızlandıralım\n",
    "araba1.calistir()\n",
    "araba1.hizlan(50)\n",
    "\n",
    "araba2.calistir()\n",
    "araba2.hizlan(120)\n",
    "\n",
    "# Her iki arabayı yavaşlatıp durduralım\n",
    "araba1.fren_yap(20)\n",
    "araba1.fren_yap(40)\n",
    "\n",
    "araba2.fren_yap(80)\n",
    "araba2.fren_yap(50)\n",
    "\n",
    "# Her iki arabayı kapatıp durduralım\n",
    "araba1.durdur()\n",
    "araba2.durdur()"
   ]
  },
  {
   "cell_type": "markdown",
   "id": "1ba0d2bd",
   "metadata": {},
   "source": [
    "SORU:)benim burda anlamadığım şey şu initiliazer methodun altında \"self.hiz = 0\"\n",
    "yazıyo ama ben \"hiz\" parametresini tanımlamadan böyle bir şey nasıl yaparım aklım almıyor\n",
    "\n",
    "\n",
    " __init__ metodu içinde tanımlanan self.hiz = 0, sınıfın oluşturulduğunda her bir araba nesnesinin hızının varsayılan olarak 0 olacağını belirtir. Bu değer, Araba sınıfından türetilen her obje için aynı olacaktır.\n",
    "\n",
    "Eğer her bir arabanın başlangıç hızının farklı olmasını istiyorsanız, __init__ metodunda bu değeri parametre olarak alabilir ve her obje oluşturulduğunda başlangıç hızını belirleyebilirsiniz \n",
    "\n",
    "\n",
    "\n",
    "class Araba:\n",
    "    def __init__(self, marka, model, yakit_turu, hiz=0):\n",
    "        self.marka = marka\n",
    "        self.model = model\n",
    "        self.yakit_turu = yakit_turu\n",
    "        self.hiz = hiz \n",
    "       \n",
    "Bu durumda, hiz parametresi __init__ metodunda varsayılan olarak 0 atanmıştır. Eğer bir obje oluşturulurken hiz parametresi verilmezse, varsayılan değer olarak 0 kullanılır."
   ]
  }
 ],
 "metadata": {
  "kernelspec": {
   "display_name": "Python 3 (ipykernel)",
   "language": "python",
   "name": "python3"
  },
  "language_info": {
   "codemirror_mode": {
    "name": "ipython",
    "version": 3
   },
   "file_extension": ".py",
   "mimetype": "text/x-python",
   "name": "python",
   "nbconvert_exporter": "python",
   "pygments_lexer": "ipython3",
   "version": "3.11.3"
  }
 },
 "nbformat": 4,
 "nbformat_minor": 5
}
