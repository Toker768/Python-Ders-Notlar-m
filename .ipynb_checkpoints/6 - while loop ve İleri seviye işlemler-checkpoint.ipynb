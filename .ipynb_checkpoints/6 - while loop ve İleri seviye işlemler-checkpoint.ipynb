{
 "cells": [
  {
   "cell_type": "raw",
   "id": "e2e7b5ea",
   "metadata": {},
   "source": [
    "while döngüsünü ben tek bir değişkenle kullanabiliyorum.O yüzden kesinlikle for dongüsünden daha kolay\n",
    "olduğunu söyleyebiliyorum.\n",
    "\n",
    "Kelime anlamına şudur;\n",
    "şu olmaya devam ettiği sürece şu olduğu sürece anlamına gelir.ben nerde nerde for döngüsünü kullanmam\n",
    "gerekir bunu iyi bilmem için öncelikle for ve while'ın mantığını çok iyi kavramam gerek.\n",
    "\n",
    "\n",
    "for Döngüsü:\n",
    "\n",
    "for döngüsü, genellikle bir dizinin \"(list, tuple, string vb.)\" elemanları üzerinde dolaşmak veya belirli bir aralıktaki sayıları işlemek için kullanılır.\n",
    "Eleman sayısı bilinen veya bir aralık belirtilen durumlar için uygundur.\n",
    "Genellikle bir iterasyon (tekrar) sayısını belirler ve bu iterasyon sayısı boyunca döngü çalışır.\n",
    "\n",
    "\n",
    "while Döngüsü:\n",
    "\n",
    "while döngüsü, belirli bir koşul sağlandığı sürece döngünün devam etmesini sağlar.\n",
    "Koşula bağlı olarak döngü sürekli çalışabilir veya belirli bir durum gerçekleşene kadar devam edebilir.\n",
    "Genellikle bir şartın sürekli kontrol edilmesi gereken durumlar için kullanılır.\n",
    "\n",
    "\n",
    "Hangisini Kullanmalıyım?\n",
    "Eğer işlem yapılacak eleman sayısı belli ise ve genellikle bir koleksiyon (liste, tuple vb.) üzerinde işlem yapılacaksa for döngüsü tercih edilir.\n",
    "Eğer işlem yapılacak eleman sayısı belli değilse ve bir koşul sağlandığı sürece devam edilmesi gerekiyorsa while döngüsü kullanılır.\n",
    "Döngüler arasında tercih yaparken, işinizi en iyi şekilde yapacak olan yapıyı seçmek önemlidir."
   ]
  },
  {
   "cell_type": "code",
   "execution_count": 1,
   "id": "206506e6",
   "metadata": {},
   "outputs": [],
   "source": [
    "x = 0"
   ]
  },
  {
   "cell_type": "code",
   "execution_count": 2,
   "id": "8ce4f2fd",
   "metadata": {},
   "outputs": [
    {
     "name": "stdout",
     "output_type": "stream",
     "text": [
      "0\n",
      "1\n",
      "2\n",
      "3\n",
      "4\n",
      "5\n",
      "6\n",
      "7\n",
      "8\n",
      "9\n"
     ]
    }
   ],
   "source": [
    "while x<10 :\n",
    "    print(x)\n",
    "    x = x + 1"
   ]
  },
  {
   "cell_type": "code",
   "execution_count": 4,
   "id": "da5537d6",
   "metadata": {},
   "outputs": [],
   "source": [
    "# biraz zorlama bir örnek veriyim;\n",
    "lasList = [10,20,30,40,50]"
   ]
  },
  {
   "cell_type": "code",
   "execution_count": 5,
   "id": "351c1409",
   "metadata": {},
   "outputs": [
    {
     "name": "stdout",
     "output_type": "stream",
     "text": [
      "20 in lasList\n",
      "20 in lasList\n",
      "20 in lasList\n",
      "20 in lasList\n"
     ]
    }
   ],
   "source": [
    "while 20 in lasList :\n",
    "    print(\"20 in lasList\")\n",
    "    lasList.pop()"
   ]
  },
  {
   "cell_type": "code",
   "execution_count": 6,
   "id": "7411745a",
   "metadata": {},
   "outputs": [],
   "source": [
    "while 20 in lasList :\n",
    "    print(\"20 in lasList\")\n",
    "    lasList.remove(20)"
   ]
  },
  {
   "cell_type": "raw",
   "id": "707a792c",
   "metadata": {},
   "source": [
    " eğer ben kodumda devamlı bir şeyin olmasını istiyorsam işte o zaman;\n",
    "\n",
    "  while True:     yada    while 1==1:\n",
    "  yaparım."
   ]
  },
  {
   "cell_type": "code",
   "execution_count": 17,
   "id": "30ed3e6a",
   "metadata": {},
   "outputs": [
    {
     "name": "stdout",
     "output_type": "stream",
     "text": [
      "Plaese enter the name:Ali\n",
      "Pleaese enter the surname:Toker\n"
     ]
    }
   ],
   "source": [
    "# şimdi hoca biraz farklı bir yere değindi.\n",
    "name = input(\"Plaese enter the name:\")\n",
    "surname = input(\"Pleaese enter the surname:\")"
   ]
  },
  {
   "cell_type": "code",
   "execution_count": 18,
   "id": "a756f6a6",
   "metadata": {},
   "outputs": [
    {
     "name": "stdout",
     "output_type": "stream",
     "text": [
      "welcome Ali Toker\n"
     ]
    }
   ],
   "source": [
    "print(f\"welcome {name} {surname}\") # 1.tırnağın hemen yanına f koycam sonra süslü parantez\n",
    "                            # içinde değişkenimi yazıcam.\n",
    "    \n",
    "# bir yöntemi daha var.ama bu gösterdiğimi daha fazla kullanırlar.ve daha iyi.\n",
    "\n",
    "\n",
    "# f karakteri, bir string'in başına eklenerek o string'in bir f-string olduğunu belirtir.\n",
    "# Ardından süslü parantez içindeki ifadeler, değerlerine dönüştürülerek string içine eklenir. \n",
    "# Tek bir \"f\" yeterli ve bu şekilde kullanım Python dilinde standartlaşmıştır."
   ]
  },
  {
   "cell_type": "code",
   "execution_count": 19,
   "id": "6b673bdc",
   "metadata": {},
   "outputs": [
    {
     "name": "stdout",
     "output_type": "stream",
     "text": [
      "Plaese enter the name:Ali\n",
      "Pleaese enter the surname:Toker\n",
      "Bayramınız mübarek olsun Sayın Ali Toker ve benim yaşımda 20 \n"
     ]
    }
   ],
   "source": [
    "name2 = input(\"Plaese enter the name:\")\n",
    "surname2 = input(\"Pleaese enter the surname:\")\n",
    "yaş = 20\n",
    "print(f\"Bayramınız mübarek olsun Sayın {name2} {surname2} ve benim yaşımda {yaş} \")\n",
    "\n",
    "# bir f ile hepsini ben bağlıyorum sadece bir f ile.peki bir sonraki soru şu neden f bu f harfi nerden\n",
    "# geliyor?\n",
    "\n",
    "# \"f-string\" terimi, \"formatted string literals\" ifadesinin kısaltmasıdır. Python 3.6 ve sonraki\n",
    "# sürümlerde eklenen bu özellik, stringleri daha okunabilir ve kullanımı kolay bir şekilde \n",
    "# formatlamak için kullanılır.\n",
    "\n",
    "# formatted string literals = biçimlendirilmiş dize değişmezleri"
   ]
  },
  {
   "cell_type": "code",
   "execution_count": 21,
   "id": "98116933",
   "metadata": {},
   "outputs": [
    {
     "name": "stdout",
     "output_type": "stream",
     "text": [
      "welcome Ali\n"
     ]
    }
   ],
   "source": [
    "print(\"welcome\",name)"
   ]
  },
  {
   "cell_type": "raw",
   "id": "14c77197",
   "metadata": {},
   "source": [
    "ben eğer print'in içene bir değişkenimin değerini yazdıracaksam işte o zaman böyle yaparım"
   ]
  },
  {
   "cell_type": "code",
   "execution_count": 26,
   "id": "5ef9ed5e",
   "metadata": {},
   "outputs": [
    {
     "name": "stdout",
     "output_type": "stream",
     "text": [
      "values of the p:0\n",
      "values of the p:1\n",
      "values of the p:2\n",
      "values of the p:3\n",
      "values of the p:4\n",
      "values of the p:5\n",
      "values of the p:6\n",
      "values of the p:7\n",
      "values of the p:8\n",
      "values of the p:9\n"
     ]
    }
   ],
   "source": [
    "p = 0\n",
    "while p<10 :\n",
    "    print(f\"values of the p:{p}\")\n",
    "    p += 1\n",
    "    \n",
    "# ben zaten bunu tarz printin içine yazma metodunu kullanırım sen rahat ol."
   ]
  },
  {
   "cell_type": "markdown",
   "id": "dbbedffc",
   "metadata": {},
   "source": [
    "# İleri seviye işlemler\n"
   ]
  },
  {
   "cell_type": "raw",
   "id": "92e2b024",
   "metadata": {},
   "source": [
    " Şimdi ben burda size birkaç özel kısayol taktik artık ne dersen onu göstericem."
   ]
  },
  {
   "cell_type": "code",
   "execution_count": 25,
   "id": "65182919",
   "metadata": {},
   "outputs": [
    {
     "data": {
      "text/plain": [
       "range(0, 10)"
      ]
     },
     "execution_count": 25,
     "metadata": {},
     "output_type": "execute_result"
    }
   ],
   "source": [
    "#range\n",
    "\n",
    "range(10)         # 0 dan başlayarak yazmış olduğun sayıya kadar(o sayı hariç)\n",
    "             # hangi türden yazarsın bilmem\n",
    "             # ama list mi olur set mi yoksa tuple mi onun içini doldurur.\n",
    "\n",
    "# yukarda gösterdiğimiz range böyle olur ama tabiki bunun çok daha gelişmiş\n",
    "# halini aşağıda biz belirttik.\n",
    "\n",
    "# range(stop)\n",
    "# range(start, stop)\n",
    "# range(start, stop, step)\n",
    "\n",
    "# şöyle bir detay da var range'in kendisi bizzatihi index mantığı olan bir yapıdır.ama sen onu alırsın\n",
    "# bir sete dönüştürürsün index özellii kaybolur."
   ]
  },
  {
   "cell_type": "code",
   "execution_count": 22,
   "id": "36ae9a4f",
   "metadata": {},
   "outputs": [
    {
     "data": {
      "text/plain": [
       "[0, 1, 2, 3, 4, 5, 6, 7, 8, 9]"
      ]
     },
     "execution_count": 22,
     "metadata": {},
     "output_type": "execute_result"
    }
   ],
   "source": [
    "list(range(10))"
   ]
  },
  {
   "cell_type": "code",
   "execution_count": 23,
   "id": "0d6e31fb",
   "metadata": {},
   "outputs": [
    {
     "data": {
      "text/plain": [
       "{0, 1, 2, 3, 4, 5, 6, 7, 8, 9}"
      ]
     },
     "execution_count": 23,
     "metadata": {},
     "output_type": "execute_result"
    }
   ],
   "source": [
    "set(range(10))"
   ]
  },
  {
   "cell_type": "code",
   "execution_count": 24,
   "id": "61292a8f",
   "metadata": {},
   "outputs": [
    {
     "data": {
      "text/plain": [
       "(0, 1, 2, 3, 4, 5, 6, 7, 8, 9)"
      ]
     },
     "execution_count": 24,
     "metadata": {},
     "output_type": "execute_result"
    }
   ],
   "source": [
    "tuple(range(10))"
   ]
  },
  {
   "cell_type": "code",
   "execution_count": 12,
   "id": "c18a7930",
   "metadata": {},
   "outputs": [],
   "source": [
    "# burdada gördüğünüz gibi ben range kullanarak bu çoklu verilerin\n",
    "# hepsini oluşturabiliyorum."
   ]
  },
  {
   "cell_type": "code",
   "execution_count": 26,
   "id": "10ecea46",
   "metadata": {},
   "outputs": [
    {
     "name": "stdout",
     "output_type": "stream",
     "text": [
      "0\n",
      "2\n",
      "4\n",
      "6\n",
      "8\n",
      "10\n",
      "12\n"
     ]
    }
   ],
   "source": [
    "for number in list(range(7)) :\n",
    "    print(number * 2)"
   ]
  },
  {
   "cell_type": "code",
   "execution_count": 14,
   "id": "bbe2306d",
   "metadata": {},
   "outputs": [
    {
     "data": {
      "text/plain": [
       "[5, 6, 7, 8, 9, 10, 11, 12]"
      ]
     },
     "execution_count": 14,
     "metadata": {},
     "output_type": "execute_result"
    }
   ],
   "source": [
    "# peki ben illa sıfırdan mı başlamam lazım yoo\n",
    "list(range(5,13))"
   ]
  },
  {
   "cell_type": "code",
   "execution_count": 15,
   "id": "e542125b",
   "metadata": {},
   "outputs": [
    {
     "data": {
      "text/plain": [
       "[5, 7, 9, 11]"
      ]
     },
     "execution_count": 15,
     "metadata": {},
     "output_type": "execute_result"
    }
   ],
   "source": [
    "list(range(5,13,2))\n",
    "# zaten max burda 3 parametre olur \n",
    "# starting,stopping,stepping olayı burdada var"
   ]
  },
  {
   "cell_type": "code",
   "execution_count": 28,
   "id": "a33eb56e",
   "metadata": {},
   "outputs": [],
   "source": [
    "# şimdi ben bir listemin indexlerini nasıl yazdırıcam sorusuna gelirsek.\n",
    "\n",
    "myList = list(range(10,70,10))\n"
   ]
  },
  {
   "cell_type": "code",
   "execution_count": 29,
   "id": "07444933",
   "metadata": {},
   "outputs": [
    {
     "data": {
      "text/plain": [
       "[10, 20, 30, 40, 50, 60]"
      ]
     },
     "execution_count": 29,
     "metadata": {},
     "output_type": "execute_result"
    }
   ],
   "source": [
    "myList"
   ]
  },
  {
   "cell_type": "code",
   "execution_count": 33,
   "id": "7d97350c",
   "metadata": {},
   "outputs": [
    {
     "name": "stdout",
     "output_type": "stream",
     "text": [
      "number 1.ındexde.\n",
      "number 2.ındexde.\n",
      "number 3.ındexde.\n",
      "number 4.ındexde.\n",
      "number 5.ındexde.\n",
      "number 6.ındexde.\n"
     ]
    }
   ],
   "source": [
    "i = 0\n",
    "for number in myList :\n",
    "    print(f\"number {i+1}.ındexde.\")\n",
    "    i = i + 1"
   ]
  },
  {
   "cell_type": "code",
   "execution_count": 34,
   "id": "4e1a73f9",
   "metadata": {},
   "outputs": [
    {
     "data": {
      "text/plain": [
       "[10, 20, 30, 40, 50, 60]"
      ]
     },
     "execution_count": 34,
     "metadata": {},
     "output_type": "execute_result"
    }
   ],
   "source": [
    "myList"
   ]
  },
  {
   "cell_type": "code",
   "execution_count": 36,
   "id": "32c9f1be",
   "metadata": {},
   "outputs": [
    {
     "name": "stdout",
     "output_type": "stream",
     "text": [
      "0\n",
      "1\n",
      "2\n",
      "3\n",
      "4\n",
      "5\n"
     ]
    }
   ],
   "source": [
    "for index in range(len(myList)) :\n",
    "    print(index)\n",
    "    \n",
    "#ben bu şekilde index'imi belirtebiliyorum."
   ]
  },
  {
   "cell_type": "code",
   "execution_count": 37,
   "id": "8e241ea1",
   "metadata": {},
   "outputs": [
    {
     "name": "stdout",
     "output_type": "stream",
     "text": [
      "10\n",
      "20\n",
      "30\n",
      "40\n",
      "50\n",
      "60\n"
     ]
    }
   ],
   "source": [
    "for index in range(len(myList)) :\n",
    "    print(myList[index])"
   ]
  },
  {
   "cell_type": "code",
   "execution_count": 39,
   "id": "d40e2f65",
   "metadata": {},
   "outputs": [
    {
     "data": {
      "text/plain": [
       "[10, 20, 30, 40, 50, 60]"
      ]
     },
     "execution_count": 39,
     "metadata": {},
     "output_type": "execute_result"
    }
   ],
   "source": [
    "#enumerate\n",
    "myList"
   ]
  },
  {
   "cell_type": "code",
   "execution_count": 23,
   "id": "a50ada50",
   "metadata": {},
   "outputs": [
    {
     "name": "stdout",
     "output_type": "stream",
     "text": [
      "(0, 10)\n",
      "(1, 20)\n",
      "(2, 30)\n",
      "(3, 40)\n",
      "(4, 50)\n",
      "(5, 60)\n"
     ]
    }
   ],
   "source": [
    "for element in enumerate(myList) :\n",
    "    print(element)\n",
    "\n",
    "# görmüş olduğunuz gibi indexleriyle beraber bana verdi.\n",
    "# \"enumerate = numaralandırmak\""
   ]
  },
  {
   "cell_type": "code",
   "execution_count": 40,
   "id": "3d353a27",
   "metadata": {},
   "outputs": [
    {
     "data": {
      "text/plain": [
       "<enumerate at 0x289986d3650>"
      ]
     },
     "execution_count": 40,
     "metadata": {},
     "output_type": "execute_result"
    }
   ],
   "source": [
    "enumerate(myList)"
   ]
  },
  {
   "cell_type": "code",
   "execution_count": 54,
   "id": "0244eead",
   "metadata": {},
   "outputs": [
    {
     "name": "stdout",
     "output_type": "stream",
     "text": [
      "0 10\n",
      "1 20\n",
      "2 30\n",
      "3 40\n",
      "4 50\n",
      "5 60\n"
     ]
    }
   ],
   "source": [
    "for (key,value) in enumerate(myList) :\n",
    "    print(key,value)\n",
    "\n",
    "# buda parantez ve virgül kullanmadan yazdı.Şahsen bu benim daha çok hoşuma gitti diyebilirim.\n",
    "# enumerate'nin olayı budur pek büyütmeye gerek yok.\n",
    "\n",
    "# enumerate fonksiyonu, bir iterable (örneğin, liste, demet, dize) üzerinde döngü yaparken \n",
    "# elemanın indeksini ve değerini aynı anda almanıza olanak tanıyan bir fonksiyondur. Bu, özellikle \n",
    "# döngü sırasında hem elemanın değerine hem de indeksine ihtiyaç duyulduğu durumlarda kullanışlıdır."
   ]
  },
  {
   "cell_type": "markdown",
   "id": "eafcc261",
   "metadata": {},
   "source": [
    "random\n",
    "\n",
    "random modülü, Python'da rastgele sayılar üretmek ve diğer rastgele işlemleri gerçekleştirmek için kullanılan bir modüldür. Bu modül, rastgele sayı üretimi, liste elemanlarını karıştırma, rastgele öğeler seçme gibi işlemleri sağlar.bu ve bunun gibi bu mödülün içinde bir çok fonksiyon mevcut gelin bunları teker teker çözelim."
   ]
  },
  {
   "cell_type": "code",
   "execution_count": 54,
   "id": "7287e6a3",
   "metadata": {},
   "outputs": [
    {
     "name": "stdout",
     "output_type": "stream",
     "text": [
      "0.6414239643920786\n"
     ]
    }
   ],
   "source": [
    "# ilk başta random mödülünün altında random fonksiyonu vardır.\n",
    "\n",
    "# Bu fonksiyon, 0 ile 1 arasında rastgele bir ondalık sayı üretir.\n",
    "import random                                  #burda ben random fonsiyonunu import etmedim random\n",
    "                                               #modülünü import ettim ikisi farklı şeyler.\n",
    "    \n",
    "rasgeleSayı = random.random()\n",
    "print(rasgeleSayı)"
   ]
  },
  {
   "cell_type": "code",
   "execution_count": 59,
   "id": "9f926f92",
   "metadata": {},
   "outputs": [
    {
     "name": "stdout",
     "output_type": "stream",
     "text": [
      "6\n"
     ]
    }
   ],
   "source": [
    "# randint(a, b) Fonksiyonu:\n",
    "# Bu fonksiyon, a ve b (a ve b dahil) arasında rastgele bir tam sayı üretir.\n",
    "# yukarda random modülünü import ettiğim için burda tekrar etmeme gerek yok.\n",
    "\n",
    "random_integer = random.randint(0,13)\n",
    "print(random_integer)"
   ]
  },
  {
   "cell_type": "code",
   "execution_count": 57,
   "id": "76d4fafd",
   "metadata": {},
   "outputs": [
    {
     "data": {
      "text/plain": [
       "17"
      ]
     },
     "execution_count": 57,
     "metadata": {},
     "output_type": "execute_result"
    }
   ],
   "source": [
    "randint(0,23)"
   ]
  },
  {
   "cell_type": "code",
   "execution_count": 60,
   "id": "99d2d014",
   "metadata": {},
   "outputs": [
    {
     "name": "stdout",
     "output_type": "stream",
     "text": [
      "3\n"
     ]
    }
   ],
   "source": [
    "# choice(iterable) Fonksiyonu:\n",
    "# Bu fonksiyon, verilen iterable'dan (liste, demet, dize vb.) rastgele bir öğe seçer.\n",
    "\n",
    "my_list = [1, 2, 3, 4, 5]\n",
    "random_choice = random.choice(my_list)\n",
    "print(random_choice)"
   ]
  },
  {
   "cell_type": "code",
   "execution_count": null,
   "id": "d484a1bc",
   "metadata": {},
   "outputs": [],
   "source": [
    "# shuffle(iterable) Fonksiyonu:\n",
    "# Bu fonksiyon, verilen iterable'daki öğelerin sırasını karıştırır.\n",
    "\n",
    "my_list = [1, 2, 3, 4, 5]\n",
    "random.shuffle(my_list)\n",
    "print(my_list)"
   ]
  },
  {
   "cell_type": "code",
   "execution_count": 61,
   "id": "3a0c07d5",
   "metadata": {},
   "outputs": [
    {
     "name": "stdout",
     "output_type": "stream",
     "text": [
      "[2, 4, 5]\n"
     ]
    }
   ],
   "source": [
    "# sample(iterable, k) Fonksiyonu:\n",
    "# Bu fonksiyon, verilen iterable'dan belirli bir sayıda (k) rastgele öğe seçer\n",
    "\n",
    "my_list = [1, 2, 3, 4, 5]\n",
    "random_sample = random.sample(my_list, 3)\n",
    "print(random_sample)"
   ]
  },
  {
   "cell_type": "code",
   "execution_count": 62,
   "id": "e0ab4bd0",
   "metadata": {},
   "outputs": [
    {
     "name": "stdout",
     "output_type": "stream",
     "text": [
      "2.1085737387482393\n"
     ]
    }
   ],
   "source": [
    "# uniform(a, b) Fonksiyonu:\n",
    "# a ile b arasında rastgele bir ondalık sayı üretir\n",
    "\n",
    "random_float = random.uniform(1.5, 2.5)\n",
    "print(random_float)"
   ]
  },
  {
   "cell_type": "raw",
   "id": "5d8b53b9",
   "metadata": {},
   "source": [
    "burda benim random kütüphanesi çok geniş internette bakıp öğrenebilirsin tabikide ingilizce bilmem gerekiyor.hepsini ezberlemenin bir anlamı yok."
   ]
  },
  {
   "cell_type": "code",
   "execution_count": 19,
   "id": "42e0f0f5",
   "metadata": {},
   "outputs": [],
   "source": [
    "# zip = yapıştırmak  örnekte daha iyi anlıycaz şimdi.\n",
    "\n",
    "# zip fonksiyonu, iki veya daha fazla iterable'ı birleştirerek her bir iterable'dan aynı\n",
    "# indeksteki öğeleri içeren bir tuple'lar dizisi oluşturur. Bu, birden çok iterable üzerinde \n",
    "# aynı anda döngü yapma(aynı işleme yapma) veya bu iterable'ları eşleştirme amacıyla kullanılır.\n",
    "\n",
    "foodList = [\"apple\",\"banana\",\"melon\"]\n",
    "caloriesList = [155,267,680]\n",
    "dayList = [\"tuesday\",\"monday\",\"wendesday\"]\n",
    "\n",
    "# şimdi oluşturmuş oldugum bu 3 tane listenin ben birleşmesini yapıcam."
   ]
  },
  {
   "cell_type": "code",
   "execution_count": 20,
   "id": "7f852fde",
   "metadata": {},
   "outputs": [],
   "source": [
    "zipleşmişListe = zip(foodList,caloriesList,dayList)"
   ]
  },
  {
   "cell_type": "code",
   "execution_count": 21,
   "id": "918a5b72",
   "metadata": {},
   "outputs": [
    {
     "data": {
      "text/plain": [
       "<zip at 0x22afec861c0>"
      ]
     },
     "execution_count": 21,
     "metadata": {},
     "output_type": "execute_result"
    }
   ],
   "source": [
    "zipleşmişListe\n",
    "# burda olusturmus olduğumdan bahsetti."
   ]
  },
  {
   "cell_type": "code",
   "execution_count": 22,
   "id": "2b221ced",
   "metadata": {},
   "outputs": [
    {
     "data": {
      "text/plain": [
       "zip"
      ]
     },
     "execution_count": 22,
     "metadata": {},
     "output_type": "execute_result"
    }
   ],
   "source": [
    "type(zipleşmişListe)\n",
    "# bunun zip olması benim hiç işime yaramaz."
   ]
  },
  {
   "cell_type": "code",
   "execution_count": 23,
   "id": "fc64ad1d",
   "metadata": {},
   "outputs": [
    {
     "data": {
      "text/plain": [
       "<zip at 0x22afec861c0>"
      ]
     },
     "execution_count": 23,
     "metadata": {},
     "output_type": "execute_result"
    }
   ],
   "source": [
    "zipleşmişListe"
   ]
  },
  {
   "cell_type": "code",
   "execution_count": 24,
   "id": "eb2363f9",
   "metadata": {},
   "outputs": [],
   "source": [
    "zippedList2 = list(zip(foodList,caloriesList,dayList))"
   ]
  },
  {
   "cell_type": "code",
   "execution_count": 25,
   "id": "2f7327b9",
   "metadata": {},
   "outputs": [
    {
     "data": {
      "text/plain": [
       "list"
      ]
     },
     "execution_count": 25,
     "metadata": {},
     "output_type": "execute_result"
    }
   ],
   "source": [
    "type(zippedList2)"
   ]
  },
  {
   "cell_type": "code",
   "execution_count": 26,
   "id": "c84dbaf1",
   "metadata": {},
   "outputs": [
    {
     "data": {
      "text/plain": [
       "[('apple', 155, 'tuesday'),\n",
       " ('banana', 267, 'monday'),\n",
       " ('melon', 680, 'wendesday')]"
      ]
     },
     "execution_count": 26,
     "metadata": {},
     "output_type": "execute_result"
    }
   ],
   "source": [
    "zippedList2"
   ]
  },
  {
   "cell_type": "code",
   "execution_count": 30,
   "id": "a43ee651",
   "metadata": {},
   "outputs": [],
   "source": [
    "foodList = [\"apple\",\"banana\",\"melon\"]\n",
    "caloriesList = [155,267,680]\n",
    "dayList = [\"tuesday\",\"monday\"]\n",
    "\n",
    "# ben burda \"wendesday\" i sildim."
   ]
  },
  {
   "cell_type": "code",
   "execution_count": 31,
   "id": "26896a46",
   "metadata": {},
   "outputs": [
    {
     "data": {
      "text/plain": [
       "[('apple', 155, 'tuesday'), ('banana', 267, 'monday')]"
      ]
     },
     "execution_count": 31,
     "metadata": {},
     "output_type": "execute_result"
    }
   ],
   "source": [
    "zippedList3 = list(zip(foodList,caloriesList,dayList))\n",
    "zippedList3 \n",
    "\n",
    "# görmüş olduğunuz gibi ben burda 3 tane listenin ındex sırasına göre birbirine yapıştırılmasını\n",
    "# gördüm.\n",
    "\n",
    "# yani şunu söyliyelim zip yapıştımak demektir ve iterableleri alır ve yapıştırır.temel mantığı budur."
   ]
  },
  {
   "cell_type": "code",
   "execution_count": 32,
   "id": "69bb6bfb",
   "metadata": {},
   "outputs": [],
   "source": [
    "# bundan sonrası biraz daha spesifik işler.\n",
    "\n",
    "new_list = []\n",
    "my_string = \"metallica\"\n",
    "\n",
    "for element in my_string :\n",
    "    new_list.append(element)"
   ]
  },
  {
   "cell_type": "code",
   "execution_count": 33,
   "id": "3035e69b",
   "metadata": {},
   "outputs": [
    {
     "data": {
      "text/plain": [
       "['m', 'e', 't', 'a', 'l', 'l', 'i', 'c', 'a']"
      ]
     },
     "execution_count": 33,
     "metadata": {},
     "output_type": "execute_result"
    }
   ],
   "source": [
    "new_list"
   ]
  },
  {
   "cell_type": "code",
   "execution_count": 35,
   "id": "95ebe2b5",
   "metadata": {},
   "outputs": [],
   "source": [
    "# sırf yukardaki işi daha kolay olması için bir şey geliştirmişler.\n",
    "my_string2 = \"selamlar\"\n",
    "new_list2 = []"
   ]
  },
  {
   "cell_type": "code",
   "execution_count": 36,
   "id": "701be924",
   "metadata": {},
   "outputs": [],
   "source": [
    "new_list2 = [element for element in my_string2]"
   ]
  },
  {
   "cell_type": "code",
   "execution_count": 37,
   "id": "4246c9fd",
   "metadata": {},
   "outputs": [
    {
     "data": {
      "text/plain": [
       "['s', 'e', 'l', 'a', 'm', 'l', 'a', 'r']"
      ]
     },
     "execution_count": 37,
     "metadata": {},
     "output_type": "execute_result"
    }
   ],
   "source": [
    "new_list2"
   ]
  },
  {
   "cell_type": "code",
   "execution_count": 38,
   "id": "48cc81a3",
   "metadata": {},
   "outputs": [
    {
     "data": {
      "text/plain": [
       "{'a', 'e', 'l', 'm', 'r', 's'}"
      ]
     },
     "execution_count": 38,
     "metadata": {},
     "output_type": "execute_result"
    }
   ],
   "source": [
    "set(new_list2)\n",
    "# istersem ben bunu set yaparım.veya tuple farketmez zaten yapması oldukça basit bir iş."
   ]
  }
 ],
 "metadata": {
  "kernelspec": {
   "display_name": "Python 3 (ipykernel)",
   "language": "python",
   "name": "python3"
  },
  "language_info": {
   "codemirror_mode": {
    "name": "ipython",
    "version": 3
   },
   "file_extension": ".py",
   "mimetype": "text/x-python",
   "name": "python",
   "nbconvert_exporter": "python",
   "pygments_lexer": "ipython3",
   "version": "3.11.3"
  }
 },
 "nbformat": 4,
 "nbformat_minor": 5
}
