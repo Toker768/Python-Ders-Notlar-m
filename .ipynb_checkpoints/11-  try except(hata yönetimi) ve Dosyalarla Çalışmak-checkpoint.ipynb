{
 "cells": [
  {
   "cell_type": "raw",
   "id": "a0e33484",
   "metadata": {},
   "source": [
    "Şimdi benim kodumda hatalar çıkabilir hata çıktığı anda benim kodumun çökmemesi için hataları ele almak(handling errors) denilen bir olay karşıma çıkıyor.\n",
    "\n",
    "Ben bu anda kullanıcıyı yönlendirmem gerekecek."
   ]
  },
  {
   "cell_type": "code",
   "execution_count": 1,
   "id": "acd36b1d",
   "metadata": {},
   "outputs": [
    {
     "name": "stdout",
     "output_type": "stream",
     "text": [
      "please enter your age:32\n"
     ]
    }
   ],
   "source": [
    "age = input(\"please enter your age:\")"
   ]
  },
  {
   "cell_type": "code",
   "execution_count": 2,
   "id": "ad5c2ef2",
   "metadata": {},
   "outputs": [
    {
     "data": {
      "text/plain": [
       "'32'"
      ]
     },
     "execution_count": 2,
     "metadata": {},
     "output_type": "execute_result"
    }
   ],
   "source": [
    "age"
   ]
  },
  {
   "cell_type": "code",
   "execution_count": 4,
   "id": "a5ac9d16",
   "metadata": {},
   "outputs": [
    {
     "data": {
      "text/plain": [
       "64"
      ]
     },
     "execution_count": 4,
     "metadata": {},
     "output_type": "execute_result"
    }
   ],
   "source": [
    "int(age) * 2\n",
    "\n",
    "# mesela ben atıyorum kullanıcının girmiş olduğu yaşla 2'yi çarpıcam ya\n",
    "# işte bu anda kullanıcı ya string bir ifade girerse ben ne yapcam.şu an bunu göreceğiz:"
   ]
  },
  {
   "cell_type": "code",
   "execution_count": 5,
   "id": "63ce0d7d",
   "metadata": {},
   "outputs": [
    {
     "data": {
      "text/plain": [
       "'32'"
      ]
     },
     "execution_count": 5,
     "metadata": {},
     "output_type": "execute_result"
    }
   ],
   "source": [
    "age"
   ]
  },
  {
   "cell_type": "code",
   "execution_count": 6,
   "id": "0e3fc7c8",
   "metadata": {},
   "outputs": [
    {
     "name": "stdout",
     "output_type": "stream",
     "text": [
      "please enter your age:on dokuz\n"
     ]
    }
   ],
   "source": [
    "myAge = input(\"please enter your age:\")"
   ]
  },
  {
   "cell_type": "code",
   "execution_count": 7,
   "id": "48316377",
   "metadata": {},
   "outputs": [
    {
     "data": {
      "text/plain": [
       "'on dokuz'"
      ]
     },
     "execution_count": 7,
     "metadata": {},
     "output_type": "execute_result"
    }
   ],
   "source": [
    "myAge"
   ]
  },
  {
   "cell_type": "code",
   "execution_count": 9,
   "id": "9fb0ad15",
   "metadata": {
    "scrolled": false
   },
   "outputs": [
    {
     "ename": "ValueError",
     "evalue": "invalid literal for int() with base 10: 'on dokuz'",
     "output_type": "error",
     "traceback": [
      "\u001b[1;31m---------------------------------------------------------------------------\u001b[0m",
      "\u001b[1;31mValueError\u001b[0m                                Traceback (most recent call last)",
      "Cell \u001b[1;32mIn[9], line 1\u001b[0m\n\u001b[1;32m----> 1\u001b[0m \u001b[38;5;28mint\u001b[39m(myAge) \u001b[38;5;241m*\u001b[39m \u001b[38;5;241m2\u001b[39m\n",
      "\u001b[1;31mValueError\u001b[0m: invalid literal for int() with base 10: 'on dokuz'"
     ]
    }
   ],
   "source": [
    "int(myAge) * 2\n",
    "# bakın bana hata verdi bu.Ben adamın yaşının harflerle yazacağını tahmin edip bu olasılığı gördükten \n",
    "# sonra buna ayar vermeliyim.heee şimdi daha iyi anlıyorum aslında gerçek hayat olasılıkları hesap \n",
    "# edip ne gibi hatalar çıkacak onu düşündükten sonra ona göre ben kullanıcıya yön vermem gerek.\n",
    "# zaten try - except yapıları bana bunu gösterir.\n",
    "\n",
    "# \"try - except\" yapılarını göreceğiz."
   ]
  },
  {
   "cell_type": "markdown",
   "id": "90cea372",
   "metadata": {},
   "source": [
    "# chat cpt try-except Notları\n",
    "\n",
    "try bloğu, üzerinde hata olabilecek kodu içerir.yani hata ihtimali olan kodu.\n",
    "Eğer bu blok içinde bir hata meydana gelirse, program durmaz, kontrol hemen except bloğuna geçer.\n",
    "try bloğu şu şekilde kullanılır:"
   ]
  },
  {
   "cell_type": "code",
   "execution_count": 11,
   "id": "754d7727",
   "metadata": {},
   "outputs": [
    {
     "name": "stdout",
     "output_type": "stream",
     "text": [
      "Bir sayı girin: 12\n",
      "İşlem sonucu: 0.8333333333333334\n"
     ]
    }
   ],
   "source": [
    "try:\n",
    "    # Hata meydana gelebilecek kod buraya yazılır\n",
    "    sayi = int(input(\"Bir sayı girin: \"))\n",
    "    sonuc = 10 / sayi\n",
    "    print(\"İşlem sonucu:\", sonuc)\n",
    "\n",
    "except:\n",
    "    # Hata olduğunda burası çalışır\n",
    "    print(\"Hata oluştu!\")\n",
    "    \n",
    "\n",
    "\n",
    "# except bloğu, try bloğunda meydana gelen hataları yakalamak ve işlemek için kullanılır.\n",
    "# except bloğu, bir hata oluştuğunda çalışacak kodu içerir.\n",
    "# Eğer belirli bir hata türü yakalanacaksa, except HataTürü şeklinde belirtilebilir.\n",
    "# Yukarıdaki örnekte herhangi bir hata türü belirtilmediği için tüm hataları yakalar.\n",
    "# tabi daha spesifik yerlerde bunu değilde detaylandırılmış şekilde hata türünün verildiği hata yaka-\n",
    "# lama yerleri vardır biz ordna bakarız."
   ]
  },
  {
   "cell_type": "code",
   "execution_count": 14,
   "id": "dff56925",
   "metadata": {},
   "outputs": [
    {
     "name": "stdout",
     "output_type": "stream",
     "text": [
      "Bir sayı girin: elli\n",
      "Geçerli bir sayı giriniz!\n"
     ]
    }
   ],
   "source": [
    "# Hata Türünü Belirtme:\n",
    "# Belirli bir hata türünü yakalamak için except HataTürü kullanılır.\n",
    "# Örneğin, ValueError türündeki hataları yakalamak için\n",
    "\n",
    "try:\n",
    "    sayi = int(input(\"Bir sayı girin: \"))\n",
    "    sonuc = 10 / sayi\n",
    "    print(\"İşlem sonucu:\", sonuc)\n",
    "\n",
    "except ValueError:                      # eğer değer hatası vericekse bu benim karşıma çıkar.\n",
    "    print(\"Geçerli bir sayı giriniz!\")\n",
    "\n",
    "except ZeroDivisionError:\n",
    "    print(\"Sıfıra bölme hatası!\")"
   ]
  },
  {
   "cell_type": "markdown",
   "id": "21c7e3a7",
   "metadata": {},
   "source": [
    "Gelin şimdi birkaç except türüne bakalım ;\n",
    "\n",
    "Exception: Genel hata türüdür ve birçok hata türünü kapsar. Ancak, mümkünse daha spesifik hata türlerini belirtmek genellikle daha iyi bir uygulama tasarımıdır. Genel bir except bloğu kullanmak, hataları daha zor tanımlamanıza neden olabilir.\n",
    "\n",
    "ValueError: Bir değerin beklenen türde olmadığı veya uyumsuz olduğu durumlar için kullanılır.\n",
    "\n",
    "TypeError: İki farklı türde nesnenin beklenen bir operasyon için uyumsuz olduğu durumlar için kullanılır.\n",
    "\n",
    "ZeroDivisionError: Bir sayının sıfıra bölünmesi durumlarında kullanılır.\n",
    "\n",
    "FileNotFoundError: Bir dosyanın bulunamadığı durumlar için kullanılır.\n",
    "\n",
    "IndexError: Bir dizinin veya listesinin geçerli bir dizine erişilemediği durumlar için kullanılır\n",
    "\n",
    "KeyError: Bir sözlükte geçerli bir anahtarın bulunamadığı durumlar için kullanılır."
   ]
  },
  {
   "cell_type": "code",
   "execution_count": 19,
   "id": "3efc4fe1",
   "metadata": {},
   "outputs": [
    {
     "name": "stdout",
     "output_type": "stream",
     "text": [
      "Bir sayı girin: on\n",
      "bu sayı harfden lütfen rakam şeklinde gir\n"
     ]
    }
   ],
   "source": [
    "# else Bloğu:\n",
    "\n",
    "# else bloğu, try bloğu içinde hiç hata olmazsa çalışacak kodu içerir.\n",
    "# else bloğu opsiyoneldir, yani kullanmak istemiyorsanız kullanmayabilirsiniz.\n",
    "\n",
    "try:\n",
    "    sayi = int(input(\"Bir sayı girin: \"))\n",
    "    sonuc = 10 / sayi\n",
    "\n",
    "except ValueError:\n",
    "    print(\"bu sayı harfden lütfen rakam şeklinde gir\")\n",
    "\n",
    "except ZeroDivisionError:\n",
    "    print(\"Sıfıra bölme hatası!\")\n",
    "\n",
    "else:       # zaten sen bunu if-else dende anlarsın try çalışmadığı taktirde ben bunu kullanırım.\n",
    "    print(\"İşlem başarıyla tamamlandı. Sonuç:\", sonuc)"
   ]
  },
  {
   "cell_type": "code",
   "execution_count": 20,
   "id": "d1377053",
   "metadata": {},
   "outputs": [
    {
     "ename": "SyntaxError",
     "evalue": "invalid syntax (30890324.py, line 1)",
     "output_type": "error",
     "traceback": [
      "\u001b[1;36m  Cell \u001b[1;32mIn[20], line 1\u001b[1;36m\u001b[0m\n\u001b[1;33m    finally Bloğu:\u001b[0m\n\u001b[1;37m    ^\u001b[0m\n\u001b[1;31mSyntaxError\u001b[0m\u001b[1;31m:\u001b[0m invalid syntax\n"
     ]
    }
   ],
   "source": [
    " # finally Bloğu:\n",
    "\n",
    " # finally bloğu, try bloğu çalışsa da çalışmasa da her durumda çalışan kodu içerir.\n",
    " # finally bloğu opsiyoneldir\n",
    "\n",
    "try:\n",
    "    sayi = int(input(\"Bir sayı girin: \"))\n",
    "    sonuc = 10 / sayi\n",
    "\n",
    "except ValueError:\n",
    "    print(\"Geçerli bir sayı giriniz!\")\n",
    "\n",
    "except ZeroDivisionError:\n",
    "    print(\"Sıfıra bölme hatası!\")\n",
    "\n",
    "else:\n",
    "    print(\"İşlem başarıyla tamamlandı. Sonuç:\", sonuc)\n",
    "\n",
    "finally:\n",
    "    print(\"İşlem tamamlandı.\")\n"
   ]
  },
  {
   "cell_type": "code",
   "execution_count": 21,
   "id": "8a5b7714",
   "metadata": {},
   "outputs": [
    {
     "name": "stdout",
     "output_type": "stream",
     "text": [
      "please enter your age:on\n",
      "Please enter your age in numbers!!\n",
      "please enter your age:yirmi \n",
      "Please enter your age in numbers!!\n",
      "please enter your age:10\n",
      "20\n"
     ]
    }
   ],
   "source": [
    "while 1==1 :                   # sürekli sorması için kullanıyoruz biz bunu diyebilirim. istersende \n",
    "                               # \"while 1==1\" de yapabilirsin.\n",
    "    try:\n",
    "        myAge2 = int(input(\"please enter your age:\"))\n",
    "        print(myAge2 * 2)\n",
    "        break             # buraya 'break' koymak çok mantıklı.Sonuçta ben break olayını for ve while\n",
    "                          # döngüsünde kullanıyorum.\n",
    "    except:\n",
    "        print(\"Please enter your age in numbers!!\")"
   ]
  },
  {
   "cell_type": "code",
   "execution_count": 25,
   "id": "797924ba",
   "metadata": {},
   "outputs": [
    {
     "name": "stdout",
     "output_type": "stream",
     "text": [
      "please enter your age:\n",
      "Please enter your age in numbers!!\n",
      "please enter your age:\n",
      "Please enter your age in numbers!!\n",
      "please enter your age:10\n",
      "20\n",
      "else executed\n"
     ]
    }
   ],
   "source": [
    "while True :\n",
    "    try:\n",
    "        myAge2 = int(input(\"please enter your age:\"))\n",
    "        print(myAge2 * 2) \n",
    "        \n",
    "    except:\n",
    "        print(\"Please enter your age in numbers!!\") \n",
    "        \n",
    "    else:                      # benim else bloğunu yazmam zorunlı değil opsiyonel bir detaydır bu\n",
    "        print(\"else executed\") # try bloğum hatasız çalısır ise ben else kullanıyorum kardeşş.\n",
    "        break "
   ]
  },
  {
   "cell_type": "raw",
   "id": "07300b35",
   "metadata": {},
   "source": [
    "'finally' kısmı her zaman çalışıcaktır try da olsa except'de olsa farketmez.Ama hoca pek kullanmadığı söyledi yine aklımızda bulunsun.\n",
    "\n",
    "Peki else ne zaman çalışıcaktır bu soru da önemli.Ben eğer except dışarsına çıkarsam anca çalışıcaktır."
   ]
  },
  {
   "cell_type": "code",
   "execution_count": 26,
   "id": "f7843495",
   "metadata": {},
   "outputs": [
    {
     "name": "stdout",
     "output_type": "stream",
     "text": [
      "please enter your age:o\n",
      "Please enter your age in numbers!!\n",
      "This will always work\n",
      "please enter your age:yirmibeş\n",
      "Please enter your age in numbers!!\n",
      "This will always work\n",
      "please enter your age:255\n",
      "510\n",
      "else executed\n",
      "This will always work\n"
     ]
    }
   ],
   "source": [
    "while True :\n",
    "    try:\n",
    "        myAge2 = int(input(\"please enter your age:\"))\n",
    "        print(myAge2 * 2)\n",
    "    except:\n",
    "        print(\"Please enter your age in numbers!!\") \n",
    "    else:\n",
    "        print(\"else executed\")\n",
    "        break\n",
    "    finally:                         \n",
    "        print(\"This will always work\")"
   ]
  },
  {
   "cell_type": "markdown",
   "id": "dced407a",
   "metadata": {},
   "source": [
    "# Dosyalarla Çalışmak"
   ]
  },
  {
   "cell_type": "raw",
   "id": "36e9626d",
   "metadata": {},
   "source": [
    "Şimdi ben burdan bilgisayarın içinde dağa doğrusu bu jupıter dosyasını kaydettiğim yerde bir txt dosyası oluşturucam.\n",
    "\n",
    "burada ben myFile.txt denen dosyamı oluşturdum.bunun oluşma yeri ise bu sayfanın yeri ile aynıdır.\n",
    "ve bu dosyam benim bir defa oluşur.sen bunu istersen 10 defa shift enter yap farketmez yinede."
   ]
  },
  {
   "cell_type": "code",
   "execution_count": 1,
   "id": "37611a9e",
   "metadata": {},
   "outputs": [
    {
     "name": "stdout",
     "output_type": "stream",
     "text": [
      "Overwriting myFilembenim.txt\n"
     ]
    }
   ],
   "source": [
    "%%writefile myFilembenim.txt   \n",
    "test1\n",
    "test2\n",
    "test3\n",
    "test4"
   ]
  },
  {
   "cell_type": "raw",
   "id": "c2421eff",
   "metadata": {},
   "source": [
    " 'myFile' dosyamın adı ben burda hangi türden istiyorsam .şeklinde yazabilirim.\n",
    "içeriye yazdığım yerlerde dosyanın içindeki yazılar.\n",
    "\n",
    "Şimdi bu oluşturmuş olduğum dosyanın ilk başta zor yoldan sonra kolay yoldan nasıl açılır ona bakalım."
   ]
  },
  {
   "cell_type": "code",
   "execution_count": 2,
   "id": "ec0490cd",
   "metadata": {},
   "outputs": [],
   "source": [
    "benimdosyam = open(\"myFilembenim.txt\")\n",
    "# açmış olduğum dosya benim jupiter sayfamla aynı yerde olduğu için şuanlık yukardaki gibi yazsak\n",
    "# yeter.\n",
    "\n",
    "# şöylede yazabilirdim.(\"/Users/alitokerd/Desktop/myFile.txt\") şeklinde"
   ]
  },
  {
   "cell_type": "code",
   "execution_count": 3,
   "id": "13af3d92",
   "metadata": {},
   "outputs": [
    {
     "data": {
      "text/plain": [
       "_io.TextIOWrapper"
      ]
     },
     "execution_count": 3,
     "metadata": {},
     "output_type": "execute_result"
    }
   ],
   "source": [
    "type(benimdosyam)"
   ]
  },
  {
   "cell_type": "code",
   "execution_count": 4,
   "id": "142c5468",
   "metadata": {},
   "outputs": [
    {
     "data": {
      "text/plain": [
       "'test1\\ntest2\\ntest3\\ntest4\\n'"
      ]
     },
     "execution_count": 4,
     "metadata": {},
     "output_type": "execute_result"
    }
   ],
   "source": [
    "# ben dosyamı ise şöyle okuyıcam\n",
    "benimdosyam.read()\n",
    "# bunun okuması şu şekilde oluyo sanki bir en baştan başlayıp sona kadar geliyo ve orda kalıyo eğer\n",
    "# ben tekrar okumak istersem işte o zaman bana dosyayı mantıken boş gösteriyor."
   ]
  },
  {
   "cell_type": "code",
   "execution_count": 5,
   "id": "da26af09",
   "metadata": {},
   "outputs": [
    {
     "data": {
      "text/plain": [
       "''"
      ]
     },
     "execution_count": 5,
     "metadata": {},
     "output_type": "execute_result"
    }
   ],
   "source": [
    "benimdosyam.read()"
   ]
  },
  {
   "cell_type": "code",
   "execution_count": 7,
   "id": "0d3deef7",
   "metadata": {},
   "outputs": [
    {
     "data": {
      "text/plain": [
       "0"
      ]
     },
     "execution_count": 7,
     "metadata": {},
     "output_type": "execute_result"
    }
   ],
   "source": [
    "benimdosyam.seek(0)\n",
    "# ben bu sorunu şöyle bir manuel çözüm getirebiliyorum.ama dediğim gibi bu bir manuel bir çözümdür."
   ]
  },
  {
   "cell_type": "code",
   "execution_count": 8,
   "id": "f5f56d52",
   "metadata": {},
   "outputs": [
    {
     "data": {
      "text/plain": [
       "'test1\\ntest2\\ntest3\\ntest4\\n'"
      ]
     },
     "execution_count": 8,
     "metadata": {},
     "output_type": "execute_result"
    }
   ],
   "source": [
    "benimdosyam.read()\n",
    "# bu şekilde yaparak ben dosyamı okuyabiliyorum.işte bu zor bir yöntem hiç elverişli değil bee"
   ]
  },
  {
   "cell_type": "code",
   "execution_count": 10,
   "id": "8272543f",
   "metadata": {},
   "outputs": [],
   "source": [
    "# hatta ben en son işim bittikten sonra kapatmam gerek\n",
    "benimdosyam.close()\n",
    "\n",
    "# işte tüm bu manuellerden kurtulmak için bir yöntem var."
   ]
  },
  {
   "cell_type": "code",
   "execution_count": 17,
   "id": "535e64af",
   "metadata": {},
   "outputs": [],
   "source": [
    "with open(\"myFilembenim.txt\") as benimdosyam :\n",
    "    benimiçeriğim = benimdosyam.read()\n",
    "\n",
    "# ben burada \"benimiçeriğim\" değişkenini kullanarak bütün bu manuel işlerden kurtulurum yok efendim \n",
    "# bir kez okuduktan sonra tekrar okumak için .seek() yap yok işin bittiği anda kapatmayı unutma gibi \n",
    "# işlemlerden ben kurtuluyorum."
   ]
  },
  {
   "cell_type": "code",
   "execution_count": 18,
   "id": "882f6abf",
   "metadata": {},
   "outputs": [
    {
     "data": {
      "text/plain": [
       "'test1\\ntest2\\ntest3\\ntest4\\n'"
      ]
     },
     "execution_count": 18,
     "metadata": {},
     "output_type": "execute_result"
    }
   ],
   "source": [
    "benimiçeriğim"
   ]
  },
  {
   "cell_type": "code",
   "execution_count": 17,
   "id": "2072432d",
   "metadata": {},
   "outputs": [
    {
     "data": {
      "text/plain": [
       "'test1\\ntest2\\ntest3\\n'"
      ]
     },
     "execution_count": 17,
     "metadata": {},
     "output_type": "execute_result"
    }
   ],
   "source": [
    "benimiçeriğim\n",
    "# tekrar tekrar çağrabilirim ben bunu kendisi açar kendisi kapatır en başa yine kendisi ekler. \".seek()\n",
    "# kullanmama gerek kalmaz."
   ]
  },
  {
   "cell_type": "code",
   "execution_count": 19,
   "id": "cab5b737",
   "metadata": {},
   "outputs": [],
   "source": [
    "with open (\"myFile.txt\",mode=\"w\") as myNewFile :\n",
    "    myNewFile.write(\"test6\")\n",
    "\n",
    "# mode da 'w' kullanmamın bir sebebi var ben bunu yazmak için açtığımı gösteriyor."
   ]
  },
  {
   "cell_type": "code",
   "execution_count": 15,
   "id": "8ec942f7",
   "metadata": {},
   "outputs": [],
   "source": [
    "with open (\"myFile.txt\",mode=\"r\") as myNewFile2 :\n",
    "    dosyaokuma = myNewFile2.read()\n",
    "\n",
    "# buradaki mode da 'r' nin sebebi ise okuyacam anlamına gelir.read dan yani"
   ]
  },
  {
   "cell_type": "code",
   "execution_count": 16,
   "id": "34e6c2d7",
   "metadata": {},
   "outputs": [
    {
     "data": {
      "text/plain": [
       "'test4'"
      ]
     },
     "execution_count": 16,
     "metadata": {},
     "output_type": "execute_result"
    }
   ],
   "source": [
    "dosyaokuma"
   ]
  },
  {
   "cell_type": "code",
   "execution_count": 28,
   "id": "01646686",
   "metadata": {},
   "outputs": [],
   "source": [
    "with open (\"myFile.txt\",mode=\"a\") as myNewFile3 :\n",
    "      myNewFile3.write(\"test5\")\n",
    "        \n",
    "    # benim artık yazıcağım şeyler diğerlerin silinmesine yol açmayacak.\n",
    "    # burda da mode da 'a' kullanmamın bir sebebi var.append'den geliyor."
   ]
  },
  {
   "cell_type": "code",
   "execution_count": 29,
   "id": "1f5ab0ad",
   "metadata": {},
   "outputs": [],
   "source": [
    "with open (\"myFile.txt\",mode=\"r\") as myNewFile2 :\n",
    "    dosyaokuma = myNewFile2.read()"
   ]
  },
  {
   "cell_type": "code",
   "execution_count": 30,
   "id": "5c2a0b69",
   "metadata": {},
   "outputs": [
    {
     "data": {
      "text/plain": [
       "'test4test4test4test5test5'"
      ]
     },
     "execution_count": 30,
     "metadata": {},
     "output_type": "execute_result"
    }
   ],
   "source": [
    "dosyaokuma\n",
    "# çok defa shift enter yaptığım için böyle oldu. "
   ]
  },
  {
   "cell_type": "code",
   "execution_count": null,
   "id": "ab359c38",
   "metadata": {},
   "outputs": [],
   "source": []
  }
 ],
 "metadata": {
  "kernelspec": {
   "display_name": "Python 3 (ipykernel)",
   "language": "python",
   "name": "python3"
  },
  "language_info": {
   "codemirror_mode": {
    "name": "ipython",
    "version": 3
   },
   "file_extension": ".py",
   "mimetype": "text/x-python",
   "name": "python",
   "nbconvert_exporter": "python",
   "pygments_lexer": "ipython3",
   "version": "3.11.3"
  }
 },
 "nbformat": 4,
 "nbformat_minor": 5
}
