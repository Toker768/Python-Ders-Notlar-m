{
 "cells": [
  {
   "cell_type": "code",
   "execution_count": 1,
   "id": "e42e0fe0",
   "metadata": {},
   "outputs": [],
   "source": [
    "x = 5\n",
    "y = 3"
   ]
  },
  {
   "cell_type": "code",
   "execution_count": 2,
   "id": "35409c3d",
   "metadata": {},
   "outputs": [
    {
     "data": {
      "text/plain": [
       "False"
      ]
     },
     "execution_count": 2,
     "metadata": {},
     "output_type": "execute_result"
    }
   ],
   "source": [
    "y > x"
   ]
  },
  {
   "cell_type": "code",
   "execution_count": 3,
   "id": "926f8b84",
   "metadata": {},
   "outputs": [
    {
     "data": {
      "text/plain": [
       "True"
      ]
     },
     "execution_count": 3,
     "metadata": {},
     "output_type": "execute_result"
    }
   ],
   "source": [
    "x > y"
   ]
  },
  {
   "cell_type": "code",
   "execution_count": 4,
   "id": "1981b53a",
   "metadata": {},
   "outputs": [],
   "source": [
    "z = 3"
   ]
  },
  {
   "cell_type": "code",
   "execution_count": 5,
   "id": "0b5f5e15",
   "metadata": {},
   "outputs": [
    {
     "data": {
      "text/plain": [
       "False"
      ]
     },
     "execution_count": 5,
     "metadata": {},
     "output_type": "execute_result"
    }
   ],
   "source": [
    "z >= x"
   ]
  },
  {
   "cell_type": "code",
   "execution_count": 6,
   "id": "72b16a41",
   "metadata": {},
   "outputs": [
    {
     "data": {
      "text/plain": [
       "True"
      ]
     },
     "execution_count": 6,
     "metadata": {},
     "output_type": "execute_result"
    }
   ],
   "source": [
    "z <= y"
   ]
  },
  {
   "cell_type": "code",
   "execution_count": 8,
   "id": "930b94ff",
   "metadata": {},
   "outputs": [],
   "source": [
    "                         # ince bir detay göstericem sana şimdi ben.\n",
    "x = y                    # yaparsam x'in değerini y'değerine eşitle demek bu.\n",
    "\n",
    "# zaten mantıken ve dikkatli bakarsan x'i al ve y değerine eşitle demek yani x y olsun demek."
   ]
  },
  {
   "cell_type": "code",
   "execution_count": 9,
   "id": "cc3b4730",
   "metadata": {},
   "outputs": [
    {
     "data": {
      "text/plain": [
       "3"
      ]
     },
     "execution_count": 9,
     "metadata": {},
     "output_type": "execute_result"
    }
   ],
   "source": [
    "x"
   ]
  },
  {
   "cell_type": "code",
   "execution_count": 10,
   "id": "25ffd81e",
   "metadata": {},
   "outputs": [
    {
     "data": {
      "text/plain": [
       "3"
      ]
     },
     "execution_count": 10,
     "metadata": {},
     "output_type": "execute_result"
    }
   ],
   "source": [
    "y"
   ]
  },
  {
   "cell_type": "code",
   "execution_count": 11,
   "id": "099b0089",
   "metadata": {},
   "outputs": [
    {
     "data": {
      "text/plain": [
       "3"
      ]
     },
     "execution_count": 11,
     "metadata": {},
     "output_type": "execute_result"
    }
   ],
   "source": [
    "z"
   ]
  },
  {
   "cell_type": "code",
   "execution_count": 12,
   "id": "5879d9c2",
   "metadata": {},
   "outputs": [],
   "source": [
    "z = 5"
   ]
  },
  {
   "cell_type": "code",
   "execution_count": 13,
   "id": "e4e7149b",
   "metadata": {},
   "outputs": [
    {
     "data": {
      "text/plain": [
       "False"
      ]
     },
     "execution_count": 13,
     "metadata": {},
     "output_type": "execute_result"
    }
   ],
   "source": [
    "# eğer ben eşit mi sorusunu sormak istersem işte o zaman;\n",
    "z == x      # bu z eşit midir x'e demek anlamına gelir."
   ]
  },
  {
   "cell_type": "code",
   "execution_count": 14,
   "id": "9839d3c4",
   "metadata": {},
   "outputs": [
    {
     "data": {
      "text/plain": [
       "5"
      ]
     },
     "execution_count": 14,
     "metadata": {},
     "output_type": "execute_result"
    }
   ],
   "source": [
    "z"
   ]
  },
  {
   "cell_type": "code",
   "execution_count": 15,
   "id": "bb27b6fb",
   "metadata": {},
   "outputs": [
    {
     "data": {
      "text/plain": [
       "3"
      ]
     },
     "execution_count": 15,
     "metadata": {},
     "output_type": "execute_result"
    }
   ],
   "source": [
    "x"
   ]
  },
  {
   "cell_type": "code",
   "execution_count": 16,
   "id": "c56d634f",
   "metadata": {},
   "outputs": [
    {
     "data": {
      "text/plain": [
       "True"
      ]
     },
     "execution_count": 16,
     "metadata": {},
     "output_type": "execute_result"
    }
   ],
   "source": [
    "# eğer ben eşit değil midir sorusunu sormak istersem \n",
    "z != x"
   ]
  },
  {
   "cell_type": "raw",
   "id": "fb211e90",
   "metadata": {},
   "source": [
    " biz \"ve\" ve \"veya\" nın arasındaki farkı biliyoruz.O yüzden buraya uzun uzadıya yazmaya gerek yok."
   ]
  },
  {
   "cell_type": "code",
   "execution_count": 17,
   "id": "cc576d96",
   "metadata": {},
   "outputs": [
    {
     "data": {
      "text/plain": [
       "False"
      ]
     },
     "execution_count": 17,
     "metadata": {},
     "output_type": "execute_result"
    }
   ],
   "source": [
    "# burda ben size \"not\" kelimesini anlatıcam.\n",
    "not 1 == 1\n",
    "# true ise false yapar false ise true yapar."
   ]
  },
  {
   "cell_type": "code",
   "execution_count": 18,
   "id": "d42acfd0",
   "metadata": {},
   "outputs": [
    {
     "data": {
      "text/plain": [
       "True"
      ]
     },
     "execution_count": 18,
     "metadata": {},
     "output_type": "execute_result"
    }
   ],
   "source": [
    "# ben bir listenin daha doğrusu çoklu veri alan bir yapının(set,tuple,dictionary)\n",
    "#içersinde bir şey var mı yok mu kontrol edebiliyorum.\n",
    "\n",
    "10 in [10,20,30]"
   ]
  },
  {
   "cell_type": "code",
   "execution_count": 19,
   "id": "8b326eb2",
   "metadata": {},
   "outputs": [
    {
     "data": {
      "text/plain": [
       "True"
      ]
     },
     "execution_count": 19,
     "metadata": {},
     "output_type": "execute_result"
    }
   ],
   "source": [
    "5 not in [10,20,30]\n",
    "# bu \"not\" ifadesini pek kullanmak zorunda değiliz ama yine aklımızda olsun."
   ]
  },
  {
   "cell_type": "code",
   "execution_count": 20,
   "id": "b9635718",
   "metadata": {},
   "outputs": [],
   "source": [
    "myDictionary = {\"a\":10,\"b\":20,\"c\":30}"
   ]
  },
  {
   "cell_type": "code",
   "execution_count": 21,
   "id": "f84fce2b",
   "metadata": {},
   "outputs": [
    {
     "data": {
      "text/plain": [
       "True"
      ]
     },
     "execution_count": 21,
     "metadata": {},
     "output_type": "execute_result"
    }
   ],
   "source": [
    "\"a\" in myDictionary.keys()      # benim anahtarlarımın içinde var mı diye sorabiliyorum."
   ]
  },
  {
   "cell_type": "code",
   "execution_count": 23,
   "id": "bc9a48cf",
   "metadata": {},
   "outputs": [
    {
     "data": {
      "text/plain": [
       "True"
      ]
     },
     "execution_count": 23,
     "metadata": {},
     "output_type": "execute_result"
    }
   ],
   "source": [
    "20 in myDictionary.values()"
   ]
  },
  {
   "cell_type": "markdown",
   "id": "14b1dc5b",
   "metadata": {},
   "source": [
    "# ıf\n"
   ]
  },
  {
   "cell_type": "raw",
   "id": "9e9a0130",
   "metadata": {},
   "source": [
    "ıf'in olayında şöyle yaparsın;"
   ]
  },
  {
   "cell_type": "code",
   "execution_count": 24,
   "id": "13f33798",
   "metadata": {},
   "outputs": [],
   "source": [
    "my_superhero = \"Batman\""
   ]
  },
  {
   "cell_type": "code",
   "execution_count": 25,
   "id": "a4e4aade",
   "metadata": {},
   "outputs": [
    {
     "name": "stdout",
     "output_type": "stream",
     "text": [
      "Batman is good\n",
      "Ali Toker\n"
     ]
    }
   ],
   "source": [
    "if my_superhero == \"Batman\":\n",
    "    print(\"Batman is good\")\n",
    "    print(\"Ali Toker\")\n",
    "\n",
    "# şimdi burda şu önemli ben if'i yazdım sonra şartımı belirttim sonra iki nokta koydum\n",
    "# benim koşulum sağlanırsa altında yazdığım şeyler gerçeklesir.\n",
    "# önemli olan burda pythonun kod bloklarına verdiği önemdir.fark ettiyseniz bir tap boşluk biraktı \n",
    "# bu boşluk pythonun anlaması sağlıyor."
   ]
  },
  {
   "cell_type": "code",
   "execution_count": 26,
   "id": "b49ea45c",
   "metadata": {},
   "outputs": [
    {
     "name": "stdout",
     "output_type": "stream",
     "text": [
      "Who is the your superhero?Annem\n"
     ]
    }
   ],
   "source": [
    "my_superhero =input(\"Who is the your superhero?\")"
   ]
  },
  {
   "cell_type": "code",
   "execution_count": 30,
   "id": "59fe3e52",
   "metadata": {},
   "outputs": [
    {
     "name": "stdout",
     "output_type": "stream",
     "text": [
      "you don't like anything\n"
     ]
    }
   ],
   "source": [
    "if my_superhero == \"batman\":\n",
    "    print(\"Good I like also batman\")\n",
    "    \n",
    "elif my_superhero == \"karacaoğlan\":          # ben bu 'elif'i istediğim kadar artırabilirim.\n",
    "    print(\"good ı like also karacaoğlan\")    # istersen sonsuza kadar git.\n",
    "\n",
    "elif my_superhero == \"Naseddin Hoja\":\n",
    "    print(\"good ı like also Hoja\")\n",
    "\n",
    "else:                                         # elsenin olduğu yere hiçbir koşul yazılmaz zaten\n",
    "    print(\"you don't like anything\")          # mantıkende böyle bir şeye gerek yoktur."
   ]
  },
  {
   "cell_type": "raw",
   "id": "bd2e09b0",
   "metadata": {},
   "source": [
    "burda benim dikkat etmem gereken nokta şu if elif ve else yi yazdığım yerler önemli bir tap boşluk \n",
    "bırakma olayı varya işte tam da bu ve iki noktayı koymayıda unutma.python zaten bunun üzerine inşa ediliyor sytaxlar oldukça az ama tapların spacelerin varlığı çok önemli.\n",
    "\n",
    "Ben aynı zamanda listelerde de bunu yapabiliyorum şöyle;"
   ]
  },
  {
   "cell_type": "code",
   "execution_count": 33,
   "id": "dc0a6ba2",
   "metadata": {},
   "outputs": [],
   "source": [
    "myCountryList =[\"istanbul\",\"izmir\",\"balıkesir\",\"erzurum\"]"
   ]
  },
  {
   "cell_type": "code",
   "execution_count": 34,
   "id": "6aa96076",
   "metadata": {},
   "outputs": [
    {
     "name": "stdout",
     "output_type": "stream",
     "text": [
      "Which your ciyt?\n"
     ]
    }
   ],
   "source": [
    "myCountry = input(\"Which your ciyt?\")"
   ]
  },
  {
   "cell_type": "code",
   "execution_count": 36,
   "id": "5d062a3c",
   "metadata": {},
   "outputs": [
    {
     "name": "stdout",
     "output_type": "stream",
     "text": [
      "Dışarda\n"
     ]
    }
   ],
   "source": [
    "if myCountry in myCountryList :        # seçmiş olduğum ülke listenin içindemi sorusunu sordum.\n",
    "    print(\"içerde\")\n",
    "\n",
    "else:                        # burdaki else if'e tam bağlı değil aslında o farklı bir kol if burda \n",
    "    print(\"Dışarda\")         # farklı bir kol olduğunu söyleyebilirim.\n",
    "    "
   ]
  },
  {
   "cell_type": "markdown",
   "id": "e14779b2",
   "metadata": {},
   "source": [
    "biz bu if else elif olayını çok fazla kullanırız bu yüzden bunu sağlam öğrenmekte büyük fayda var.\n",
    "bu yüzden chat'den yardım alarak şunları ilave etmem gerek;\n",
    "\n",
    "Sıralama Önemlidir:\n",
    "if, elif, ve else ifadelerinin sırası önemlidir. İlk doğru olan ifadeye giren blok çalıştırılır ve geri kalan ifadeler kontrol edilmez.\n",
    "\n",
    "Bağlantı Operatörleri:\n",
    "Koşullar arasında mantıksal bağlantılar kurmak için and, or, ve not gibi mantıksal operatörleri kullanabilirsiniz\n",
    "\n",
    "Tek Satırlık if-else İfadeleri:\n",
    "Basit koşulları tek satırda ifade etmek için if-else ifadesini tek satırda yazabilirsiniz. Örneğin: result = \"positive\" if x > 0 else \"non-positive\"  zaten bu kısmı ilerde detaylı bir şekilde göreceğiz."
   ]
  },
  {
   "cell_type": "markdown",
   "id": "8153f73a",
   "metadata": {},
   "source": [
    "# loops(Döngüler)"
   ]
  },
  {
   "cell_type": "raw",
   "id": "29afa21a",
   "metadata": {},
   "source": [
    "benim 2 tane döngüm var zaten biri for diğeri while olmak üzere."
   ]
  },
  {
   "cell_type": "code",
   "execution_count": 38,
   "id": "35c0edc7",
   "metadata": {},
   "outputs": [],
   "source": [
    "# ben diyorumki bir listemin içersinde olan bütün sayıları 5'e böl ve 2 ye çarp \n",
    "# şimdi bunu tek tek yapmak olmaz tam bir amelelik olur.peki ben nasıl yapıcam.\n",
    "\n",
    "myList = [10,20,30,40,50,60,70,80,90,100]\n",
    "\n",
    "# tam bu kısımda düşünmek lazım"
   ]
  },
  {
   "cell_type": "raw",
   "id": "1168611a",
   "metadata": {},
   "source": [
    " şimdi düşünüyorum bakalım ben bunu nasıl yapıcam\n"
   ]
  },
  {
   "cell_type": "code",
   "execution_count": 39,
   "id": "1fd74591",
   "metadata": {},
   "outputs": [
    {
     "name": "stdout",
     "output_type": "stream",
     "text": [
      "10\n",
      "20\n",
      "30\n",
      "40\n",
      "50\n",
      "60\n",
      "70\n",
      "80\n",
      "90\n",
      "100\n"
     ]
    }
   ],
   "source": [
    "for elements in myList:\n",
    "    print(elements)\n",
    "\n",
    "# for döngüsünde \"elements\" benim çoklu veri tutan bir listeme girmemi sağlayan\n",
    "# araç gibi düşünmek lazım.ben istersem onu istediğim gibi değiştirebilirim\n",
    "# ne koyarsan koy farketmez hiç önemli değil.\n",
    "\n",
    "# bu \"elements\" adında olan sıra sıra ındex numarasına göre benim listemin içine\n",
    "# giriyor.ama bu elements index'e bürünmüyor orda hangi karakter varsa ona bürünüyor."
   ]
  },
  {
   "cell_type": "code",
   "execution_count": 42,
   "id": "7650d04c",
   "metadata": {},
   "outputs": [
    {
     "data": {
      "text/plain": [
       "{10, 20, 30, 40, 50, 55}"
      ]
     },
     "execution_count": 42,
     "metadata": {},
     "output_type": "execute_result"
    }
   ],
   "source": [
    "# acaba index mantığı olmayanlarda da ben for döngüsünü kullanabiliyorummu\n",
    "\n",
    "mySet = {10,20,30,40,40,50,55}\n",
    "mySet"
   ]
  },
  {
   "cell_type": "code",
   "execution_count": 43,
   "id": "8bb365f3",
   "metadata": {},
   "outputs": [
    {
     "name": "stdout",
     "output_type": "stream",
     "text": [
      "50\n",
      "20\n",
      "55\n",
      "40\n",
      "10\n",
      "30\n"
     ]
    }
   ],
   "source": [
    "for eleman in mySet : \n",
    "    print(eleman)"
   ]
  },
  {
   "cell_type": "markdown",
   "id": "2d43c23a",
   "metadata": {},
   "source": [
    "çoklu bir yapı olduğu için girer hiçbir sorun yaşamaz fakat index mantığı olmadığı için rasgele tamamen raslantı sonucu değerleri yazdırır çünkü belli bir düzen yok diyebilirim."
   ]
  },
  {
   "cell_type": "code",
   "execution_count": null,
   "id": "ade3caf1",
   "metadata": {},
   "outputs": [],
   "source": []
  },
  {
   "cell_type": "code",
   "execution_count": 46,
   "id": "d77e6679",
   "metadata": {},
   "outputs": [
    {
     "data": {
      "text/plain": [
       "[10, 20, 30, 40, 50, 60, 70, 80, 90, 100]"
      ]
     },
     "execution_count": 46,
     "metadata": {},
     "output_type": "execute_result"
    }
   ],
   "source": [
    "myList"
   ]
  },
  {
   "cell_type": "code",
   "execution_count": 35,
   "id": "e64d043f",
   "metadata": {},
   "outputs": [
    {
     "name": "stdout",
     "output_type": "stream",
     "text": [
      "4.0\n",
      "8.0\n",
      "12.0\n",
      "16.0\n",
      "20.0\n",
      "24.0\n",
      "28.0\n",
      "32.0\n",
      "36.0\n",
      "40.0\n"
     ]
    }
   ],
   "source": [
    "for number in myList :\n",
    "    print(number * 2 / 5)"
   ]
  },
  {
   "cell_type": "code",
   "execution_count": 36,
   "id": "aa3dc462",
   "metadata": {},
   "outputs": [
    {
     "name": "stdout",
     "output_type": "stream",
     "text": [
      "starting for loop\n",
      "4.0\n",
      "8.0\n",
      "12.0\n",
      "16.0\n",
      "20.0\n",
      "24.0\n",
      "28.0\n",
      "32.0\n",
      "36.0\n",
      "40.0\n",
      "finished for loop\n"
     ]
    }
   ],
   "source": [
    "print(\"starting for loop\")   # burdaki kod benim for döngümle bir alakası yok\n",
    "for number in myList:\n",
    "    print(number * 2 / 5)\n",
    "print(\"finished for loop\")   # aynı şekilde bunun da bir alakası yok.\n",
    "                             # çünki for düngümün içinde değil.pythonda sintax kuralları çok daha az \n",
    "    # olduğu için burda şöyle bir mantık kurmuşlar ve demişler ki. biz bu yapacağımız işlemleri\n",
    "    # yerlerini dikkate alarak yapalım."
   ]
  },
  {
   "cell_type": "code",
   "execution_count": 37,
   "id": "e899c4db",
   "metadata": {},
   "outputs": [],
   "source": [
    "# şimdi benim listemin içersinde 6'ya bölünen tam bölünenleri yazdıralım"
   ]
  },
  {
   "cell_type": "code",
   "execution_count": 47,
   "id": "e95fc971",
   "metadata": {},
   "outputs": [
    {
     "data": {
      "text/plain": [
       "[10, 20, 30, 40, 50, 60, 70, 80, 90, 100]"
      ]
     },
     "execution_count": 47,
     "metadata": {},
     "output_type": "execute_result"
    }
   ],
   "source": [
    "myList"
   ]
  },
  {
   "cell_type": "code",
   "execution_count": 39,
   "id": "4a81e430",
   "metadata": {},
   "outputs": [
    {
     "name": "stdout",
     "output_type": "stream",
     "text": [
      "30\n",
      "60\n",
      "90\n"
     ]
    }
   ],
   "source": [
    "for elements in myList:\n",
    "    if elements % 6 == 0 :\n",
    "        print(elements)\n",
    "    else:\n",
    "        pass\n",
    "    "
   ]
  },
  {
   "cell_type": "raw",
   "id": "f02a1605",
   "metadata": {},
   "source": [
    "tabi sadece listelerde çalışmıyor bu tuple,set,string bir yazıda da çalışıyor.\n",
    "hatta directionary de bile çalışabiliriz."
   ]
  },
  {
   "cell_type": "code",
   "execution_count": 49,
   "id": "c7feb659",
   "metadata": {},
   "outputs": [],
   "source": [
    "myString = \"Ali Toker\"\n",
    "# biliyosunuz stringlerdede index mantığı vardır."
   ]
  },
  {
   "cell_type": "code",
   "execution_count": 50,
   "id": "6308a479",
   "metadata": {},
   "outputs": [
    {
     "name": "stdout",
     "output_type": "stream",
     "text": [
      "A\n",
      "l\n",
      "i\n",
      " \n",
      "T\n",
      "o\n",
      "k\n",
      "e\n",
      "r\n"
     ]
    }
   ],
   "source": [
    "for a in myString :\n",
    "    print(a)\n",
    "    \n",
    "# bu nerde kullanıcaz bilmiyorum ama  bunun da içine girebiliyoruz."
   ]
  },
  {
   "cell_type": "code",
   "execution_count": 54,
   "id": "f6830c59",
   "metadata": {},
   "outputs": [],
   "source": [
    "my_tuple_list = [(10,20),(30,40),(50,60)]"
   ]
  },
  {
   "cell_type": "code",
   "execution_count": 55,
   "id": "6244aacb",
   "metadata": {},
   "outputs": [
    {
     "data": {
      "text/plain": [
       "[(10, 20), (30, 40), (50, 60)]"
      ]
     },
     "execution_count": 55,
     "metadata": {},
     "output_type": "execute_result"
    }
   ],
   "source": [
    "my_tuple_list"
   ]
  },
  {
   "cell_type": "code",
   "execution_count": 56,
   "id": "31323b65",
   "metadata": {},
   "outputs": [
    {
     "data": {
      "text/plain": [
       "3"
      ]
     },
     "execution_count": 56,
     "metadata": {},
     "output_type": "execute_result"
    }
   ],
   "source": [
    "len(my_tuple_list)"
   ]
  },
  {
   "cell_type": "code",
   "execution_count": 57,
   "id": "9854659e",
   "metadata": {},
   "outputs": [
    {
     "name": "stdout",
     "output_type": "stream",
     "text": [
      "10 20\n",
      "30 40\n",
      "50 60\n"
     ]
    }
   ],
   "source": [
    "for x,y in my_tuple_list :\n",
    "    print(x,y)\n",
    "    \n",
    "# bunun olabilmesi için listemin içinde bulunan tuple ların hepsinin 2 elemanlı\n",
    "# olması gerek.yoksa zaten bir zincirin kopması gibi kopar."
   ]
  },
  {
   "cell_type": "code",
   "execution_count": 65,
   "id": "cd300fbe",
   "metadata": {},
   "outputs": [
    {
     "data": {
      "text/plain": [
       "[(10, 20), (30, 40), (50, 60)]"
      ]
     },
     "execution_count": 65,
     "metadata": {},
     "output_type": "execute_result"
    }
   ],
   "source": [
    "my_tuple_list"
   ]
  },
  {
   "cell_type": "code",
   "execution_count": 66,
   "id": "9cc2ec7e",
   "metadata": {},
   "outputs": [
    {
     "name": "stdout",
     "output_type": "stream",
     "text": [
      "20\n",
      "40\n",
      "60\n"
     ]
    }
   ],
   "source": [
    "for x,y in my_tuple_list :\n",
    "    print(y)"
   ]
  },
  {
   "cell_type": "code",
   "execution_count": 76,
   "id": "4311192e",
   "metadata": {},
   "outputs": [],
   "source": [
    "# acaba benim dictionary de nasıl çalışır bu zaten bir sözlüktür.ben bunu {} ve : dan anlıyorum.\n",
    "my_Dictionary = {\"k1\":10,\"k2\":20,\"k3\":30,\"k4\":40}"
   ]
  },
  {
   "cell_type": "code",
   "execution_count": 89,
   "id": "36d81f6a",
   "metadata": {},
   "outputs": [
    {
     "name": "stdout",
     "output_type": "stream",
     "text": [
      "k1\n",
      "k2\n",
      "k3\n",
      "k4\n"
     ]
    }
   ],
   "source": [
    "for vesile in my_Dictionary : \n",
    "    print(vesile)"
   ]
  },
  {
   "cell_type": "code",
   "execution_count": 91,
   "id": "2b9b96b9",
   "metadata": {},
   "outputs": [
    {
     "data": {
      "text/plain": [
       "dict_items([('k1', 10), ('k2', 20), ('k3', 30), ('k4', 40)])"
      ]
     },
     "execution_count": 91,
     "metadata": {},
     "output_type": "execute_result"
    }
   ],
   "source": [
    "my_Dictionary.items() \n",
    "\n",
    "# items = ögeler demektir .items() fonsiyonu her bir anahtar değer uyumunu bir tuple içine sokar\n",
    "# ve en son list şeklinde olayı kapatır."
   ]
  },
  {
   "cell_type": "code",
   "execution_count": 96,
   "id": "a3e458db",
   "metadata": {},
   "outputs": [
    {
     "name": "stdout",
     "output_type": "stream",
     "text": [
      "('k1', 10)\n",
      "('k2', 20)\n",
      "('k3', 30)\n",
      "('k4', 40)\n"
     ]
    }
   ],
   "source": [
    "for number in my_Dictionary.items(): \n",
    "    print(number)"
   ]
  },
  {
   "cell_type": "code",
   "execution_count": 97,
   "id": "072d6129",
   "metadata": {},
   "outputs": [
    {
     "data": {
      "text/plain": [
       "{'k1': 10, 'k2': 20, 'k3': 30, 'k4': 40}"
      ]
     },
     "execution_count": 97,
     "metadata": {},
     "output_type": "execute_result"
    }
   ],
   "source": [
    "my_Dictionary"
   ]
  },
  {
   "cell_type": "code",
   "execution_count": 95,
   "id": "a88f5ce1",
   "metadata": {},
   "outputs": [
    {
     "name": "stdout",
     "output_type": "stream",
     "text": [
      "k 1\n",
      "k 2\n",
      "k 3\n",
      "k 4\n"
     ]
    }
   ],
   "source": [
    "for number,axher in my_Dictionary :     # sözcüklerde varsayılan olarak anahtarları  \n",
    "    print(number,axher)                 # aldı."
   ]
  },
  {
   "cell_type": "code",
   "execution_count": 98,
   "id": "3a754e21",
   "metadata": {},
   "outputs": [
    {
     "name": "stdout",
     "output_type": "stream",
     "text": [
      "10\n",
      "20\n",
      "30\n",
      "40\n"
     ]
    }
   ],
   "source": [
    "for number in my_Dictionary.values(): \n",
    "    print(number)"
   ]
  },
  {
   "cell_type": "code",
   "execution_count": 99,
   "id": "162e1f9f",
   "metadata": {},
   "outputs": [
    {
     "data": {
      "text/plain": [
       "dict_items([('k1', 10), ('k2', 20), ('k3', 30), ('k4', 40)])"
      ]
     },
     "execution_count": 99,
     "metadata": {},
     "output_type": "execute_result"
    }
   ],
   "source": [
    "my_Dictionary.items()"
   ]
  },
  {
   "cell_type": "code",
   "execution_count": 106,
   "id": "47e85852",
   "metadata": {},
   "outputs": [
    {
     "name": "stdout",
     "output_type": "stream",
     "text": [
      "k1 10\n",
      "k2 20\n",
      "k3 30\n",
      "k4 40\n"
     ]
    }
   ],
   "source": [
    "for (key,value) in my_Dictionary.items(): \n",
    "    print(key,value,)\n",
    " # bu şekilde de yapabiliyoruz."
   ]
  },
  {
   "cell_type": "markdown",
   "id": "97d2aa14",
   "metadata": {},
   "source": [
    "# continue - break - pass\n"
   ]
  },
  {
   "cell_type": "raw",
   "id": "a9e695a0",
   "metadata": {},
   "source": [
    "Bunlar dögülerle ilişkili olan temalardır. yani biz bunu döngüler söz bahis olduğunda kullanırız."
   ]
  },
  {
   "cell_type": "code",
   "execution_count": 2,
   "id": "cc2e46cf",
   "metadata": {},
   "outputs": [],
   "source": [
    "myList70 = [10,20,30,40,50,60,70,80]"
   ]
  },
  {
   "cell_type": "raw",
   "id": "484d1753",
   "metadata": {},
   "source": [
    " bazen döngüleri yarıda kesmek isteyebiliriz.Belki bir rakam arıyoruz.veya baska bir sey.\n",
    "\n",
    " mesela yukardaki listemde 40'ın olup olmadığını ben nasıl bakarım."
   ]
  },
  {
   "cell_type": "code",
   "execution_count": 4,
   "id": "254a8716",
   "metadata": {},
   "outputs": [
    {
     "name": "stdout",
     "output_type": "stream",
     "text": [
      "10\n",
      "20\n",
      "30\n",
      "40\n",
      "Evet burda\n",
      "50\n",
      "60\n",
      "70\n",
      "80\n"
     ]
    }
   ],
   "source": [
    "for number in myList70 :\n",
    "    print(number)\n",
    "    if number == 40 :\n",
    "        print(\"Evet burda\")\n",
    "# bu şekilde 40'ı bulduğu halde ıf dongusu çalışmaya devam eder ama bu buyuk projelerde\n",
    "# programın yavaslamasına sebep olur.ve ben bunu istemem."
   ]
  },
  {
   "cell_type": "code",
   "execution_count": 6,
   "id": "ab7f24d0",
   "metadata": {},
   "outputs": [
    {
     "data": {
      "text/plain": [
       "[10, 20, 30, 40, 50, 60, 70, 80]"
      ]
     },
     "execution_count": 6,
     "metadata": {},
     "output_type": "execute_result"
    }
   ],
   "source": [
    "myList70"
   ]
  },
  {
   "cell_type": "code",
   "execution_count": 8,
   "id": "b9d0098a",
   "metadata": {},
   "outputs": [
    {
     "name": "stdout",
     "output_type": "stream",
     "text": [
      "10\n",
      "20\n",
      "30\n",
      "40\n",
      "Evet burda\n"
     ]
    }
   ],
   "source": [
    "for number in myList70 :\n",
    "    print(number)\n",
    "    if number == 40 :\n",
    "        print(\"Evet burda\")\n",
    "        break\n",
    "# break ifadesi,sadece içinde bulunduğu döngüyü sonlandırır. Eğer iç içe döngüler varsa, break\n",
    "# sadece en içteki döngüyü sonlandırır."
   ]
  },
  {
   "cell_type": "code",
   "execution_count": 9,
   "id": "87902fd6",
   "metadata": {},
   "outputs": [
    {
     "name": "stdout",
     "output_type": "stream",
     "text": [
      "Dıştaki döngü 0\n",
      "İçteki döngü 0\n",
      "İçteki döngü 1\n",
      "İçteki döngü 2\n",
      "İçteki döngü break ile sonlandırıldı.\n",
      "Dıştaki döngü 1\n",
      "İçteki döngü 0\n",
      "İçteki döngü 1\n",
      "İçteki döngü 2\n",
      "İçteki döngü break ile sonlandırıldı.\n",
      "Dıştaki döngü 2\n",
      "İçteki döngü 0\n",
      "İçteki döngü 1\n",
      "İçteki döngü 2\n",
      "İçteki döngü break ile sonlandırıldı.\n",
      "Dıştaki döngü 3\n",
      "İçteki döngü 0\n",
      "İçteki döngü 1\n",
      "İçteki döngü 2\n",
      "İçteki döngü break ile sonlandırıldı.\n",
      "Dıştaki döngü 4\n",
      "İçteki döngü 0\n",
      "İçteki döngü 1\n",
      "İçteki döngü 2\n",
      "İçteki döngü break ile sonlandırıldı.\n"
     ]
    }
   ],
   "source": [
    "for i in range(5):\n",
    "    print(\"Dıştaki döngü\", i)\n",
    "    for j in range(5):\n",
    "        print(\"İçteki döngü\", j)\n",
    "        if j == 2:\n",
    "            print(\"İçteki döngü break ile sonlandırıldı.\")\n",
    "            break\n",
    "# bakın burda break sadece kendi içinde olduğu döngüyü kırdı.diğer büyük olan döngüyü kırmadı."
   ]
  },
  {
   "cell_type": "code",
   "execution_count": 11,
   "id": "6663b4ba",
   "metadata": {},
   "outputs": [
    {
     "data": {
      "text/plain": [
       "[10, 20, 30, 40, 50, 60, 70, 80]"
      ]
     },
     "execution_count": 11,
     "metadata": {},
     "output_type": "execute_result"
    }
   ],
   "source": [
    "myList70"
   ]
  },
  {
   "cell_type": "code",
   "execution_count": 10,
   "id": "5e3804e3",
   "metadata": {},
   "outputs": [
    {
     "name": "stdout",
     "output_type": "stream",
     "text": [
      "10\n",
      "20\n",
      "30\n",
      "40\n",
      "50\n",
      "60\n",
      "70\n",
      "80\n"
     ]
    }
   ],
   "source": [
    "for number in myList70 :              # continue şu anlama geliyor burda dur ve bundan sonrasını çalış\n",
    "    print(number)                   # tırma ve yukardan devam et.\n",
    "    if number == 40 :\n",
    "        continue             \n",
    "        print(\"Evet burda\")\n",
    "        "
   ]
  },
  {
   "cell_type": "code",
   "execution_count": 12,
   "id": "827ee06e",
   "metadata": {},
   "outputs": [
    {
     "name": "stdout",
     "output_type": "stream",
     "text": [
      "10\n",
      "20\n",
      "30\n",
      "50\n",
      "60\n",
      "70\n",
      "80\n"
     ]
    }
   ],
   "source": [
    "for number in myList70 :              \n",
    "    if number == 40 :\n",
    "        continue            # ben burda 40'ı yazamadım.benim aşağıya inmeme izin vermedi.  \n",
    "    print(number)"
   ]
  },
  {
   "cell_type": "code",
   "execution_count": null,
   "id": "28e56109",
   "metadata": {},
   "outputs": [],
   "source": [
    "while True:\n",
    "    user_input = int(input(\"Pozitif bir sayı girin (çıkmak için 0): \"))\n",
    "    \n",
    "    if user_input == 0:\n",
    "        print(\"Programdan çıkılıyor.\")\n",
    "        break\n",
    "    \n",
    "    if user_input < 0:\n",
    "        print(\"Negatif sayı girişi! Tekrar deneyin.\")\n",
    "        continue\n",
    "# contiune'nin mantığı burda zaten istenmeyen bir durumda tamam diyo sen böyle bir şey yaptın ama\n",
    "# \"devam et\" gözüm seni görmesin.\n",
    "    print(\"Girilen sayı:\", user_input)"
   ]
  },
  {
   "cell_type": "code",
   "execution_count": 68,
   "id": "2a0a2094",
   "metadata": {},
   "outputs": [],
   "source": [
    "for number in myList :\n",
    "    pass\n",
    "# pass'i biz genelde bitmiş kodda pek görmeyiz geliştirme aşamasında olan kadda bulunur genelde."
   ]
  },
  {
   "cell_type": "markdown",
   "id": "75a47361",
   "metadata": {},
   "source": [
    "SORU1:Bir kullanıcıdan sıralı bir şekilde sayı girişi alın ve 5'i bulduğunuzda döngüyü sonlandırın."
   ]
  },
  {
   "cell_type": "code",
   "execution_count": 14,
   "id": "be40a742",
   "metadata": {},
   "outputs": [
    {
     "name": "stdout",
     "output_type": "stream",
     "text": [
      "lütfen girmek istediğiniz sayıyı belirtin:34\n",
      "34\n",
      "lütfen girmek istediğiniz sayıyı belirtin:12\n",
      "12\n",
      "lütfen girmek istediğiniz sayıyı belirtin:12\n",
      "12\n",
      "lütfen girmek istediğiniz sayıyı belirtin:5\n",
      "5\n"
     ]
    }
   ],
   "source": [
    "while True:                 # True ifadesini yazmamın sebebi bu sürekli dönsün ben kendim istediğim\n",
    "                            # vakit zaten while döngüsünü kırabilirim.\n",
    "        \n",
    "    sayı_girişi=int(input(\"lütfen girmek istediğiniz sayıyı belirtin:\"))\n",
    "    print(sayı_girişi)\n",
    "    \n",
    "    if sayı_girişi == 5 :\n",
    "        break"
   ]
  },
  {
   "cell_type": "markdown",
   "id": "159dfa84",
   "metadata": {},
   "source": [
    "SORU2:Kullanıcı Doğrulama: Kullanıcıdan bir şifre girişi alın. Doğru şifreyi girene kadar döngü devam etsin, ancak 3 yanlış girişten sonra döngüyü sonlandırsın."
   ]
  },
  {
   "cell_type": "code",
   "execution_count": null,
   "id": "d8b27f5e",
   "metadata": {},
   "outputs": [],
   "source": [
    "correct_password = \"gizli123\"\n",
    "max_attempts = 3\n",
    "attempts = 0\n",
    "\n",
    "while attempts < max_attempts:\n",
    "    user_input = input(\"Şifreyi girin: \")\n",
    "\n",
    "    if user_input == correct_password:\n",
    "        print(\"Giriş başarılı. Hoş geldiniz!\")\n",
    "        break  # Doğru şifre girildi, döngüyü sonlandır.\n",
    "    else:\n",
    "        attempts += 1\n",
    "        remaining_attempts = max_attempts - attempts\n",
    "        print(f\"Yanlış şifre. Kalan deneme hakkınız: {remaining_attempts}\")\n",
    "\n",
    "if attempts == max_attempts:\n",
    "    print(\"Maksimum deneme sayısına ulaşıldı. Giriş başarısız.\")"
   ]
  },
  {
   "cell_type": "markdown",
   "id": "6cb770b6",
   "metadata": {},
   "source": [
    "yani şunu anlamak lazım bu contiune break pass ifadelerini biz çok fazla kullanıcaz.bunlar bizim için \n",
    "önemli."
   ]
  }
 ],
 "metadata": {
  "kernelspec": {
   "display_name": "Python 3 (ipykernel)",
   "language": "python",
   "name": "python3"
  },
  "language_info": {
   "codemirror_mode": {
    "name": "ipython",
    "version": 3
   },
   "file_extension": ".py",
   "mimetype": "text/x-python",
   "name": "python",
   "nbconvert_exporter": "python",
   "pygments_lexer": "ipython3",
   "version": "3.11.3"
  }
 },
 "nbformat": 4,
 "nbformat_minor": 5
}
