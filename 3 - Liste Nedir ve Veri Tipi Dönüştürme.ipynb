{
 "cells": [
  {
   "cell_type": "code",
   "execution_count": 1,
   "id": "e9770b54",
   "metadata": {},
   "outputs": [],
   "source": [
    "myString = \"Merhaba Python\""
   ]
  },
  {
   "cell_type": "code",
   "execution_count": 12,
   "id": "27f4d814",
   "metadata": {},
   "outputs": [
    {
     "data": {
      "text/plain": [
       "['Merhaba', 'Python']"
      ]
     },
     "execution_count": 12,
     "metadata": {},
     "output_type": "execute_result"
    }
   ],
   "source": [
    "myString.split()\n",
    "# split zaten bölmek demektir.boşluktan bölüp artık kaç boşluk varsa onları liste haline sokma işlemi\n",
    "# aslında."
   ]
  },
  {
   "cell_type": "code",
   "execution_count": 14,
   "id": "2b613359",
   "metadata": {},
   "outputs": [
    {
     "data": {
      "text/plain": [
       "list"
      ]
     },
     "execution_count": 14,
     "metadata": {},
     "output_type": "execute_result"
    }
   ],
   "source": [
    "type(myString.split())        # .split fonksiyonu ile birlikte benim \"myString\" ifademi \"list\" tipine\n",
    "                              # soktu."
   ]
  },
  {
   "cell_type": "raw",
   "id": "869cac9b",
   "metadata": {},
   "source": [
    "Şimdi list ne demek aslında list bir veri tipi değil veri yapısı \n",
    "içinde birden fazla veriyi tutmak için kullanılan yapı."
   ]
  },
  {
   "cell_type": "raw",
   "id": "f068dff2",
   "metadata": {},
   "source": [
    "ben string bir ifademin index kullanarak herhangi bir harfini değiştiremem zaten değiştirmekte saçma\n",
    "olur.işte bu olaya yani değiştirilemezliğe \"immutable yada immutability\" denir."
   ]
  },
  {
   "cell_type": "code",
   "execution_count": 15,
   "id": "84b73ec8",
   "metadata": {},
   "outputs": [
    {
     "data": {
      "text/plain": [
       "'Merhaba Python'"
      ]
     },
     "execution_count": 15,
     "metadata": {},
     "output_type": "execute_result"
    }
   ],
   "source": [
    "myString"
   ]
  },
  {
   "cell_type": "code",
   "execution_count": 7,
   "id": "e0084dc9",
   "metadata": {},
   "outputs": [],
   "source": [
    "#myString[0] = \"a\"     ben bu olayı yapamam şaçma zaten bunu kim yapmak ister.\n",
    "# ama ben listelerde(list) değiştirebilirim."
   ]
  },
  {
   "cell_type": "markdown",
   "id": "81d116e5",
   "metadata": {},
   "source": [
    "Python'daki stringlerin değiştirilemez (immutable) olma özelliği, dilin tasarım felsefesine ve bazı avantajlara dayanmaktadır. İşte bu özelliğin arkasındaki bazı nedenler:\n",
    "\n",
    "Performans,\n",
    "\n",
    "Referans Stabilitesi: Değiştirilemez veri tipleri, bir kez oluşturulduktan sonra değerlerinin değişmemesini sağlar. Bu özellik, özellikle büyük sistemlerde ve çoklu iş parçacığı (multithreaded) programlamada referans stabilitesini koruma açısından önemli olabilir.\n",
    "\n",
    "Fonksiyonel Programlama: Değiştirilemez veri tipleri, fonksiyonel programlama yaklaşımına uygun bir özellik sunar. Bu tür programlamada, veri değiştirilmez ve işlemler genellikle yeni veri oluşturarak yapılır.\n",
    "\n",
    "Hata Ayıklama Kolaylığı: Değiştirilemez veri tipleri, kodun daha güvenli ve hata ayıklamasının daha kolay olmasına katkıda bulunabilir. Özellikle büyük projelerde, değişmeyen veri tipleri, kodunun beklenmeyen durumlara karşı daha sağlam olmasına yardımcı olabilir."
   ]
  },
  {
   "cell_type": "markdown",
   "id": "282617d8",
   "metadata": {},
   "source": [
    "# list"
   ]
  },
  {
   "cell_type": "raw",
   "id": "0fa37547",
   "metadata": {},
   "source": [
    " Gelin şimdi bir liste oluşturalım da neymiş bu listeler bi bakalım."
   ]
  },
  {
   "cell_type": "code",
   "execution_count": 17,
   "id": "1c6850e3",
   "metadata": {},
   "outputs": [],
   "source": [
    "myList = [10,20,30,40,50,60,70]"
   ]
  },
  {
   "cell_type": "code",
   "execution_count": 18,
   "id": "47a7da54",
   "metadata": {},
   "outputs": [
    {
     "data": {
      "text/plain": [
       "list"
      ]
     },
     "execution_count": 18,
     "metadata": {},
     "output_type": "execute_result"
    }
   ],
   "source": [
    "type(myList)"
   ]
  },
  {
   "cell_type": "code",
   "execution_count": 19,
   "id": "20b1fff7",
   "metadata": {},
   "outputs": [],
   "source": [
    "x = 10\n",
    "y = 20 \n",
    "z = 30"
   ]
  },
  {
   "cell_type": "code",
   "execution_count": 20,
   "id": "4a97325c",
   "metadata": {},
   "outputs": [],
   "source": [
    "myList2 = [x,y,z]       # gördüğünüz gibi birden fazla değişkeni tek bir değişken içinde tutmama\n",
    "                        # olanak tanıyor."
   ]
  },
  {
   "cell_type": "code",
   "execution_count": 21,
   "id": "047e4432",
   "metadata": {},
   "outputs": [
    {
     "data": {
      "text/plain": [
       "[10, 20, 30]"
      ]
     },
     "execution_count": 21,
     "metadata": {},
     "output_type": "execute_result"
    }
   ],
   "source": [
    "myList2"
   ]
  },
  {
   "cell_type": "raw",
   "id": "dd798d9a",
   "metadata": {},
   "source": [
    "ben bu listelere tek tek index mantığıyla ulaşabilirim."
   ]
  },
  {
   "cell_type": "code",
   "execution_count": 22,
   "id": "eee6346b",
   "metadata": {},
   "outputs": [
    {
     "data": {
      "text/plain": [
       "[10, 20, 30, 40, 50, 60, 70]"
      ]
     },
     "execution_count": 22,
     "metadata": {},
     "output_type": "execute_result"
    }
   ],
   "source": [
    "myList"
   ]
  },
  {
   "cell_type": "code",
   "execution_count": 23,
   "id": "63c9dff7",
   "metadata": {},
   "outputs": [
    {
     "data": {
      "text/plain": [
       "30"
      ]
     },
     "execution_count": 23,
     "metadata": {},
     "output_type": "execute_result"
    }
   ],
   "source": [
    "myList[2]       # bu şekilde "
   ]
  },
  {
   "cell_type": "code",
   "execution_count": 24,
   "id": "b73a28dc",
   "metadata": {},
   "outputs": [
    {
     "data": {
      "text/plain": [
       "list"
      ]
     },
     "execution_count": 24,
     "metadata": {},
     "output_type": "execute_result"
    }
   ],
   "source": [
    "type(myList)          # ben bu listeleri çok fazla kullanıcam çok karşıma çıkacak bunlar benim."
   ]
  },
  {
   "cell_type": "code",
   "execution_count": 26,
   "id": "58abc01c",
   "metadata": {},
   "outputs": [
    {
     "data": {
      "text/plain": [
       "int"
      ]
     },
     "execution_count": 26,
     "metadata": {},
     "output_type": "execute_result"
    }
   ],
   "source": [
    "type(myList[0])      # aslında \"myList[0]\" artık bir sayıya eşittir."
   ]
  },
  {
   "cell_type": "raw",
   "id": "b10c51b9",
   "metadata": {},
   "source": [
    "aynı zamanda ben listemen herhangi bir karakterini değiştirebiliryorum string olan mutable veya mutability burda geçerli değil."
   ]
  },
  {
   "cell_type": "code",
   "execution_count": 27,
   "id": "a354839c",
   "metadata": {},
   "outputs": [],
   "source": [
    "myList[0] = 150"
   ]
  },
  {
   "cell_type": "code",
   "execution_count": 28,
   "id": "375920ee",
   "metadata": {},
   "outputs": [
    {
     "data": {
      "text/plain": [
       "[150, 20, 30, 40, 50, 60, 70]"
      ]
     },
     "execution_count": 28,
     "metadata": {},
     "output_type": "execute_result"
    }
   ],
   "source": [
    "myList"
   ]
  },
  {
   "cell_type": "raw",
   "id": "d8770fb1",
   "metadata": {},
   "source": [
    "ben aynı şekilde burdada son terimi çağırabiliyorum."
   ]
  },
  {
   "cell_type": "code",
   "execution_count": 29,
   "id": "0de4cf20",
   "metadata": {},
   "outputs": [
    {
     "data": {
      "text/plain": [
       "70"
      ]
     },
     "execution_count": 29,
     "metadata": {},
     "output_type": "execute_result"
    }
   ],
   "source": [
    "myList[-1]       # gibi"
   ]
  },
  {
   "cell_type": "raw",
   "id": "2522e06f",
   "metadata": {},
   "source": [
    "her bir değişkenin farklı özellikleri olduğuna göre listelerinde farklı özelikleir var tabiki."
   ]
  },
  {
   "cell_type": "code",
   "execution_count": 30,
   "id": "2314afa1",
   "metadata": {},
   "outputs": [
    {
     "data": {
      "text/plain": [
       "[150, 20, 30, 40, 50, 60, 70]"
      ]
     },
     "execution_count": 30,
     "metadata": {},
     "output_type": "execute_result"
    }
   ],
   "source": [
    "myList"
   ]
  },
  {
   "cell_type": "code",
   "execution_count": 31,
   "id": "4078fdc6",
   "metadata": {},
   "outputs": [],
   "source": [
    "myList.append(80)         #benim listemi tamamen değiştiriyor.ebediyen\n",
    "         # aynı zamanda benim eklemis olduğum karakteri mantıken en sona ekler."
   ]
  },
  {
   "cell_type": "code",
   "execution_count": 32,
   "id": "decc99a9",
   "metadata": {},
   "outputs": [
    {
     "data": {
      "text/plain": [
       "[150, 20, 30, 40, 50, 60, 70, 80]"
      ]
     },
     "execution_count": 32,
     "metadata": {},
     "output_type": "execute_result"
    }
   ],
   "source": [
    "myList"
   ]
  },
  {
   "cell_type": "code",
   "execution_count": 33,
   "id": "7ad1d1fc",
   "metadata": {},
   "outputs": [],
   "source": [
    "myList.append(1)         # zaten en sona eklemek çok mantıklı bir seçenek\n",
    "                         # olarak karşıma çıkar."
   ]
  },
  {
   "cell_type": "code",
   "execution_count": 34,
   "id": "747c0213",
   "metadata": {},
   "outputs": [
    {
     "data": {
      "text/plain": [
       "[150, 20, 30, 40, 50, 60, 70, 80, 1]"
      ]
     },
     "execution_count": 34,
     "metadata": {},
     "output_type": "execute_result"
    }
   ],
   "source": [
    "myList"
   ]
  },
  {
   "cell_type": "code",
   "execution_count": 35,
   "id": "4a4dbc54",
   "metadata": {},
   "outputs": [
    {
     "ename": "TypeError",
     "evalue": "list.append() takes exactly one argument (3 given)",
     "output_type": "error",
     "traceback": [
      "\u001b[1;31m---------------------------------------------------------------------------\u001b[0m",
      "\u001b[1;31mTypeError\u001b[0m                                 Traceback (most recent call last)",
      "Cell \u001b[1;32mIn[35], line 1\u001b[0m\n\u001b[1;32m----> 1\u001b[0m myList\u001b[38;5;241m.\u001b[39mappend(\u001b[38;5;241m2\u001b[39m,\u001b[38;5;241m3\u001b[39m,\u001b[38;5;241m4\u001b[39m)\n",
      "\u001b[1;31mTypeError\u001b[0m: list.append() takes exactly one argument (3 given)"
     ]
    }
   ],
   "source": [
    "myList.append(2,3,4)"
   ]
  },
  {
   "cell_type": "code",
   "execution_count": 36,
   "id": "41cfe13d",
   "metadata": {},
   "outputs": [
    {
     "data": {
      "text/plain": [
       "1"
      ]
     },
     "execution_count": 36,
     "metadata": {},
     "output_type": "execute_result"
    }
   ],
   "source": [
    "myList.count(30)          # count = saymak demektir.sizce neyi sayabilir.\n",
    "                    # listemin içinde belirttiğim sayıdan başka"
   ]
  },
  {
   "cell_type": "code",
   "execution_count": 30,
   "id": "afe44501",
   "metadata": {},
   "outputs": [
    {
     "data": {
      "text/plain": [
       "3"
      ]
     },
     "execution_count": 30,
     "metadata": {},
     "output_type": "execute_result"
    }
   ],
   "source": [
    "myList.index(40)      # içersindeki olan karakterin kaçıncı index de olduğunu \n",
    "                       # bana gösterdi."
   ]
  },
  {
   "cell_type": "code",
   "execution_count": 37,
   "id": "70a1a652",
   "metadata": {},
   "outputs": [
    {
     "name": "stdout",
     "output_type": "stream",
     "text": [
      "Help on built-in function insert:\n",
      "\n",
      "insert(index, object, /) method of builtins.list instance\n",
      "    Insert object before index.\n",
      "\n"
     ]
    }
   ],
   "source": [
    "help(myList.insert)    # insert eklemek demektir ama demekki append bir farkı\n",
    "                       # varki ayrılmış.\n",
    "# insertte ben kaçıncı indekxte eklemek istediğimide belirtebiliyorum.\n",
    "# append de her zaman ekliyeceğim karakter sona eklenir.Ama insert de öyle değil."
   ]
  },
  {
   "cell_type": "code",
   "execution_count": 38,
   "id": "c4a278fe",
   "metadata": {},
   "outputs": [
    {
     "data": {
      "text/plain": [
       "[150, 20, 30, 40, 50, 60, 70, 80, 1]"
      ]
     },
     "execution_count": 38,
     "metadata": {},
     "output_type": "execute_result"
    }
   ],
   "source": [
    "myList"
   ]
  },
  {
   "cell_type": "code",
   "execution_count": 41,
   "id": "3e0fa057",
   "metadata": {},
   "outputs": [],
   "source": [
    "myList.insert(2,25)            # 2.index'e 25 ekle demektir.\n",
    "# yani anlıycağınız appendin daha gelismiş hali olduğunu söyleyebilirim.fakat nerde kullanıcağına\n",
    "# göre verimliliği belli olucaktır."
   ]
  },
  {
   "cell_type": "code",
   "execution_count": 42,
   "id": "1e76a8c5",
   "metadata": {},
   "outputs": [
    {
     "data": {
      "text/plain": [
       "[150, 20, 25, 25, 30, 40, 50, 60, 70, 80, 1]"
      ]
     },
     "execution_count": 42,
     "metadata": {},
     "output_type": "execute_result"
    }
   ],
   "source": [
    "myList"
   ]
  },
  {
   "cell_type": "code",
   "execution_count": 43,
   "id": "75d92734",
   "metadata": {},
   "outputs": [
    {
     "data": {
      "text/plain": [
       "1"
      ]
     },
     "execution_count": 43,
     "metadata": {},
     "output_type": "execute_result"
    }
   ],
   "source": [
    "myList.pop()            # .pop() fonksiyonu benim dizimde son elemanı atar.\n",
    "                       # gönderir."
   ]
  },
  {
   "cell_type": "code",
   "execution_count": 49,
   "id": "4f7426b7",
   "metadata": {},
   "outputs": [
    {
     "data": {
      "text/plain": [
       "[20, 25, 25, 30, 40, 50, 60, 70, 80]"
      ]
     },
     "execution_count": 49,
     "metadata": {},
     "output_type": "execute_result"
    }
   ],
   "source": [
    "myList"
   ]
  },
  {
   "cell_type": "code",
   "execution_count": 51,
   "id": "b369b101",
   "metadata": {},
   "outputs": [],
   "source": [
    "myList.remove(50)             # remove = kaldırmak demektir.Neyi kaldırmak\n",
    "                 # istersen onu belirtirsin remove da kaldırır."
   ]
  },
  {
   "cell_type": "code",
   "execution_count": 52,
   "id": "8c9fd455",
   "metadata": {},
   "outputs": [
    {
     "data": {
      "text/plain": [
       "[20, 25, 25, 30, 40, 60, 70, 80]"
      ]
     },
     "execution_count": 52,
     "metadata": {},
     "output_type": "execute_result"
    }
   ],
   "source": [
    "myList"
   ]
  },
  {
   "cell_type": "code",
   "execution_count": 53,
   "id": "6768ad6d",
   "metadata": {},
   "outputs": [],
   "source": [
    "myList.reverse()          # ters çevirme olayını gerçekleştirir."
   ]
  },
  {
   "cell_type": "code",
   "execution_count": 54,
   "id": "14da9601",
   "metadata": {},
   "outputs": [
    {
     "data": {
      "text/plain": [
       "[80, 70, 60, 40, 30, 25, 25, 20]"
      ]
     },
     "execution_count": 54,
     "metadata": {},
     "output_type": "execute_result"
    }
   ],
   "source": [
    "myList"
   ]
  },
  {
   "cell_type": "code",
   "execution_count": 55,
   "id": "a925e5b1",
   "metadata": {},
   "outputs": [],
   "source": [
    "myList.sort()            # küçükten başlayarak dizme işlemi yapar."
   ]
  },
  {
   "cell_type": "code",
   "execution_count": 56,
   "id": "c92c5030",
   "metadata": {},
   "outputs": [
    {
     "data": {
      "text/plain": [
       "[20, 25, 25, 30, 40, 60, 70, 80]"
      ]
     },
     "execution_count": 56,
     "metadata": {},
     "output_type": "execute_result"
    }
   ],
   "source": [
    "myList"
   ]
  },
  {
   "cell_type": "code",
   "execution_count": 57,
   "id": "7a54c625",
   "metadata": {},
   "outputs": [],
   "source": [
    "myList.append(\"a\")"
   ]
  },
  {
   "cell_type": "code",
   "execution_count": 58,
   "id": "1d0a6e3b",
   "metadata": {},
   "outputs": [],
   "source": [
    "myList.append(\"A\")"
   ]
  },
  {
   "cell_type": "code",
   "execution_count": 63,
   "id": "ec9d5a02",
   "metadata": {},
   "outputs": [
    {
     "data": {
      "text/plain": [
       "[20, 25, 25, 30, 40, 60, 70, 80, 'a', 'A']"
      ]
     },
     "execution_count": 63,
     "metadata": {},
     "output_type": "execute_result"
    }
   ],
   "source": [
    "myList"
   ]
  },
  {
   "cell_type": "code",
   "execution_count": 65,
   "id": "17457815",
   "metadata": {},
   "outputs": [
    {
     "ename": "TypeError",
     "evalue": "'<' not supported between instances of 'str' and 'int'",
     "output_type": "error",
     "traceback": [
      "\u001b[1;31m---------------------------------------------------------------------------\u001b[0m",
      "\u001b[1;31mTypeError\u001b[0m                                 Traceback (most recent call last)",
      "Cell \u001b[1;32mIn[65], line 1\u001b[0m\n\u001b[1;32m----> 1\u001b[0m myList\u001b[38;5;241m.\u001b[39msort()\n",
      "\u001b[1;31mTypeError\u001b[0m: '<' not supported between instances of 'str' and 'int'"
     ]
    }
   ],
   "source": [
    "myList.sort()     # benim sort fonksiyonum dizimin içinde string bir ifade \n",
    "                  # olduğu zaman patlıyor.ben nasıl olurda bir string ifadeyi sıralayabilirimki."
   ]
  },
  {
   "cell_type": "code",
   "execution_count": 66,
   "id": "d574d205",
   "metadata": {},
   "outputs": [
    {
     "data": {
      "text/plain": [
       "[20, 25, 25, 30, 40, 60, 70, 80, 'a', 'A']"
      ]
     },
     "execution_count": 66,
     "metadata": {},
     "output_type": "execute_result"
    }
   ],
   "source": [
    "myList"
   ]
  },
  {
   "cell_type": "raw",
   "id": "0cef4dbc",
   "metadata": {},
   "source": [
    "şimdi birkaç tane listelere ait olan methodları inceleyelim."
   ]
  },
  {
   "cell_type": "code",
   "execution_count": 67,
   "id": "512aaf69",
   "metadata": {},
   "outputs": [
    {
     "data": {
      "text/plain": [
       "[10, 20, 30]"
      ]
     },
     "execution_count": 67,
     "metadata": {},
     "output_type": "execute_result"
    }
   ],
   "source": [
    "myList2"
   ]
  },
  {
   "cell_type": "code",
   "execution_count": 69,
   "id": "72d99c43",
   "metadata": {},
   "outputs": [],
   "source": [
    "# extend = uzatmak demektir. 2 tane listeyi alıp birbirine bağlamak demektir.\n",
    "myList2.extend(myList)"
   ]
  },
  {
   "cell_type": "code",
   "execution_count": 70,
   "id": "69468f05",
   "metadata": {},
   "outputs": [
    {
     "data": {
      "text/plain": [
       "[10,\n",
       " 20,\n",
       " 30,\n",
       " 20,\n",
       " 25,\n",
       " 25,\n",
       " 30,\n",
       " 40,\n",
       " 60,\n",
       " 70,\n",
       " 80,\n",
       " 'a',\n",
       " 'A',\n",
       " 20,\n",
       " 25,\n",
       " 25,\n",
       " 30,\n",
       " 40,\n",
       " 60,\n",
       " 70,\n",
       " 80,\n",
       " 'a',\n",
       " 'A']"
      ]
     },
     "execution_count": 70,
     "metadata": {},
     "output_type": "execute_result"
    }
   ],
   "source": [
    "myList2\n",
    "# ben burda myList2 ye myList bağladım.ve artık benim myList2 nin yeni hali şu oldu;\n",
    "# mylist2 + myList"
   ]
  },
  {
   "cell_type": "code",
   "execution_count": 76,
   "id": "8861d904",
   "metadata": {},
   "outputs": [
    {
     "data": {
      "text/plain": [
       "[20, 25, 25, 30, 40, 60, 70, 80]"
      ]
     },
     "execution_count": 76,
     "metadata": {},
     "output_type": "execute_result"
    }
   ],
   "source": [
    "myList"
   ]
  },
  {
   "cell_type": "code",
   "execution_count": 72,
   "id": "4bc6e69e",
   "metadata": {},
   "outputs": [],
   "source": [
    "lastList = [\"megatron\",\"bambilbi\",\"jeck\",\"squareque\"]"
   ]
  },
  {
   "cell_type": "code",
   "execution_count": 77,
   "id": "31b24c6f",
   "metadata": {},
   "outputs": [
    {
     "data": {
      "text/plain": [
       "80"
      ]
     },
     "execution_count": 77,
     "metadata": {},
     "output_type": "execute_result"
    }
   ],
   "source": [
    "myList.pop()"
   ]
  },
  {
   "cell_type": "code",
   "execution_count": 78,
   "id": "31dcb5ba",
   "metadata": {},
   "outputs": [
    {
     "data": {
      "text/plain": [
       "[20, 25, 25, 30, 40, 60, 70]"
      ]
     },
     "execution_count": 78,
     "metadata": {},
     "output_type": "execute_result"
    }
   ],
   "source": [
    "myList"
   ]
  },
  {
   "cell_type": "code",
   "execution_count": 79,
   "id": "b4bebca9",
   "metadata": {},
   "outputs": [],
   "source": [
    "myList.insert(1,22)       # insert ile append arasında çok benzerlik vardır append sona ekleme\n",
    "                          # yaparken insert ise kordinatları verdiğin yere ekleme yapar.yani\n",
    "                          "
   ]
  },
  {
   "cell_type": "code",
   "execution_count": 80,
   "id": "9714e5bf",
   "metadata": {},
   "outputs": [
    {
     "data": {
      "text/plain": [
       "[20, 22, 25, 25, 30, 40, 60, 70]"
      ]
     },
     "execution_count": 80,
     "metadata": {},
     "output_type": "execute_result"
    }
   ],
   "source": [
    "myList"
   ]
  },
  {
   "cell_type": "code",
   "execution_count": 64,
   "id": "bd7d699a",
   "metadata": {},
   "outputs": [],
   "source": [
    "# benim listenin bakmadığım 2 tane fonksiyonu kaldı bir copy 2.si string ifadelerde sort"
   ]
  },
  {
   "cell_type": "code",
   "execution_count": 81,
   "id": "3a450d24",
   "metadata": {},
   "outputs": [
    {
     "data": {
      "text/plain": [
       "['megatron', 'bambilbi', 'jeck', 'squareque']"
      ]
     },
     "execution_count": 81,
     "metadata": {},
     "output_type": "execute_result"
    }
   ],
   "source": [
    "lastList"
   ]
  },
  {
   "cell_type": "code",
   "execution_count": 82,
   "id": "b968913e",
   "metadata": {},
   "outputs": [],
   "source": [
    "lastList.sort()\n",
    "# sort'da bir liste de hem string hemde integer ifade varsa o zaman patlar.ama tamamen stirng veya \n",
    "# tamamen integer olduğu zaman sıralaması yapar.\n",
    "\n",
    "# burdada harf sıralaması yaptı."
   ]
  },
  {
   "cell_type": "code",
   "execution_count": 83,
   "id": "8a74642c",
   "metadata": {},
   "outputs": [
    {
     "data": {
      "text/plain": [
       "['bambilbi', 'jeck', 'megatron', 'squareque']"
      ]
     },
     "execution_count": 83,
     "metadata": {},
     "output_type": "execute_result"
    }
   ],
   "source": [
    "lastList"
   ]
  },
  {
   "cell_type": "code",
   "execution_count": 85,
   "id": "663e3937",
   "metadata": {},
   "outputs": [],
   "source": [
    "x = lastList.copy()  # direkt bir değişkene kopyalama yaptığını söyleyebilirm.\n",
    "                     # bu fonksiyondaki olay budur."
   ]
  },
  {
   "cell_type": "code",
   "execution_count": 86,
   "id": "c7be62de",
   "metadata": {},
   "outputs": [
    {
     "data": {
      "text/plain": [
       "['bambilbi', 'jeck', 'megatron', 'squareque']"
      ]
     },
     "execution_count": 86,
     "metadata": {},
     "output_type": "execute_result"
    }
   ],
   "source": [
    "x"
   ]
  },
  {
   "cell_type": "raw",
   "id": "71e106de",
   "metadata": {},
   "source": [
    "Ben \"append\" metodunu çok fazla kullanıcam buna dikkat et.ve unutma.\n",
    "Şimdi kullanıcıdan birkaç değer alalım "
   ]
  },
  {
   "cell_type": "code",
   "execution_count": 12,
   "id": "92b832b2",
   "metadata": {},
   "outputs": [
    {
     "name": "stdout",
     "output_type": "stream",
     "text": [
      "Bir sayi girin:23\n"
     ]
    }
   ],
   "source": [
    "x = input(\"Bir sayi girin:\")"
   ]
  },
  {
   "cell_type": "code",
   "execution_count": 13,
   "id": "e21b02f0",
   "metadata": {},
   "outputs": [
    {
     "data": {
      "text/plain": [
       "'23'"
      ]
     },
     "execution_count": 13,
     "metadata": {},
     "output_type": "execute_result"
    }
   ],
   "source": [
    "x"
   ]
  },
  {
   "cell_type": "code",
   "execution_count": 14,
   "id": "ad0e2e11",
   "metadata": {},
   "outputs": [
    {
     "data": {
      "text/plain": [
       "str"
      ]
     },
     "execution_count": 14,
     "metadata": {},
     "output_type": "execute_result"
    }
   ],
   "source": [
    "type(x)     # inputtan gelen herşey bana string olarak karşıma çıkıyor.Python \n",
    "            # benim burda string bir ifade yazdığımı varsayıyor."
   ]
  },
  {
   "cell_type": "code",
   "execution_count": 15,
   "id": "d46a2443",
   "metadata": {},
   "outputs": [
    {
     "name": "stdout",
     "output_type": "stream",
     "text": [
      "Enter y:34\n"
     ]
    }
   ],
   "source": [
    "y = input(\"Enter y:\")"
   ]
  },
  {
   "cell_type": "code",
   "execution_count": 16,
   "id": "248ba34e",
   "metadata": {},
   "outputs": [
    {
     "data": {
      "text/plain": [
       "'34'"
      ]
     },
     "execution_count": 16,
     "metadata": {},
     "output_type": "execute_result"
    }
   ],
   "source": [
    "y"
   ]
  },
  {
   "cell_type": "code",
   "execution_count": 17,
   "id": "185af532",
   "metadata": {},
   "outputs": [
    {
     "name": "stdout",
     "output_type": "stream",
     "text": [
      "Enter z:45\n"
     ]
    }
   ],
   "source": [
    "z = input(\"Enter z:\")"
   ]
  },
  {
   "cell_type": "code",
   "execution_count": 18,
   "id": "a54fa91f",
   "metadata": {},
   "outputs": [],
   "source": [
    "inputList = []           # boş bir liste oluşturdum.\n",
    "# boş bir liste oluşturulabilir mi neden olmasın ki listenin boşuda olur dolusuda gayet mantıklı bence"
   ]
  },
  {
   "cell_type": "code",
   "execution_count": 19,
   "id": "69fd83bc",
   "metadata": {},
   "outputs": [
    {
     "data": {
      "text/plain": [
       "list"
      ]
     },
     "execution_count": 19,
     "metadata": {},
     "output_type": "execute_result"
    }
   ],
   "source": [
    "type(inputList)"
   ]
  },
  {
   "cell_type": "code",
   "execution_count": 20,
   "id": "f96d0a5a",
   "metadata": {},
   "outputs": [
    {
     "data": {
      "text/plain": [
       "0"
      ]
     },
     "execution_count": 20,
     "metadata": {},
     "output_type": "execute_result"
    }
   ],
   "source": [
    "len(inputList)           # bomboş bir liste usta"
   ]
  },
  {
   "cell_type": "code",
   "execution_count": 21,
   "id": "d91d807f",
   "metadata": {},
   "outputs": [],
   "source": [
    "inputList.append(x)\n",
    "inputList.append(y)\n",
    "inputList.append(z)\n",
    "inputList.insert(3,567)"
   ]
  },
  {
   "cell_type": "code",
   "execution_count": 22,
   "id": "2806640b",
   "metadata": {},
   "outputs": [
    {
     "data": {
      "text/plain": [
       "['23', '34', '45', 567]"
      ]
     },
     "execution_count": 22,
     "metadata": {},
     "output_type": "execute_result"
    }
   ],
   "source": [
    "inputList                # listemin içinde 3 tane string ifade var."
   ]
  },
  {
   "cell_type": "code",
   "execution_count": 23,
   "id": "40e2cb9d",
   "metadata": {},
   "outputs": [
    {
     "ename": "SyntaxError",
     "evalue": "invalid syntax (3310447361.py, line 1)",
     "output_type": "error",
     "traceback": [
      "\u001b[1;36m  Cell \u001b[1;32mIn[23], line 1\u001b[1;36m\u001b[0m\n\u001b[1;33m    append ile eklediğim string şeklinde eklenirken acaba neden insert ile eklediğim int şeklinde girdi.\u001b[0m\n\u001b[1;37m           ^\u001b[0m\n\u001b[1;31mSyntaxError\u001b[0m\u001b[1;31m:\u001b[0m invalid syntax\n"
     ]
    }
   ],
   "source": [
    "append ile eklediğim string şeklinde eklenirken acaba neden insert ile eklediğim int şeklinde girdi."
   ]
  },
  {
   "cell_type": "code",
   "execution_count": 24,
   "id": "5b888146",
   "metadata": {},
   "outputs": [
    {
     "data": {
      "text/plain": [
       "'34'"
      ]
     },
     "execution_count": 24,
     "metadata": {},
     "output_type": "execute_result"
    }
   ],
   "source": [
    "inputList[1]   "
   ]
  },
  {
   "cell_type": "code",
   "execution_count": 25,
   "id": "3ee9df07",
   "metadata": {},
   "outputs": [
    {
     "data": {
      "text/plain": [
       "'3434'"
      ]
     },
     "execution_count": 25,
     "metadata": {},
     "output_type": "execute_result"
    }
   ],
   "source": [
    "inputList[1] * 2                # bakın doğru çarpamadı çünkü listemin içindeki\n",
    "                      # sayıyı bir string olarak alıyor ve en fazla yan yana \n",
    "                                   # koyarak yazıyor."
   ]
  },
  {
   "cell_type": "raw",
   "id": "a6c11efe",
   "metadata": {},
   "source": [
    "Şimdi benim elimde olan bu stringleri ben nasıl int veya float yapıcam şimdi bunları göricez.\n",
    "Öncelikle herhangi bir şeyi stringe çevirmek oldukça kolay;"
   ]
  },
  {
   "cell_type": "code",
   "execution_count": 26,
   "id": "38b3813f",
   "metadata": {},
   "outputs": [],
   "source": [
    "myInteger = 50"
   ]
  },
  {
   "cell_type": "code",
   "execution_count": 27,
   "id": "c4644c4c",
   "metadata": {},
   "outputs": [
    {
     "data": {
      "text/plain": [
       "'50'"
      ]
     },
     "execution_count": 27,
     "metadata": {},
     "output_type": "execute_result"
    }
   ],
   "source": [
    "str(myInteger)              # benim ınt değerimi str yap dedim."
   ]
  },
  {
   "cell_type": "code",
   "execution_count": 28,
   "id": "e7d37e43",
   "metadata": {},
   "outputs": [],
   "source": [
    "myStrıng = \"50\""
   ]
  },
  {
   "cell_type": "code",
   "execution_count": 29,
   "id": "6b832e49",
   "metadata": {},
   "outputs": [
    {
     "data": {
      "text/plain": [
       "50"
      ]
     },
     "execution_count": 29,
     "metadata": {},
     "output_type": "execute_result"
    }
   ],
   "source": [
    "int(myStrıng)"
   ]
  },
  {
   "cell_type": "code",
   "execution_count": 30,
   "id": "57e9844d",
   "metadata": {},
   "outputs": [],
   "source": [
    "myString2 = \"nerdesin caney\""
   ]
  },
  {
   "cell_type": "code",
   "execution_count": 31,
   "id": "0b2e7272",
   "metadata": {},
   "outputs": [
    {
     "ename": "ValueError",
     "evalue": "invalid literal for int() with base 10: 'nerdesin caney'",
     "output_type": "error",
     "traceback": [
      "\u001b[1;31m---------------------------------------------------------------------------\u001b[0m",
      "\u001b[1;31mValueError\u001b[0m                                Traceback (most recent call last)",
      "Cell \u001b[1;32mIn[31], line 1\u001b[0m\n\u001b[1;32m----> 1\u001b[0m \u001b[38;5;28mint\u001b[39m(myString2)\n",
      "\u001b[1;31mValueError\u001b[0m: invalid literal for int() with base 10: 'nerdesin caney'"
     ]
    }
   ],
   "source": [
    "int(myString2)            # demekki her ifadeyide stringden integer'a çeviremiyo\n",
    "               # ki mantıken böyle olmasını kim isterki kimse istemez herhalde"
   ]
  },
  {
   "cell_type": "code",
   "execution_count": 36,
   "id": "cc45b2c0",
   "metadata": {},
   "outputs": [
    {
     "data": {
      "text/plain": [
       "['23', '34', '45', 567]"
      ]
     },
     "execution_count": 36,
     "metadata": {},
     "output_type": "execute_result"
    }
   ],
   "source": [
    "inputList"
   ]
  },
  {
   "cell_type": "code",
   "execution_count": 38,
   "id": "d9f9673c",
   "metadata": {},
   "outputs": [
    {
     "data": {
      "text/plain": [
       "567"
      ]
     },
     "execution_count": 38,
     "metadata": {},
     "output_type": "execute_result"
    }
   ],
   "source": [
    "inputList[3]\n",
    "# bunu int şeklinde gösterirken "
   ]
  },
  {
   "cell_type": "code",
   "execution_count": 40,
   "id": "c1116790",
   "metadata": {},
   "outputs": [
    {
     "data": {
      "text/plain": [
       "'45'"
      ]
     },
     "execution_count": 40,
     "metadata": {},
     "output_type": "execute_result"
    }
   ],
   "source": [
    "inputList[2]\n",
    "# bunu string şeklinde gösterdi."
   ]
  },
  {
   "cell_type": "code",
   "execution_count": 41,
   "id": "ac4a7539",
   "metadata": {},
   "outputs": [
    {
     "data": {
      "text/plain": [
       "1134"
      ]
     },
     "execution_count": 41,
     "metadata": {},
     "output_type": "execute_result"
    }
   ],
   "source": [
    "int(inputList[3]) * 2 "
   ]
  },
  {
   "cell_type": "code",
   "execution_count": 42,
   "id": "9648d8ee",
   "metadata": {},
   "outputs": [
    {
     "data": {
      "text/plain": [
       "['23', '34', '45', 567]"
      ]
     },
     "execution_count": 42,
     "metadata": {},
     "output_type": "execute_result"
    }
   ],
   "source": [
    "inputList"
   ]
  },
  {
   "cell_type": "code",
   "execution_count": 43,
   "id": "09857f31",
   "metadata": {},
   "outputs": [
    {
     "data": {
      "text/plain": [
       "34"
      ]
     },
     "execution_count": 43,
     "metadata": {},
     "output_type": "execute_result"
    }
   ],
   "source": [
    "int(inputList[1])          # kalıcı olarak değiştirmiyor sadece kullanıcağın \n",
    "                          # vakit değiştiriyor."
   ]
  },
  {
   "cell_type": "code",
   "execution_count": 44,
   "id": "7d9f55ce",
   "metadata": {},
   "outputs": [
    {
     "data": {
      "text/plain": [
       "['23', '34', '45', 567]"
      ]
     },
     "execution_count": 44,
     "metadata": {},
     "output_type": "execute_result"
    }
   ],
   "source": [
    "inputList"
   ]
  },
  {
   "cell_type": "raw",
   "id": "09a022ed",
   "metadata": {},
   "source": [
    "Yani anlıycağınız mantıklı olduğu sürece veri tiplerini birbirine dönüşümü mümkün.ama unutmayın mantıklı olcak.\n",
    "İleride listeler gibi olan çoklu veri tutan başka bir şeye çevirme imkanımız olcak."
   ]
  },
  {
   "cell_type": "code",
   "execution_count": 45,
   "id": "a2edc398",
   "metadata": {},
   "outputs": [],
   "source": [
    "# bide bir listenin içine farklı değişken türlerini koyalım bakalım"
   ]
  },
  {
   "cell_type": "code",
   "execution_count": 47,
   "id": "ab108722",
   "metadata": {},
   "outputs": [],
   "source": [
    "mixedList = [\"Ali\",20,34.34]"
   ]
  },
  {
   "cell_type": "code",
   "execution_count": 48,
   "id": "5faa61c7",
   "metadata": {},
   "outputs": [
    {
     "data": {
      "text/plain": [
       "list"
      ]
     },
     "execution_count": 48,
     "metadata": {},
     "output_type": "execute_result"
    }
   ],
   "source": [
    "type(mixedList)"
   ]
  },
  {
   "cell_type": "code",
   "execution_count": 49,
   "id": "b2d7f324",
   "metadata": {},
   "outputs": [],
   "source": [
    "List1 = [10,20,30]\n",
    "List2 = [40,50,60]"
   ]
  },
  {
   "cell_type": "code",
   "execution_count": 50,
   "id": "8aecd844",
   "metadata": {},
   "outputs": [
    {
     "data": {
      "text/plain": [
       "[10, 20, 30, 40, 50, 60]"
      ]
     },
     "execution_count": 50,
     "metadata": {},
     "output_type": "execute_result"
    }
   ],
   "source": [
    "List1 + List2             # çoğu programlamada bu yoktur.ama python bunada burda izin veriyor ve hatta\n",
    "                          # listeleri çarpmamı bile sağlıyor."
   ]
  },
  {
   "cell_type": "code",
   "execution_count": 51,
   "id": "56dc8a6b",
   "metadata": {},
   "outputs": [
    {
     "data": {
      "text/plain": [
       "[10, 20, 30, 10, 20, 30]"
      ]
     },
     "execution_count": 51,
     "metadata": {},
     "output_type": "execute_result"
    }
   ],
   "source": [
    " List1 * 2                 # çok esnek gördüğünüz gibi."
   ]
  },
  {
   "cell_type": "code",
   "execution_count": 52,
   "id": "3d7f8309",
   "metadata": {},
   "outputs": [
    {
     "data": {
      "text/plain": [
       "['Ali', 20, 34.34]"
      ]
     },
     "execution_count": 52,
     "metadata": {},
     "output_type": "execute_result"
    }
   ],
   "source": [
    "mixedList"
   ]
  },
  {
   "cell_type": "code",
   "execution_count": 53,
   "id": "d2301124",
   "metadata": {},
   "outputs": [
    {
     "data": {
      "text/plain": [
       "str"
      ]
     },
     "execution_count": 53,
     "metadata": {},
     "output_type": "execute_result"
    }
   ],
   "source": [
    "type(mixedList[0])             # bir çok programlama dili sen eğer bir listede karışık tutuyosan\n",
    "                               # içersinde ne olduğunu bilmez.burda python kendini aşmış bebek"
   ]
  },
  {
   "cell_type": "code",
   "execution_count": 55,
   "id": "fd28a543",
   "metadata": {},
   "outputs": [
    {
     "data": {
      "text/plain": [
       "int"
      ]
     },
     "execution_count": 55,
     "metadata": {},
     "output_type": "execute_result"
    }
   ],
   "source": [
    "type(mixedList[1]) "
   ]
  },
  {
   "cell_type": "raw",
   "id": "97fde85d",
   "metadata": {},
   "source": [
    "Şimdide gelin iç içe geçmiş listelere bir bakalım.Yani bunlar \"nestedlist\""
   ]
  },
  {
   "cell_type": "code",
   "execution_count": 56,
   "id": "ec884f33",
   "metadata": {},
   "outputs": [],
   "source": [
    "myNestedList = [10,20.45,\"megatron\",[1,2,3]]"
   ]
  },
  {
   "cell_type": "code",
   "execution_count": 57,
   "id": "410a57bf",
   "metadata": {},
   "outputs": [
    {
     "data": {
      "text/plain": [
       "4"
      ]
     },
     "execution_count": 57,
     "metadata": {},
     "output_type": "execute_result"
    }
   ],
   "source": [
    "len(myNestedList)         # içersinde olan listeyi bir karakter olarak aldı dikkat edin.\n",
    "                          #zaten liste içinde elemanlar virgül ile ayrılır.Bu kuralı dikkate\n",
    "                            # alındığında aslında şaşılacak bir şey yoktur."
   ]
  },
  {
   "cell_type": "code",
   "execution_count": 58,
   "id": "b4dbe73f",
   "metadata": {},
   "outputs": [
    {
     "data": {
      "text/plain": [
       "[1, 2, 3]"
      ]
     },
     "execution_count": 58,
     "metadata": {},
     "output_type": "execute_result"
    }
   ],
   "source": [
    "myNestedList[3]         # benim 3.ındexde ki elemanım bu olacaktır."
   ]
  },
  {
   "cell_type": "code",
   "execution_count": 59,
   "id": "f58a3d77",
   "metadata": {},
   "outputs": [
    {
     "data": {
      "text/plain": [
       "list"
      ]
     },
     "execution_count": 59,
     "metadata": {},
     "output_type": "execute_result"
    }
   ],
   "source": [
    "type(myNestedList[3])"
   ]
  },
  {
   "cell_type": "code",
   "execution_count": 60,
   "id": "c8d46cae",
   "metadata": {},
   "outputs": [
    {
     "data": {
      "text/plain": [
       "2"
      ]
     },
     "execution_count": 60,
     "metadata": {},
     "output_type": "execute_result"
    }
   ],
   "source": [
    "# şimdi ben listemin içindeki listenin içine ulaşıcam.\n",
    "myNestedList[3][1]\n",
    "#büyük listemin 3.ındex'ine girdikten sonra onunda 1.ındexsine girebilirim."
   ]
  },
  {
   "cell_type": "code",
   "execution_count": 61,
   "id": "b4947902",
   "metadata": {},
   "outputs": [],
   "source": [
    "lastList = [10,20,30,40,50,60]"
   ]
  },
  {
   "cell_type": "code",
   "execution_count": 63,
   "id": "194b870f",
   "metadata": {},
   "outputs": [
    {
     "data": {
      "text/plain": [
       "[10, 20, 30, 40, 50, 60]"
      ]
     },
     "execution_count": 63,
     "metadata": {},
     "output_type": "execute_result"
    }
   ],
   "source": [
    "lastList[::]  # aynı string parçalama yaparkenki şeyi burdada biz yapabiliriz."
   ]
  },
  {
   "cell_type": "code",
   "execution_count": 64,
   "id": "e3583bac",
   "metadata": {},
   "outputs": [
    {
     "data": {
      "text/plain": [
       "[30, 40]"
      ]
     },
     "execution_count": 64,
     "metadata": {},
     "output_type": "execute_result"
    }
   ],
   "source": [
    "lastList[2:4:1]       # 2.ındexten baslasın 4.ındex dahil olmıycak sekilde dursun ve 1'er 1'er gitsin."
   ]
  },
  {
   "cell_type": "code",
   "execution_count": 65,
   "id": "d1cd6ba6",
   "metadata": {},
   "outputs": [
    {
     "data": {
      "text/plain": [
       "[10, 20, 30, 40, 50]"
      ]
     },
     "execution_count": 65,
     "metadata": {},
     "output_type": "execute_result"
    }
   ],
   "source": [
    "lastList[:5:]             # istediğin birçok seyi burda yapabiliyorsun."
   ]
  },
  {
   "cell_type": "code",
   "execution_count": 66,
   "id": "4d5928ee",
   "metadata": {},
   "outputs": [
    {
     "data": {
      "text/plain": [
       "[20, 40, 60]"
      ]
     },
     "execution_count": 66,
     "metadata": {},
     "output_type": "execute_result"
    }
   ],
   "source": [
    "lastList[1:6:2]"
   ]
  },
  {
   "cell_type": "code",
   "execution_count": 69,
   "id": "371900c6",
   "metadata": {},
   "outputs": [],
   "source": [
    " # Kafama takılan bir tane soru var öncelikle bir liste oluşturalım;\n",
    "normallyList = [12,14,16,18]"
   ]
  },
  {
   "cell_type": "code",
   "execution_count": 70,
   "id": "25b1ee5e",
   "metadata": {},
   "outputs": [
    {
     "data": {
      "text/plain": [
       "[12, 14, 16, 18]"
      ]
     },
     "execution_count": 70,
     "metadata": {},
     "output_type": "execute_result"
    }
   ],
   "source": [
    "normallyList"
   ]
  },
  {
   "cell_type": "code",
   "execution_count": 71,
   "id": "2eee2e4f",
   "metadata": {},
   "outputs": [],
   "source": [
    "normallyList.append(20)"
   ]
  },
  {
   "cell_type": "code",
   "execution_count": 72,
   "id": "0334ca30",
   "metadata": {},
   "outputs": [
    {
     "data": {
      "text/plain": [
       "[12, 14, 16, 18, 20]"
      ]
     },
     "execution_count": 72,
     "metadata": {},
     "output_type": "execute_result"
    }
   ],
   "source": [
    "normallyList"
   ]
  },
  {
   "cell_type": "code",
   "execution_count": 73,
   "id": "e110c607",
   "metadata": {},
   "outputs": [],
   "source": [
    "normallyList.insert(-1,22)"
   ]
  },
  {
   "cell_type": "code",
   "execution_count": 74,
   "id": "25fa8dcd",
   "metadata": {},
   "outputs": [
    {
     "data": {
      "text/plain": [
       "[12, 14, 16, 18, 22, 20]"
      ]
     },
     "execution_count": 74,
     "metadata": {},
     "output_type": "execute_result"
    }
   ],
   "source": [
    "normallyList"
   ]
  },
  {
   "cell_type": "code",
   "execution_count": null,
   "id": "7a514572",
   "metadata": {},
   "outputs": [],
   "source": [
    "# ben sabahtan beri append ile tam sayı eklersem int ama aynı eklemeyi insert ile yaparsam ise string\n",
    "# alıyor diye düşünmüştüm.ama öyle değilmiş ikiside şuan tamsayıları normal alması gerektiği gibi\n",
    "# yani int şeklide alıyor."
   ]
  }
 ],
 "metadata": {
  "kernelspec": {
   "display_name": "Python 3 (ipykernel)",
   "language": "python",
   "name": "python3"
  },
  "language_info": {
   "codemirror_mode": {
    "name": "ipython",
    "version": 3
   },
   "file_extension": ".py",
   "mimetype": "text/x-python",
   "name": "python",
   "nbconvert_exporter": "python",
   "pygments_lexer": "ipython3",
   "version": "3.11.3"
  }
 },
 "nbformat": 4,
 "nbformat_minor": 5
}
