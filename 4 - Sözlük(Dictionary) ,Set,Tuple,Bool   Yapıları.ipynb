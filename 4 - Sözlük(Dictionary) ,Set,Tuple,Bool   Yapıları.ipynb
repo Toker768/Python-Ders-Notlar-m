{
 "cells": [
  {
   "cell_type": "raw",
   "id": "6c6bf748",
   "metadata": {},
   "source": [
    "Dictionary\n",
    "\n",
    "Sözlükler key - value şeklinde çalışırlar.\n",
    "Aynı şekilde birden fazla farklı türden değişkenleri tutabilirler.\n",
    "Mesela ben bir meyve ve o meyvenın kalorisini gösteren bir dictionary yazcam "
   ]
  },
  {
   "cell_type": "code",
   "execution_count": 1,
   "id": "f4ded968",
   "metadata": {},
   "outputs": [],
   "source": [
    "# Şimdi ben en başta bunu liste şeklinde yapcam \n",
    "fruit_list = [\"banana\",\"apple\"]\n",
    "calorie_list = [100,150]"
   ]
  },
  {
   "cell_type": "code",
   "execution_count": 2,
   "id": "b0ba048c",
   "metadata": {},
   "outputs": [
    {
     "data": {
      "text/plain": [
       "'banana'"
      ]
     },
     "execution_count": 2,
     "metadata": {},
     "output_type": "execute_result"
    }
   ],
   "source": [
    "fruit_list[0]"
   ]
  },
  {
   "cell_type": "code",
   "execution_count": 3,
   "id": "2a3a9289",
   "metadata": {},
   "outputs": [
    {
     "data": {
      "text/plain": [
       "100"
      ]
     },
     "execution_count": 3,
     "metadata": {},
     "output_type": "execute_result"
    }
   ],
   "source": [
    "calorie_list[0]"
   ]
  },
  {
   "cell_type": "raw",
   "id": "659e5835",
   "metadata": {},
   "source": [
    "Bu şekilde teker teker belirtmek hiç mantıklı değil sonucta benim burda 1000 tane de olabilir veya internetten de alabilirim bu hiç elverişli değil.\n",
    "İşte bu yüzden bunun gibi yerlerde ben dictionary kullanıyorum key-value ilişkisi benim oldukça işime\n",
    "yarıyor."
   ]
  },
  {
   "cell_type": "code",
   "execution_count": 4,
   "id": "2101ba4e",
   "metadata": {},
   "outputs": [],
   "source": [
    "fitness_dictionary = {\"banana\":100,    # böyle olunca hem daha toplu oldu hemde daha elverişli oldu\n",
    "                      \"apple\":150,}     # diyebilirim.\n",
    "# burda ben süslü parantez({}) kullandım ve aynı zamanda iki nokta(:) bunun ikisi kullanmam python \n",
    "# tarafından bir dictionary kullandığımı anladığını düşünüyorum.\n",
    "\n",
    "# yani dictionary'i dictionary yapan {} ve : dır."
   ]
  },
  {
   "cell_type": "code",
   "execution_count": 5,
   "id": "94c3e364",
   "metadata": {},
   "outputs": [
    {
     "data": {
      "text/plain": [
       "dict"
      ]
     },
     "execution_count": 5,
     "metadata": {},
     "output_type": "execute_result"
    }
   ],
   "source": [
    "type(fitness_dictionary)          # görmüş olduğunuz gibi artık yeni bir yapıya geçmiş olduk."
   ]
  },
  {
   "cell_type": "code",
   "execution_count": 6,
   "id": "a284c1bb",
   "metadata": {},
   "outputs": [
    {
     "ename": "KeyError",
     "evalue": "0",
     "output_type": "error",
     "traceback": [
      "\u001b[1;31m---------------------------------------------------------------------------\u001b[0m",
      "\u001b[1;31mKeyError\u001b[0m                                  Traceback (most recent call last)",
      "Cell \u001b[1;32mIn[6], line 2\u001b[0m\n\u001b[0;32m      1\u001b[0m \u001b[38;5;66;03m# burda artık index mantıgıda ortadan kalktı.\u001b[39;00m\n\u001b[1;32m----> 2\u001b[0m fitness_dictionary[\u001b[38;5;241m0\u001b[39m]\n",
      "\u001b[1;31mKeyError\u001b[0m: 0"
     ]
    }
   ],
   "source": [
    "# burda artık index mantıgıda ortadan kalktı.\n",
    "fitness_dictionary[0]\n",
    "# burda anahtar değer uyumu var ındex mantığı yok."
   ]
  },
  {
   "cell_type": "raw",
   "id": "31769d62",
   "metadata": {},
   "source": [
    "dictionarylerde neden index mantığı yok merak ediyorum ?\n",
    "\n",
    "ChatGPT\n",
    "\n",
    "Python'daki sözlükler (dictionaries) index mantığına sahip değiller çünkü sözlükler, anahtar-değer çiftlerini depolayan esnek ve dinamik bir veri yapısıdır. Sözlükler, bir anahtarı kullanarak hızlı bir şekilde değerlere erişmeyi sağlar, ancak bu erişim süslü parantez içindeki anahtarla gerçekleşir.\n",
    "\n",
    "Index mantığı, genellikle liste veya dizi gibi sıralı veri yapılarıyla ilişkilidir. Liste veya dizi gibi sıralı veri yapılarında elemanlara sırasıyla 0'dan başlayan indekslerle erişilir. Bu indeksler, verinin sırasını belirtir ve elemanlara sıralı bir şekilde erişim sağlar.\n",
    "\n",
    "Sözlüklerde ise anahtarlar indeks görevi görür. Her anahtar, bir değeri işaret eder ve bu anahtarlar, sıralı bir düzen içinde değil, benzersiz ve rastgele bir şekilde saklanır. Anahtarlar sayısal olmak zorunda değildir ve sıralama garantisi yoktur."
   ]
  },
  {
   "cell_type": "code",
   "execution_count": 7,
   "id": "8c008bee",
   "metadata": {},
   "outputs": [
    {
     "data": {
      "text/plain": [
       "100"
      ]
     },
     "execution_count": 7,
     "metadata": {},
     "output_type": "execute_result"
    }
   ],
   "source": [
    "fitness_dictionary[\"banana\"]      # ben buraya sadece anahtarları yazabilirim 100 yazıp banana yıda\n",
    "                                  # alamam.sadece anahtar."
   ]
  },
  {
   "cell_type": "code",
   "execution_count": 8,
   "id": "56436cc4",
   "metadata": {},
   "outputs": [
    {
     "data": {
      "text/plain": [
       "150"
      ]
     },
     "execution_count": 8,
     "metadata": {},
     "output_type": "execute_result"
    }
   ],
   "source": [
    "fitness_dictionary[\"apple\"]"
   ]
  },
  {
   "cell_type": "code",
   "execution_count": 9,
   "id": "3172778e",
   "metadata": {},
   "outputs": [
    {
     "name": "stdout",
     "output_type": "stream",
     "text": [
      "42\n",
      "Deger123\n",
      "['a', 'b', 'c']\n"
     ]
    }
   ],
   "source": [
    "my_dict = {\n",
    "    \"anahtar1\": 42,            # Anahtar bir string, değer bir tam sayı\n",
    "    123: \"Deger123\",           # Anahtar bir tam sayı, değer bir string\n",
    "    (1, 2, 3): [\"a\", \"b\", \"c\"]  # Anahtar bir tuple, değer bir liste\n",
    "}\n",
    "\n",
    "# Örneklerin kullanımı\n",
    "print(my_dict[\"anahtar1\"])        # Output: 42\n",
    "print(my_dict[123])               # Output: \"Deger123\"\n",
    "print(my_dict[(1,2,3)])          # Output: [\"a\", \"b\", \"c\"]\n",
    "# burda anahtar değerlerini yazdım ben "
   ]
  },
  {
   "cell_type": "raw",
   "id": "edafebc4",
   "metadata": {},
   "source": [
    "gelin şimdide biraz özelliklerine bakalım."
   ]
  },
  {
   "cell_type": "code",
   "execution_count": 10,
   "id": "54dfe1a8",
   "metadata": {},
   "outputs": [
    {
     "data": {
      "text/plain": [
       "dict_keys(['banana', 'apple'])"
      ]
     },
     "execution_count": 10,
     "metadata": {},
     "output_type": "execute_result"
    }
   ],
   "source": [
    "fitness_dictionary.keys()                       # bana sadece anahtarları verdi"
   ]
  },
  {
   "cell_type": "code",
   "execution_count": 11,
   "id": "16c9a73f",
   "metadata": {},
   "outputs": [
    {
     "data": {
      "text/plain": [
       "dict_values([100, 150])"
      ]
     },
     "execution_count": 11,
     "metadata": {},
     "output_type": "execute_result"
    }
   ],
   "source": [
    "fitness_dictionary.values()                    # buda sadece değerleri(values) verdi."
   ]
  },
  {
   "cell_type": "code",
   "execution_count": 12,
   "id": "bb87f060",
   "metadata": {},
   "outputs": [
    {
     "data": {
      "text/plain": [
       "dict_values"
      ]
     },
     "execution_count": 12,
     "metadata": {},
     "output_type": "execute_result"
    }
   ],
   "source": [
    "# bakın bana vermis oldugu seyin ben type bi bakıyım\n",
    "type(fitness_dictionary.values())"
   ]
  },
  {
   "cell_type": "code",
   "execution_count": 13,
   "id": "9f86f365",
   "metadata": {},
   "outputs": [
    {
     "data": {
      "text/plain": [
       "[100, 150]"
      ]
     },
     "execution_count": 13,
     "metadata": {},
     "output_type": "execute_result"
    }
   ],
   "source": [
    "# benim bu değişken tipi hiç işime yaramaz.\n",
    "list(fitness_dictionary.values())\n",
    "# ben bunu en iyisi bir listeye dönüştüriyim.Belki ben bi degerlerin hepsinin ortalamasını alcam.\n",
    "# aslında burda mantığı anladıktan sonra ne yapacağın tamamen senin hayal gücüne kalmış diyebilirim."
   ]
  },
  {
   "cell_type": "code",
   "execution_count": 14,
   "id": "e4d853c6",
   "metadata": {},
   "outputs": [
    {
     "data": {
      "text/plain": [
       "{'banana': 100, 'apple': 150}"
      ]
     },
     "execution_count": 14,
     "metadata": {},
     "output_type": "execute_result"
    }
   ],
   "source": [
    "fitness_dictionary\n",
    "# ben diyelimki banana nın kalorisini yanlış girdim değiştirebilir miyim?"
   ]
  },
  {
   "cell_type": "code",
   "execution_count": 17,
   "id": "65f789db",
   "metadata": {},
   "outputs": [
    {
     "ename": "TypeError",
     "evalue": "unhashable type: 'slice'",
     "output_type": "error",
     "traceback": [
      "\u001b[1;31m---------------------------------------------------------------------------\u001b[0m",
      "\u001b[1;31mTypeError\u001b[0m                                 Traceback (most recent call last)",
      "Cell \u001b[1;32mIn[17], line 1\u001b[0m\n\u001b[1;32m----> 1\u001b[0m fitness_dictionary[\u001b[38;5;124m\"\u001b[39m\u001b[38;5;124mbanana\u001b[39m\u001b[38;5;124m\"\u001b[39m : \u001b[38;5;241m200\u001b[39m]\n",
      "\u001b[1;31mTypeError\u001b[0m: unhashable type: 'slice'"
     ]
    }
   ],
   "source": [
    "fitness_dictionary[\"banana\" : 200]"
   ]
  },
  {
   "cell_type": "code",
   "execution_count": 18,
   "id": "34bc6a21",
   "metadata": {},
   "outputs": [
    {
     "data": {
      "text/plain": [
       "200"
      ]
     },
     "execution_count": 18,
     "metadata": {},
     "output_type": "execute_result"
    }
   ],
   "source": [
    "fitness_dictionary[\"banana\"]"
   ]
  },
  {
   "cell_type": "code",
   "execution_count": 14,
   "id": "20d64837",
   "metadata": {},
   "outputs": [],
   "source": [
    "fitness_dictionary[\"banana\"] = 200\n",
    "# ben değiştirmemi bu şekilde yaparım."
   ]
  },
  {
   "cell_type": "code",
   "execution_count": 19,
   "id": "40773e2f",
   "metadata": {},
   "outputs": [
    {
     "data": {
      "text/plain": [
       "{'banana': 200, 'apple': 150}"
      ]
     },
     "execution_count": 19,
     "metadata": {},
     "output_type": "execute_result"
    }
   ],
   "source": [
    "fitness_dictionary"
   ]
  },
  {
   "cell_type": "code",
   "execution_count": 21,
   "id": "8d81eb97",
   "metadata": {},
   "outputs": [],
   "source": [
    "# şimdide yeni birşey ekelemek istiyorum.\n",
    "fitness_dictionary[\"melon\"] = 300"
   ]
  },
  {
   "cell_type": "code",
   "execution_count": 22,
   "id": "a9a1a2cc",
   "metadata": {},
   "outputs": [
    {
     "data": {
      "text/plain": [
       "{'banana': 200, 'apple': 150, 'melon': 300}"
      ]
     },
     "execution_count": 22,
     "metadata": {},
     "output_type": "execute_result"
    }
   ],
   "source": [
    "fitness_dictionary                    # gördüğünüz gibi ekleme başarı bir şekilde oldu."
   ]
  },
  {
   "cell_type": "code",
   "execution_count": 24,
   "id": "c6f0cd7d",
   "metadata": {},
   "outputs": [
    {
     "ename": "KeyError",
     "evalue": "'appl'",
     "output_type": "error",
     "traceback": [
      "\u001b[1;31m---------------------------------------------------------------------------\u001b[0m",
      "\u001b[1;31mKeyError\u001b[0m                                  Traceback (most recent call last)",
      "Cell \u001b[1;32mIn[24], line 2\u001b[0m\n\u001b[0;32m      1\u001b[0m \u001b[38;5;66;03m# bakın diyelimki ben bir anahtar değerini yanlış yazdım.\u001b[39;00m\n\u001b[1;32m----> 2\u001b[0m fitness_dictionary[\u001b[38;5;124m\"\u001b[39m\u001b[38;5;124mappl\u001b[39m\u001b[38;5;124m\"\u001b[39m]\n",
      "\u001b[1;31mKeyError\u001b[0m: 'appl'"
     ]
    }
   ],
   "source": [
    "# bakın diyelimki ben bir anahtar değerini yanlış yazdım.\n",
    "fitness_dictionary[\"appl\"]\n",
    "# böyle bir anahtar değeri yokki nasıl yazdın sen onu ben anlamadım şimdi."
   ]
  },
  {
   "cell_type": "raw",
   "id": "7372843f",
   "metadata": {},
   "source": [
    "bakın gördüğünüz gibi bana hata verdi aslında bu öğrenirken oldukça iyi birşey ama kullanıcı eğer ki bu uygulamayı kullanıyorsa bu hata uygulamanın çökmesine yol açar.\n",
    "işte bunun için adamlar bir şey geliştirmişler"
   ]
  },
  {
   "cell_type": "code",
   "execution_count": 25,
   "id": "cbe05c74",
   "metadata": {},
   "outputs": [
    {
     "name": "stdout",
     "output_type": "stream",
     "text": [
      "Help on built-in function get:\n",
      "\n",
      "get(key, default=None, /) method of builtins.dict instance\n",
      "    Return the value for key if key is in the dictionary, else default.\n",
      "\n"
     ]
    }
   ],
   "source": [
    "help(fitness_dictionary.get)"
   ]
  },
  {
   "cell_type": "code",
   "execution_count": 26,
   "id": "fe4ab925",
   "metadata": {},
   "outputs": [
    {
     "data": {
      "text/plain": [
       "{'banana': 200, 'apple': 150, 'melon': 300}"
      ]
     },
     "execution_count": 26,
     "metadata": {},
     "output_type": "execute_result"
    }
   ],
   "source": [
    "fitness_dictionary"
   ]
  },
  {
   "cell_type": "code",
   "execution_count": 35,
   "id": "d888fb3f",
   "metadata": {},
   "outputs": [
    {
     "data": {
      "text/plain": [
       "255"
      ]
     },
     "execution_count": 35,
     "metadata": {},
     "output_type": "execute_result"
    }
   ],
   "source": [
    "fitness_dictionary.get(\"bananaa\" , 255)\n",
    "# bir tür göt kurtarma operasyonu aslında \"get = almak\" demek zaten "
   ]
  },
  {
   "cell_type": "code",
   "execution_count": 36,
   "id": "8a115b98",
   "metadata": {},
   "outputs": [],
   "source": [
    "my_dictionary = {\"key1\":100,\n",
    "                 \"key2\":3.14,\n",
    "                 \"key3\":[10,20,30]}\n",
    "# value lar burda hepsi farklı türden."
   ]
  },
  {
   "cell_type": "code",
   "execution_count": 37,
   "id": "63ddbb46",
   "metadata": {},
   "outputs": [
    {
     "data": {
      "text/plain": [
       "{'key1': 100, 'key2': 3.14, 'key3': [10, 20, 30]}"
      ]
     },
     "execution_count": 37,
     "metadata": {},
     "output_type": "execute_result"
    }
   ],
   "source": [
    "my_dictionary"
   ]
  },
  {
   "cell_type": "code",
   "execution_count": 38,
   "id": "6c05114f",
   "metadata": {},
   "outputs": [
    {
     "data": {
      "text/plain": [
       "100"
      ]
     },
     "execution_count": 38,
     "metadata": {},
     "output_type": "execute_result"
    }
   ],
   "source": [
    "my_dictionary[\"key1\"]           # ben buraya sadece anahtar değerleri yazıcam."
   ]
  },
  {
   "cell_type": "code",
   "execution_count": 39,
   "id": "8cab0f30",
   "metadata": {},
   "outputs": [
    {
     "data": {
      "text/plain": [
       "3.14"
      ]
     },
     "execution_count": 39,
     "metadata": {},
     "output_type": "execute_result"
    }
   ],
   "source": [
    "my_dictionary[\"key2\"]"
   ]
  },
  {
   "cell_type": "code",
   "execution_count": 40,
   "id": "1fee69b2",
   "metadata": {},
   "outputs": [
    {
     "data": {
      "text/plain": [
       "[10, 20, 30]"
      ]
     },
     "execution_count": 40,
     "metadata": {},
     "output_type": "execute_result"
    }
   ],
   "source": [
    "my_dictionary[\"key3\"]"
   ]
  },
  {
   "cell_type": "code",
   "execution_count": 41,
   "id": "b33f2ea6",
   "metadata": {},
   "outputs": [
    {
     "data": {
      "text/plain": [
       "20"
      ]
     },
     "execution_count": 41,
     "metadata": {},
     "output_type": "execute_result"
    }
   ],
   "source": [
    "my_dictionary['key3'][1]          # buda şey demek anahtarı \"key3\" olan ve bunun içinde 1.ındexte \n",
    "                                  # bulunan anlamına geliyor ayni listelerdeki anlamlar gibi.\n",
    "    # dıdısının dıdısını bulmak oluyo işte "
   ]
  },
  {
   "cell_type": "code",
   "execution_count": 43,
   "id": "d71ce98b",
   "metadata": {},
   "outputs": [],
   "source": [
    "last_dictionary = {\"k1\":100,\n",
    "                   \"k2\":\"Tokeroğlu\",\n",
    "                   \"k3\":[10,20,30],\n",
    "                   \"k4\":{\"a\":1,\"b\":2,\"c\":3}}\n",
    "# bakın burda hem integer var hem string var hem liste var hemde dictionary içinde dictionary var"
   ]
  },
  {
   "cell_type": "code",
   "execution_count": 46,
   "id": "863f5342",
   "metadata": {},
   "outputs": [
    {
     "data": {
      "text/plain": [
       "{'a': 1, 'b': 2, 'c': 3}"
      ]
     },
     "execution_count": 46,
     "metadata": {},
     "output_type": "execute_result"
    }
   ],
   "source": [
    "last_dictionary[\"k4\"]\n",
    "\n",
    "# sözlük ve listeler köşeli parentez şeklinde çağrılır.hiçbir zaman normal parentez falan kullanmak\n",
    "# aklına gelmesin "
   ]
  },
  {
   "cell_type": "code",
   "execution_count": 47,
   "id": "d527cb72",
   "metadata": {},
   "outputs": [
    {
     "data": {
      "text/plain": [
       "[10, 20, 30]"
      ]
     },
     "execution_count": 47,
     "metadata": {},
     "output_type": "execute_result"
    }
   ],
   "source": [
    "last_dictionary[\"k3\"]"
   ]
  },
  {
   "cell_type": "code",
   "execution_count": 48,
   "id": "e147e102",
   "metadata": {},
   "outputs": [
    {
     "data": {
      "text/plain": [
       "'Tokeroğlu'"
      ]
     },
     "execution_count": 48,
     "metadata": {},
     "output_type": "execute_result"
    }
   ],
   "source": [
    "last_dictionary[\"k2\"]"
   ]
  },
  {
   "cell_type": "code",
   "execution_count": 49,
   "id": "6d412014",
   "metadata": {},
   "outputs": [
    {
     "data": {
      "text/plain": [
       "100"
      ]
     },
     "execution_count": 49,
     "metadata": {},
     "output_type": "execute_result"
    }
   ],
   "source": [
    "last_dictionary[\"k1\"]"
   ]
  },
  {
   "cell_type": "code",
   "execution_count": 52,
   "id": "b540a092",
   "metadata": {},
   "outputs": [
    {
     "ename": "TypeError",
     "evalue": "'dict' object is not callable",
     "output_type": "error",
     "traceback": [
      "\u001b[1;31m---------------------------------------------------------------------------\u001b[0m",
      "\u001b[1;31mTypeError\u001b[0m                                 Traceback (most recent call last)",
      "Cell \u001b[1;32mIn[52], line 1\u001b[0m\n\u001b[1;32m----> 1\u001b[0m last_dictionary(\u001b[38;5;124m\"\u001b[39m\u001b[38;5;124mk1\u001b[39m\u001b[38;5;124m\"\u001b[39m)\n",
      "\u001b[1;31mTypeError\u001b[0m: 'dict' object is not callable"
     ]
    }
   ],
   "source": [
    "last_dictionary(\"k1\")\n",
    "\n",
    "# callable = çağrılabilir"
   ]
  },
  {
   "cell_type": "code",
   "execution_count": 53,
   "id": "8f9b576e",
   "metadata": {},
   "outputs": [
    {
     "ename": "KeyError",
     "evalue": "1",
     "output_type": "error",
     "traceback": [
      "\u001b[1;31m---------------------------------------------------------------------------\u001b[0m",
      "\u001b[1;31mKeyError\u001b[0m                                  Traceback (most recent call last)",
      "Cell \u001b[1;32mIn[53], line 1\u001b[0m\n\u001b[1;32m----> 1\u001b[0m last_dictionary[\u001b[38;5;124m\"\u001b[39m\u001b[38;5;124mk4\u001b[39m\u001b[38;5;124m\"\u001b[39m][\u001b[38;5;241m1\u001b[39m]\n",
      "\u001b[1;31mKeyError\u001b[0m: 1"
     ]
    }
   ],
   "source": [
    "last_dictionary[\"k4\"][1]\n",
    "# dictionary içinde artık index mantıgı ortadan kalkıyor.\n",
    "\n",
    "\n",
    "# dictionary de key value mantığı varken listede index mantığı vardır.Bunların içine girerkende ben \n",
    "# bu şekilde girerim.\n",
    "\n",
    "'''Anahtar-Değer Mantığı (Dictionary):\n",
    "\n",
    "Sözlüklerde her öğe (eleman) bir anahtar ve bir değerden oluşur. \n",
    "Anahtar, o öğeye özgüdür ve benzersizdir.\n",
    "Anahtarlar, içerdikleri değeri temsil eder. \n",
    "Bu, her öğeye doğrudan ve anlamlı bir şekilde erişim sağlar.\n",
    "\n",
    "\n",
    "İndeks Mantığı (Liste):\n",
    "\n",
    "Listelerde her öğe bir indeks numarası ile tanımlanır. \n",
    "Bu indeks, öğenin sıradaki konumunu belirtir.\n",
    "İndeksler, 0'dan başlar. Örneğin, [10, 20, 30] listesinde,\n",
    "0 indeksi 10'a, 1 indeksi 20'ye ve 2 indeksi 30'a karşılık gelir.'''"
   ]
  },
  {
   "cell_type": "code",
   "execution_count": 54,
   "id": "93a76fef",
   "metadata": {},
   "outputs": [
    {
     "data": {
      "text/plain": [
       "{'k1': 100,\n",
       " 'k2': 'Tokeroğlu',\n",
       " 'k3': [10, 20, 30],\n",
       " 'k4': {'a': 1, 'b': 2, 'c': 3}}"
      ]
     },
     "execution_count": 54,
     "metadata": {},
     "output_type": "execute_result"
    }
   ],
   "source": [
    "last_dictionary"
   ]
  },
  {
   "cell_type": "code",
   "execution_count": 55,
   "id": "ae1fbbfb",
   "metadata": {},
   "outputs": [
    {
     "data": {
      "text/plain": [
       "1"
      ]
     },
     "execution_count": 55,
     "metadata": {},
     "output_type": "execute_result"
    }
   ],
   "source": [
    "last_dictionary[\"k4\"][\"a\"]\n",
    "# burda tekrar söylüyorum anahtar değer uyumu vardır index mantığı listeler için geçerli bir kavram."
   ]
  },
  {
   "cell_type": "code",
   "execution_count": 56,
   "id": "ec5fcdb2",
   "metadata": {},
   "outputs": [
    {
     "data": {
      "text/plain": [
       "2"
      ]
     },
     "execution_count": 56,
     "metadata": {},
     "output_type": "execute_result"
    }
   ],
   "source": [
    "last_dictionary[\"k4\"][\"b\"]"
   ]
  },
  {
   "cell_type": "code",
   "execution_count": 57,
   "id": "a0892a64",
   "metadata": {},
   "outputs": [
    {
     "data": {
      "text/plain": [
       "3"
      ]
     },
     "execution_count": 57,
     "metadata": {},
     "output_type": "execute_result"
    }
   ],
   "source": [
    "last_dictionary[\"k4\"][\"c\"]"
   ]
  },
  {
   "cell_type": "code",
   "execution_count": 59,
   "id": "2caa8286",
   "metadata": {},
   "outputs": [
    {
     "data": {
      "text/plain": [
       "10"
      ]
     },
     "execution_count": 59,
     "metadata": {},
     "output_type": "execute_result"
    }
   ],
   "source": [
    "last_dictionary[\"k3\"][0]\n",
    "# bak bunun içersi bir index olduğu için ben burda index mantığıyla iletliyorum."
   ]
  },
  {
   "cell_type": "code",
   "execution_count": 60,
   "id": "1d3efcb5",
   "metadata": {},
   "outputs": [
    {
     "data": {
      "text/plain": [
       "20"
      ]
     },
     "execution_count": 60,
     "metadata": {},
     "output_type": "execute_result"
    }
   ],
   "source": [
    "last_dictionary[\"k3\"][1]"
   ]
  },
  {
   "cell_type": "raw",
   "id": "a3630d7b",
   "metadata": {},
   "source": [
    "Dictionary lerde ındex mantığı yoktur.Anahtar ve değer mantığı vardır.\n",
    "\n",
    "Şimdi ben dictionary de biraz fonksiyonları kurcalayalım."
   ]
  },
  {
   "cell_type": "code",
   "execution_count": 61,
   "id": "e2b7106d",
   "metadata": {},
   "outputs": [],
   "source": [
    "myDictionary = {\"Adana\":1,\n",
    "\"Adıyaman\":2,\n",
    "\"Afyon\":3,\n",
    "\"Ağrı\":4,\n",
    "\"Amasya\":5\n",
    "}"
   ]
  },
  {
   "cell_type": "code",
   "execution_count": 62,
   "id": "27c2e6f6",
   "metadata": {},
   "outputs": [
    {
     "data": {
      "text/plain": [
       "{'Adana': 1, 'Adıyaman': 2, 'Afyon': 3, 'Ağrı': 4, 'Amasya': 5}"
      ]
     },
     "execution_count": 62,
     "metadata": {},
     "output_type": "execute_result"
    }
   ],
   "source": [
    "myDictionary"
   ]
  },
  {
   "cell_type": "code",
   "execution_count": 64,
   "id": "57c7bd2a",
   "metadata": {},
   "outputs": [],
   "source": [
    "x = myDictionary.copy()   # listedeki copy ile aynı hiçbir farkı yok.\n",
    "\n",
    "# baya iy lan "
   ]
  },
  {
   "cell_type": "code",
   "execution_count": 65,
   "id": "860a972c",
   "metadata": {},
   "outputs": [
    {
     "data": {
      "text/plain": [
       "{'Adana': 1, 'Adıyaman': 2, 'Afyon': 3, 'Ağrı': 4, 'Amasya': 5}"
      ]
     },
     "execution_count": 65,
     "metadata": {},
     "output_type": "execute_result"
    }
   ],
   "source": [
    "x"
   ]
  },
  {
   "cell_type": "code",
   "execution_count": 72,
   "id": "2fbfdbaf",
   "metadata": {},
   "outputs": [],
   "source": [
    "y = (6,7,8,9,10)"
   ]
  },
  {
   "cell_type": "code",
   "execution_count": 74,
   "id": "eea25fa1",
   "metadata": {},
   "outputs": [
    {
     "data": {
      "text/plain": [
       "{'Adana': (6, 7, 8, 9, 10),\n",
       " 'Adıyaman': (6, 7, 8, 9, 10),\n",
       " 'Afyon': (6, 7, 8, 9, 10),\n",
       " 'Ağrı': (6, 7, 8, 9, 10),\n",
       " 'Amasya': (6, 7, 8, 9, 10)}"
      ]
     },
     "execution_count": 74,
     "metadata": {},
     "output_type": "execute_result"
    }
   ],
   "source": [
    "myDictionary.fromkeys(x,y)\n",
    "\n",
    "# bu şu demek myDictionary'dan keys değerlerini al sonra ikinci parametreye y'leri koy."
   ]
  },
  {
   "cell_type": "code",
   "execution_count": 75,
   "id": "090ccca7",
   "metadata": {},
   "outputs": [
    {
     "data": {
      "text/plain": [
       "{'Adana': 1, 'Adıyaman': 2, 'Afyon': 3, 'Ağrı': 4, 'Amasya': 5}"
      ]
     },
     "execution_count": 75,
     "metadata": {},
     "output_type": "execute_result"
    }
   ],
   "source": [
    "myDictionary"
   ]
  },
  {
   "cell_type": "code",
   "execution_count": 78,
   "id": "c7ed0653",
   "metadata": {},
   "outputs": [
    {
     "data": {
      "text/plain": [
       "1"
      ]
     },
     "execution_count": 78,
     "metadata": {},
     "output_type": "execute_result"
    }
   ],
   "source": [
    "myDictionary.get(\"Adana\",45)"
   ]
  },
  {
   "cell_type": "code",
   "execution_count": 81,
   "id": "8cda266f",
   "metadata": {},
   "outputs": [],
   "source": [
    "myDictionary.get(\"Amasyaxx\")\n",
    "# burda none değerini döndürür.çünki sen bir varsayılan değer belirlemedin de o yüzden."
   ]
  },
  {
   "cell_type": "code",
   "execution_count": 82,
   "id": "141bc64f",
   "metadata": {},
   "outputs": [
    {
     "data": {
      "text/plain": [
       "dict_items([('Adana', 1), ('Adıyaman', 2), ('Afyon', 3), ('Ağrı', 4), ('Amasya', 5)])"
      ]
     },
     "execution_count": 82,
     "metadata": {},
     "output_type": "execute_result"
    }
   ],
   "source": [
    "myDictionary.items()\n",
    "\n",
    " # \"items = öğeler\" anlamına gelir."
   ]
  },
  {
   "cell_type": "code",
   "execution_count": 83,
   "id": "98d57286",
   "metadata": {},
   "outputs": [
    {
     "data": {
      "text/plain": [
       "dict_keys(['Adana', 'Adıyaman', 'Afyon', 'Ağrı', 'Amasya'])"
      ]
     },
     "execution_count": 83,
     "metadata": {},
     "output_type": "execute_result"
    }
   ],
   "source": [
    "myDictionary.keys()"
   ]
  },
  {
   "cell_type": "code",
   "execution_count": 84,
   "id": "c15281e8",
   "metadata": {},
   "outputs": [
    {
     "ename": "TypeError",
     "evalue": "pop expected at least 1 argument, got 0",
     "output_type": "error",
     "traceback": [
      "\u001b[1;31m---------------------------------------------------------------------------\u001b[0m",
      "\u001b[1;31mTypeError\u001b[0m                                 Traceback (most recent call last)",
      "Cell \u001b[1;32mIn[84], line 1\u001b[0m\n\u001b[1;32m----> 1\u001b[0m myDictionary\u001b[38;5;241m.\u001b[39mpop()\n",
      "\u001b[1;31mTypeError\u001b[0m: pop expected at least 1 argument, got 0"
     ]
    }
   ],
   "source": [
    "myDictionary.pop()     # pop'da ben bir key değeri vererek attirıyorum burda bir index mantığı olma-\n",
    "# dığı için bir key değeri belirtmek kesinlikle şart olmuş durumda.listede belirtmeseydin sondaki\n",
    "# elemanı otamatik olarak atardı index mantığı sayesinde fakat bunda böyle bir şey olmadığı için \n",
    "# böyle bir şey yapamaz."
   ]
  },
  {
   "cell_type": "code",
   "execution_count": 85,
   "id": "6c3de653",
   "metadata": {},
   "outputs": [
    {
     "data": {
      "text/plain": [
       "5"
      ]
     },
     "execution_count": 85,
     "metadata": {},
     "output_type": "execute_result"
    }
   ],
   "source": [
    "myDictionary.pop(\"Amasya\") "
   ]
  },
  {
   "cell_type": "code",
   "execution_count": 86,
   "id": "8fe4e282",
   "metadata": {},
   "outputs": [
    {
     "data": {
      "text/plain": [
       "{'Adana': 1, 'Adıyaman': 2, 'Afyon': 3, 'Ağrı': 4}"
      ]
     },
     "execution_count": 86,
     "metadata": {},
     "output_type": "execute_result"
    }
   ],
   "source": [
    "myDictionary"
   ]
  },
  {
   "cell_type": "code",
   "execution_count": 89,
   "id": "9dc39012",
   "metadata": {},
   "outputs": [
    {
     "data": {
      "text/plain": [
       "('Afyon', 3)"
      ]
     },
     "execution_count": 89,
     "metadata": {},
     "output_type": "execute_result"
    }
   ],
   "source": [
    "myDictionary.popitem()         # popitem ise sondaki değeri alıp atıyor."
   ]
  },
  {
   "cell_type": "code",
   "execution_count": 90,
   "id": "41923ee3",
   "metadata": {},
   "outputs": [
    {
     "data": {
      "text/plain": [
       "{'Adana': 1, 'Adıyaman': 2}"
      ]
     },
     "execution_count": 90,
     "metadata": {},
     "output_type": "execute_result"
    }
   ],
   "source": [
    "myDictionary"
   ]
  },
  {
   "cell_type": "code",
   "execution_count": 69,
   "id": "d28bca63",
   "metadata": {},
   "outputs": [
    {
     "data": {
      "text/plain": [
       "2"
      ]
     },
     "execution_count": 69,
     "metadata": {},
     "output_type": "execute_result"
    }
   ],
   "source": [
    "myDictionary.setdefault(\"Adıyaman\")"
   ]
  },
  {
   "cell_type": "raw",
   "id": "d9620bd3",
   "metadata": {},
   "source": [
    "Soru : .get() ile .setdefault() arasındaki fark ne ? \n",
    "\n",
    "\n",
    "Evet, myDictionary.setdefault(key, default_value) ve myDictionary.get(key, default_value) benzer işlevlere sahiptir, ancak birkaç önemli farkları vardır.\n",
    "\n",
    "Anahtarın Var Olup Olmadığına Göre Davranış:\n",
    "\n",
    "setdefault: Eğer belirtilen anahtar sözlükte varsa, mevcut değeri döndürür. Eğer anahtar sözlükte yoksa, anahtarı ekler ve varsayılan değeri atar.\n",
    "get: Eğer belirtilen anahtar sözlükte varsa, mevcut değeri döndürür. Eğer anahtar sözlükte yoksa, varsayılan değeri döndürür ancak anahtarı sözlüğe eklemek işlemi gerçekleşmez.\n",
    "Ekleme İşlemi:\n",
    "\n",
    "setdefault: Eğer anahtar sözlükte yoksa, bu anahtarı ekler ve varsayılan değeri atar.\n",
    "get: Eğer belirtilen anahtar sözlükte yoksa, sözlüğe herhangi bir ekleme işlemi yapmaz.\n",
    "\n",
    "önemli bir fark bu aslında gerçekten."
   ]
  },
  {
   "cell_type": "code",
   "execution_count": 91,
   "id": "1b552e08",
   "metadata": {
    "scrolled": true
   },
   "outputs": [
    {
     "data": {
      "text/plain": [
       "{'Adana': 1, 'Adıyaman': 2}"
      ]
     },
     "execution_count": 91,
     "metadata": {},
     "output_type": "execute_result"
    }
   ],
   "source": [
    "myDictionary"
   ]
  },
  {
   "cell_type": "code",
   "execution_count": 1,
   "id": "28045c39",
   "metadata": {},
   "outputs": [],
   "source": [
    "BenimSözlüğüm = {\"değişken1\":\"nem\",\n",
    "                \"değişken2\":\"sıcaklık\",\n",
    "                \"değişken3\":\"hava akım hızı\"}"
   ]
  },
  {
   "cell_type": "code",
   "execution_count": 2,
   "id": "68011d38",
   "metadata": {},
   "outputs": [
    {
     "data": {
      "text/plain": [
       "{'değişken1': 'nem', 'değişken2': 'sıcaklık', 'değişken3': 'hava akım hızı'}"
      ]
     },
     "execution_count": 2,
     "metadata": {},
     "output_type": "execute_result"
    }
   ],
   "source": [
    "BenimSözlüğüm"
   ]
  },
  {
   "cell_type": "code",
   "execution_count": 3,
   "id": "383fe3e9",
   "metadata": {},
   "outputs": [],
   "source": [
    "dikeytarım = BenimSözlüğüm.copy()"
   ]
  },
  {
   "cell_type": "code",
   "execution_count": 4,
   "id": "0001e6ac",
   "metadata": {},
   "outputs": [
    {
     "data": {
      "text/plain": [
       "{'değişken1': 'nem', 'değişken2': 'sıcaklık', 'değişken3': 'hava akım hızı'}"
      ]
     },
     "execution_count": 4,
     "metadata": {},
     "output_type": "execute_result"
    }
   ],
   "source": [
    "dikeytarım"
   ]
  },
  {
   "cell_type": "code",
   "execution_count": 6,
   "id": "71f4d3ba",
   "metadata": {},
   "outputs": [
    {
     "data": {
      "text/plain": [
       "'nem'"
      ]
     },
     "execution_count": 6,
     "metadata": {},
     "output_type": "execute_result"
    }
   ],
   "source": [
    "BenimSözlüğüm.get(\"değişken1\",\"nem yok\")"
   ]
  },
  {
   "cell_type": "code",
   "execution_count": 7,
   "id": "f8b3551d",
   "metadata": {},
   "outputs": [
    {
     "data": {
      "text/plain": [
       "'nem yok'"
      ]
     },
     "execution_count": 7,
     "metadata": {},
     "output_type": "execute_result"
    }
   ],
   "source": [
    "BenimSözlüğüm.get(\"değişken111\",\"nem yok\")\n",
    "# burda ben atama yapmadım sadece şuanlık hata çıkmaması için default değerini belirttim."
   ]
  },
  {
   "cell_type": "code",
   "execution_count": 8,
   "id": "297f52c3",
   "metadata": {},
   "outputs": [
    {
     "data": {
      "text/plain": [
       "'sıcaklık'"
      ]
     },
     "execution_count": 8,
     "metadata": {},
     "output_type": "execute_result"
    }
   ],
   "source": [
    "BenimSözlüğüm.setdefault(\"değişken2\",\"sıcaklık yok\")"
   ]
  },
  {
   "cell_type": "code",
   "execution_count": 9,
   "id": "efcb9508",
   "metadata": {},
   "outputs": [
    {
     "data": {
      "text/plain": [
       "'CO2 yoğunluğu'"
      ]
     },
     "execution_count": 9,
     "metadata": {},
     "output_type": "execute_result"
    }
   ],
   "source": [
    "BenimSözlüğüm.setdefault(\"değişken24\",\"CO2 yoğunluğu\")\n",
    "# ben burada yeni eğer key değeri olmadığı ihtimalle yeni bir key value koydum burası önemli.\n",
    "\n",
    "# yani .get() ile .setdefault() birbirinden çok farklı şeyler."
   ]
  },
  {
   "cell_type": "code",
   "execution_count": 10,
   "id": "ec196e97",
   "metadata": {},
   "outputs": [
    {
     "data": {
      "text/plain": [
       "{'değişken1': 'nem',\n",
       " 'değişken2': 'sıcaklık',\n",
       " 'değişken3': 'hava akım hızı',\n",
       " 'değişken24': 'CO2 yoğunluğu'}"
      ]
     },
     "execution_count": 10,
     "metadata": {},
     "output_type": "execute_result"
    }
   ],
   "source": [
    "BenimSözlüğüm"
   ]
  },
  {
   "cell_type": "code",
   "execution_count": 11,
   "id": "0ac545a0",
   "metadata": {},
   "outputs": [
    {
     "data": {
      "text/plain": [
       "dict_items([('değişken1', 'nem'), ('değişken2', 'sıcaklık'), ('değişken3', 'hava akım hızı'), ('değişken24', 'CO2 yoğunluğu')])"
      ]
     },
     "execution_count": 11,
     "metadata": {},
     "output_type": "execute_result"
    }
   ],
   "source": [
    "BenimSözlüğüm.items()\n",
    "# ögeler demek zaten fark ettiysen 's' takısı var bu şu anlama geliyor.demekki hepsi "
   ]
  },
  {
   "cell_type": "code",
   "execution_count": 15,
   "id": "d5e66249",
   "metadata": {},
   "outputs": [
    {
     "ename": "KeyError",
     "evalue": "'değişken24'",
     "output_type": "error",
     "traceback": [
      "\u001b[1;31m---------------------------------------------------------------------------\u001b[0m",
      "\u001b[1;31mKeyError\u001b[0m                                  Traceback (most recent call last)",
      "Cell \u001b[1;32mIn[15], line 1\u001b[0m\n\u001b[1;32m----> 1\u001b[0m BenimSözlüğüm\u001b[38;5;241m.\u001b[39mpop(\u001b[38;5;124m\"\u001b[39m\u001b[38;5;124mdeğişken24\u001b[39m\u001b[38;5;124m\"\u001b[39m)\n",
      "\u001b[1;31mKeyError\u001b[0m: 'değişken24'"
     ]
    }
   ],
   "source": [
    "BenimSözlüğüm.pop(\"değişken24\")\n",
    "# listedeki pop da en son olanı isim vermesen bile atar burda index mantığı olmadığı için aynı pop'da \n",
    "# sen belirtmek zorundasın neyi atacağını \n",
    "# eğer ki sen burda sondaki key değerini atmak istiyorsan işte o zaman .popitem() kullanmalısın."
   ]
  },
  {
   "cell_type": "code",
   "execution_count": 14,
   "id": "28db6e16",
   "metadata": {},
   "outputs": [
    {
     "data": {
      "text/plain": [
       "{'değişken1': 'nem', 'değişken2': 'sıcaklık', 'değişken3': 'hava akım hızı'}"
      ]
     },
     "execution_count": 14,
     "metadata": {},
     "output_type": "execute_result"
    }
   ],
   "source": [
    "BenimSözlüğüm"
   ]
  },
  {
   "cell_type": "code",
   "execution_count": 17,
   "id": "92c33074",
   "metadata": {},
   "outputs": [],
   "source": [
    "BenimSözlüğüm.update()"
   ]
  },
  {
   "cell_type": "code",
   "execution_count": 18,
   "id": "eccfbdc2",
   "metadata": {},
   "outputs": [
    {
     "data": {
      "text/plain": [
       "{'değişken1': 'nem', 'değişken2': 'sıcaklık', 'değişken3': 'hava akım hızı'}"
      ]
     },
     "execution_count": 18,
     "metadata": {},
     "output_type": "execute_result"
    }
   ],
   "source": [
    "BenimSözlüğüm"
   ]
  },
  {
   "cell_type": "code",
   "execution_count": 22,
   "id": "76cbb507",
   "metadata": {},
   "outputs": [
    {
     "name": "stdout",
     "output_type": "stream",
     "text": [
      "{'name': 'Ahmet', 'age': 66, 'city': 'New York', 'gender': 'Male', 'country': 'USA'}\n"
     ]
    }
   ],
   "source": [
    "myDictionary1 = {\"name\": \"John\", \"age\": 25, \"city\": \"New York\"}\n",
    "myDictionary2 = {\"name\": \"Ahmet\",\"age\":66,\"gender\": \"Male\", \"country\": \"USA\"}\n",
    "\n",
    "# myDictionary1'i myDictionary2 ile güncelle\n",
    "myDictionary1.update(myDictionary2)\n",
    "\n",
    "# Güncellenmiş sözlüğü yazdır\n",
    "print(myDictionary1)\n",
    "\n",
    "\n",
    "# hem aynı key den varsa onu değiştirdi yani güncelledi(update) eğer farklı bir key gelmişse onu da \n",
    "# ekleme yaptı."
   ]
  },
  {
   "cell_type": "markdown",
   "id": "9ecf19e3",
   "metadata": {},
   "source": [
    "# Set"
   ]
  },
  {
   "cell_type": "raw",
   "id": "dfc8659f",
   "metadata": {},
   "source": [
    "Bununda içerisinde birden fazla değer tutabiliyoruz.\n",
    "\n",
    "Ama bunun diğerlerinden farklı burda unique elemanlar yani tekil yani her elemandan sadece 1 tane olucak demek anlamına geliyor.\n",
    "\n",
    "Ve sırasının bir önemi yok yani index mantığı karşımıza burda çıkmayacak diyebilirim.Şöyle bir şey var ama ben bir listeyi bir set'e dönüştürdüğüm vakit hepsini teke indirdikten sonra sırasıyla diziyor.\n",
    "\n",
    "burda gelin birde chat cpt'yi dinleyelim ;\n",
    "\n",
    "set' leri özel yapan nedir? index mantığı var diyebilirmiyiz ? \n",
    "\n",
    "\n",
    "ChatGPT\n",
    "\n",
    "Hayır, set'leri özel yapan özellik index mantığı değildir. Set'ler, index mantığına dayanmazlar çünkü set'ler sıralı bir yapıya sahip değildir. Set'ler, koleksiyon içindeki öğelerin sırasını korumazlar ve indeksleme yapmazlar.\n",
    "\n",
    "Set'leri özel yapan temel özellikler şunlardır:\n",
    "\n",
    "Benzersiz Elemanlar: Bir set, içinde aynı elemanın birden fazla kere bulunamayacağı bir koleksiyon tipidir. Yani, her eleman bir kümede yalnızca bir defa bulunabilir.\n",
    "\n",
    "Değiştirilebilirlik: Set'ler, bir kez oluşturulduktan sonra elemanlarını değiştirebilirler. Ancak, set içindeki elemanlar kendileri değiştirilemez türler olmalıdır. Örneğin, bir set içinde bir liste olamaz, ancak birçok sayısal veya metinsel veri türü olabilir.\n",
    "\n",
    "Matematiksel Operasyonlar: Set'ler, matematikteki küme teorisine dayanan birçok işlemi destekler. Birleşim, kesişim, fark gibi operasyonlar set üzerinde uygulanabilir.\n",
    "\n",
    "Sırasızlık: Set'ler, elemanlarını eklediğiniz sırayı korumazlar. Yani, bir set içindeki elemanların sırası garanti edilmez.\n",
    "\n",
    "Index mantığına dayanmayan bu özellikler, set'leri diğer koleksiyon tiplerinden farklı kılar ve belirli problemleri çözmek için uygun hale getirir."
   ]
  },
  {
   "cell_type": "code",
   "execution_count": 1,
   "id": "8cadcbe5",
   "metadata": {},
   "outputs": [],
   "source": [
    "# diyelimki bir liste yapıcaz\n",
    "myList = [10,30,20,50,10,40,10,100,40,40,20,30]\n",
    "# böyle bir listem olsun.ve farkettiyseniz burda bazı elemanların aynı olması listenin hiç umranda\n",
    "# değil tek umrunda olan şey index o ındex sine bakar."
   ]
  },
  {
   "cell_type": "code",
   "execution_count": 4,
   "id": "68197ba7",
   "metadata": {},
   "outputs": [
    {
     "data": {
      "text/plain": [
       "12"
      ]
     },
     "execution_count": 4,
     "metadata": {},
     "output_type": "execute_result"
    }
   ],
   "source": [
    "len(myList)\n",
    "# 'len' bize uzunluğu verir."
   ]
  },
  {
   "cell_type": "code",
   "execution_count": 11,
   "id": "1466e129",
   "metadata": {},
   "outputs": [
    {
     "data": {
      "text/plain": [
       "[10, 30, 20, 50, 10, 40, 10, 100, 40, 40, 20, 30]"
      ]
     },
     "execution_count": 11,
     "metadata": {},
     "output_type": "execute_result"
    }
   ],
   "source": [
    "myList"
   ]
  },
  {
   "cell_type": "code",
   "execution_count": 12,
   "id": "c14d6563",
   "metadata": {},
   "outputs": [],
   "source": [
    "mySet = set(myList)\n",
    "# setlerin unique(benzersiz,eşssiz) özelliği vardır."
   ]
  },
  {
   "cell_type": "code",
   "execution_count": 13,
   "id": "4d68a8f3",
   "metadata": {},
   "outputs": [
    {
     "data": {
      "text/plain": [
       "{10, 20, 30, 40, 50, 100}"
      ]
     },
     "execution_count": 13,
     "metadata": {},
     "output_type": "execute_result"
    }
   ],
   "source": [
    "mySet"
   ]
  },
  {
   "cell_type": "code",
   "execution_count": 15,
   "id": "b87c91af",
   "metadata": {},
   "outputs": [],
   "source": [
    "mySet = {10,20,30,10,20,40,10,20,40}        # ben set oluştururken süslü parentez kullanıp elemanları\n",
    "                                            # virgül ile ayırmam yeterli."
   ]
  },
  {
   "cell_type": "code",
   "execution_count": 16,
   "id": "0a71ee4d",
   "metadata": {},
   "outputs": [
    {
     "data": {
      "text/plain": [
       "{10, 20, 30, 40}"
      ]
     },
     "execution_count": 16,
     "metadata": {},
     "output_type": "execute_result"
    }
   ],
   "source": [
    "mySet"
   ]
  },
  {
   "cell_type": "code",
   "execution_count": 17,
   "id": "43c3122a",
   "metadata": {},
   "outputs": [],
   "source": [
    "mySet.add(10)"
   ]
  },
  {
   "cell_type": "code",
   "execution_count": 18,
   "id": "c59a7f70",
   "metadata": {},
   "outputs": [
    {
     "data": {
      "text/plain": [
       "{10, 20, 30, 40}"
      ]
     },
     "execution_count": 18,
     "metadata": {},
     "output_type": "execute_result"
    }
   ],
   "source": [
    "mySet"
   ]
  },
  {
   "cell_type": "code",
   "execution_count": 19,
   "id": "5b9a50af",
   "metadata": {},
   "outputs": [],
   "source": [
    "mySet.add(50)"
   ]
  },
  {
   "cell_type": "code",
   "execution_count": 20,
   "id": "a83b794a",
   "metadata": {},
   "outputs": [
    {
     "data": {
      "text/plain": [
       "{10, 20, 30, 40, 50}"
      ]
     },
     "execution_count": 20,
     "metadata": {},
     "output_type": "execute_result"
    }
   ],
   "source": [
    "mySet"
   ]
  },
  {
   "cell_type": "code",
   "execution_count": 22,
   "id": "56265703",
   "metadata": {},
   "outputs": [
    {
     "ename": "TypeError",
     "evalue": "'set' object is not subscriptable",
     "output_type": "error",
     "traceback": [
      "\u001b[1;31m---------------------------------------------------------------------------\u001b[0m",
      "\u001b[1;31mTypeError\u001b[0m                                 Traceback (most recent call last)",
      "Cell \u001b[1;32mIn[22], line 1\u001b[0m\n\u001b[1;32m----> 1\u001b[0m mySet[\u001b[38;5;241m0\u001b[39m]\n",
      "\u001b[1;31mTypeError\u001b[0m: 'set' object is not subscriptable"
     ]
    }
   ],
   "source": [
    "mySet[0]\n",
    "# bakın ındex mantığı burda olmaz gördüğünüz gibi.\n",
    "# index mantığı stringlerde,listelerde,tuple de var set ve dictionary lerde böyle bir şey söz edilemez"
   ]
  },
  {
   "cell_type": "code",
   "execution_count": 23,
   "id": "9583575f",
   "metadata": {},
   "outputs": [
    {
     "data": {
      "text/plain": [
       "{10, 20, 30, 40, 50}"
      ]
     },
     "execution_count": 23,
     "metadata": {},
     "output_type": "execute_result"
    }
   ],
   "source": [
    "mySet"
   ]
  },
  {
   "cell_type": "code",
   "execution_count": 26,
   "id": "56356eee",
   "metadata": {},
   "outputs": [],
   "source": [
    "mySet2 = {30,40,50,60,70}"
   ]
  },
  {
   "cell_type": "code",
   "execution_count": 27,
   "id": "0162eeb5",
   "metadata": {},
   "outputs": [
    {
     "data": {
      "text/plain": [
       "{30, 40, 50, 60, 70}"
      ]
     },
     "execution_count": 27,
     "metadata": {},
     "output_type": "execute_result"
    }
   ],
   "source": [
    "mySet2"
   ]
  },
  {
   "cell_type": "code",
   "execution_count": 55,
   "id": "78cd7e2b",
   "metadata": {},
   "outputs": [
    {
     "data": {
      "text/plain": [
       "{10, 20, 30, 40, 50, 60, 70}"
      ]
     },
     "execution_count": 55,
     "metadata": {},
     "output_type": "execute_result"
    }
   ],
   "source": [
    "mySet.union(mySet2)               # union=birlik demektir ben setleri bu şekilde birleştirebiliyorum\n",
    "                                  # ortak olan bir eleman varsa onuda teke indirir."
   ]
  },
  {
   "cell_type": "code",
   "execution_count": 28,
   "id": "538b0341",
   "metadata": {},
   "outputs": [
    {
     "data": {
      "text/plain": [
       "{30, 40, 50}"
      ]
     },
     "execution_count": 28,
     "metadata": {},
     "output_type": "execute_result"
    }
   ],
   "source": [
    "mySet.intersection(mySet2)        # intersection = kesişim yani senin iki tane set'in kesiştiği\n",
    "                                  # yerleri gösterir."
   ]
  },
  {
   "cell_type": "code",
   "execution_count": 29,
   "id": "ef88db2d",
   "metadata": {},
   "outputs": [],
   "source": [
    "country_list = [\"de\",\"tr\",\"tr\",\"fr\",\"nl\",\"de\",\"tr\",\"tr\",\"fr\",\"fr\"]"
   ]
  },
  {
   "cell_type": "raw",
   "id": "8d4e80a5",
   "metadata": {},
   "source": [
    "ben bügün kaç ülkeye satış yaptım diye sorsam bana ne dersin\n",
    "işte böyle bir soruda ben bunu set'e dönüştürmem yeterli."
   ]
  },
  {
   "cell_type": "code",
   "execution_count": 30,
   "id": "c1bd0edc",
   "metadata": {},
   "outputs": [
    {
     "data": {
      "text/plain": [
       "{'de', 'fr', 'nl', 'tr'}"
      ]
     },
     "execution_count": 30,
     "metadata": {},
     "output_type": "execute_result"
    }
   ],
   "source": [
    "set(country_list)\n",
    "# 4 farklı ülkeye bügün ben satış yapmışım."
   ]
  },
  {
   "cell_type": "raw",
   "id": "d6379cd7",
   "metadata": {},
   "source": [
    "İşte gördüğünüz gibi herbir değişken türünün farklı bir amaca hizmet ettiğini görüyoruz.\n",
    "\n",
    "Şimdi ben birde boş liste oluşturuken oldukca basit hatta hemen aşağıda gösteriyim."
   ]
  },
  {
   "cell_type": "code",
   "execution_count": 31,
   "id": "865ebac4",
   "metadata": {},
   "outputs": [],
   "source": [
    "emptyList = []"
   ]
  },
  {
   "cell_type": "code",
   "execution_count": 32,
   "id": "a0539673",
   "metadata": {},
   "outputs": [],
   "source": [
    "emptyList.append(10)\n",
    "emptyList.append(20)\n",
    "emptyList.append(30)\n",
    "emptyList.append(40)"
   ]
  },
  {
   "cell_type": "code",
   "execution_count": 33,
   "id": "e95b7f1b",
   "metadata": {},
   "outputs": [
    {
     "data": {
      "text/plain": [
       "[10, 20, 30, 40]"
      ]
     },
     "execution_count": 33,
     "metadata": {},
     "output_type": "execute_result"
    }
   ],
   "source": [
    "emptyList\n",
    "# aslında ben listeleri hep bu şekilde kullanıcam çünki ilk başta boş olcak sonra ben içini doldurucam"
   ]
  },
  {
   "cell_type": "raw",
   "id": "a39e889b",
   "metadata": {},
   "source": [
    " olay şu ben boş set nasıl oluşturucam.\n",
    " \"emptySet = {}\" eğer böyle ise boş dictionary nasıl oluşturucam işte şimdi bu sorunun cevabını\n",
    " gelin öğrenelim"
   ]
  },
  {
   "cell_type": "code",
   "execution_count": 38,
   "id": "7c8706df",
   "metadata": {},
   "outputs": [],
   "source": [
    "emptySet = {}"
   ]
  },
  {
   "cell_type": "code",
   "execution_count": 39,
   "id": "a8d94625",
   "metadata": {},
   "outputs": [
    {
     "data": {
      "text/plain": [
       "dict"
      ]
     },
     "execution_count": 39,
     "metadata": {},
     "output_type": "execute_result"
    }
   ],
   "source": [
    "type(emptySet)\n",
    "# bakın burda dict olarak gösterdi.Yani dict daha ağır geldi ama neden acaba ? bunun sebebi şu python \n",
    "# ilk zamanlar yani ilk çıktığında dict vardı set yoktu set python 2.7 sürümünden sonra geldiği için\n",
    "# dict ev sahibi gibi düşün."
   ]
  },
  {
   "cell_type": "code",
   "execution_count": 40,
   "id": "e706a4c6",
   "metadata": {},
   "outputs": [],
   "source": [
    "emptySet = set()"
   ]
  },
  {
   "cell_type": "code",
   "execution_count": 41,
   "id": "dfbf1fb5",
   "metadata": {},
   "outputs": [
    {
     "data": {
      "text/plain": [
       "set"
      ]
     },
     "execution_count": 41,
     "metadata": {},
     "output_type": "execute_result"
    }
   ],
   "source": [
    "type(emptySet)\n",
    "# işte sana boş set böyle oluşturulur."
   ]
  },
  {
   "cell_type": "code",
   "execution_count": 42,
   "id": "5c262359",
   "metadata": {},
   "outputs": [],
   "source": [
    "emptySet.add(10)\n",
    "emptySet.add(10)\n",
    "emptySet.add(10)\n",
    "emptySet.add(20)\n",
    "emptySet.add(30)"
   ]
  },
  {
   "cell_type": "code",
   "execution_count": 43,
   "id": "0b369cf0",
   "metadata": {},
   "outputs": [
    {
     "data": {
      "text/plain": [
       "{10, 20, 30}"
      ]
     },
     "execution_count": 43,
     "metadata": {},
     "output_type": "execute_result"
    }
   ],
   "source": [
    "emptySet"
   ]
  },
  {
   "cell_type": "code",
   "execution_count": 44,
   "id": "896ce4e4",
   "metadata": {},
   "outputs": [],
   "source": [
    "#ben her zaman böyle boş isteğim bir şey oluşturabilirim\n",
    "emptyList2 = list()\n",
    "# bu şekilde ben o bütün içersinde cok veri alabilen veri türlerini oluşturabiliyorum."
   ]
  },
  {
   "cell_type": "code",
   "execution_count": 45,
   "id": "b85503a2",
   "metadata": {},
   "outputs": [],
   "source": [
    "emptyList2.append(10)\n",
    "emptyList2.append(10)\n",
    "emptyList2.append(20)\n",
    "emptyList2.append(30)\n",
    "emptyList2.append(30)\n",
    "emptyList2.append(400)"
   ]
  },
  {
   "cell_type": "code",
   "execution_count": 46,
   "id": "f486395b",
   "metadata": {},
   "outputs": [
    {
     "data": {
      "text/plain": [
       "[10, 10, 20, 30, 30, 400]"
      ]
     },
     "execution_count": 46,
     "metadata": {},
     "output_type": "execute_result"
    }
   ],
   "source": [
    "emptyList2"
   ]
  },
  {
   "cell_type": "code",
   "execution_count": 47,
   "id": "124bf48e",
   "metadata": {},
   "outputs": [],
   "source": [
    "# aynı şeyi ben dictionary dede yapabiliyorum.\n",
    "emptyDict = dict()\n",
    "\n",
    "# bu tarz şekilde oluşturmam benim her zaman işime yarar. tabi çünkü hepsi bu kalıba uyuyor da ondan"
   ]
  },
  {
   "cell_type": "code",
   "execution_count": 48,
   "id": "2cff1d45",
   "metadata": {},
   "outputs": [],
   "source": [
    "emptyDict[\"a\"] = 10                   # 'emptyDict[\"a\" = 10]' bu şekilde olmaz buuu ayrı bir şekilde  \n",
    "emptyDict[\"b\"] = 20                   # yazıcan.\n",
    "emptyDict[\"c\"] = 30\n",
    "emptyDict[\"d\"] = 40\n",
    "emptyDict[\"e\"] = 50"
   ]
  },
  {
   "cell_type": "code",
   "execution_count": 49,
   "id": "1de65bff",
   "metadata": {},
   "outputs": [
    {
     "data": {
      "text/plain": [
       "{'a': 10, 'b': 20, 'c': 30, 'd': 40, 'e': 50}"
      ]
     },
     "execution_count": 49,
     "metadata": {},
     "output_type": "execute_result"
    }
   ],
   "source": [
    "emptyDict"
   ]
  },
  {
   "cell_type": "code",
   "execution_count": 2,
   "id": "7b1a9aa9",
   "metadata": {},
   "outputs": [],
   "source": [
    "mySet = set()\n",
    "# eğer ben bir boş herhangi bir değişken oluşturacaksam bu şekilde oluşturmam gerekiyor."
   ]
  },
  {
   "cell_type": "code",
   "execution_count": 3,
   "id": "04c28b75",
   "metadata": {},
   "outputs": [],
   "source": [
    "mySet.update([100,200,300,\"İst\"])\n",
    "# bu update çoklu ekleme dir.eğer ben köşeli parentez yaparak bir çoklu ekleme gerçekleştireceksem\n",
    "# liste şeklinde sokmuş oluyorum.yok normal parentez seklinde ekliycem dersen ise işte o zaman \n",
    "# tuple şeklinde ekleme yapmış oluyosun."
   ]
  },
  {
   "cell_type": "code",
   "execution_count": 4,
   "id": "156edddb",
   "metadata": {},
   "outputs": [
    {
     "data": {
      "text/plain": [
       "{100, 200, 300, 'İst'}"
      ]
     },
     "execution_count": 4,
     "metadata": {},
     "output_type": "execute_result"
    }
   ],
   "source": [
    "mySet"
   ]
  },
  {
   "cell_type": "code",
   "execution_count": 5,
   "id": "7b43dce3",
   "metadata": {},
   "outputs": [
    {
     "ename": "KeyError",
     "evalue": "700",
     "output_type": "error",
     "traceback": [
      "\u001b[1;31m---------------------------------------------------------------------------\u001b[0m",
      "\u001b[1;31mKeyError\u001b[0m                                  Traceback (most recent call last)",
      "Cell \u001b[1;32mIn[5], line 1\u001b[0m\n\u001b[1;32m----> 1\u001b[0m mySet\u001b[38;5;241m.\u001b[39mremove(\u001b[38;5;241m700\u001b[39m)\n",
      "\u001b[1;31mKeyError\u001b[0m: 700"
     ]
    }
   ],
   "source": [
    "mySet.remove(700)\n",
    "# eğer tek tek ekleme yapmak istersende işte o zaman .add() kullan."
   ]
  },
  {
   "cell_type": "code",
   "execution_count": 6,
   "id": "bde21c20",
   "metadata": {},
   "outputs": [
    {
     "data": {
      "text/plain": [
       "{100, 200, 300, 'İst'}"
      ]
     },
     "execution_count": 6,
     "metadata": {},
     "output_type": "execute_result"
    }
   ],
   "source": [
    "mySet"
   ]
  },
  {
   "cell_type": "code",
   "execution_count": 7,
   "id": "1fc325e5",
   "metadata": {},
   "outputs": [
    {
     "ename": "NameError",
     "evalue": "name 'mySet2' is not defined",
     "output_type": "error",
     "traceback": [
      "\u001b[1;31m---------------------------------------------------------------------------\u001b[0m",
      "\u001b[1;31mNameError\u001b[0m                                 Traceback (most recent call last)",
      "Cell \u001b[1;32mIn[7], line 1\u001b[0m\n\u001b[1;32m----> 1\u001b[0m mySet2\n",
      "\u001b[1;31mNameError\u001b[0m: name 'mySet2' is not defined"
     ]
    }
   ],
   "source": [
    "mySet2"
   ]
  },
  {
   "cell_type": "code",
   "execution_count": 8,
   "id": "40535c9c",
   "metadata": {},
   "outputs": [
    {
     "ename": "NameError",
     "evalue": "name 'mySet2' is not defined",
     "output_type": "error",
     "traceback": [
      "\u001b[1;31m---------------------------------------------------------------------------\u001b[0m",
      "\u001b[1;31mNameError\u001b[0m                                 Traceback (most recent call last)",
      "Cell \u001b[1;32mIn[8], line 1\u001b[0m\n\u001b[1;32m----> 1\u001b[0m mySet\u001b[38;5;241m.\u001b[39mdifference(mySet2)\n",
      "\u001b[1;31mNameError\u001b[0m: name 'mySet2' is not defined"
     ]
    }
   ],
   "source": [
    "mySet.difference(mySet2)\n",
    "# sadece mySet de olanları set haline döktü."
   ]
  },
  {
   "cell_type": "code",
   "execution_count": 9,
   "id": "639c9c38",
   "metadata": {},
   "outputs": [
    {
     "ename": "NameError",
     "evalue": "name 'mySet2' is not defined",
     "output_type": "error",
     "traceback": [
      "\u001b[1;31m---------------------------------------------------------------------------\u001b[0m",
      "\u001b[1;31mNameError\u001b[0m                                 Traceback (most recent call last)",
      "Cell \u001b[1;32mIn[9], line 1\u001b[0m\n\u001b[1;32m----> 1\u001b[0m mySet\u001b[38;5;241m.\u001b[39mdifference_update(mySet2)\n",
      "\u001b[1;31mNameError\u001b[0m: name 'mySet2' is not defined"
     ]
    }
   ],
   "source": [
    "mySet.difference_update(mySet2)\n",
    "\n",
    "# .difference() ile .difference_update() arasındaki fark şu difference sadece belirtir ama\n",
    "# .diffrence_update() hem belirtir hemde \"mySet\" günceller.yani kalıcı olarak değiştirir."
   ]
  },
  {
   "cell_type": "code",
   "execution_count": 71,
   "id": "e4119b9f",
   "metadata": {},
   "outputs": [
    {
     "data": {
      "text/plain": [
       "{100, 200, 300, 'İst'}"
      ]
     },
     "execution_count": 71,
     "metadata": {},
     "output_type": "execute_result"
    }
   ],
   "source": [
    "mySet"
   ]
  },
  {
   "cell_type": "code",
   "execution_count": 72,
   "id": "ff167eb4",
   "metadata": {},
   "outputs": [
    {
     "data": {
      "text/plain": [
       "{100, 200, 300, 'İst'}"
      ]
     },
     "execution_count": 72,
     "metadata": {},
     "output_type": "execute_result"
    }
   ],
   "source": [
    "mySet"
   ]
  },
  {
   "cell_type": "code",
   "execution_count": 74,
   "id": "e4da69f4",
   "metadata": {},
   "outputs": [],
   "source": [
    "mySet.discard(300)      #discard() metodunun avantajı, küme içinde olup olmadığı kontrolü yapmadan \n",
    "                        #elemanı kaldırabilmesidir. Eğer eleman küme içinde bulunuyorsa,\n",
    "                        #kaldırılır; bulunmuyorsa herhangi bir hata üretmez.sessizce çalışıp yoluna\n",
    "                        #bakar.\n"
   ]
  },
  {
   "cell_type": "code",
   "execution_count": 75,
   "id": "8fe32d7f",
   "metadata": {},
   "outputs": [
    {
     "data": {
      "text/plain": [
       "{100, 200, 'İst'}"
      ]
     },
     "execution_count": 75,
     "metadata": {},
     "output_type": "execute_result"
    }
   ],
   "source": [
    "mySet"
   ]
  },
  {
   "cell_type": "code",
   "execution_count": 76,
   "id": "6d3a9840",
   "metadata": {},
   "outputs": [],
   "source": [
    "mySet.update([1,2,3,4,5,6])"
   ]
  },
  {
   "cell_type": "code",
   "execution_count": 77,
   "id": "9ea7bf52",
   "metadata": {},
   "outputs": [
    {
     "data": {
      "text/plain": [
       "{1, 100, 2, 200, 3, 4, 5, 6, 'İst'}"
      ]
     },
     "execution_count": 77,
     "metadata": {},
     "output_type": "execute_result"
    }
   ],
   "source": [
    "mySet"
   ]
  },
  {
   "cell_type": "code",
   "execution_count": 79,
   "id": "2d13a9a3",
   "metadata": {},
   "outputs": [
    {
     "data": {
      "text/plain": [
       "{30, 40, 50, 60, 70}"
      ]
     },
     "execution_count": 79,
     "metadata": {},
     "output_type": "execute_result"
    }
   ],
   "source": [
    "mySet2"
   ]
  },
  {
   "cell_type": "code",
   "execution_count": 1,
   "id": "4f82776c",
   "metadata": {},
   "outputs": [
    {
     "ename": "NameError",
     "evalue": "name 'mySet' is not defined",
     "output_type": "error",
     "traceback": [
      "\u001b[1;31m---------------------------------------------------------------------------\u001b[0m",
      "\u001b[1;31mNameError\u001b[0m                                 Traceback (most recent call last)",
      "Cell \u001b[1;32mIn[1], line 1\u001b[0m\n\u001b[1;32m----> 1\u001b[0m mySet\u001b[38;5;241m.\u001b[39misdisjoint(mySet2)\n",
      "\u001b[1;31mNameError\u001b[0m: name 'mySet' is not defined"
     ]
    }
   ],
   "source": [
    "mySet.isdisjoint(mySet2)   # isdisjoint() metodu, iki kümenin kesişim kümesinin boş olup olmadığını\n",
    "                          # kontrol eder. Eğer iki küme arasındaki kesişim kümesi boşsa, yani herhangi\n",
    "                             # bir ortak elemanları yoksa, isdisjoint() metodu True değerini döndürür.\n",
    "                             # Eğer ortak elemanları varsa, yani kesişim kümesi boş değilse,\n",
    "                             # False değerini döndürür.\n",
    "                \n",
    "# \" çok daha doğrusu bunlar ayrık mı ?\" çünkü   'isdisjoint = ayrık' \n",
    "# sorusunu sorar burda aslında. bak güzel bir olay var burda bunu söyliyim\n",
    "# çok güzel yerlerde kullanabilirsin."
   ]
  },
  {
   "cell_type": "code",
   "execution_count": 81,
   "id": "466a848a",
   "metadata": {},
   "outputs": [
    {
     "data": {
      "text/plain": [
       "{1, 100, 2, 200, 3, 4, 5, 6, 'İst'}"
      ]
     },
     "execution_count": 81,
     "metadata": {},
     "output_type": "execute_result"
    }
   ],
   "source": [
    "mySet"
   ]
  },
  {
   "cell_type": "code",
   "execution_count": 11,
   "id": "63ea50be",
   "metadata": {},
   "outputs": [
    {
     "name": "stdout",
     "output_type": "stream",
     "text": [
      "True\n"
     ]
    }
   ],
   "source": [
    "set1 = {1, 2, 3}\n",
    "set2 = {1, 2, 3, 4, 5}\n",
    "\n",
    "# set1, set2'nin bir alt kümesi, bu nedenle True döner\n",
    "result = set1.issubset(set2)\n",
    "\n",
    "# \n",
    "\n",
    "print(result)  "
   ]
  },
  {
   "cell_type": "code",
   "execution_count": 12,
   "id": "ad85dc7d",
   "metadata": {},
   "outputs": [
    {
     "data": {
      "text/plain": [
       "{1, 2, 3, 4, 5}"
      ]
     },
     "execution_count": 12,
     "metadata": {},
     "output_type": "execute_result"
    }
   ],
   "source": [
    "set2"
   ]
  },
  {
   "cell_type": "code",
   "execution_count": 24,
   "id": "ccb2a4b2",
   "metadata": {},
   "outputs": [
    {
     "name": "stdout",
     "output_type": "stream",
     "text": [
      "True\n"
     ]
    }
   ],
   "source": [
    "set1 = {1, 2, 3}\n",
    "set2 = {1, 2, 3, 4, 5,\"ABCDE\",\"34İST\"}\n",
    "\n",
    "result = set2.issuperset(set1)\n",
    "\n",
    "print(result) \n",
    "\n",
    "# niye True döndürdü onu anlayalım bence mantığını anlamak bizim için oldukça önemli.\n",
    "# 'issuperset = süperküme' yani yukardaki kodda şunu söylüyor diyoki set2 set1'in süperkümesimi\n",
    "# yani set2 set1'i tamamen kapsıyo mu ? "
   ]
  },
  {
   "cell_type": "code",
   "execution_count": 25,
   "id": "3959d354",
   "metadata": {},
   "outputs": [
    {
     "data": {
      "text/plain": [
       "1"
      ]
     },
     "execution_count": 25,
     "metadata": {},
     "output_type": "execute_result"
    }
   ],
   "source": [
    "set2.pop()\n",
    "\n",
    "# bir kümeden bir öğeyi rastgele çıkarır ve çıkarılan öğeyi döndürür. Bu işlem, kümeden bir elemanı\n",
    "# kaldırmak için kullanılır. Ancak, setlerin sırasız (unordered) olduğunu unutmamanız önemlidir;\n",
    "# çünkü setlerde index mantığı yok index mantığı listelerde,string ifadelerde ve tuple da vardır \n",
    "# geriye kalan setde dictionary de yoktur.\n",
    "# bu nedenle, hangi öğenin çıkarılacağını önceden tahmin etmek mümkün değildir"
   ]
  },
  {
   "cell_type": "code",
   "execution_count": 26,
   "id": "bc14077e",
   "metadata": {},
   "outputs": [
    {
     "data": {
      "text/plain": [
       "2"
      ]
     },
     "execution_count": 26,
     "metadata": {},
     "output_type": "execute_result"
    }
   ],
   "source": [
    "set2.pop()"
   ]
  },
  {
   "cell_type": "code",
   "execution_count": 27,
   "id": "1d0b5387",
   "metadata": {},
   "outputs": [
    {
     "data": {
      "text/plain": [
       "{3, '34İST', 4, 5, 'ABCDE'}"
      ]
     },
     "execution_count": 27,
     "metadata": {},
     "output_type": "execute_result"
    }
   ],
   "source": [
    "set2"
   ]
  },
  {
   "cell_type": "code",
   "execution_count": 29,
   "id": "57955202",
   "metadata": {},
   "outputs": [
    {
     "data": {
      "text/plain": [
       "3"
      ]
     },
     "execution_count": 29,
     "metadata": {},
     "output_type": "execute_result"
    }
   ],
   "source": [
    "set2.pop()"
   ]
  },
  {
   "cell_type": "code",
   "execution_count": 32,
   "id": "14da92c9",
   "metadata": {},
   "outputs": [
    {
     "data": {
      "text/plain": [
       "{'34İST', 4, 5, 'ABCDE'}"
      ]
     },
     "execution_count": 32,
     "metadata": {},
     "output_type": "execute_result"
    }
   ],
   "source": [
    "set2\n",
    "# yukarda bahsettiğim gibi rasgele atıyor çünkü burda index mantığı yok."
   ]
  },
  {
   "cell_type": "code",
   "execution_count": 33,
   "id": "797770e1",
   "metadata": {},
   "outputs": [],
   "source": [
    "set2.remove(\"ABCDE\")\n",
    "# remove da ben kaldırmak istediğim değeri seçebiliyorum ama bu pop da mümkün değil."
   ]
  },
  {
   "cell_type": "code",
   "execution_count": 35,
   "id": "3fd7dcfb",
   "metadata": {},
   "outputs": [
    {
     "data": {
      "text/plain": [
       "{'34İST', 4, 5}"
      ]
     },
     "execution_count": 35,
     "metadata": {},
     "output_type": "execute_result"
    }
   ],
   "source": [
    "set2"
   ]
  },
  {
   "cell_type": "code",
   "execution_count": 36,
   "id": "c58580b8",
   "metadata": {},
   "outputs": [
    {
     "ename": "TypeError",
     "evalue": "set.pop() takes no arguments (1 given)",
     "output_type": "error",
     "traceback": [
      "\u001b[1;31m---------------------------------------------------------------------------\u001b[0m",
      "\u001b[1;31mTypeError\u001b[0m                                 Traceback (most recent call last)",
      "Cell \u001b[1;32mIn[36], line 1\u001b[0m\n\u001b[1;32m----> 1\u001b[0m set2\u001b[38;5;241m.\u001b[39mpop(\u001b[38;5;241m4\u001b[39m)\n",
      "\u001b[1;31mTypeError\u001b[0m: set.pop() takes no arguments (1 given)"
     ]
    }
   ],
   "source": [
    "set2.pop(4)"
   ]
  },
  {
   "cell_type": "code",
   "execution_count": 37,
   "id": "75287335",
   "metadata": {},
   "outputs": [
    {
     "data": {
      "text/plain": [
       "{'34İST', 4, 5}"
      ]
     },
     "execution_count": 37,
     "metadata": {},
     "output_type": "execute_result"
    }
   ],
   "source": [
    "set2"
   ]
  },
  {
   "cell_type": "code",
   "execution_count": 38,
   "id": "0f95bcbe",
   "metadata": {},
   "outputs": [
    {
     "name": "stdout",
     "output_type": "stream",
     "text": [
      "{1, 2, 5, 6}\n"
     ]
    }
   ],
   "source": [
    "set1 = {1, 2, 3, 4}\n",
    "set2 = {3, 4, 5, 6}\n",
    "\n",
    "symmetric_diff = set1.symmetric_difference(set2)\n",
    "\n",
    "print(symmetric_diff)\n",
    "\n",
    "# iki kümenin simetrik farkını (symmetric difference) döndürür.\n",
    "# Simetrik fark, her iki kümede bulunan ancak her iki kümede ortak olmayan elemanları içerir.\n",
    "\n",
    "# bu sadece döndürmek ile yetinir ama \".symmetric_difference_update()\" bu hem döndürür hemde günceller\n"
   ]
  },
  {
   "cell_type": "code",
   "execution_count": 39,
   "id": "554b49b5",
   "metadata": {},
   "outputs": [
    {
     "data": {
      "text/plain": [
       "{3, 4, 5, 6}"
      ]
     },
     "execution_count": 39,
     "metadata": {},
     "output_type": "execute_result"
    }
   ],
   "source": [
    "set2"
   ]
  },
  {
   "cell_type": "code",
   "execution_count": 42,
   "id": "ed7b130f",
   "metadata": {},
   "outputs": [
    {
     "data": {
      "text/plain": [
       "{1, 2, 3, 4, 5, 6}"
      ]
     },
     "execution_count": 42,
     "metadata": {},
     "output_type": "execute_result"
    }
   ],
   "source": [
    "set2.union(set1) \n",
    "# iki set'i alır ve bunları 'union'yani birleştirir. ve bunu döndürür ama güncelleme gibi bir şey\n",
    "# yapmaz."
   ]
  },
  {
   "cell_type": "code",
   "execution_count": 43,
   "id": "aba3fc80",
   "metadata": {},
   "outputs": [
    {
     "data": {
      "text/plain": [
       "{3, 4, 5, 6}"
      ]
     },
     "execution_count": 43,
     "metadata": {},
     "output_type": "execute_result"
    }
   ],
   "source": [
    "set2"
   ]
  },
  {
   "cell_type": "code",
   "execution_count": 46,
   "id": "41a99142",
   "metadata": {},
   "outputs": [],
   "source": [
    "set2.update(set1)"
   ]
  },
  {
   "cell_type": "code",
   "execution_count": 47,
   "id": "d3a9cfb6",
   "metadata": {},
   "outputs": [
    {
     "data": {
      "text/plain": [
       "{1, 2, 3, 4, 5, 6}"
      ]
     },
     "execution_count": 47,
     "metadata": {},
     "output_type": "execute_result"
    }
   ],
   "source": [
    "set2\n",
    "# buda union'nun yaptığı işi döndürmek ile kalmayıp aynı zamanda ebediyen kalıcı olarak güncelledi"
   ]
  },
  {
   "cell_type": "code",
   "execution_count": 48,
   "id": "4a25a1fc",
   "metadata": {},
   "outputs": [
    {
     "data": {
      "text/plain": [
       "{1, 2, 3, 4}"
      ]
     },
     "execution_count": 48,
     "metadata": {},
     "output_type": "execute_result"
    }
   ],
   "source": [
    "set1"
   ]
  },
  {
   "cell_type": "code",
   "execution_count": 49,
   "id": "4d82f667",
   "metadata": {},
   "outputs": [],
   "source": [
    "set1.update(set2)"
   ]
  },
  {
   "cell_type": "code",
   "execution_count": 50,
   "id": "e1cf1e38",
   "metadata": {},
   "outputs": [
    {
     "data": {
      "text/plain": [
       "{1, 2, 3, 4, 5, 6}"
      ]
     },
     "execution_count": 50,
     "metadata": {},
     "output_type": "execute_result"
    }
   ],
   "source": [
    "set1"
   ]
  },
  {
   "cell_type": "code",
   "execution_count": null,
   "id": "a6f4b932",
   "metadata": {},
   "outputs": [],
   "source": [
    " # olay bundan ibarettir kardeş mantığını anladıksak ne mutlu bize."
   ]
  },
  {
   "cell_type": "markdown",
   "id": "11d4cf94",
   "metadata": {},
   "source": [
    "# Tuple"
   ]
  },
  {
   "cell_type": "raw",
   "id": "56cab16e",
   "metadata": {},
   "source": [
    "Bu nerdeyse liste ile aynı şey.Index mantığı burdada var aynı şekilde.Aslında listeden 2 farkı var \n",
    "1-köşeli parentez yerine normal parantez kullanıyorsun\n",
    "2-tuple'a sen dışardan ne bir şey ekleyebilirsin nede bir şey cıkartabilirsin tuple olan sen hiç bir şekilde bozamassın veya oynayamassın.\n",
    "\n",
    "aklımızda da şöyle kalsın tuple'ı biz turşu gibi düşünelim turşuyu belli bir zaman açmaman gerekir.ordan bizim aklımızda kalabilir.\n",
    "\n",
    "Şöyle ifade edebilirim"
   ]
  },
  {
   "cell_type": "code",
   "execution_count": 51,
   "id": "433522a4",
   "metadata": {},
   "outputs": [],
   "source": [
    "myList3 = [10,\"a\",\"b\",3.14]"
   ]
  },
  {
   "cell_type": "code",
   "execution_count": 52,
   "id": "72fdde3d",
   "metadata": {},
   "outputs": [
    {
     "data": {
      "text/plain": [
       "10"
      ]
     },
     "execution_count": 52,
     "metadata": {},
     "output_type": "execute_result"
    }
   ],
   "source": [
    "myList3[0]"
   ]
  },
  {
   "cell_type": "code",
   "execution_count": 53,
   "id": "ddbdf83d",
   "metadata": {},
   "outputs": [],
   "source": [
    "myList3[0] = 100\n",
    "# burası liste olduğu için ben gittim 0.'cı indexdeki elemanı değiştirebildim.;"
   ]
  },
  {
   "cell_type": "code",
   "execution_count": 54,
   "id": "724aa635",
   "metadata": {},
   "outputs": [
    {
     "data": {
      "text/plain": [
       "[100, 'a', 'b', 3.14]"
      ]
     },
     "execution_count": 54,
     "metadata": {},
     "output_type": "execute_result"
    }
   ],
   "source": [
    "myList3"
   ]
  },
  {
   "cell_type": "raw",
   "id": "e7698868",
   "metadata": {},
   "source": [
    "Şimdide aynı şeyı tuple da nasıl yapılır onu görelim"
   ]
  },
  {
   "cell_type": "code",
   "execution_count": 55,
   "id": "0bcb5149",
   "metadata": {},
   "outputs": [],
   "source": [
    "myTuple = (100,\"a\",\"b\",3.14)\n",
    "# ben burda normal parantez kullandım burası onemli bir detay."
   ]
  },
  {
   "cell_type": "code",
   "execution_count": 56,
   "id": "99ad9600",
   "metadata": {},
   "outputs": [
    {
     "data": {
      "text/plain": [
       "tuple"
      ]
     },
     "execution_count": 56,
     "metadata": {},
     "output_type": "execute_result"
    }
   ],
   "source": [
    "type(myTuple)"
   ]
  },
  {
   "cell_type": "code",
   "execution_count": 57,
   "id": "c1afa6d6",
   "metadata": {},
   "outputs": [
    {
     "data": {
      "text/plain": [
       "100"
      ]
     },
     "execution_count": 57,
     "metadata": {},
     "output_type": "execute_result"
    }
   ],
   "source": [
    "myTuple[0]"
   ]
  },
  {
   "cell_type": "raw",
   "id": "52472415",
   "metadata": {},
   "source": [
    "Tuple'nin sadece zaten 2 tane özelliği var."
   ]
  },
  {
   "cell_type": "code",
   "execution_count": 58,
   "id": "5a096d94",
   "metadata": {},
   "outputs": [
    {
     "data": {
      "text/plain": [
       "1"
      ]
     },
     "execution_count": 58,
     "metadata": {},
     "output_type": "execute_result"
    }
   ],
   "source": [
    "myTuple.count(100)     # belirtmiş olduğum karakterin kaç tane geçtiğin söylüyor"
   ]
  },
  {
   "cell_type": "code",
   "execution_count": 59,
   "id": "8115e308",
   "metadata": {},
   "outputs": [
    {
     "data": {
      "text/plain": [
       "2"
      ]
     },
     "execution_count": 59,
     "metadata": {},
     "output_type": "execute_result"
    }
   ],
   "source": [
    "myTuple.index(\"b\")      # belirtmiş olduğum karakterin kacıncı ındexte olduğunu gösterir."
   ]
  },
  {
   "cell_type": "code",
   "execution_count": 60,
   "id": "eb0923c7",
   "metadata": {},
   "outputs": [
    {
     "ename": "TypeError",
     "evalue": "'tuple' object does not support item assignment",
     "output_type": "error",
     "traceback": [
      "\u001b[1;31m---------------------------------------------------------------------------\u001b[0m",
      "\u001b[1;31mTypeError\u001b[0m                                 Traceback (most recent call last)",
      "Cell \u001b[1;32mIn[60], line 1\u001b[0m\n\u001b[1;32m----> 1\u001b[0m myTuple[\u001b[38;5;241m0\u001b[39m] \u001b[38;5;241m=\u001b[39m \u001b[38;5;241m100\u001b[39m\n",
      "\u001b[1;31mTypeError\u001b[0m: 'tuple' object does not support item assignment"
     ]
    }
   ],
   "source": [
    "myTuple[0] = 100\n",
    "# tuple da ben değişiklik yapamam artıramam,azalltamam "
   ]
  },
  {
   "cell_type": "raw",
   "id": "0a08f747",
   "metadata": {},
   "source": [
    "ben tuple'ı kütüphanelerde çok fazla kullanıcam karşıma orda çok çıkıcak.\n",
    "zaten pythonu bu kadar güçlü yapan içindeki kütüphaneler adam günlerce aylarca kod yazıyo ve en son bı sonuca varıyo ve bunu tuple şeklinde ifade ediyor.sen istersen tuple şeklinde ifade edilen bunu bir listeye veya set e çevirebilirsin.\n",
    "\n",
    "Aaa çok mantıklı gerçekten kütüphanelerin tuple şeklinde yazılması çook mantıklı çünkü ben bunun değiştirilmesini istemiyorum bana ters buu."
   ]
  },
  {
   "cell_type": "markdown",
   "id": "3fdc88dc",
   "metadata": {},
   "source": [
    "# Boolean"
   ]
  },
  {
   "cell_type": "raw",
   "id": "770745d4",
   "metadata": {},
   "source": [
    "kendisi en kolay veri tipimizdir.\n",
    "Zaten 2 tane şeyi vardır.\n",
    "ya True yada False"
   ]
  },
  {
   "cell_type": "code",
   "execution_count": 61,
   "id": "24b1b162",
   "metadata": {},
   "outputs": [],
   "source": [
    "myBoolean = True"
   ]
  },
  {
   "cell_type": "code",
   "execution_count": 62,
   "id": "f732f59e",
   "metadata": {},
   "outputs": [
    {
     "data": {
      "text/plain": [
       "bool"
      ]
     },
     "execution_count": 62,
     "metadata": {},
     "output_type": "execute_result"
    }
   ],
   "source": [
    "type(myBoolean)"
   ]
  },
  {
   "cell_type": "code",
   "execution_count": 111,
   "id": "27b69eea",
   "metadata": {},
   "outputs": [],
   "source": [
    "myBoolean2 = False"
   ]
  },
  {
   "cell_type": "code",
   "execution_count": 63,
   "id": "11014cc7",
   "metadata": {},
   "outputs": [
    {
     "name": "stdout",
     "output_type": "stream",
     "text": [
      "How old are you? 45\n"
     ]
    }
   ],
   "source": [
    "# mesela kullanıcan bir yaş alalım ve bu yaşın 18 den buyuk mu kucuk mu olduğuna bakalım\n",
    "age = input(\"How old are you? \")"
   ]
  },
  {
   "cell_type": "code",
   "execution_count": 64,
   "id": "599292b9",
   "metadata": {},
   "outputs": [
    {
     "ename": "TypeError",
     "evalue": "'>' not supported between instances of 'str' and 'int'",
     "output_type": "error",
     "traceback": [
      "\u001b[1;31m---------------------------------------------------------------------------\u001b[0m",
      "\u001b[1;31mTypeError\u001b[0m                                 Traceback (most recent call last)",
      "Cell \u001b[1;32mIn[64], line 1\u001b[0m\n\u001b[1;32m----> 1\u001b[0m age \u001b[38;5;241m>\u001b[39m \u001b[38;5;241m18\u001b[39m\n",
      "\u001b[1;31mTypeError\u001b[0m: '>' not supported between instances of 'str' and 'int'"
     ]
    }
   ],
   "source": [
    "age > 18\n",
    "# neden bu hatayı aldığımı size söyliyim çünki benim inputtan gelen çıktıları python hep string olarak\n",
    "# alır önemli olan bu bilgiyi vermek değildir önemli olan nedenini açıklamaktır."
   ]
  },
  {
   "cell_type": "raw",
   "id": "7d038867",
   "metadata": {},
   "source": [
    " input() fonksiyonunun varsayılan olarak string veri tipinde değer döndürmesinin temel nedenlerinden bazıları şunlar:\n",
    "\n",
    "Esneklik ve Genel Kullanım: Kullanıcıdan alınan girdiler çok çeşitli olabilir. Kullanıcı bir sayı, metin, tarih veya başka bir türde veri girebilir. input() fonksiyonu, bu çeşitliliği karşılamak ve her türlü girişi kapsamak için metin (string) olarak alınan bir veriyi varsayılan olarak seçer.Yani ben bu açıklamada şunu anladım karşıdaki kullanıcının string girme ihtimali çok daha fazladır.bu yüzden varsayılan olarak ben string alıyım eğer tam sayı girerlerse bi zahmet onuda çevirsinler diyor.\n",
    "\n",
    "Veri Türü Belirsizliği: Python dinamik bir tipli bir dildir, yani bir değişkenin türü çalışma zamanında belirlenir. Kullanıcıdan alınan bir girişin türünü önceden bilmek veya belirlemek mümkün değildir. Dolayısıyla, input() fonksiyonu herhangi bir türdeki girişi kapsayacak şekilde tasarlanmıştır.\n",
    "\n",
    "Kolaylık ve Basitlik: input() fonksiyonu, temelde metin girişi almanın temel bir işlevini yerine getirir. Herhangi bir türde veri almak için başka bir sürü fonksiyon veya özel bir syntax eklemek, başlangıç seviyesindeki kullanıcılar için karmaşık olabilir. Bu nedenle, input() fonksiyonu genellikle basit ve kullanımı kolay bir yapıda tasarlanmıştır."
   ]
  },
  {
   "cell_type": "code",
   "execution_count": 67,
   "id": "c3c45a35",
   "metadata": {},
   "outputs": [
    {
     "data": {
      "text/plain": [
       "True"
      ]
     },
     "execution_count": 67,
     "metadata": {},
     "output_type": "execute_result"
    }
   ],
   "source": [
    "int(age) > 18\n"
   ]
  },
  {
   "cell_type": "code",
   "execution_count": 68,
   "id": "bfb3bbcb",
   "metadata": {},
   "outputs": [
    {
     "data": {
      "text/plain": [
       "False"
      ]
     },
     "execution_count": 68,
     "metadata": {},
     "output_type": "execute_result"
    }
   ],
   "source": [
    "int(age) < 18"
   ]
  },
  {
   "cell_type": "markdown",
   "id": "075fccbe",
   "metadata": {},
   "source": []
  }
 ],
 "metadata": {
  "kernelspec": {
   "display_name": "Python 3 (ipykernel)",
   "language": "python",
   "name": "python3"
  },
  "language_info": {
   "codemirror_mode": {
    "name": "ipython",
    "version": 3
   },
   "file_extension": ".py",
   "mimetype": "text/x-python",
   "name": "python",
   "nbconvert_exporter": "python",
   "pygments_lexer": "ipython3",
   "version": "3.11.3"
  }
 },
 "nbformat": 4,
 "nbformat_minor": 5
}
